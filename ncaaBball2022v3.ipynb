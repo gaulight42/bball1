{
 "cells": [
  {
   "cell_type": "code",
   "execution_count": 23,
   "metadata": {
    "collapsed": true
   },
   "outputs": [],
   "source": [
    "import pandas as pd\n",
    "import pickle\n",
    "from sportsreference.ncaab.teams import Teams\n",
    "from sportsreference.ncaab.conferences import Conferences\n",
    "import matplotlib.pyplot as plt\n",
    "import seaborn as sns\n",
    "import numpy as np\n",
    "import random as rnd\n",
    "from utils import  score_table\n",
    "import importlib\n",
    "from datetime import datetime\n",
    "\n",
    "#import argparse\n",
    "\n",
    "import torch\n",
    "import pyro\n",
    "import pyro.distributions as dist\n",
    "from pyro.infer import SVI, Predictive, Trace_ELBO\n",
    "from pyro.optim import ClippedAdam\n",
    "from torch.distributions import constraints"
   ]
  },
  {
   "cell_type": "code",
   "execution_count": 35,
   "metadata": {
    "collapsed": true
   },
   "outputs": [],
   "source": [
    "majorConfs = [\"big-12\",\"Big 12\",\n",
    "              \"big-10\",\"Big Ten\",\"big-ten\",\n",
    "              \"sec\",\"SEC\",\n",
    "              \"big-east\",\"Big East\",\n",
    "              \"pac-12\",\"Pac-12\",\n",
    "              \"acc\",\"ACC\",\n",
    "              \"wcc\", \"WCC\",\n",
    "              \"mwc\",\"MWC\",\n",
    "              \"atlantic-10\",\"Atlantic 10\"]\n",
    "confNameNorm = {\"Big 12\":\"big-12\",\n",
    "              \"Big Ten\":\"big-ten\",\n",
    "              \"big-ten\":\"big-ten\",\n",
    "              \"SEC\":\"sec\",\n",
    "              \"Big East\":\"big-east\",\n",
    "              \"Pac-12\":\"pac-12\",\n",
    "              \"ACC\":\"acc\",\n",
    "              \"WCC\":\"wcc\",\n",
    "                \"MWC\":\"mwc\",\n",
    "               \"Atlantic 10\":\"atlantic-10\"}\n",
    "def getDataForTeams(teams) :\n",
    "    dataset = pd.DataFrame()\n",
    "    for team in teams:\n",
    "        if team.conference in majorConfs:\n",
    "            tgDF = team.schedule.dataframe\n",
    "            tgDF['team_name'] = team.name\n",
    "            tgDF['team_conference'] = team.conference\n",
    "            dataset = pd.concat([dataset,tgDF])     \n",
    "    return dataset\n"
   ]
  },
  {
   "cell_type": "code",
   "execution_count": 3,
   "metadata": {
    "collapsed": true
   },
   "outputs": [],
   "source": [
    "#execute this cell to grab the data from the site\n",
    "season_team_list = Teams(\"2022\")\n",
    "df = getDataForTeams(season_team_list)\n",
    "compression_opts = dict(method='zip',\n",
    "                        archive_name='outv3.csv')  \n",
    "df.to_csv('data/bigconfs2022Season.zip', compression=compression_opts) \n",
    "pickle.dump( season_team_list, open( \"data/teams2022.p\", \"wb\" ) )"
   ]
  },
  {
   "cell_type": "code",
   "execution_count": 57,
   "metadata": {
    "collapsed": false
   },
   "outputs": [],
   "source": [
    "#execute this cell to just load the local files\n",
    "season_team_list = pickle.load( open( \"data/teams2022.p\", \"rb\" ) )\n",
    "c_opts = dict(method='zip')\n",
    "df = pd.read_csv('data/bigconfs2022Season.zip',compression='zip')"
   ]
  },
  {
   "cell_type": "code",
   "execution_count": 11,
   "metadata": {
    "collapsed": false
   },
   "outputs": [
    {
     "data": {
      "text/plain": [
       "array(['CUSA', 'Summit', 'Sun Belt', 'Horizon', 'MAAC', 'MVC', 'ACC',\n",
       "       'WCC', 'AAC', 'A-Sun', 'A-10', 'SEC', 'Big 12', 'Big West', 'MWC',\n",
       "       'Pac-12', 'WAC', 'Big East', 'Big Sky', 'Big Ten', 'Southern',\n",
       "       'Big South', 'Ivy', 'CAA', 'AEC', 'OVC', 'Southland', 'SWAC',\n",
       "       'MEAC', 'Patriot', 'Non-DI School', 'NEC', 'MAC'], dtype=object)"
      ]
     },
     "execution_count": 11,
     "metadata": {},
     "output_type": "execute_result"
    }
   ],
   "source": [
    "df.opponent_conference.unique()"
   ]
  },
  {
   "cell_type": "code",
   "execution_count": 10,
   "metadata": {
    "collapsed": false
   },
   "outputs": [
    {
     "data": {
      "text/plain": [
       "{'aac',\n",
       " 'acc',\n",
       " 'america-east',\n",
       " 'atlantic-10',\n",
       " 'atlantic-sun',\n",
       " 'big-12',\n",
       " 'big-east',\n",
       " 'big-sky',\n",
       " 'big-south',\n",
       " 'big-ten',\n",
       " 'big-west',\n",
       " 'colonial',\n",
       " 'cusa',\n",
       " 'horizon',\n",
       " 'ivy',\n",
       " 'maac',\n",
       " 'mac',\n",
       " 'meac',\n",
       " 'mvc',\n",
       " 'mwc',\n",
       " 'northeast',\n",
       " 'ovc',\n",
       " 'pac-12',\n",
       " 'patriot',\n",
       " 'sec',\n",
       " 'southern',\n",
       " 'southland',\n",
       " 'summit',\n",
       " 'sun-belt',\n",
       " 'swac',\n",
       " 'wac',\n",
       " 'wcc'}"
      ]
     },
     "execution_count": 10,
     "metadata": {},
     "output_type": "execute_result"
    }
   ],
   "source": [
    "allConfs = []\n",
    "for team in season_team_list:\n",
    "    allConfs.append(team.conference)\n",
    "set(allConfs)"
   ]
  },
  {
   "cell_type": "code",
   "execution_count": 124,
   "metadata": {
    "collapsed": false
   },
   "outputs": [
    {
     "data": {
      "text/plain": [
       "Index(['Unnamed: 0', 'arena', 'boxscore_index', 'date', 'datetime', 'game',\n",
       "       'location', 'opponent_abbr', 'opponent_conference', 'opponent_name',\n",
       "       'opponent_rank', 'overtimes', 'points_against', 'points_for', 'result',\n",
       "       'season_losses', 'season_wins', 'streak', 'time', 'type', 'team_name',\n",
       "       'team_conference'],\n",
       "      dtype='object')"
      ]
     },
     "execution_count": 124,
     "metadata": {},
     "output_type": "execute_result"
    }
   ],
   "source": [
    "df.columns"
   ]
  },
  {
   "cell_type": "code",
   "execution_count": 22,
   "metadata": {
    "collapsed": false
   },
   "outputs": [
    {
     "data": {
      "text/plain": [
       "array(['Tue, Nov 9, 2021', 'Fri, Nov 12, 2021', 'Tue, Nov 16, 2021', ...,\n",
       "       'Sat, Mar 5, 2022', 'Wed, Mar 9, 2022', 'Tue, Mar 15, 2022'],\n",
       "      dtype=object)"
      ]
     },
     "execution_count": 22,
     "metadata": {},
     "output_type": "execute_result"
    }
   ],
   "source": [
    "df.date.values"
   ]
  },
  {
   "cell_type": "code",
   "execution_count": 25,
   "metadata": {
    "collapsed": false
   },
   "outputs": [
    {
     "data": {
      "text/plain": [
       "3254"
      ]
     },
     "execution_count": 25,
     "metadata": {},
     "output_type": "execute_result"
    }
   ],
   "source": [
    "len(df.index)"
   ]
  },
  {
   "cell_type": "code",
   "execution_count": 27,
   "metadata": {
    "collapsed": false
   },
   "outputs": [],
   "source": [
    "dformat = '%a, %b %d, %Y'\n",
    "keepGreaterThanDate = datetime.strptime('Tue, Dec 31, 2021', dformat)\n",
    "\n",
    "fdf = df.copy()\n",
    "\n",
    "\n",
    "#only keep games after this date\n",
    "fdf['date'] = pd.to_datetime(fdf['date'], format=dformat)\n",
    "fdf = fdf[fdf.date > keepGreaterThanDate]"
   ]
  },
  {
   "cell_type": "code",
   "execution_count": 28,
   "metadata": {
    "collapsed": false
   },
   "outputs": [
    {
     "data": {
      "text/plain": [
       "2030"
      ]
     },
     "execution_count": 28,
     "metadata": {},
     "output_type": "execute_result"
    }
   ],
   "source": [
    "len(fdf.index)"
   ]
  },
  {
   "cell_type": "code",
   "execution_count": 52,
   "metadata": {
    "collapsed": false
   },
   "outputs": [
    {
     "data": {
      "text/html": [
       "<div>\n",
       "<style scoped>\n",
       "    .dataframe tbody tr th:only-of-type {\n",
       "        vertical-align: middle;\n",
       "    }\n",
       "\n",
       "    .dataframe tbody tr th {\n",
       "        vertical-align: top;\n",
       "    }\n",
       "\n",
       "    .dataframe thead th {\n",
       "        text-align: right;\n",
       "    }\n",
       "</style>\n",
       "<table border=\"1\" class=\"dataframe\">\n",
       "  <thead>\n",
       "    <tr style=\"text-align: right;\">\n",
       "      <th></th>\n",
       "      <th>Date</th>\n",
       "      <th>HomeTeam</th>\n",
       "      <th>AwayTeam</th>\n",
       "      <th>FTHG</th>\n",
       "      <th>FTAG</th>\n",
       "    </tr>\n",
       "  </thead>\n",
       "  <tbody>\n",
       "    <tr>\n",
       "      <th>0</th>\n",
       "      <td>monday</td>\n",
       "      <td>msu</td>\n",
       "      <td>um</td>\n",
       "      <td>99</td>\n",
       "      <td>25</td>\n",
       "    </tr>\n",
       "    <tr>\n",
       "      <th>1</th>\n",
       "      <td>tuesday</td>\n",
       "      <td>uw</td>\n",
       "      <td>purdue</td>\n",
       "      <td>88</td>\n",
       "      <td>75</td>\n",
       "    </tr>\n",
       "    <tr>\n",
       "      <th>2</th>\n",
       "      <td>monday</td>\n",
       "      <td>um</td>\n",
       "      <td>msu</td>\n",
       "      <td>25</td>\n",
       "      <td>99</td>\n",
       "    </tr>\n",
       "    <tr>\n",
       "      <th>3</th>\n",
       "      <td>tuesday</td>\n",
       "      <td>purdue</td>\n",
       "      <td>uw</td>\n",
       "      <td>75</td>\n",
       "      <td>88</td>\n",
       "    </tr>\n",
       "  </tbody>\n",
       "</table>\n",
       "</div>"
      ],
      "text/plain": [
       "      Date HomeTeam AwayTeam  FTHG  FTAG\n",
       "0   monday      msu       um    99    25\n",
       "1  tuesday       uw   purdue    88    75\n",
       "2   monday       um      msu    25    99\n",
       "3  tuesday   purdue       uw    75    88"
      ]
     },
     "execution_count": 52,
     "metadata": {},
     "output_type": "execute_result"
    }
   ],
   "source": [
    "\n",
    "\n",
    "def replicateSwappingHomeAndAway(df):\n",
    "    cdf = df.copy()\n",
    "    swapdf = pd.DataFrame(columns=['Date','HomeTeam','AwayTeam','FTHG','FTAG'])\n",
    "\n",
    "    swapdf['Date'] = cdf.Date\n",
    "    swapdf['HomeTeam'] = cdf.AwayTeam\n",
    "    swapdf['AwayTeam'] = cdf.HomeTeam\n",
    "    swapdf['FTHG'] = cdf.FTAG\n",
    "    swapdf['FTAG'] = cdf.FTHG\n",
    "    \n",
    "    fdf = pd.concat([cdf,swapdf], axis=0)\n",
    "    fdf.reset_index(inplace=True, drop=True)\n",
    "    return fdf\n",
    "\n",
    "foo = pd.DataFrame({'Date':['monday','tuesday'],\n",
    "                    'HomeTeam':['msu','uw'],\n",
    "                    'AwayTeam':['um','purdue'],\n",
    "                    'FTHG':[99,88],\n",
    "                    'FTAG':[25,75]})\n",
    "foobar = replicateSwappingHomeAndAway(foo)\n",
    "foobar"
   ]
  },
  {
   "cell_type": "code",
   "execution_count": 123,
   "metadata": {
    "collapsed": false
   },
   "outputs": [
    {
     "data": {
      "text/html": [
       "<div>\n",
       "<style scoped>\n",
       "    .dataframe tbody tr th:only-of-type {\n",
       "        vertical-align: middle;\n",
       "    }\n",
       "\n",
       "    .dataframe tbody tr th {\n",
       "        vertical-align: top;\n",
       "    }\n",
       "\n",
       "    .dataframe thead th {\n",
       "        text-align: right;\n",
       "    }\n",
       "</style>\n",
       "<table border=\"1\" class=\"dataframe\">\n",
       "  <thead>\n",
       "    <tr style=\"text-align: right;\">\n",
       "      <th></th>\n",
       "      <th>Date</th>\n",
       "      <th>HomeTeam</th>\n",
       "      <th>AwayTeam</th>\n",
       "      <th>FTHG</th>\n",
       "      <th>FTAG</th>\n",
       "    </tr>\n",
       "  </thead>\n",
       "  <tbody>\n",
       "    <tr>\n",
       "      <th>0</th>\n",
       "      <td>2022-01-05</td>\n",
       "      <td>Florida</td>\n",
       "      <td>Alabama</td>\n",
       "      <td>70.0</td>\n",
       "      <td>83.0</td>\n",
       "    </tr>\n",
       "    <tr>\n",
       "      <th>1</th>\n",
       "      <td>2022-01-08</td>\n",
       "      <td>Missouri</td>\n",
       "      <td>Alabama</td>\n",
       "      <td>92.0</td>\n",
       "      <td>86.0</td>\n",
       "    </tr>\n",
       "    <tr>\n",
       "      <th>2</th>\n",
       "      <td>2022-01-11</td>\n",
       "      <td>Alabama</td>\n",
       "      <td>Auburn</td>\n",
       "      <td>77.0</td>\n",
       "      <td>81.0</td>\n",
       "    </tr>\n",
       "    <tr>\n",
       "      <th>3</th>\n",
       "      <td>2022-01-15</td>\n",
       "      <td>Mississippi State</td>\n",
       "      <td>Alabama</td>\n",
       "      <td>78.0</td>\n",
       "      <td>76.0</td>\n",
       "    </tr>\n",
       "    <tr>\n",
       "      <th>4</th>\n",
       "      <td>2022-01-19</td>\n",
       "      <td>Alabama</td>\n",
       "      <td>Louisiana State</td>\n",
       "      <td>70.0</td>\n",
       "      <td>67.0</td>\n",
       "    </tr>\n",
       "  </tbody>\n",
       "</table>\n",
       "</div>"
      ],
      "text/plain": [
       "        Date           HomeTeam         AwayTeam  FTHG  FTAG\n",
       "0 2022-01-05            Florida          Alabama  70.0  83.0\n",
       "1 2022-01-08           Missouri          Alabama  92.0  86.0\n",
       "2 2022-01-11            Alabama           Auburn  77.0  81.0\n",
       "3 2022-01-15  Mississippi State          Alabama  78.0  76.0\n",
       "4 2022-01-19            Alabama  Louisiana State  70.0  67.0"
      ]
     },
     "execution_count": 123,
     "metadata": {},
     "output_type": "execute_result"
    }
   ],
   "source": [
    "df = pd.read_csv('data/bigconfs2022Season.zip',compression='zip')\n",
    "#keepConfs = majorConfs\n",
    "keepConfs = [\"big-10\",\"Big Ten\",\"big-ten\",\n",
    "            \"big-12\",\"Big 12\",\n",
    "            \"sec\",\"SEC\",\n",
    "              \"big-east\",\"Big East\",\n",
    "              \"pac-12\",\"Pac-12\"]\n",
    "keepConfs = [\"big-10\",\"Big Ten\",\"big-ten\",\n",
    "            \"big-12\",\"Big 12\",\n",
    "            \"sec\",\"SEC\",\n",
    "              \"big-east\",\"Big East\",\n",
    "              \"acc\",\"acc\"]\n",
    "\n",
    "dformat = '%a, %b %d, %Y'\n",
    "keepGreaterThanDate = datetime.strptime('Tue, Dec 31, 2021', dformat)\n",
    "\n",
    "bdf = df.copy()\n",
    "\n",
    "\n",
    "#only keep games after this date\n",
    "bdf['date'] = pd.to_datetime(bdf['date'], format=dformat)\n",
    "bdf = bdf[bdf.date > keepGreaterThanDate]\n",
    "\n",
    "\n",
    "#only have games between big conferences\n",
    "bdf = bdf[(bdf[\"opponent_conference\"].isin(keepConfs)) & \n",
    "         (bdf[\"team_conference\"].isin(keepConfs)) ]\n",
    "\n",
    "#get rid of duplicates\n",
    "bdf.drop_duplicates(subset='boxscore_index', keep=\"first\")\n",
    "#drop Neutral games for now\n",
    "ndf = bdf[bdf[\"location\"] == 'Neutral']\n",
    "bdf = bdf[bdf[\"location\"].isin([\"Home\",\"Away\"])]\n",
    "\n",
    "#create Home, Away, neutral indicator columns\n",
    "bdf = pd.get_dummies(bdf,prefix=['location'], columns = ['location'])\n",
    "#create homeTeam, awayTeam columns\n",
    "def addHomeTeamColumn(row):\n",
    "    if(row['location_Home'] == 1):\n",
    "        return row['team_name']\n",
    "    else:\n",
    "        return row['opponent_name']\n",
    "bdf['HomeTeam'] = bdf.apply(addHomeTeamColumn, axis=1)\n",
    "def addAwayTeamColumn(row):\n",
    "    if(row['location_Away'] == 1):\n",
    "        return row['team_name']\n",
    "    else:\n",
    "        return row['opponent_name']\n",
    "bdf['AwayTeam'] = bdf.apply(addAwayTeamColumn, axis=1)\n",
    "#add in \"HomePoints\" , AwayPoints\n",
    "def addHomePointsColumn(row):\n",
    "    if(row['location_Home'] == 1):\n",
    "        return row['points_for']\n",
    "    else:\n",
    "        return row['points_against']\n",
    "bdf['HomePoints'] = bdf.apply(addHomePointsColumn, axis=1)\n",
    "def addAwayPointsColumn(row):\n",
    "    if(row['location_Away'] == 1):\n",
    "        return row['points_for']\n",
    "    else:\n",
    "        return row['points_against']\n",
    "bdf['AwayPoints'] = bdf.apply(addAwayPointsColumn, axis=1)\n",
    "\n",
    "#neutral games; double them with swapped home and away\n",
    "selector_neut = {'date':'Date', 'team_name':'HomeTeam', 'opponent_name':'AwayTeam',\n",
    "              'points_for':'FTHG', 'points_against':'FTAG'}\n",
    "ndf = ndf.rename(columns=selector_neut)[selector_neut.values()]\n",
    "ndf.reset_index(inplace=True,drop=True)\n",
    "ndfd = replicateSwappingHomeAndAway(ndf)\n",
    "\n",
    "\n",
    "\n",
    "#just big ten conference games\n",
    "big10df = bdf.loc[(bdf[\"team_conference\"]=='big-ten')&\n",
    "                  (bdf['opponent_conference']=='Big Ten')]\n",
    "\n",
    "#rename columns\n",
    "selector_d = {'date':'Date', 'HomeTeam':'HomeTeam', 'AwayTeam':'AwayTeam',\n",
    "              'HomePoints':'FTHG', 'AwayPoints':'FTAG'}\n",
    "bdf = bdf.rename(columns=selector_d)[selector_d.values()]\n",
    "bdf.reset_index(inplace=True, drop=True)\n",
    "big10df = big10df.rename(columns=selector_d)[selector_d.values()]\n",
    "big10df.reset_index(inplace=True, drop=True)\n",
    "\n",
    "bdfd = replicateSwappingHomeAndAway(bdf)\n",
    "big10dfd = replicateSwappingHomeAndAway(big10df)\n",
    "bdfplusN = pd.concat([bdf,ndf],axis=0)\n",
    "bdfplusN.reset_index(inplace=True, drop=True)\n",
    "\n",
    "bdf.head()\n",
    "\n",
    "\n"
   ]
  },
  {
   "cell_type": "code",
   "execution_count": 60,
   "metadata": {
    "collapsed": false
   },
   "outputs": [
    {
     "data": {
      "text/plain": [
       "1154"
      ]
     },
     "execution_count": 60,
     "metadata": {},
     "output_type": "execute_result"
    }
   ],
   "source": [
    "len(bdfplusN.index)"
   ]
  },
  {
   "cell_type": "code",
   "execution_count": 194,
   "metadata": {
    "collapsed": false
   },
   "outputs": [
    {
     "data": {
      "text/html": [
       "<div>\n",
       "<style scoped>\n",
       "    .dataframe tbody tr th:only-of-type {\n",
       "        vertical-align: middle;\n",
       "    }\n",
       "\n",
       "    .dataframe tbody tr th {\n",
       "        vertical-align: top;\n",
       "    }\n",
       "\n",
       "    .dataframe thead th {\n",
       "        text-align: right;\n",
       "    }\n",
       "</style>\n",
       "<table border=\"1\" class=\"dataframe\">\n",
       "  <thead>\n",
       "    <tr style=\"text-align: right;\">\n",
       "      <th></th>\n",
       "      <th>Date</th>\n",
       "      <th>HomeTeam</th>\n",
       "      <th>AwayTeam</th>\n",
       "      <th>FTHG</th>\n",
       "      <th>FTAG</th>\n",
       "    </tr>\n",
       "  </thead>\n",
       "  <tbody>\n",
       "    <tr>\n",
       "      <th>7</th>\n",
       "      <td>Mon, Nov 22, 2021</td>\n",
       "      <td>Arkansas</td>\n",
       "      <td>Kansas State</td>\n",
       "      <td>72.0</td>\n",
       "      <td>64.0</td>\n",
       "    </tr>\n",
       "    <tr>\n",
       "      <th>21</th>\n",
       "      <td>Mon, Nov 22, 2021</td>\n",
       "      <td>California</td>\n",
       "      <td>Florida</td>\n",
       "      <td>60.0</td>\n",
       "      <td>80.0</td>\n",
       "    </tr>\n",
       "    <tr>\n",
       "      <th>34</th>\n",
       "      <td>Mon, Nov 22, 2021</td>\n",
       "      <td>Florida</td>\n",
       "      <td>California</td>\n",
       "      <td>80.0</td>\n",
       "      <td>60.0</td>\n",
       "    </tr>\n",
       "    <tr>\n",
       "      <th>54</th>\n",
       "      <td>Mon, Nov 22, 2021</td>\n",
       "      <td>Kansas State</td>\n",
       "      <td>Arkansas</td>\n",
       "      <td>64.0</td>\n",
       "      <td>72.0</td>\n",
       "    </tr>\n",
       "    <tr>\n",
       "      <th>90</th>\n",
       "      <td>Mon, Nov 22, 2021</td>\n",
       "      <td>Northwestern</td>\n",
       "      <td>Providence</td>\n",
       "      <td>72.0</td>\n",
       "      <td>77.0</td>\n",
       "    </tr>\n",
       "    <tr>\n",
       "      <th>94</th>\n",
       "      <td>Mon, Nov 22, 2021</td>\n",
       "      <td>Ohio State</td>\n",
       "      <td>Seton Hall</td>\n",
       "      <td>79.0</td>\n",
       "      <td>76.0</td>\n",
       "    </tr>\n",
       "    <tr>\n",
       "      <th>109</th>\n",
       "      <td>Mon, Nov 22, 2021</td>\n",
       "      <td>Providence</td>\n",
       "      <td>Northwestern</td>\n",
       "      <td>77.0</td>\n",
       "      <td>72.0</td>\n",
       "    </tr>\n",
       "    <tr>\n",
       "      <th>118</th>\n",
       "      <td>Mon, Nov 22, 2021</td>\n",
       "      <td>Seton Hall</td>\n",
       "      <td>Ohio State</td>\n",
       "      <td>76.0</td>\n",
       "      <td>79.0</td>\n",
       "    </tr>\n",
       "    <tr>\n",
       "      <th>136</th>\n",
       "      <td>Mon, Nov 22, 2021</td>\n",
       "      <td>Texas A&amp;M</td>\n",
       "      <td>Wisconsin</td>\n",
       "      <td>58.0</td>\n",
       "      <td>69.0</td>\n",
       "    </tr>\n",
       "    <tr>\n",
       "      <th>174</th>\n",
       "      <td>Mon, Nov 22, 2021</td>\n",
       "      <td>Wisconsin</td>\n",
       "      <td>Texas A&amp;M</td>\n",
       "      <td>69.0</td>\n",
       "      <td>58.0</td>\n",
       "    </tr>\n",
       "    <tr>\n",
       "      <th>185</th>\n",
       "      <td>Mon, Nov 22, 2021</td>\n",
       "      <td>Kansas State</td>\n",
       "      <td>Arkansas</td>\n",
       "      <td>64.0</td>\n",
       "      <td>72.0</td>\n",
       "    </tr>\n",
       "    <tr>\n",
       "      <th>199</th>\n",
       "      <td>Mon, Nov 22, 2021</td>\n",
       "      <td>Florida</td>\n",
       "      <td>California</td>\n",
       "      <td>80.0</td>\n",
       "      <td>60.0</td>\n",
       "    </tr>\n",
       "    <tr>\n",
       "      <th>212</th>\n",
       "      <td>Mon, Nov 22, 2021</td>\n",
       "      <td>California</td>\n",
       "      <td>Florida</td>\n",
       "      <td>60.0</td>\n",
       "      <td>80.0</td>\n",
       "    </tr>\n",
       "    <tr>\n",
       "      <th>232</th>\n",
       "      <td>Mon, Nov 22, 2021</td>\n",
       "      <td>Arkansas</td>\n",
       "      <td>Kansas State</td>\n",
       "      <td>72.0</td>\n",
       "      <td>64.0</td>\n",
       "    </tr>\n",
       "    <tr>\n",
       "      <th>268</th>\n",
       "      <td>Mon, Nov 22, 2021</td>\n",
       "      <td>Providence</td>\n",
       "      <td>Northwestern</td>\n",
       "      <td>77.0</td>\n",
       "      <td>72.0</td>\n",
       "    </tr>\n",
       "    <tr>\n",
       "      <th>272</th>\n",
       "      <td>Mon, Nov 22, 2021</td>\n",
       "      <td>Seton Hall</td>\n",
       "      <td>Ohio State</td>\n",
       "      <td>76.0</td>\n",
       "      <td>79.0</td>\n",
       "    </tr>\n",
       "    <tr>\n",
       "      <th>287</th>\n",
       "      <td>Mon, Nov 22, 2021</td>\n",
       "      <td>Northwestern</td>\n",
       "      <td>Providence</td>\n",
       "      <td>72.0</td>\n",
       "      <td>77.0</td>\n",
       "    </tr>\n",
       "    <tr>\n",
       "      <th>296</th>\n",
       "      <td>Mon, Nov 22, 2021</td>\n",
       "      <td>Ohio State</td>\n",
       "      <td>Seton Hall</td>\n",
       "      <td>79.0</td>\n",
       "      <td>76.0</td>\n",
       "    </tr>\n",
       "    <tr>\n",
       "      <th>314</th>\n",
       "      <td>Mon, Nov 22, 2021</td>\n",
       "      <td>Wisconsin</td>\n",
       "      <td>Texas A&amp;M</td>\n",
       "      <td>69.0</td>\n",
       "      <td>58.0</td>\n",
       "    </tr>\n",
       "    <tr>\n",
       "      <th>352</th>\n",
       "      <td>Mon, Nov 22, 2021</td>\n",
       "      <td>Texas A&amp;M</td>\n",
       "      <td>Wisconsin</td>\n",
       "      <td>58.0</td>\n",
       "      <td>69.0</td>\n",
       "    </tr>\n",
       "  </tbody>\n",
       "</table>\n",
       "</div>"
      ],
      "text/plain": [
       "                  Date      HomeTeam      AwayTeam  FTHG  FTAG\n",
       "7    Mon, Nov 22, 2021      Arkansas  Kansas State  72.0  64.0\n",
       "21   Mon, Nov 22, 2021    California       Florida  60.0  80.0\n",
       "34   Mon, Nov 22, 2021       Florida    California  80.0  60.0\n",
       "54   Mon, Nov 22, 2021  Kansas State      Arkansas  64.0  72.0\n",
       "90   Mon, Nov 22, 2021  Northwestern    Providence  72.0  77.0\n",
       "94   Mon, Nov 22, 2021    Ohio State    Seton Hall  79.0  76.0\n",
       "109  Mon, Nov 22, 2021    Providence  Northwestern  77.0  72.0\n",
       "118  Mon, Nov 22, 2021    Seton Hall    Ohio State  76.0  79.0\n",
       "136  Mon, Nov 22, 2021     Texas A&M     Wisconsin  58.0  69.0\n",
       "174  Mon, Nov 22, 2021     Wisconsin     Texas A&M  69.0  58.0\n",
       "185  Mon, Nov 22, 2021  Kansas State      Arkansas  64.0  72.0\n",
       "199  Mon, Nov 22, 2021       Florida    California  80.0  60.0\n",
       "212  Mon, Nov 22, 2021    California       Florida  60.0  80.0\n",
       "232  Mon, Nov 22, 2021      Arkansas  Kansas State  72.0  64.0\n",
       "268  Mon, Nov 22, 2021    Providence  Northwestern  77.0  72.0\n",
       "272  Mon, Nov 22, 2021    Seton Hall    Ohio State  76.0  79.0\n",
       "287  Mon, Nov 22, 2021  Northwestern    Providence  72.0  77.0\n",
       "296  Mon, Nov 22, 2021    Ohio State    Seton Hall  79.0  76.0\n",
       "314  Mon, Nov 22, 2021     Wisconsin     Texas A&M  69.0  58.0\n",
       "352  Mon, Nov 22, 2021     Texas A&M     Wisconsin  58.0  69.0"
      ]
     },
     "execution_count": 194,
     "metadata": {},
     "output_type": "execute_result"
    }
   ],
   "source": [
    "ndfd[ndfd['Date']=='Mon, Nov 22, 2021']"
   ]
  },
  {
   "cell_type": "code",
   "execution_count": 175,
   "metadata": {
    "collapsed": false
   },
   "outputs": [
    {
     "data": {
      "text/plain": [
       "1256"
      ]
     },
     "execution_count": 175,
     "metadata": {},
     "output_type": "execute_result"
    }
   ],
   "source": [
    "len(bdf.index)"
   ]
  },
  {
   "cell_type": "code",
   "execution_count": 178,
   "metadata": {
    "collapsed": false
   },
   "outputs": [
    {
     "data": {
      "text/plain": [
       "[178, 'Fri, Mar 11, 2022']"
      ]
     },
     "execution_count": 178,
     "metadata": {},
     "output_type": "execute_result"
    }
   ],
   "source": [
    "[len(ndf.index),ndf.date.min()]"
   ]
  },
  {
   "cell_type": "code",
   "execution_count": 117,
   "metadata": {
    "collapsed": false
   },
   "outputs": [
    {
     "data": {
      "text/plain": [
       "[1798, 3596]"
      ]
     },
     "execution_count": 117,
     "metadata": {},
     "output_type": "execute_result"
    }
   ],
   "source": [
    "[len(bdf.index),len(bdfd.index)]"
   ]
  },
  {
   "cell_type": "code",
   "execution_count": 6,
   "metadata": {
    "collapsed": false
   },
   "outputs": [
    {
     "data": {
      "text/plain": [
       "Index(['Date', 'HomeTeam', 'AwayTeam', 'FTHG', 'FTAG'], dtype='object')"
      ]
     },
     "execution_count": 6,
     "metadata": {},
     "output_type": "execute_result"
    }
   ],
   "source": [
    "bdf.columns"
   ]
  },
  {
   "cell_type": "code",
   "execution_count": 132,
   "metadata": {
    "collapsed": false
   },
   "outputs": [
    {
     "data": {
      "text/plain": [
       "[24, 24]"
      ]
     },
     "execution_count": 132,
     "metadata": {},
     "output_type": "execute_result"
    }
   ],
   "source": [
    "[len(bdfd.HomeTeam.unique()),len(bdfd.AwayTeam.unique())]"
   ]
  },
  {
   "cell_type": "code",
   "execution_count": 33,
   "metadata": {
    "collapsed": false
   },
   "outputs": [
    {
     "data": {
      "text/plain": [
       "[14, 14]"
      ]
     },
     "execution_count": 33,
     "metadata": {},
     "output_type": "execute_result"
    }
   ],
   "source": [
    "[len(big10df.HomeTeam.unique()),len(big10df.AwayTeam.unique())]"
   ]
  },
  {
   "cell_type": "code",
   "execution_count": 24,
   "metadata": {
    "collapsed": false
   },
   "outputs": [
    {
     "data": {
      "text/plain": [
       "98"
      ]
     },
     "execution_count": 24,
     "metadata": {},
     "output_type": "execute_result"
    }
   ],
   "source": [
    "len(list(set(bdf.HomeTeam.unique().tolist()).union(set(bdf.AwayTeam.unique().tolist()))))"
   ]
  },
  {
   "cell_type": "code",
   "execution_count": 31,
   "metadata": {
    "collapsed": true
   },
   "outputs": [],
   "source": [
    "def transformData(data):\n",
    "    pl_data = data\n",
    "\n",
    "    ng = len(pl_data)  # number of games\n",
    "    npr = 45  # predict the last 5 rounds of games\n",
    "    ngob = ng - npr  # number of games to train\n",
    "\n",
    "    pl_data = pl_data.rename(columns={\"FTHG\": \"score1\",\"FTAG\":\"score2\",\n",
    "                            \"HomeTeam\":\"Home\",\"AwayTeam\":\"Away\"})\n",
    "\n",
    "    #teams = pl_data[\"Home\"].unique()\n",
    "    teams = list(set(pl_data.Home.unique().tolist()).union(set(pl_data.Away.unique().tolist())))\n",
    "    teams = pd.DataFrame(teams, columns=[\"Team\"])\n",
    "    teams[\"i\"] = teams.index\n",
    "\n",
    "    df = pd.merge(pl_data, teams, left_on=\"Home\", right_on=\"Team\", how=\"left\")\n",
    "    df = df.rename(columns={\"i\": \"Home_id\"}).drop(\"Team\", axis=1)\n",
    "    df = pd.merge(df, teams, left_on=\"Away\", right_on=\"Team\", how=\"left\")\n",
    "    df = df.rename(columns={\"i\": \"Away_id\"}).drop(\"Team\", axis=1)\n",
    "\n",
    "    print(df.head())\n",
    "\n",
    "    return teams, df\n"
   ]
  },
  {
   "cell_type": "code",
   "execution_count": 61,
   "metadata": {
    "collapsed": false,
    "scrolled": true
   },
   "outputs": [
    {
     "name": "stdout",
     "output_type": "stream",
     "text": [
      "        Date               Home             Away  score1  score2  Home_id  \\\n",
      "0 2022-01-05            Florida          Alabama    70.0    83.0       31   \n",
      "1 2022-01-08           Missouri          Alabama    92.0    86.0        2   \n",
      "2 2022-01-11            Alabama           Auburn    77.0    81.0       25   \n",
      "3 2022-01-15  Mississippi State          Alabama    78.0    76.0       57   \n",
      "4 2022-01-19            Alabama  Louisiana State    70.0    67.0       25   \n",
      "\n",
      "   Away_id  \n",
      "0       25  \n",
      "1       25  \n",
      "2       23  \n",
      "3       25  \n",
      "4        4  \n"
     ]
    }
   ],
   "source": [
    "tt,dd = transformData(bdfplusN)"
   ]
  },
  {
   "cell_type": "code",
   "execution_count": 149,
   "metadata": {
    "collapsed": false
   },
   "outputs": [
    {
     "data": {
      "text/html": [
       "<div>\n",
       "<style scoped>\n",
       "    .dataframe tbody tr th:only-of-type {\n",
       "        vertical-align: middle;\n",
       "    }\n",
       "\n",
       "    .dataframe tbody tr th {\n",
       "        vertical-align: top;\n",
       "    }\n",
       "\n",
       "    .dataframe thead th {\n",
       "        text-align: right;\n",
       "    }\n",
       "</style>\n",
       "<table border=\"1\" class=\"dataframe\">\n",
       "  <thead>\n",
       "    <tr style=\"text-align: right;\">\n",
       "      <th></th>\n",
       "      <th>Team</th>\n",
       "      <th>i</th>\n",
       "    </tr>\n",
       "  </thead>\n",
       "  <tbody>\n",
       "    <tr>\n",
       "      <th>0</th>\n",
       "      <td>Virginia</td>\n",
       "      <td>0</td>\n",
       "    </tr>\n",
       "    <tr>\n",
       "      <th>1</th>\n",
       "      <td>Mississippi State</td>\n",
       "      <td>1</td>\n",
       "    </tr>\n",
       "    <tr>\n",
       "      <th>2</th>\n",
       "      <td>Colorado</td>\n",
       "      <td>2</td>\n",
       "    </tr>\n",
       "    <tr>\n",
       "      <th>3</th>\n",
       "      <td>Marquette</td>\n",
       "      <td>3</td>\n",
       "    </tr>\n",
       "    <tr>\n",
       "      <th>4</th>\n",
       "      <td>Auburn</td>\n",
       "      <td>4</td>\n",
       "    </tr>\n",
       "    <tr>\n",
       "      <th>...</th>\n",
       "      <td>...</td>\n",
       "      <td>...</td>\n",
       "    </tr>\n",
       "    <tr>\n",
       "      <th>71</th>\n",
       "      <td>Nebraska</td>\n",
       "      <td>71</td>\n",
       "    </tr>\n",
       "    <tr>\n",
       "      <th>72</th>\n",
       "      <td>Utah</td>\n",
       "      <td>72</td>\n",
       "    </tr>\n",
       "    <tr>\n",
       "      <th>73</th>\n",
       "      <td>Kansas</td>\n",
       "      <td>73</td>\n",
       "    </tr>\n",
       "    <tr>\n",
       "      <th>74</th>\n",
       "      <td>Wake Forest</td>\n",
       "      <td>74</td>\n",
       "    </tr>\n",
       "    <tr>\n",
       "      <th>75</th>\n",
       "      <td>Florida State</td>\n",
       "      <td>75</td>\n",
       "    </tr>\n",
       "  </tbody>\n",
       "</table>\n",
       "<p>76 rows × 2 columns</p>\n",
       "</div>"
      ],
      "text/plain": [
       "                 Team   i\n",
       "0            Virginia   0\n",
       "1   Mississippi State   1\n",
       "2            Colorado   2\n",
       "3           Marquette   3\n",
       "4              Auburn   4\n",
       "..                ...  ..\n",
       "71           Nebraska  71\n",
       "72               Utah  72\n",
       "73             Kansas  73\n",
       "74        Wake Forest  74\n",
       "75      Florida State  75\n",
       "\n",
       "[76 rows x 2 columns]"
      ]
     },
     "execution_count": 149,
     "metadata": {},
     "output_type": "execute_result"
    }
   ],
   "source": [
    "tt"
   ]
  },
  {
   "cell_type": "code",
   "execution_count": 95,
   "metadata": {
    "collapsed": false
   },
   "outputs": [
    {
     "data": {
      "text/plain": [
       "count    560.000000\n",
       "mean      70.792857\n",
       "std       10.745051\n",
       "min       45.000000\n",
       "25%       64.000000\n",
       "50%       70.000000\n",
       "75%       78.000000\n",
       "max      110.000000\n",
       "Name: score1, dtype: float64"
      ]
     },
     "execution_count": 95,
     "metadata": {},
     "output_type": "execute_result"
    }
   ],
   "source": [
    "dd.score1.describe()"
   ]
  },
  {
   "cell_type": "code",
   "execution_count": 96,
   "metadata": {
    "collapsed": false
   },
   "outputs": [
    {
     "data": {
      "text/plain": [
       "[14, 560, 560, 14, 14]"
      ]
     },
     "execution_count": 96,
     "metadata": {},
     "output_type": "execute_result"
    }
   ],
   "source": [
    "h_id = torch.tensor(dd[\"Home_id\"])\n",
    "a_id = torch.tensor(dd[\"Away_id\"])\n",
    "\n",
    "\n",
    "[len(list(set(h_id.unique().tolist()).union(set(a_id.unique().tolist())))),len(h_id),len(a_id)\n",
    ",len(h_id.unique()),len(a_id.unique()) ]"
   ]
  },
  {
   "cell_type": "code",
   "execution_count": 70,
   "metadata": {
    "collapsed": true
   },
   "outputs": [],
   "source": [
    "class FoldedTransform(dist.transforms.AbsTransform):\n",
    "    def log_abs_det_jacobian(self, x, y):\n",
    "        return torch.zeros_like(x)\n",
    "\n",
    "def model(home_id, away_id, score1_obs=None, score2_obs=None):\n",
    "    # hyperpriors\n",
    "    alpha = pyro.sample(\"alpha\", dist.Normal(0.0, 1.0))\n",
    "    sd_att = pyro.sample(\"sd_att\", dist.TransformedDistribution(dist.StudentT(3.0, 0.0, 4), FoldedTransform()))\n",
    "    sd_def = pyro.sample(\"sd_def\", dist.TransformedDistribution(dist.StudentT(3.0, 0.0, 4), FoldedTransform()))\n",
    "    #student t: degrees of freedom, mean, width\n",
    "    #started with width = 2.5\n",
    "    #home = pyro.sample(\"home\", dist.Normal(0.0, 2.0))  # home advantage\n",
    "    #started with 1.0 for std\n",
    "\n",
    "    #this has to be the number of teams!!! \n",
    "    #nt = len(np.unique(home_id))\n",
    "    nt = len(list(set(np.unique(home_id).tolist()).union(set(np.unique(away_id).tolist()))))\n",
    "\n",
    "\n",
    "    # team-specific model parameters\n",
    "    with pyro.plate(\"plate_teams\", nt):\n",
    "        attack = pyro.sample(\"attack\", dist.Normal(0, sd_att))\n",
    "        defend = pyro.sample(\"defend\", dist.Normal(0, sd_def))\n",
    "\n",
    "    # likelihood\n",
    "    theta1 = torch.exp(alpha + attack[home_id] - defend[away_id])\n",
    "    theta2 = torch.exp(alpha + attack[away_id] - defend[home_id])\n",
    "\n",
    "    with pyro.plate(\"data\", len(home_id)):\n",
    "        pyro.sample(\"s1\", dist.Poisson(theta1), obs=score1_obs)\n",
    "        pyro.sample(\"s2\", dist.Poisson(theta2), obs=score2_obs)\n",
    "\n",
    "def guide(home_id, away_id, score1_obs=None, score2_obs=None):\n",
    "    mu_locs = pyro.param(\"mu_loc\", torch.tensor(0.0).expand(3))\n",
    "    mu_scales = pyro.param(\"mu_scale\", torch.tensor(0.1).expand(3), constraint=constraints.positive)\n",
    "\n",
    "    pyro.sample(\"alpha\", dist.Normal(mu_locs[0], mu_scales[0]))\n",
    "    pyro.sample(\"sd_att\", dist.LogNormal(mu_locs[1], mu_scales[1]))\n",
    "    pyro.sample(\"sd_def\", dist.LogNormal(mu_locs[2], mu_scales[2]))\n",
    "    #pyro.sample(\"home\", dist.Normal(mu_locs[3], mu_scales[3]))  # home advantage\n",
    "\n",
    "    nt = len(list(set(np.unique(home_id).tolist()).union(set(np.unique(away_id).tolist()))))\n",
    "    #nt = len(np.unique(home_id))\n",
    "    #print(\"number of teams: \", nt)\n",
    "\n",
    "    mu_team_locs = pyro.param(\"mu_team_loc\", torch.tensor(0.0).expand(2, nt))\n",
    "    mu_team_scales = pyro.param(\"mu_team_scale\", torch.tensor(0.1).expand(2, nt), constraint=constraints.positive)\n",
    "\n",
    "    with pyro.plate(\"plate_teams\", nt):\n",
    "        pyro.sample(\"attack\", dist.Normal(mu_team_locs[0], mu_team_scales[0]))\n",
    "        pyro.sample(\"defend\", dist.Normal(mu_team_locs[1], mu_team_scales[1]))\n",
    "\n",
    "def run_inference(model, guide, home_id, away_id, score1, score2, args):\n",
    "    gamma = 0.01  # final learning rate will be gamma * initial_lr\n",
    "    lrd = gamma ** (1 / args.num_iterations)\n",
    "\n",
    "    svi = SVI(\n",
    "        model=model,\n",
    "        guide=guide,\n",
    "        optim=ClippedAdam({\"lr\": args.learning_rate, \"lrd\": lrd}),\n",
    "        loss=Trace_ELBO(num_particles=args.num_particles),\n",
    "    )\n",
    "\n",
    "    pyro.clear_param_store()  # clear global parameter cache\n",
    "    pyro.set_rng_seed(args.rng_seed)\n",
    "\n",
    "    advi_loss = []\n",
    "    for j in range(args.num_iterations):\n",
    "        # calculate the loss and take a gradient step\n",
    "        loss = svi.step(\n",
    "            home_id=home_id,\n",
    "            away_id=away_id,\n",
    "            score1_obs=score1.float(),\n",
    "            score2_obs=score2.float(),\n",
    "        )\n",
    "        advi_loss.append(loss)\n",
    "        if j % 100 == 0:\n",
    "            print(\"[iteration %4d] loss: %.4f\" % (j + 1, loss))\n",
    "\n",
    "    print(\"Posterior: \")\n",
    "    for i in pyro.get_param_store().items():\n",
    "        print(i)\n",
    "\n",
    "    fit = Predictive(model=model, guide=guide, num_samples=2000)(\n",
    "        home_id=home_id, away_id=away_id\n",
    "    )\n",
    "\n",
    "    return fit\n",
    "\n",
    "def runThePyroFit(data,args):\n",
    "    print(\"transforming data...\")\n",
    "    teams, df =  transformData(data)\n",
    "    #train = df[df[\"split\"] == \"train\"]\n",
    "    train = df\n",
    "\n",
    "    print(\"Starting inference...\")\n",
    "    fit = run_inference(\n",
    "        model,\n",
    "        guide,\n",
    "        torch.tensor(train[\"Home_id\"]),\n",
    "        torch.tensor(train[\"Away_id\"]),\n",
    "        torch.tensor(train[\"score1\"]),\n",
    "        torch.tensor(train[\"score2\"]),\n",
    "        args,\n",
    "    )\n",
    "    return fit,teams,df,train\n",
    "\n",
    "#def runThePyroCodeRest(data,args,fit):\n",
    "def runThePyroCodeRest(fit,teams,df,train):\n",
    "#    print(\"transforming data...\")\n",
    "#    teams, df =  transformData(data)\n",
    "#    train = df[df[\"split\"] == \"train\"]\n",
    "\n",
    "#    print(\"Starting inference...\")\n",
    "#    fit = run_inference(\n",
    "#        model,\n",
    "#        guide,\n",
    "#        torch.tensor(train[\"Home_id\"]),\n",
    "#        torch.tensor(train[\"Away_id\"]),\n",
    "#        torch.tensor(train[\"score1\"]),\n",
    "#        torch.tensor(train[\"score2\"]),\n",
    "#        args,\n",
    "#    )\n",
    "\n",
    "    print(\"Analyse posterior...\")\n",
    "\n",
    "\n",
    "    # Predicted goals and table\n",
    "    #predict = df[df[\"split\"] == \"predict\"]\n",
    "    predict = predictDF\n",
    "    #print(\"this many home_ids: \" , predict.Home_id.unique())\n",
    "\n",
    "    predictive = Predictive(\n",
    "        model=model, guide=guide, num_samples=2000, return_sites=[\"s1\", \"s2\"]\n",
    "    )\n",
    " \n",
    "    predicted_score = predictive(\n",
    "        home_id=predict[\"Home_id\"].values,\n",
    "        away_id=predict[\"Away_id\"].values,\n",
    "    )\n",
    "\n",
    "    predicted_full = predict.copy()\n",
    "    predicted_full = predicted_full.assign(\n",
    "        score1=predicted_score[\"s1\"].mean(axis=0).round(),\n",
    "        score1error=predicted_score[\"s1\"].std(axis=0),\n",
    "        score2=predicted_score[\"s2\"].mean(axis=0).round(),\n",
    "        score2error=predicted_score[\"s2\"].std(axis=0),\n",
    "    )\n",
    "\n",
    "    predicted_full = train.append(\n",
    "        predicted_full.drop(columns=[\"score1error\", \"score2error\"])\n",
    "    )\n",
    "\n",
    "    print(score_table(df))\n",
    "    print(score_table(predicted_full))\n",
    "\n",
    "def qualityCalc(fit,teams,df,train):\n",
    "    # Attack and defence\n",
    "    quality = teams.copy()\n",
    "\n",
    "    quality = quality.assign(\n",
    "        attack=fit[\"attack\"].mean(axis=0),\n",
    "        attacksd=fit[\"attack\"].std(axis=0),\n",
    "        defend=fit[\"defend\"].mean(axis=0),\n",
    "        defendsd=fit[\"defend\"].std(axis=0),\n",
    "    )\n",
    "    quality = quality.assign(\n",
    "        attack_low=quality[\"attack\"] - quality[\"attacksd\"],\n",
    "        attack_high=quality[\"attack\"] + quality[\"attacksd\"],\n",
    "        defend_low=quality[\"defend\"] - quality[\"defendsd\"],\n",
    "        defend_high=quality[\"defend\"] + quality[\"defendsd\"],\n",
    "    )\n",
    "    #gotta debug this\n",
    "    return quality\n",
    "\n",
    "\n"
   ]
  },
  {
   "cell_type": "code",
   "execution_count": 71,
   "metadata": {
    "collapsed": false,
    "scrolled": true
   },
   "outputs": [
    {
     "name": "stdout",
     "output_type": "stream",
     "text": [
      "transforming data...\n",
      "        Date               Home             Away  score1  score2  Home_id  \\\n",
      "0 2022-01-05            Florida          Alabama    70.0    83.0       31   \n",
      "1 2022-01-08           Missouri          Alabama    92.0    86.0        2   \n",
      "2 2022-01-11            Alabama           Auburn    77.0    81.0       25   \n",
      "3 2022-01-15  Mississippi State          Alabama    78.0    76.0       57   \n",
      "4 2022-01-19            Alabama  Louisiana State    70.0    67.0       25   \n",
      "\n",
      "   Away_id  \n",
      "0       25  \n",
      "1       25  \n",
      "2       23  \n",
      "3       25  \n",
      "4        4  \n",
      "Starting inference...\n",
      "[iteration    1] loss: 481655.9004\n",
      "[iteration  101] loss: 8698.9971\n",
      "[iteration  201] loss: 8288.8776\n",
      "[iteration  301] loss: 8316.9184\n",
      "[iteration  401] loss: 8272.0891\n",
      "[iteration  501] loss: 8245.0448\n",
      "[iteration  601] loss: 8213.6144\n",
      "[iteration  701] loss: 8226.6002\n",
      "[iteration  801] loss: 8218.8161\n",
      "[iteration  901] loss: 8222.3971\n",
      "[iteration 1001] loss: 8227.2551\n",
      "[iteration 1101] loss: 8223.2493\n",
      "[iteration 1201] loss: 8224.8238\n",
      "[iteration 1301] loss: 8221.1544\n",
      "[iteration 1401] loss: 8194.8208\n",
      "[iteration 1501] loss: 8208.1290\n",
      "[iteration 1601] loss: 8200.4305\n",
      "[iteration 1701] loss: 8198.6882\n",
      "[iteration 1801] loss: 8202.0759\n",
      "[iteration 1901] loss: 8203.6579\n",
      "Posterior: \n",
      "('mu_loc', tensor([0.9277, 0.5156, 0.5349], requires_grad=True))\n",
      "('mu_scale', tensor([0.0025, 0.0872, 0.0975], grad_fn=<AddBackward0>))\n",
      "('mu_team_loc', tensor([[ 1.6291,  1.6983,  1.5455,  1.5897,  1.6393,  1.5789,  1.5379,  1.7354,\n",
      "          1.5617,  1.5346,  1.6428,  1.8751,  1.7779,  1.5839,  1.5932,  1.6284,\n",
      "          1.6252,  1.6200,  1.6730,  1.7095,  1.5635,  1.6093,  1.6603,  1.7335,\n",
      "          1.5569,  1.7638,  1.4671,  1.6816,  1.6452,  1.5091,  1.6060,  1.6034,\n",
      "          1.7246,  1.5899,  1.6566,  1.6785,  1.5690,  1.7146,  1.5930,  1.7256,\n",
      "          1.6086,  1.5941,  1.7952,  1.6142,  1.7396,  1.6551,  1.6354,  1.7591,\n",
      "          1.7329,  1.6284,  1.6081,  1.6664,  1.7234,  1.6920,  1.6238,  1.5265,\n",
      "          1.4992,  1.6151,  1.5910],\n",
      "        [-1.7233, -1.7783, -1.6762, -1.6606, -1.6394, -1.6243, -1.7127, -1.5319,\n",
      "         -1.6526, -1.7015, -1.7427, -1.6367, -1.6447, -1.7277, -1.7005, -1.7657,\n",
      "         -1.6871, -1.5854, -1.7512, -1.6231, -1.7717, -1.7257, -1.8331, -1.6576,\n",
      "         -1.7437, -1.7908, -1.6607, -1.6642, -1.6879, -1.7678, -1.5004, -1.6467,\n",
      "         -1.6084, -1.6460, -1.7575, -1.6686, -1.6104, -1.6722, -1.7503, -1.7008,\n",
      "         -1.8808, -1.7929, -1.7088, -1.6149, -1.6316, -1.6865, -1.5816, -1.7695,\n",
      "         -1.6583, -1.7523, -1.7901, -1.6069, -1.6577, -1.6142, -1.7057, -1.6673,\n",
      "         -1.7920, -1.6791, -1.8247]], requires_grad=True))\n",
      "('mu_team_scale', tensor([[0.0182, 0.0189, 0.0211, 0.0198, 0.0204, 0.0206, 0.0208, 0.0188, 0.0199,\n",
      "         0.0232, 0.0233, 0.0199, 0.0200, 0.0190, 0.0198, 0.0191, 0.0202, 0.0204,\n",
      "         0.0185, 0.0188, 0.0189, 0.0191, 0.0198, 0.0185, 0.0195, 0.0186, 0.0207,\n",
      "         0.0194, 0.0202, 0.0231, 0.0214, 0.0199, 0.0196, 0.0210, 0.0186, 0.0198,\n",
      "         0.0202, 0.0198, 0.0199, 0.0189, 0.0199, 0.0203, 0.0183, 0.0202, 0.0206,\n",
      "         0.0215, 0.0196, 0.0205, 0.0184, 0.0194, 0.0223, 0.0197, 0.0198, 0.0185,\n",
      "         0.0203, 0.0201, 0.0206, 0.0199, 0.0221],\n",
      "        [0.0188, 0.0201, 0.0201, 0.0192, 0.0204, 0.0207, 0.0199, 0.0212, 0.0194,\n",
      "         0.0205, 0.0220, 0.0233, 0.0211, 0.0195, 0.0202, 0.0208, 0.0200, 0.0196,\n",
      "         0.0183, 0.0211, 0.0188, 0.0198, 0.0184, 0.0204, 0.0199, 0.0182, 0.0208,\n",
      "         0.0187, 0.0203, 0.0219, 0.0223, 0.0197, 0.0202, 0.0191, 0.0199, 0.0184,\n",
      "         0.0192, 0.0195, 0.0206, 0.0200, 0.0181, 0.0194, 0.0194, 0.0201, 0.0214,\n",
      "         0.0207, 0.0200, 0.0208, 0.0206, 0.0187, 0.0210, 0.0200, 0.0209, 0.0200,\n",
      "         0.0190, 0.0210, 0.0200, 0.0196, 0.0196]], grad_fn=<AddBackward0>))\n"
     ]
    }
   ],
   "source": [
    "class Args():\n",
    "    learning_rate = 0.1\n",
    "    num_particles = 1\n",
    "    rng_seed = 1\n",
    "    num_iterations = 2000\n",
    "\n",
    "args=Args()\n",
    "fit,teams,df,train = runThePyroFit(bdf,args)"
   ]
  },
  {
   "cell_type": "code",
   "execution_count": 72,
   "metadata": {
    "collapsed": false
   },
   "outputs": [
    {
     "data": {
      "text/html": [
       "<div>\n",
       "<style scoped>\n",
       "    .dataframe tbody tr th:only-of-type {\n",
       "        vertical-align: middle;\n",
       "    }\n",
       "\n",
       "    .dataframe tbody tr th {\n",
       "        vertical-align: top;\n",
       "    }\n",
       "\n",
       "    .dataframe thead th {\n",
       "        text-align: right;\n",
       "    }\n",
       "</style>\n",
       "<table border=\"1\" class=\"dataframe\">\n",
       "  <thead>\n",
       "    <tr style=\"text-align: right;\">\n",
       "      <th></th>\n",
       "      <th>Team</th>\n",
       "      <th>i</th>\n",
       "      <th>attack</th>\n",
       "      <th>attacksd</th>\n",
       "      <th>defend</th>\n",
       "      <th>defendsd</th>\n",
       "      <th>attack_low</th>\n",
       "      <th>attack_high</th>\n",
       "      <th>defend_low</th>\n",
       "      <th>defend_high</th>\n",
       "    </tr>\n",
       "  </thead>\n",
       "  <tbody>\n",
       "    <tr>\n",
       "      <th>0</th>\n",
       "      <td>Kansas State</td>\n",
       "      <td>0</td>\n",
       "      <td>1.628959</td>\n",
       "      <td>0.018138</td>\n",
       "      <td>-1.723940</td>\n",
       "      <td>0.018567</td>\n",
       "      <td>1.610821</td>\n",
       "      <td>1.647097</td>\n",
       "      <td>-1.742507</td>\n",
       "      <td>-1.705373</td>\n",
       "    </tr>\n",
       "    <tr>\n",
       "      <th>1</th>\n",
       "      <td>Iowa</td>\n",
       "      <td>1</td>\n",
       "      <td>1.698427</td>\n",
       "      <td>0.019153</td>\n",
       "      <td>-1.778623</td>\n",
       "      <td>0.020391</td>\n",
       "      <td>1.679274</td>\n",
       "      <td>1.717581</td>\n",
       "      <td>-1.799014</td>\n",
       "      <td>-1.758232</td>\n",
       "    </tr>\n",
       "    <tr>\n",
       "      <th>2</th>\n",
       "      <td>Missouri</td>\n",
       "      <td>2</td>\n",
       "      <td>1.545486</td>\n",
       "      <td>0.020870</td>\n",
       "      <td>-1.676324</td>\n",
       "      <td>0.019950</td>\n",
       "      <td>1.524616</td>\n",
       "      <td>1.566356</td>\n",
       "      <td>-1.696273</td>\n",
       "      <td>-1.656374</td>\n",
       "    </tr>\n",
       "    <tr>\n",
       "      <th>3</th>\n",
       "      <td>Oklahoma</td>\n",
       "      <td>3</td>\n",
       "      <td>1.589892</td>\n",
       "      <td>0.019727</td>\n",
       "      <td>-1.659904</td>\n",
       "      <td>0.018778</td>\n",
       "      <td>1.570166</td>\n",
       "      <td>1.609619</td>\n",
       "      <td>-1.678682</td>\n",
       "      <td>-1.641125</td>\n",
       "    </tr>\n",
       "    <tr>\n",
       "      <th>4</th>\n",
       "      <td>Louisiana State</td>\n",
       "      <td>4</td>\n",
       "      <td>1.640227</td>\n",
       "      <td>0.020020</td>\n",
       "      <td>-1.639423</td>\n",
       "      <td>0.021082</td>\n",
       "      <td>1.620206</td>\n",
       "      <td>1.660247</td>\n",
       "      <td>-1.660505</td>\n",
       "      <td>-1.618341</td>\n",
       "    </tr>\n",
       "  </tbody>\n",
       "</table>\n",
       "</div>"
      ],
      "text/plain": [
       "              Team  i    attack  attacksd    defend  defendsd  attack_low  \\\n",
       "0     Kansas State  0  1.628959  0.018138 -1.723940  0.018567    1.610821   \n",
       "1             Iowa  1  1.698427  0.019153 -1.778623  0.020391    1.679274   \n",
       "2         Missouri  2  1.545486  0.020870 -1.676324  0.019950    1.524616   \n",
       "3         Oklahoma  3  1.589892  0.019727 -1.659904  0.018778    1.570166   \n",
       "4  Louisiana State  4  1.640227  0.020020 -1.639423  0.021082    1.620206   \n",
       "\n",
       "   attack_high  defend_low  defend_high  \n",
       "0     1.647097   -1.742507    -1.705373  \n",
       "1     1.717581   -1.799014    -1.758232  \n",
       "2     1.566356   -1.696273    -1.656374  \n",
       "3     1.609619   -1.678682    -1.641125  \n",
       "4     1.660247   -1.660505    -1.618341  "
      ]
     },
     "execution_count": 72,
     "metadata": {},
     "output_type": "execute_result"
    }
   ],
   "source": [
    "qDF = qualityCalc(fit,teams,df,train)\n",
    "qDF.head()"
   ]
  },
  {
   "cell_type": "code",
   "execution_count": 73,
   "metadata": {
    "collapsed": false
   },
   "outputs": [
    {
     "name": "stderr",
     "output_type": "stream",
     "text": [
      "/usr/local/lib/python3.9/site-packages/seaborn/_decorators.py:36: FutureWarning: Pass the following variables as keyword args: x, y. From version 0.12, the only valid positional argument will be `data`, and passing other arguments without an explicit keyword will result in an error or misinterpretation.\n",
      "  warnings.warn(\n"
     ]
    },
    {
     "data": {
      "text/plain": [
       "Text(0, 0.5, 'defend strength')"
      ]
     },
     "execution_count": 73,
     "metadata": {},
     "output_type": "execute_result"
    },
    {
     "data": {
      "image/png": "[encoded data removed]",
      "text/plain": [
       "<Figure size 1440x720 with 1 Axes>"
      ]
     },
     "metadata": {
      "needs_background": "light"
     },
     "output_type": "display_data"
    }
   ],
   "source": [
    "\n",
    "plt.figure(figsize=(20,10))\n",
    "p1 = sns.scatterplot('attack', # Horizontal axis\n",
    "       'defend', # Vertical axis\n",
    "       data=qDF, # Data source\n",
    "       size = 8,\n",
    "       legend=False)  \n",
    "\n",
    "for line in range(0,qDF.shape[0]):\n",
    "     p1.text(qDF.attack[line]+0.001, qDF.defend[line], \n",
    "     qDF.Team[line], horizontalalignment='left', \n",
    "     size='large', color='black', weight='semibold')\n",
    "\n",
    "plt.title('Quality')\n",
    "# Set x-axis label\n",
    "plt.xlabel('attack strength')\n",
    "# Set y-axis label\n",
    "plt.ylabel('defend strength')"
   ]
  },
  {
   "cell_type": "code",
   "execution_count": 94,
   "metadata": {
    "collapsed": false
   },
   "outputs": [
    {
     "data": {
      "text/plain": [
       "6"
      ]
     },
     "execution_count": 94,
     "metadata": {},
     "output_type": "execute_result"
    }
   ],
   "source": [
    "teams[teams['Team']=='Indiana'].i.values[0]"
   ]
  },
  {
   "cell_type": "code",
   "execution_count": 74,
   "metadata": {
    "collapsed": false
   },
   "outputs": [
    {
     "data": {
      "text/html": [
       "<div>\n",
       "<style scoped>\n",
       "    .dataframe tbody tr th:only-of-type {\n",
       "        vertical-align: middle;\n",
       "    }\n",
       "\n",
       "    .dataframe tbody tr th {\n",
       "        vertical-align: top;\n",
       "    }\n",
       "\n",
       "    .dataframe thead th {\n",
       "        text-align: right;\n",
       "    }\n",
       "</style>\n",
       "<table border=\"1\" class=\"dataframe\">\n",
       "  <thead>\n",
       "    <tr style=\"text-align: right;\">\n",
       "      <th></th>\n",
       "      <th>Team</th>\n",
       "      <th>i</th>\n",
       "    </tr>\n",
       "  </thead>\n",
       "  <tbody>\n",
       "    <tr>\n",
       "      <th>0</th>\n",
       "      <td>Kansas State</td>\n",
       "      <td>0</td>\n",
       "    </tr>\n",
       "    <tr>\n",
       "      <th>1</th>\n",
       "      <td>Iowa</td>\n",
       "      <td>1</td>\n",
       "    </tr>\n",
       "    <tr>\n",
       "      <th>2</th>\n",
       "      <td>Missouri</td>\n",
       "      <td>2</td>\n",
       "    </tr>\n",
       "    <tr>\n",
       "      <th>3</th>\n",
       "      <td>Oklahoma</td>\n",
       "      <td>3</td>\n",
       "    </tr>\n",
       "    <tr>\n",
       "      <th>4</th>\n",
       "      <td>Louisiana State</td>\n",
       "      <td>4</td>\n",
       "    </tr>\n",
       "    <tr>\n",
       "      <th>5</th>\n",
       "      <td>Oklahoma State</td>\n",
       "      <td>5</td>\n",
       "    </tr>\n",
       "    <tr>\n",
       "      <th>6</th>\n",
       "      <td>Indiana</td>\n",
       "      <td>6</td>\n",
       "    </tr>\n",
       "    <tr>\n",
       "      <th>7</th>\n",
       "      <td>Villanova</td>\n",
       "      <td>7</td>\n",
       "    </tr>\n",
       "    <tr>\n",
       "      <th>8</th>\n",
       "      <td>Iowa State</td>\n",
       "      <td>8</td>\n",
       "    </tr>\n",
       "    <tr>\n",
       "      <th>9</th>\n",
       "      <td>San Diego</td>\n",
       "      <td>9</td>\n",
       "    </tr>\n",
       "    <tr>\n",
       "      <th>10</th>\n",
       "      <td>Portland</td>\n",
       "      <td>10</td>\n",
       "    </tr>\n",
       "    <tr>\n",
       "      <th>11</th>\n",
       "      <td>Gonzaga</td>\n",
       "      <td>11</td>\n",
       "    </tr>\n",
       "    <tr>\n",
       "      <th>12</th>\n",
       "      <td>Marquette</td>\n",
       "      <td>12</td>\n",
       "    </tr>\n",
       "    <tr>\n",
       "      <th>13</th>\n",
       "      <td>Wisconsin</td>\n",
       "      <td>13</td>\n",
       "    </tr>\n",
       "    <tr>\n",
       "      <th>14</th>\n",
       "      <td>Mississippi</td>\n",
       "      <td>14</td>\n",
       "    </tr>\n",
       "    <tr>\n",
       "      <th>15</th>\n",
       "      <td>Michigan</td>\n",
       "      <td>15</td>\n",
       "    </tr>\n",
       "    <tr>\n",
       "      <th>16</th>\n",
       "      <td>Vanderbilt</td>\n",
       "      <td>16</td>\n",
       "    </tr>\n",
       "    <tr>\n",
       "      <th>17</th>\n",
       "      <td>Creighton</td>\n",
       "      <td>17</td>\n",
       "    </tr>\n",
       "    <tr>\n",
       "      <th>18</th>\n",
       "      <td>Georgetown</td>\n",
       "      <td>18</td>\n",
       "    </tr>\n",
       "    <tr>\n",
       "      <th>19</th>\n",
       "      <td>Arkansas</td>\n",
       "      <td>19</td>\n",
       "    </tr>\n",
       "    <tr>\n",
       "      <th>20</th>\n",
       "      <td>Northwestern</td>\n",
       "      <td>20</td>\n",
       "    </tr>\n",
       "    <tr>\n",
       "      <th>21</th>\n",
       "      <td>Illinois</td>\n",
       "      <td>21</td>\n",
       "    </tr>\n",
       "    <tr>\n",
       "      <th>22</th>\n",
       "      <td>Georgia</td>\n",
       "      <td>22</td>\n",
       "    </tr>\n",
       "    <tr>\n",
       "      <th>23</th>\n",
       "      <td>Auburn</td>\n",
       "      <td>23</td>\n",
       "    </tr>\n",
       "    <tr>\n",
       "      <th>24</th>\n",
       "      <td>Michigan State</td>\n",
       "      <td>24</td>\n",
       "    </tr>\n",
       "    <tr>\n",
       "      <th>25</th>\n",
       "      <td>Alabama</td>\n",
       "      <td>25</td>\n",
       "    </tr>\n",
       "    <tr>\n",
       "      <th>26</th>\n",
       "      <td>Penn State</td>\n",
       "      <td>26</td>\n",
       "    </tr>\n",
       "    <tr>\n",
       "      <th>27</th>\n",
       "      <td>Baylor</td>\n",
       "      <td>27</td>\n",
       "    </tr>\n",
       "    <tr>\n",
       "      <th>28</th>\n",
       "      <td>Texas A&amp;M</td>\n",
       "      <td>28</td>\n",
       "    </tr>\n",
       "    <tr>\n",
       "      <th>29</th>\n",
       "      <td>Pacific</td>\n",
       "      <td>29</td>\n",
       "    </tr>\n",
       "    <tr>\n",
       "      <th>30</th>\n",
       "      <td>Saint Mary's (CA)</td>\n",
       "      <td>30</td>\n",
       "    </tr>\n",
       "    <tr>\n",
       "      <th>31</th>\n",
       "      <td>Florida</td>\n",
       "      <td>31</td>\n",
       "    </tr>\n",
       "    <tr>\n",
       "      <th>32</th>\n",
       "      <td>Connecticut</td>\n",
       "      <td>32</td>\n",
       "    </tr>\n",
       "    <tr>\n",
       "      <th>33</th>\n",
       "      <td>TCU</td>\n",
       "      <td>33</td>\n",
       "    </tr>\n",
       "    <tr>\n",
       "      <th>34</th>\n",
       "      <td>Purdue</td>\n",
       "      <td>34</td>\n",
       "    </tr>\n",
       "    <tr>\n",
       "      <th>35</th>\n",
       "      <td>DePaul</td>\n",
       "      <td>35</td>\n",
       "    </tr>\n",
       "    <tr>\n",
       "      <th>36</th>\n",
       "      <td>Butler</td>\n",
       "      <td>36</td>\n",
       "    </tr>\n",
       "    <tr>\n",
       "      <th>37</th>\n",
       "      <td>Xavier</td>\n",
       "      <td>37</td>\n",
       "    </tr>\n",
       "    <tr>\n",
       "      <th>38</th>\n",
       "      <td>Ohio State</td>\n",
       "      <td>38</td>\n",
       "    </tr>\n",
       "    <tr>\n",
       "      <th>39</th>\n",
       "      <td>Kansas</td>\n",
       "      <td>39</td>\n",
       "    </tr>\n",
       "    <tr>\n",
       "      <th>40</th>\n",
       "      <td>Nebraska</td>\n",
       "      <td>40</td>\n",
       "    </tr>\n",
       "    <tr>\n",
       "      <th>41</th>\n",
       "      <td>Maryland</td>\n",
       "      <td>41</td>\n",
       "    </tr>\n",
       "    <tr>\n",
       "      <th>42</th>\n",
       "      <td>St. John's (NY)</td>\n",
       "      <td>42</td>\n",
       "    </tr>\n",
       "    <tr>\n",
       "      <th>43</th>\n",
       "      <td>Texas</td>\n",
       "      <td>43</td>\n",
       "    </tr>\n",
       "    <tr>\n",
       "      <th>44</th>\n",
       "      <td>Providence</td>\n",
       "      <td>44</td>\n",
       "    </tr>\n",
       "    <tr>\n",
       "      <th>45</th>\n",
       "      <td>Brigham Young</td>\n",
       "      <td>45</td>\n",
       "    </tr>\n",
       "    <tr>\n",
       "      <th>46</th>\n",
       "      <td>Texas Tech</td>\n",
       "      <td>46</td>\n",
       "    </tr>\n",
       "    <tr>\n",
       "      <th>47</th>\n",
       "      <td>Santa Clara</td>\n",
       "      <td>47</td>\n",
       "    </tr>\n",
       "    <tr>\n",
       "      <th>48</th>\n",
       "      <td>Kentucky</td>\n",
       "      <td>48</td>\n",
       "    </tr>\n",
       "    <tr>\n",
       "      <th>49</th>\n",
       "      <td>West Virginia</td>\n",
       "      <td>49</td>\n",
       "    </tr>\n",
       "    <tr>\n",
       "      <th>50</th>\n",
       "      <td>Loyola Marymount</td>\n",
       "      <td>50</td>\n",
       "    </tr>\n",
       "    <tr>\n",
       "      <th>51</th>\n",
       "      <td>Tennessee</td>\n",
       "      <td>51</td>\n",
       "    </tr>\n",
       "    <tr>\n",
       "      <th>52</th>\n",
       "      <td>San Francisco</td>\n",
       "      <td>52</td>\n",
       "    </tr>\n",
       "    <tr>\n",
       "      <th>53</th>\n",
       "      <td>Seton Hall</td>\n",
       "      <td>53</td>\n",
       "    </tr>\n",
       "    <tr>\n",
       "      <th>54</th>\n",
       "      <td>South Carolina</td>\n",
       "      <td>54</td>\n",
       "    </tr>\n",
       "    <tr>\n",
       "      <th>55</th>\n",
       "      <td>Rutgers</td>\n",
       "      <td>55</td>\n",
       "    </tr>\n",
       "    <tr>\n",
       "      <th>56</th>\n",
       "      <td>Minnesota</td>\n",
       "      <td>56</td>\n",
       "    </tr>\n",
       "    <tr>\n",
       "      <th>57</th>\n",
       "      <td>Mississippi State</td>\n",
       "      <td>57</td>\n",
       "    </tr>\n",
       "    <tr>\n",
       "      <th>58</th>\n",
       "      <td>Pepperdine</td>\n",
       "      <td>58</td>\n",
       "    </tr>\n",
       "  </tbody>\n",
       "</table>\n",
       "</div>"
      ],
      "text/plain": [
       "                 Team   i\n",
       "0        Kansas State   0\n",
       "1                Iowa   1\n",
       "2            Missouri   2\n",
       "3            Oklahoma   3\n",
       "4     Louisiana State   4\n",
       "5      Oklahoma State   5\n",
       "6             Indiana   6\n",
       "7           Villanova   7\n",
       "8          Iowa State   8\n",
       "9           San Diego   9\n",
       "10           Portland  10\n",
       "11            Gonzaga  11\n",
       "12          Marquette  12\n",
       "13          Wisconsin  13\n",
       "14        Mississippi  14\n",
       "15           Michigan  15\n",
       "16         Vanderbilt  16\n",
       "17          Creighton  17\n",
       "18         Georgetown  18\n",
       "19           Arkansas  19\n",
       "20       Northwestern  20\n",
       "21           Illinois  21\n",
       "22            Georgia  22\n",
       "23             Auburn  23\n",
       "24     Michigan State  24\n",
       "25            Alabama  25\n",
       "26         Penn State  26\n",
       "27             Baylor  27\n",
       "28          Texas A&M  28\n",
       "29            Pacific  29\n",
       "30  Saint Mary's (CA)  30\n",
       "31            Florida  31\n",
       "32        Connecticut  32\n",
       "33                TCU  33\n",
       "34             Purdue  34\n",
       "35             DePaul  35\n",
       "36             Butler  36\n",
       "37             Xavier  37\n",
       "38         Ohio State  38\n",
       "39             Kansas  39\n",
       "40           Nebraska  40\n",
       "41           Maryland  41\n",
       "42    St. John's (NY)  42\n",
       "43              Texas  43\n",
       "44         Providence  44\n",
       "45      Brigham Young  45\n",
       "46         Texas Tech  46\n",
       "47        Santa Clara  47\n",
       "48           Kentucky  48\n",
       "49      West Virginia  49\n",
       "50   Loyola Marymount  50\n",
       "51          Tennessee  51\n",
       "52      San Francisco  52\n",
       "53         Seton Hall  53\n",
       "54     South Carolina  54\n",
       "55            Rutgers  55\n",
       "56          Minnesota  56\n",
       "57  Mississippi State  57\n",
       "58         Pepperdine  58"
      ]
     },
     "execution_count": 74,
     "metadata": {},
     "output_type": "execute_result"
    }
   ],
   "source": [
    "teams"
   ]
  },
  {
   "cell_type": "code",
   "execution_count": 78,
   "metadata": {
    "collapsed": false
   },
   "outputs": [
    {
     "data": {
      "text/plain": [
       "[6,\n",
       " 0,\n",
       " 1,\n",
       " 2,\n",
       " 3,\n",
       " 4,\n",
       " 5,\n",
       " 6,\n",
       " 7,\n",
       " 8,\n",
       " 9,\n",
       " 10,\n",
       " 11,\n",
       " 12,\n",
       " 13,\n",
       " 14,\n",
       " 15,\n",
       " 16,\n",
       " 17,\n",
       " 18,\n",
       " 19,\n",
       " 20,\n",
       " 21,\n",
       " 22,\n",
       " 23,\n",
       " 24,\n",
       " 25,\n",
       " 26,\n",
       " 27,\n",
       " 28,\n",
       " 29,\n",
       " 30,\n",
       " 31,\n",
       " 32,\n",
       " 33,\n",
       " 34,\n",
       " 35,\n",
       " 36,\n",
       " 37,\n",
       " 38,\n",
       " 39,\n",
       " 40,\n",
       " 41,\n",
       " 42,\n",
       " 43,\n",
       " 44,\n",
       " 45,\n",
       " 46,\n",
       " 47,\n",
       " 48,\n",
       " 49,\n",
       " 50,\n",
       " 51,\n",
       " 52,\n",
       " 53,\n",
       " 54,\n",
       " 55,\n",
       " 56,\n",
       " 57,\n",
       " 58]"
      ]
     },
     "execution_count": 78,
     "metadata": {},
     "output_type": "execute_result"
    }
   ],
   "source": [
    "[6]+list(teams.i)"
   ]
  },
  {
   "cell_type": "code",
   "execution_count": 118,
   "metadata": {
    "collapsed": false
   },
   "outputs": [],
   "source": [
    "tsn = ['Indiana',\"Saint Mary's (CA)\"]\n",
    "\n",
    "ts = getGameIndexs(teams,tsn[0],tsn[1])\n",
    "\n",
    "predictive = Predictive(\n",
    "    model=model, guide=guide, num_samples=10000, return_sites=[\"s1\", \"s2\"]\n",
    ")\n",
    "\n",
    "def getTeamIndex(ts,name):\n",
    "    return(ts[ts['Team']==name].i.values[0])\n",
    "def getGameIndexs(ts,name1,name2):\n",
    "    return([getTeamIndex(ts,name1),getTeamIndex(ts,name2)])\n",
    "\n",
    "\n",
    "allTeams = list(teams.i)\n",
    "\n",
    "\n",
    "                   \n",
    "AvB = pd.DataFrame({'Home_id':[ts[0]]+allTeams,\n",
    "        'Away_id':[ts[1]]+allTeams})\n",
    "predicted_score = predictive(\n",
    "    home_id=AvB[\"Home_id\"].values,\n",
    "    away_id=AvB[\"Away_id\"].values,\n",
    ")\n",
    "\n",
    "t1scores = predicted_score[\"s1\"][0].tolist()\n",
    "t2scores = predicted_score[\"s2\"][0].tolist()\n",
    "\n",
    "#spread and over under distributions\n",
    "n=500\n",
    "sams1=rnd.choices(t1scores, k=n)\n",
    "sams2=rnd.choices(t2scores, k=n)\n",
    "overunder = [p1+p2 for p1 in sams1 for p2 in sams2]\n",
    "spread    = [p1-p2 for p1 in sams1 for p2 in sams2]\n",
    "samsDF = pd.DataFrame({'overunder':overunder,'spread':spread})\n"
   ]
  },
  {
   "cell_type": "code",
   "execution_count": 119,
   "metadata": {
    "collapsed": false
   },
   "outputs": [
    {
     "data": {
      "text/plain": [
       "Text(0.5, 1.0, \"blue:Indiana green:Saint Mary's (CA)\")"
      ]
     },
     "execution_count": 119,
     "metadata": {},
     "output_type": "execute_result"
    },
    {
     "data": {
      "image/png": "[encoded data removed]",
      "text/plain": [
       "<Figure size 432x288 with 1 Axes>"
      ]
     },
     "metadata": {
      "needs_background": "light"
     },
     "output_type": "display_data"
    }
   ],
   "source": [
    "\n",
    "def meanl(lst):\n",
    "    return sum(lst) / len(lst)\n",
    "plt.hist([t1scores, t2scores], color=['b','g'], alpha=0.5)\n",
    "plt.axvline(meanl(t1scores), color='b', linestyle='dashed', linewidth=2)\n",
    "plt.axvline(meanl(t2scores), color='g', linestyle='dashed', linewidth=2)\n",
    "plt.title(\"blue:\"+tsn[0]+\" green:\"+tsn[1])\n"
   ]
  },
  {
   "cell_type": "code",
   "execution_count": 121,
   "metadata": {
    "collapsed": false
   },
   "outputs": [
    {
     "data": {
      "image/png": "[encoded data removed]",
      "text/plain": [
       "<Figure size 1440x720 with 1 Axes>"
      ]
     },
     "metadata": {
      "needs_background": "light"
     },
     "output_type": "display_data"
    }
   ],
   "source": [
    "plt.figure(figsize=(20,10))\n",
    "\n",
    "sns.ecdfplot(overunder)\n",
    "plt.grid()\n",
    "plt.xticks(range(100,200,5))\n",
    "plt.yticks([a/10.0 for a in range(0,10)])\n",
    "plt.axhline(y=0.5, color='r', linestyle='-')\n",
    "plt.title(\"overunder: \"+tsn[0]+\" vs \"+tsn[1]+\" probablity of less than x\")\n",
    "plt.savefig('figs/'+tsn[0]+\"vs\"+tsn[1]+\"Overunder.png\")"
   ]
  },
  {
   "cell_type": "code",
   "execution_count": 122,
   "metadata": {
    "collapsed": false
   },
   "outputs": [
    {
     "data": {
      "image/png": "[encoded data removed]",
      "text/plain": [
       "<Figure size 1440x720 with 1 Axes>"
      ]
     },
     "metadata": {
      "needs_background": "light"
     },
     "output_type": "display_data"
    }
   ],
   "source": [
    "#probability of team1 wining by at least x points\n",
    "plt.figure(figsize=(20,10))\n",
    "\n",
    "sns.ecdfplot(spread,complementary=True)\n",
    "plt.grid()\n",
    "plt.xticks(range(-60,60,2))\n",
    "plt.yticks([a/10.0 for a in range(0,10)])\n",
    "plt.title(\"probability of \"+ tsn[0] + \" winning by at least x points\")\n",
    "\n",
    "plt.axhline(y=0.5, color='r', linestyle='-')\n",
    "plt.axvline(x=0, color='r', linestyle='-')\n",
    "plt.savefig('figs/'+tsn[0]+\"vs\"+tsn[1]+\"spread.png\")"
   ]
  },
  {
   "cell_type": "code",
   "execution_count": null,
   "metadata": {
    "collapsed": true
   },
   "outputs": [],
   "source": []
  }
 ],
 "metadata": {
  "kernelspec": {
   "display_name": "Python 3.9",
   "language": "python",
   "name": "python3.9"
  },
  "language_info": {
   "codemirror_mode": {
    "name": "ipython",
    "version": 3
   },
   "file_extension": ".py",
   "mimetype": "text/x-python",
   "name": "python",
   "nbconvert_exporter": "python",
   "pygments_lexer": "ipython3",
   "version": "3.9.5"
  }
 },
 "nbformat": 4,
 "nbformat_minor": 0
}
