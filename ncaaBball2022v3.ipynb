{
 "cells": [
  {
   "cell_type": "code",
   "execution_count": 1,
   "metadata": {
    "collapsed": true
   },
   "outputs": [],
   "source": [
    "import pandas as pd\n",
    "import pickle\n",
    "from sportsreference.ncaab.teams import Teams\n",
    "from sportsreference.ncaab.conferences import Conferences\n",
    "import matplotlib.pyplot as plt\n",
    "import seaborn as sns\n",
    "import numpy as np\n",
    "import random as rnd\n",
    "from utils import  score_table\n",
    "import importlib\n",
    "\n",
    "#import argparse\n",
    "\n",
    "import torch\n",
    "import pyro\n",
    "import pyro.distributions as dist\n",
    "from pyro.infer import SVI, Predictive, Trace_ELBO\n",
    "from pyro.optim import ClippedAdam\n",
    "from torch.distributions import constraints"
   ]
  },
  {
   "cell_type": "code",
   "execution_count": 78,
   "metadata": {
    "collapsed": true
   },
   "outputs": [],
   "source": [
    "majorConfs = [\"big-12\",\"Big 12\",\n",
    "              \"big-10\",\"Big Ten\",\"big-ten\",\n",
    "              \"sec\",\"SEC\",\n",
    "              \"big-east\",\"Big East\",\n",
    "              \"pac-12\",\"Pac-12\",\n",
    "              \"acc\",\"ACC\",\n",
    "              \"wcc\", \"WCC\",\n",
    "              \"atlantic-10\",\"Atlantic 10\"]\n",
    "confNameNorm = {\"Big 12\":\"big-12\",\n",
    "              \"Big Ten\":\"big-ten\",\n",
    "              \"big-ten\":\"big-ten\",\n",
    "              \"SEC\":\"sec\",\n",
    "              \"Big East\":\"big-east\",\n",
    "              \"Pac-12\":\"pac-12\",\n",
    "              \"ACC\":\"acc\",\n",
    "              \"WCC\":\"wcc\",\n",
    "               \"Atlantic 10\":\"atlantic-10\"}\n",
    "def getDataForTeams(teams) :\n",
    "    dataset = pd.DataFrame()\n",
    "    for team in teams:\n",
    "        if team.conference in majorConfs:\n",
    "            tgDF = team.schedule.dataframe\n",
    "            tgDF['team_name'] = team.name\n",
    "            tgDF['team_conference'] = team.conference\n",
    "            dataset = pd.concat([dataset,tgDF])     \n",
    "    return dataset\n"
   ]
  },
  {
   "cell_type": "code",
   "execution_count": 3,
   "metadata": {
    "collapsed": true
   },
   "outputs": [],
   "source": [
    "#execute this cell to grab the data from the site\n",
    "season_team_list = Teams(\"2022\")\n",
    "df = getDataForTeams(season_team_list)\n",
    "compression_opts = dict(method='zip',\n",
    "                        archive_name='outv3.csv')  \n",
    "df.to_csv('data/bigconfs2022Season.zip', compression=compression_opts) \n",
    "pickle.dump( season_team_list, open( \"data/teams2022.p\", \"wb\" ) )"
   ]
  },
  {
   "cell_type": "code",
   "execution_count": 197,
   "metadata": {
    "collapsed": true
   },
   "outputs": [],
   "source": [
    "#execute this cell to just load the local files\n",
    "season_team_list = pickle.load( open( \"data/teams2022.p\", \"rb\" ) )\n",
    "c_opts = dict(method='zip')\n",
    "df = pd.read_csv('data/bigconfs2022Season.zip',compression='zip')"
   ]
  },
  {
   "cell_type": "code",
   "execution_count": 124,
   "metadata": {
    "collapsed": false
   },
   "outputs": [
    {
     "data": {
      "text/plain": [
       "Index(['Unnamed: 0', 'arena', 'boxscore_index', 'date', 'datetime', 'game',\n",
       "       'location', 'opponent_abbr', 'opponent_conference', 'opponent_name',\n",
       "       'opponent_rank', 'overtimes', 'points_against', 'points_for', 'result',\n",
       "       'season_losses', 'season_wins', 'streak', 'time', 'type', 'team_name',\n",
       "       'team_conference'],\n",
       "      dtype='object')"
      ]
     },
     "execution_count": 124,
     "metadata": {},
     "output_type": "execute_result"
    }
   ],
   "source": [
    "df.columns"
   ]
  },
  {
   "cell_type": "code",
   "execution_count": 171,
   "metadata": {
    "collapsed": false
   },
   "outputs": [
    {
     "data": {
      "text/plain": [
       "array(['Home', 'Neutral', 'Away'], dtype=object)"
      ]
     },
     "execution_count": 171,
     "metadata": {},
     "output_type": "execute_result"
    }
   ],
   "source": [
    "df.location.unique()"
   ]
  },
  {
   "cell_type": "code",
   "execution_count": 125,
   "metadata": {
    "collapsed": false
   },
   "outputs": [
    {
     "data": {
      "text/html": [
       "<div>\n",
       "<style scoped>\n",
       "    .dataframe tbody tr th:only-of-type {\n",
       "        vertical-align: middle;\n",
       "    }\n",
       "\n",
       "    .dataframe tbody tr th {\n",
       "        vertical-align: top;\n",
       "    }\n",
       "\n",
       "    .dataframe thead th {\n",
       "        text-align: right;\n",
       "    }\n",
       "</style>\n",
       "<table border=\"1\" class=\"dataframe\">\n",
       "  <thead>\n",
       "    <tr style=\"text-align: right;\">\n",
       "      <th></th>\n",
       "      <th>Date</th>\n",
       "      <th>HomeTeam</th>\n",
       "      <th>AwayTeam</th>\n",
       "      <th>FTHG</th>\n",
       "      <th>FTAG</th>\n",
       "    </tr>\n",
       "  </thead>\n",
       "  <tbody>\n",
       "    <tr>\n",
       "      <th>0</th>\n",
       "      <td>monday</td>\n",
       "      <td>msu</td>\n",
       "      <td>um</td>\n",
       "      <td>99</td>\n",
       "      <td>25</td>\n",
       "    </tr>\n",
       "    <tr>\n",
       "      <th>1</th>\n",
       "      <td>tuesday</td>\n",
       "      <td>uw</td>\n",
       "      <td>purdue</td>\n",
       "      <td>88</td>\n",
       "      <td>75</td>\n",
       "    </tr>\n",
       "    <tr>\n",
       "      <th>2</th>\n",
       "      <td>monday</td>\n",
       "      <td>um</td>\n",
       "      <td>msu</td>\n",
       "      <td>25</td>\n",
       "      <td>99</td>\n",
       "    </tr>\n",
       "    <tr>\n",
       "      <th>3</th>\n",
       "      <td>tuesday</td>\n",
       "      <td>purdue</td>\n",
       "      <td>uw</td>\n",
       "      <td>75</td>\n",
       "      <td>88</td>\n",
       "    </tr>\n",
       "  </tbody>\n",
       "</table>\n",
       "</div>"
      ],
      "text/plain": [
       "      Date HomeTeam AwayTeam  FTHG  FTAG\n",
       "0   monday      msu       um    99    25\n",
       "1  tuesday       uw   purdue    88    75\n",
       "2   monday       um      msu    25    99\n",
       "3  tuesday   purdue       uw    75    88"
      ]
     },
     "execution_count": 125,
     "metadata": {},
     "output_type": "execute_result"
    }
   ],
   "source": [
    "\n",
    "def replicateSwappingHomeAndAway(df):\n",
    "    cdf = df.copy()\n",
    "    swapdf = pd.DataFrame(columns=['Date','HomeTeam','AwayTeam','FTHG','FTAG'])\n",
    "\n",
    "    swapdf['Date'] = df.Date\n",
    "    swapdf['HomeTeam'] = df.AwayTeam\n",
    "    swapdf['AwayTeam'] = df.HomeTeam\n",
    "    swapdf['FTHG'] = df.FTAG\n",
    "    swapdf['FTAG'] = df.FTHG\n",
    "    \n",
    "    fdf = pd.concat([cdf,swapdf], axis=0)\n",
    "    fdf.reset_index(inplace=True, drop=True)\n",
    "    return fdf\n",
    "\n",
    "foo = pd.DataFrame({'Date':['monday','tuesday'],\n",
    "                    'HomeTeam':['msu','uw'],\n",
    "                    'AwayTeam':['um','purdue'],\n",
    "                    'FTHG':[99,88],\n",
    "                    'FTAG':[25,75]})\n",
    "foobar = replicateSwappingHomeAndAway(foo)\n",
    "foobar"
   ]
  },
  {
   "cell_type": "code",
   "execution_count": 179,
   "metadata": {
    "collapsed": false
   },
   "outputs": [
    {
     "data": {
      "text/html": [
       "<div>\n",
       "<style scoped>\n",
       "    .dataframe tbody tr th:only-of-type {\n",
       "        vertical-align: middle;\n",
       "    }\n",
       "\n",
       "    .dataframe tbody tr th {\n",
       "        vertical-align: top;\n",
       "    }\n",
       "\n",
       "    .dataframe thead th {\n",
       "        text-align: right;\n",
       "    }\n",
       "</style>\n",
       "<table border=\"1\" class=\"dataframe\">\n",
       "  <thead>\n",
       "    <tr style=\"text-align: right;\">\n",
       "      <th></th>\n",
       "      <th>Date</th>\n",
       "      <th>HomeTeam</th>\n",
       "      <th>AwayTeam</th>\n",
       "      <th>FTHG</th>\n",
       "      <th>FTAG</th>\n",
       "    </tr>\n",
       "  </thead>\n",
       "  <tbody>\n",
       "    <tr>\n",
       "      <th>31</th>\n",
       "      <td>Thu, Mar 10, 2022</td>\n",
       "      <td>Alabama</td>\n",
       "      <td>Vanderbilt</td>\n",
       "      <td>76.0</td>\n",
       "      <td>82.0</td>\n",
       "    </tr>\n",
       "    <tr>\n",
       "      <th>36</th>\n",
       "      <td>Wed, Nov 24, 2021</td>\n",
       "      <td>Arizona State</td>\n",
       "      <td>Baylor</td>\n",
       "      <td>63.0</td>\n",
       "      <td>75.0</td>\n",
       "    </tr>\n",
       "    <tr>\n",
       "      <th>62</th>\n",
       "      <td>Wed, Mar 9, 2022</td>\n",
       "      <td>Arizona State</td>\n",
       "      <td>Stanford</td>\n",
       "      <td>70.0</td>\n",
       "      <td>71.0</td>\n",
       "    </tr>\n",
       "    <tr>\n",
       "      <th>67</th>\n",
       "      <td>Sun, Nov 21, 2021</td>\n",
       "      <td>Arizona</td>\n",
       "      <td>Michigan</td>\n",
       "      <td>80.0</td>\n",
       "      <td>62.0</td>\n",
       "    </tr>\n",
       "    <tr>\n",
       "      <th>94</th>\n",
       "      <td>Thu, Mar 10, 2022</td>\n",
       "      <td>Arizona</td>\n",
       "      <td>Stanford</td>\n",
       "      <td>84.0</td>\n",
       "      <td>80.0</td>\n",
       "    </tr>\n",
       "    <tr>\n",
       "      <th>...</th>\n",
       "      <td>...</td>\n",
       "      <td>...</td>\n",
       "      <td>...</td>\n",
       "      <td>...</td>\n",
       "      <td>...</td>\n",
       "    </tr>\n",
       "    <tr>\n",
       "      <th>3189</th>\n",
       "      <td>Thu, Mar 10, 2022</td>\n",
       "      <td>West Virginia</td>\n",
       "      <td>Kansas</td>\n",
       "      <td>63.0</td>\n",
       "      <td>87.0</td>\n",
       "    </tr>\n",
       "    <tr>\n",
       "      <th>3193</th>\n",
       "      <td>Mon, Nov 22, 2021</td>\n",
       "      <td>Wisconsin</td>\n",
       "      <td>Texas A&amp;M</td>\n",
       "      <td>69.0</td>\n",
       "      <td>58.0</td>\n",
       "    </tr>\n",
       "    <tr>\n",
       "      <th>3220</th>\n",
       "      <td>Fri, Mar 11, 2022</td>\n",
       "      <td>Wisconsin</td>\n",
       "      <td>Michigan State</td>\n",
       "      <td>63.0</td>\n",
       "      <td>69.0</td>\n",
       "    </tr>\n",
       "    <tr>\n",
       "      <th>3226</th>\n",
       "      <td>Wed, Nov 24, 2021</td>\n",
       "      <td>Xavier</td>\n",
       "      <td>Iowa State</td>\n",
       "      <td>70.0</td>\n",
       "      <td>82.0</td>\n",
       "    </tr>\n",
       "    <tr>\n",
       "      <th>3252</th>\n",
       "      <td>Wed, Mar 9, 2022</td>\n",
       "      <td>Xavier</td>\n",
       "      <td>Butler</td>\n",
       "      <td>82.0</td>\n",
       "      <td>89.0</td>\n",
       "    </tr>\n",
       "  </tbody>\n",
       "</table>\n",
       "<p>178 rows × 5 columns</p>\n",
       "</div>"
      ],
      "text/plain": [
       "                   Date       HomeTeam        AwayTeam  FTHG  FTAG\n",
       "31    Thu, Mar 10, 2022        Alabama      Vanderbilt  76.0  82.0\n",
       "36    Wed, Nov 24, 2021  Arizona State          Baylor  63.0  75.0\n",
       "62     Wed, Mar 9, 2022  Arizona State        Stanford  70.0  71.0\n",
       "67    Sun, Nov 21, 2021        Arizona        Michigan  80.0  62.0\n",
       "94    Thu, Mar 10, 2022        Arizona        Stanford  84.0  80.0\n",
       "...                 ...            ...             ...   ...   ...\n",
       "3189  Thu, Mar 10, 2022  West Virginia          Kansas  63.0  87.0\n",
       "3193  Mon, Nov 22, 2021      Wisconsin       Texas A&M  69.0  58.0\n",
       "3220  Fri, Mar 11, 2022      Wisconsin  Michigan State  63.0  69.0\n",
       "3226  Wed, Nov 24, 2021         Xavier      Iowa State  70.0  82.0\n",
       "3252   Wed, Mar 9, 2022         Xavier          Butler  82.0  89.0\n",
       "\n",
       "[178 rows x 5 columns]"
      ]
     },
     "execution_count": 179,
     "metadata": {},
     "output_type": "execute_result"
    }
   ],
   "source": [
    "#for neutral\n",
    "#bdf[\"location\"] == 'Neutral'\n",
    "\n",
    "selector_neut = {'date':'Date', 'team_name':'HomeTeam', 'opponent_name':'AwayTeam',\n",
    "              'points_for':'FTHG', 'points_against':'FTAG'}\n",
    "\n",
    "test = ndf.rename(columns=selector_neut)[selector_neut.values()]\n",
    "test.head()"
   ]
  },
  {
   "cell_type": "code",
   "execution_count": 201,
   "metadata": {
    "collapsed": false
   },
   "outputs": [
    {
     "data": {
      "text/html": [
       "<div>\n",
       "<style scoped>\n",
       "    .dataframe tbody tr th:only-of-type {\n",
       "        vertical-align: middle;\n",
       "    }\n",
       "\n",
       "    .dataframe tbody tr th {\n",
       "        vertical-align: top;\n",
       "    }\n",
       "\n",
       "    .dataframe thead th {\n",
       "        text-align: right;\n",
       "    }\n",
       "</style>\n",
       "<table border=\"1\" class=\"dataframe\">\n",
       "  <thead>\n",
       "    <tr style=\"text-align: right;\">\n",
       "      <th></th>\n",
       "      <th>Date</th>\n",
       "      <th>HomeTeam</th>\n",
       "      <th>AwayTeam</th>\n",
       "      <th>FTHG</th>\n",
       "      <th>FTAG</th>\n",
       "    </tr>\n",
       "  </thead>\n",
       "  <tbody>\n",
       "    <tr>\n",
       "      <th>0</th>\n",
       "      <td>Wed, Dec 29, 2021</td>\n",
       "      <td>Alabama</td>\n",
       "      <td>Tennessee</td>\n",
       "      <td>73.0</td>\n",
       "      <td>68.0</td>\n",
       "    </tr>\n",
       "    <tr>\n",
       "      <th>1</th>\n",
       "      <td>Wed, Jan 5, 2022</td>\n",
       "      <td>Florida</td>\n",
       "      <td>Alabama</td>\n",
       "      <td>70.0</td>\n",
       "      <td>83.0</td>\n",
       "    </tr>\n",
       "    <tr>\n",
       "      <th>2</th>\n",
       "      <td>Sat, Jan 8, 2022</td>\n",
       "      <td>Missouri</td>\n",
       "      <td>Alabama</td>\n",
       "      <td>92.0</td>\n",
       "      <td>86.0</td>\n",
       "    </tr>\n",
       "    <tr>\n",
       "      <th>3</th>\n",
       "      <td>Tue, Jan 11, 2022</td>\n",
       "      <td>Alabama</td>\n",
       "      <td>Auburn</td>\n",
       "      <td>77.0</td>\n",
       "      <td>81.0</td>\n",
       "    </tr>\n",
       "    <tr>\n",
       "      <th>4</th>\n",
       "      <td>Sat, Jan 15, 2022</td>\n",
       "      <td>Mississippi State</td>\n",
       "      <td>Alabama</td>\n",
       "      <td>78.0</td>\n",
       "      <td>76.0</td>\n",
       "    </tr>\n",
       "  </tbody>\n",
       "</table>\n",
       "</div>"
      ],
      "text/plain": [
       "                Date           HomeTeam   AwayTeam  FTHG  FTAG\n",
       "0  Wed, Dec 29, 2021            Alabama  Tennessee  73.0  68.0\n",
       "1   Wed, Jan 5, 2022            Florida    Alabama  70.0  83.0\n",
       "2   Sat, Jan 8, 2022           Missouri    Alabama  92.0  86.0\n",
       "3  Tue, Jan 11, 2022            Alabama     Auburn  77.0  81.0\n",
       "4  Sat, Jan 15, 2022  Mississippi State    Alabama  78.0  76.0"
      ]
     },
     "execution_count": 201,
     "metadata": {},
     "output_type": "execute_result"
    }
   ],
   "source": [
    "#keepConfs = majorConfs\n",
    "keepConfs = [\"big-10\",\"Big Ten\",\"big-ten\",\n",
    "            \"big-12\",\"Big 12\",\n",
    "            \"sec\",\"SEC\",\n",
    "              \"big-east\",\"Big East\",\n",
    "              \"pac-12\",\"Pac-12\"]\n",
    "\n",
    "\n",
    "bdf = df\n",
    "#only have games between big conferences\n",
    "bdf = bdf[(bdf[\"opponent_conference\"].isin(keepConfs)) & \n",
    "         (bdf[\"team_conference\"].isin(keepConfs)) ]\n",
    "\n",
    "#get rid of duplicates\n",
    "bdf.drop_duplicates(subset='boxscore_index', keep=\"first\")\n",
    "#drop Neutral games for now\n",
    "ndf = bdf[bdf[\"location\"] == 'Neutral']\n",
    "bdf = bdf[bdf[\"location\"].isin([\"Home\",\"Away\"])]\n",
    "\n",
    "#create Home, Away, neutral indicator columns\n",
    "bdf = pd.get_dummies(bdf,prefix=['location'], columns = ['location'])\n",
    "#create homeTeam, awayTeam columns\n",
    "def addHomeTeamColumn(row):\n",
    "    if(row['location_Home'] == 1):\n",
    "        return row['team_name']\n",
    "    else:\n",
    "        return row['opponent_name']\n",
    "bdf['HomeTeam'] = bdf.apply(addHomeTeamColumn, axis=1)\n",
    "def addAwayTeamColumn(row):\n",
    "    if(row['location_Away'] == 1):\n",
    "        return row['team_name']\n",
    "    else:\n",
    "        return row['opponent_name']\n",
    "bdf['AwayTeam'] = bdf.apply(addAwayTeamColumn, axis=1)\n",
    "#add in \"HomePoints\" , AwayPoints\n",
    "def addHomePointsColumn(row):\n",
    "    if(row['location_Home'] == 1):\n",
    "        return row['points_for']\n",
    "    else:\n",
    "        return row['points_against']\n",
    "bdf['HomePoints'] = bdf.apply(addHomePointsColumn, axis=1)\n",
    "def addAwayPointsColumn(row):\n",
    "    if(row['location_Away'] == 1):\n",
    "        return row['points_for']\n",
    "    else:\n",
    "        return row['points_against']\n",
    "bdf['AwayPoints'] = bdf.apply(addAwayPointsColumn, axis=1)\n",
    "\n",
    "#neutral games; double them with swapped home and away\n",
    "selector_neut = {'date':'Date', 'team_name':'HomeTeam', 'opponent_name':'AwayTeam',\n",
    "              'points_for':'FTHG', 'points_against':'FTAG'}\n",
    "ndf = ndf.rename(columns=selector_neut)[selector_neut.values()]\n",
    "ndf.reset_index(inplace=True,drop=True)\n",
    "ndfd = replicateSwappingHomeAndAway(ndf)\n",
    "\n",
    "\n",
    "\n",
    "#just big ten conference games\n",
    "big10df = bdf.loc[(bdf[\"team_conference\"]=='big-ten')&\n",
    "                  (bdf['opponent_conference']=='Big Ten')]\n",
    "\n",
    "#rename columns\n",
    "selector_d = {'date':'Date', 'HomeTeam':'HomeTeam', 'AwayTeam':'AwayTeam',\n",
    "              'HomePoints':'FTHG', 'AwayPoints':'FTAG'}\n",
    "bdf = bdf.rename(columns=selector_d)[selector_d.values()]\n",
    "bdf.reset_index(inplace=True, drop=True)\n",
    "big10df = big10df.rename(columns=selector_d)[selector_d.values()]\n",
    "big10df.reset_index(inplace=True, drop=True)\n",
    "\n",
    "bdfd = replicateSwappingHomeAndAway(bdf)\n",
    "big10dfd = replicateSwappingHomeAndAway(big10df)\n",
    "bdfplusN = pd.concat([bdf,ndfd],axis=0)\n",
    "bdfplusN.reset_index(inplace=True, drop=True)\n",
    "\n",
    "bdf.head()\n",
    "\n",
    "\n"
   ]
  },
  {
   "cell_type": "code",
   "execution_count": 187,
   "metadata": {
    "collapsed": false
   },
   "outputs": [
    {
     "data": {
      "text/html": [
       "<div>\n",
       "<style scoped>\n",
       "    .dataframe tbody tr th:only-of-type {\n",
       "        vertical-align: middle;\n",
       "    }\n",
       "\n",
       "    .dataframe tbody tr th {\n",
       "        vertical-align: top;\n",
       "    }\n",
       "\n",
       "    .dataframe thead th {\n",
       "        text-align: right;\n",
       "    }\n",
       "</style>\n",
       "<table border=\"1\" class=\"dataframe\">\n",
       "  <thead>\n",
       "    <tr style=\"text-align: right;\">\n",
       "      <th></th>\n",
       "      <th>Date</th>\n",
       "      <th>HomeTeam</th>\n",
       "      <th>AwayTeam</th>\n",
       "      <th>FTHG</th>\n",
       "      <th>FTAG</th>\n",
       "    </tr>\n",
       "  </thead>\n",
       "  <tbody>\n",
       "    <tr>\n",
       "      <th>1607</th>\n",
       "      <td>Thu, Mar 10, 2022</td>\n",
       "      <td>Kansas</td>\n",
       "      <td>West Virginia</td>\n",
       "      <td>87.0</td>\n",
       "      <td>63.0</td>\n",
       "    </tr>\n",
       "    <tr>\n",
       "      <th>1608</th>\n",
       "      <td>Mon, Nov 22, 2021</td>\n",
       "      <td>Texas A&amp;M</td>\n",
       "      <td>Wisconsin</td>\n",
       "      <td>58.0</td>\n",
       "      <td>69.0</td>\n",
       "    </tr>\n",
       "    <tr>\n",
       "      <th>1609</th>\n",
       "      <td>Fri, Mar 11, 2022</td>\n",
       "      <td>Michigan State</td>\n",
       "      <td>Wisconsin</td>\n",
       "      <td>69.0</td>\n",
       "      <td>63.0</td>\n",
       "    </tr>\n",
       "    <tr>\n",
       "      <th>1610</th>\n",
       "      <td>Wed, Nov 24, 2021</td>\n",
       "      <td>Iowa State</td>\n",
       "      <td>Xavier</td>\n",
       "      <td>82.0</td>\n",
       "      <td>70.0</td>\n",
       "    </tr>\n",
       "    <tr>\n",
       "      <th>1611</th>\n",
       "      <td>Wed, Mar 9, 2022</td>\n",
       "      <td>Butler</td>\n",
       "      <td>Xavier</td>\n",
       "      <td>89.0</td>\n",
       "      <td>82.0</td>\n",
       "    </tr>\n",
       "  </tbody>\n",
       "</table>\n",
       "</div>"
      ],
      "text/plain": [
       "                   Date        HomeTeam       AwayTeam  FTHG  FTAG\n",
       "1607  Thu, Mar 10, 2022          Kansas  West Virginia  87.0  63.0\n",
       "1608  Mon, Nov 22, 2021       Texas A&M      Wisconsin  58.0  69.0\n",
       "1609  Fri, Mar 11, 2022  Michigan State      Wisconsin  69.0  63.0\n",
       "1610  Wed, Nov 24, 2021      Iowa State         Xavier  82.0  70.0\n",
       "1611   Wed, Mar 9, 2022          Butler         Xavier  89.0  82.0"
      ]
     },
     "execution_count": 187,
     "metadata": {},
     "output_type": "execute_result"
    }
   ],
   "source": [
    "bdfplusN.tail()"
   ]
  },
  {
   "cell_type": "code",
   "execution_count": 194,
   "metadata": {
    "collapsed": false
   },
   "outputs": [
    {
     "data": {
      "text/html": [
       "<div>\n",
       "<style scoped>\n",
       "    .dataframe tbody tr th:only-of-type {\n",
       "        vertical-align: middle;\n",
       "    }\n",
       "\n",
       "    .dataframe tbody tr th {\n",
       "        vertical-align: top;\n",
       "    }\n",
       "\n",
       "    .dataframe thead th {\n",
       "        text-align: right;\n",
       "    }\n",
       "</style>\n",
       "<table border=\"1\" class=\"dataframe\">\n",
       "  <thead>\n",
       "    <tr style=\"text-align: right;\">\n",
       "      <th></th>\n",
       "      <th>Date</th>\n",
       "      <th>HomeTeam</th>\n",
       "      <th>AwayTeam</th>\n",
       "      <th>FTHG</th>\n",
       "      <th>FTAG</th>\n",
       "    </tr>\n",
       "  </thead>\n",
       "  <tbody>\n",
       "    <tr>\n",
       "      <th>7</th>\n",
       "      <td>Mon, Nov 22, 2021</td>\n",
       "      <td>Arkansas</td>\n",
       "      <td>Kansas State</td>\n",
       "      <td>72.0</td>\n",
       "      <td>64.0</td>\n",
       "    </tr>\n",
       "    <tr>\n",
       "      <th>21</th>\n",
       "      <td>Mon, Nov 22, 2021</td>\n",
       "      <td>California</td>\n",
       "      <td>Florida</td>\n",
       "      <td>60.0</td>\n",
       "      <td>80.0</td>\n",
       "    </tr>\n",
       "    <tr>\n",
       "      <th>34</th>\n",
       "      <td>Mon, Nov 22, 2021</td>\n",
       "      <td>Florida</td>\n",
       "      <td>California</td>\n",
       "      <td>80.0</td>\n",
       "      <td>60.0</td>\n",
       "    </tr>\n",
       "    <tr>\n",
       "      <th>54</th>\n",
       "      <td>Mon, Nov 22, 2021</td>\n",
       "      <td>Kansas State</td>\n",
       "      <td>Arkansas</td>\n",
       "      <td>64.0</td>\n",
       "      <td>72.0</td>\n",
       "    </tr>\n",
       "    <tr>\n",
       "      <th>90</th>\n",
       "      <td>Mon, Nov 22, 2021</td>\n",
       "      <td>Northwestern</td>\n",
       "      <td>Providence</td>\n",
       "      <td>72.0</td>\n",
       "      <td>77.0</td>\n",
       "    </tr>\n",
       "    <tr>\n",
       "      <th>94</th>\n",
       "      <td>Mon, Nov 22, 2021</td>\n",
       "      <td>Ohio State</td>\n",
       "      <td>Seton Hall</td>\n",
       "      <td>79.0</td>\n",
       "      <td>76.0</td>\n",
       "    </tr>\n",
       "    <tr>\n",
       "      <th>109</th>\n",
       "      <td>Mon, Nov 22, 2021</td>\n",
       "      <td>Providence</td>\n",
       "      <td>Northwestern</td>\n",
       "      <td>77.0</td>\n",
       "      <td>72.0</td>\n",
       "    </tr>\n",
       "    <tr>\n",
       "      <th>118</th>\n",
       "      <td>Mon, Nov 22, 2021</td>\n",
       "      <td>Seton Hall</td>\n",
       "      <td>Ohio State</td>\n",
       "      <td>76.0</td>\n",
       "      <td>79.0</td>\n",
       "    </tr>\n",
       "    <tr>\n",
       "      <th>136</th>\n",
       "      <td>Mon, Nov 22, 2021</td>\n",
       "      <td>Texas A&amp;M</td>\n",
       "      <td>Wisconsin</td>\n",
       "      <td>58.0</td>\n",
       "      <td>69.0</td>\n",
       "    </tr>\n",
       "    <tr>\n",
       "      <th>174</th>\n",
       "      <td>Mon, Nov 22, 2021</td>\n",
       "      <td>Wisconsin</td>\n",
       "      <td>Texas A&amp;M</td>\n",
       "      <td>69.0</td>\n",
       "      <td>58.0</td>\n",
       "    </tr>\n",
       "    <tr>\n",
       "      <th>185</th>\n",
       "      <td>Mon, Nov 22, 2021</td>\n",
       "      <td>Kansas State</td>\n",
       "      <td>Arkansas</td>\n",
       "      <td>64.0</td>\n",
       "      <td>72.0</td>\n",
       "    </tr>\n",
       "    <tr>\n",
       "      <th>199</th>\n",
       "      <td>Mon, Nov 22, 2021</td>\n",
       "      <td>Florida</td>\n",
       "      <td>California</td>\n",
       "      <td>80.0</td>\n",
       "      <td>60.0</td>\n",
       "    </tr>\n",
       "    <tr>\n",
       "      <th>212</th>\n",
       "      <td>Mon, Nov 22, 2021</td>\n",
       "      <td>California</td>\n",
       "      <td>Florida</td>\n",
       "      <td>60.0</td>\n",
       "      <td>80.0</td>\n",
       "    </tr>\n",
       "    <tr>\n",
       "      <th>232</th>\n",
       "      <td>Mon, Nov 22, 2021</td>\n",
       "      <td>Arkansas</td>\n",
       "      <td>Kansas State</td>\n",
       "      <td>72.0</td>\n",
       "      <td>64.0</td>\n",
       "    </tr>\n",
       "    <tr>\n",
       "      <th>268</th>\n",
       "      <td>Mon, Nov 22, 2021</td>\n",
       "      <td>Providence</td>\n",
       "      <td>Northwestern</td>\n",
       "      <td>77.0</td>\n",
       "      <td>72.0</td>\n",
       "    </tr>\n",
       "    <tr>\n",
       "      <th>272</th>\n",
       "      <td>Mon, Nov 22, 2021</td>\n",
       "      <td>Seton Hall</td>\n",
       "      <td>Ohio State</td>\n",
       "      <td>76.0</td>\n",
       "      <td>79.0</td>\n",
       "    </tr>\n",
       "    <tr>\n",
       "      <th>287</th>\n",
       "      <td>Mon, Nov 22, 2021</td>\n",
       "      <td>Northwestern</td>\n",
       "      <td>Providence</td>\n",
       "      <td>72.0</td>\n",
       "      <td>77.0</td>\n",
       "    </tr>\n",
       "    <tr>\n",
       "      <th>296</th>\n",
       "      <td>Mon, Nov 22, 2021</td>\n",
       "      <td>Ohio State</td>\n",
       "      <td>Seton Hall</td>\n",
       "      <td>79.0</td>\n",
       "      <td>76.0</td>\n",
       "    </tr>\n",
       "    <tr>\n",
       "      <th>314</th>\n",
       "      <td>Mon, Nov 22, 2021</td>\n",
       "      <td>Wisconsin</td>\n",
       "      <td>Texas A&amp;M</td>\n",
       "      <td>69.0</td>\n",
       "      <td>58.0</td>\n",
       "    </tr>\n",
       "    <tr>\n",
       "      <th>352</th>\n",
       "      <td>Mon, Nov 22, 2021</td>\n",
       "      <td>Texas A&amp;M</td>\n",
       "      <td>Wisconsin</td>\n",
       "      <td>58.0</td>\n",
       "      <td>69.0</td>\n",
       "    </tr>\n",
       "  </tbody>\n",
       "</table>\n",
       "</div>"
      ],
      "text/plain": [
       "                  Date      HomeTeam      AwayTeam  FTHG  FTAG\n",
       "7    Mon, Nov 22, 2021      Arkansas  Kansas State  72.0  64.0\n",
       "21   Mon, Nov 22, 2021    California       Florida  60.0  80.0\n",
       "34   Mon, Nov 22, 2021       Florida    California  80.0  60.0\n",
       "54   Mon, Nov 22, 2021  Kansas State      Arkansas  64.0  72.0\n",
       "90   Mon, Nov 22, 2021  Northwestern    Providence  72.0  77.0\n",
       "94   Mon, Nov 22, 2021    Ohio State    Seton Hall  79.0  76.0\n",
       "109  Mon, Nov 22, 2021    Providence  Northwestern  77.0  72.0\n",
       "118  Mon, Nov 22, 2021    Seton Hall    Ohio State  76.0  79.0\n",
       "136  Mon, Nov 22, 2021     Texas A&M     Wisconsin  58.0  69.0\n",
       "174  Mon, Nov 22, 2021     Wisconsin     Texas A&M  69.0  58.0\n",
       "185  Mon, Nov 22, 2021  Kansas State      Arkansas  64.0  72.0\n",
       "199  Mon, Nov 22, 2021       Florida    California  80.0  60.0\n",
       "212  Mon, Nov 22, 2021    California       Florida  60.0  80.0\n",
       "232  Mon, Nov 22, 2021      Arkansas  Kansas State  72.0  64.0\n",
       "268  Mon, Nov 22, 2021    Providence  Northwestern  77.0  72.0\n",
       "272  Mon, Nov 22, 2021    Seton Hall    Ohio State  76.0  79.0\n",
       "287  Mon, Nov 22, 2021  Northwestern    Providence  72.0  77.0\n",
       "296  Mon, Nov 22, 2021    Ohio State    Seton Hall  79.0  76.0\n",
       "314  Mon, Nov 22, 2021     Wisconsin     Texas A&M  69.0  58.0\n",
       "352  Mon, Nov 22, 2021     Texas A&M     Wisconsin  58.0  69.0"
      ]
     },
     "execution_count": 194,
     "metadata": {},
     "output_type": "execute_result"
    }
   ],
   "source": [
    "ndfd[ndfd['Date']=='Mon, Nov 22, 2021']"
   ]
  },
  {
   "cell_type": "code",
   "execution_count": 175,
   "metadata": {
    "collapsed": false
   },
   "outputs": [
    {
     "data": {
      "text/plain": [
       "1256"
      ]
     },
     "execution_count": 175,
     "metadata": {},
     "output_type": "execute_result"
    }
   ],
   "source": [
    "len(bdf.index)"
   ]
  },
  {
   "cell_type": "code",
   "execution_count": 178,
   "metadata": {
    "collapsed": false
   },
   "outputs": [
    {
     "data": {
      "text/plain": [
       "[178, 'Fri, Mar 11, 2022']"
      ]
     },
     "execution_count": 178,
     "metadata": {},
     "output_type": "execute_result"
    }
   ],
   "source": [
    "[len(ndf.index),ndf.date.min()]"
   ]
  },
  {
   "cell_type": "code",
   "execution_count": 117,
   "metadata": {
    "collapsed": false
   },
   "outputs": [
    {
     "data": {
      "text/plain": [
       "[1798, 3596]"
      ]
     },
     "execution_count": 117,
     "metadata": {},
     "output_type": "execute_result"
    }
   ],
   "source": [
    "[len(bdf.index),len(bdfd.index)]"
   ]
  },
  {
   "cell_type": "code",
   "execution_count": 6,
   "metadata": {
    "collapsed": false
   },
   "outputs": [
    {
     "data": {
      "text/plain": [
       "Index(['Date', 'HomeTeam', 'AwayTeam', 'FTHG', 'FTAG'], dtype='object')"
      ]
     },
     "execution_count": 6,
     "metadata": {},
     "output_type": "execute_result"
    }
   ],
   "source": [
    "bdf.columns"
   ]
  },
  {
   "cell_type": "code",
   "execution_count": 132,
   "metadata": {
    "collapsed": false
   },
   "outputs": [
    {
     "data": {
      "text/plain": [
       "[24, 24]"
      ]
     },
     "execution_count": 132,
     "metadata": {},
     "output_type": "execute_result"
    }
   ],
   "source": [
    "[len(bdfd.HomeTeam.unique()),len(bdfd.AwayTeam.unique())]"
   ]
  },
  {
   "cell_type": "code",
   "execution_count": 33,
   "metadata": {
    "collapsed": false
   },
   "outputs": [
    {
     "data": {
      "text/plain": [
       "[14, 14]"
      ]
     },
     "execution_count": 33,
     "metadata": {},
     "output_type": "execute_result"
    }
   ],
   "source": [
    "[len(big10df.HomeTeam.unique()),len(big10df.AwayTeam.unique())]"
   ]
  },
  {
   "cell_type": "code",
   "execution_count": 24,
   "metadata": {
    "collapsed": false
   },
   "outputs": [
    {
     "data": {
      "text/plain": [
       "98"
      ]
     },
     "execution_count": 24,
     "metadata": {},
     "output_type": "execute_result"
    }
   ],
   "source": [
    "len(list(set(bdf.HomeTeam.unique().tolist()).union(set(bdf.AwayTeam.unique().tolist()))))"
   ]
  },
  {
   "cell_type": "code",
   "execution_count": 85,
   "metadata": {
    "collapsed": true
   },
   "outputs": [],
   "source": [
    "def transformData(data):\n",
    "    pl_data = data\n",
    "\n",
    "    ng = len(pl_data)  # number of games\n",
    "    npr = 45  # predict the last 5 rounds of games\n",
    "    ngob = ng - npr  # number of games to train\n",
    "\n",
    "    pl_data = pl_data.rename(columns={\"FTHG\": \"score1\",\"FTAG\":\"score2\",\n",
    "                            \"HomeTeam\":\"Home\",\"AwayTeam\":\"Away\"})\n",
    "\n",
    "    #teams = pl_data[\"Home\"].unique()\n",
    "    teams = list(set(pl_data.Home.unique().tolist()).union(set(pl_data.Away.unique().tolist())))\n",
    "    teams = pd.DataFrame(teams, columns=[\"Team\"])\n",
    "    teams[\"i\"] = teams.index\n",
    "\n",
    "    df = pd.merge(pl_data, teams, left_on=\"Home\", right_on=\"Team\", how=\"left\")\n",
    "    df = df.rename(columns={\"i\": \"Home_id\"}).drop(\"Team\", axis=1)\n",
    "    df = pd.merge(df, teams, left_on=\"Away\", right_on=\"Team\", how=\"left\")\n",
    "    df = df.rename(columns={\"i\": \"Away_id\"}).drop(\"Team\", axis=1)\n",
    "\n",
    "    print(df.head())\n",
    "\n",
    "    return teams, df\n"
   ]
  },
  {
   "cell_type": "code",
   "execution_count": 202,
   "metadata": {
    "collapsed": false,
    "scrolled": true
   },
   "outputs": [
    {
     "name": "stdout",
     "output_type": "stream",
     "text": [
      "                Date               Home       Away  score1  score2  Home_id  \\\n",
      "0  Wed, Dec 29, 2021            Alabama  Tennessee    73.0    68.0       41   \n",
      "1   Wed, Jan 5, 2022            Florida    Alabama    70.0    83.0       43   \n",
      "2   Sat, Jan 8, 2022           Missouri    Alabama    92.0    86.0       35   \n",
      "3  Tue, Jan 11, 2022            Alabama     Auburn    77.0    81.0       41   \n",
      "4  Sat, Jan 15, 2022  Mississippi State    Alabama    78.0    76.0        0   \n",
      "\n",
      "   Away_id  \n",
      "0       18  \n",
      "1       41  \n",
      "2       41  \n",
      "3        2  \n",
      "4       41  \n"
     ]
    }
   ],
   "source": [
    "tt,dd = transformData(bdfplusN)"
   ]
  },
  {
   "cell_type": "code",
   "execution_count": 149,
   "metadata": {
    "collapsed": false
   },
   "outputs": [
    {
     "data": {
      "text/html": [
       "<div>\n",
       "<style scoped>\n",
       "    .dataframe tbody tr th:only-of-type {\n",
       "        vertical-align: middle;\n",
       "    }\n",
       "\n",
       "    .dataframe tbody tr th {\n",
       "        vertical-align: top;\n",
       "    }\n",
       "\n",
       "    .dataframe thead th {\n",
       "        text-align: right;\n",
       "    }\n",
       "</style>\n",
       "<table border=\"1\" class=\"dataframe\">\n",
       "  <thead>\n",
       "    <tr style=\"text-align: right;\">\n",
       "      <th></th>\n",
       "      <th>Team</th>\n",
       "      <th>i</th>\n",
       "    </tr>\n",
       "  </thead>\n",
       "  <tbody>\n",
       "    <tr>\n",
       "      <th>0</th>\n",
       "      <td>Virginia</td>\n",
       "      <td>0</td>\n",
       "    </tr>\n",
       "    <tr>\n",
       "      <th>1</th>\n",
       "      <td>Mississippi State</td>\n",
       "      <td>1</td>\n",
       "    </tr>\n",
       "    <tr>\n",
       "      <th>2</th>\n",
       "      <td>Colorado</td>\n",
       "      <td>2</td>\n",
       "    </tr>\n",
       "    <tr>\n",
       "      <th>3</th>\n",
       "      <td>Marquette</td>\n",
       "      <td>3</td>\n",
       "    </tr>\n",
       "    <tr>\n",
       "      <th>4</th>\n",
       "      <td>Auburn</td>\n",
       "      <td>4</td>\n",
       "    </tr>\n",
       "    <tr>\n",
       "      <th>...</th>\n",
       "      <td>...</td>\n",
       "      <td>...</td>\n",
       "    </tr>\n",
       "    <tr>\n",
       "      <th>71</th>\n",
       "      <td>Nebraska</td>\n",
       "      <td>71</td>\n",
       "    </tr>\n",
       "    <tr>\n",
       "      <th>72</th>\n",
       "      <td>Utah</td>\n",
       "      <td>72</td>\n",
       "    </tr>\n",
       "    <tr>\n",
       "      <th>73</th>\n",
       "      <td>Kansas</td>\n",
       "      <td>73</td>\n",
       "    </tr>\n",
       "    <tr>\n",
       "      <th>74</th>\n",
       "      <td>Wake Forest</td>\n",
       "      <td>74</td>\n",
       "    </tr>\n",
       "    <tr>\n",
       "      <th>75</th>\n",
       "      <td>Florida State</td>\n",
       "      <td>75</td>\n",
       "    </tr>\n",
       "  </tbody>\n",
       "</table>\n",
       "<p>76 rows × 2 columns</p>\n",
       "</div>"
      ],
      "text/plain": [
       "                 Team   i\n",
       "0            Virginia   0\n",
       "1   Mississippi State   1\n",
       "2            Colorado   2\n",
       "3           Marquette   3\n",
       "4              Auburn   4\n",
       "..                ...  ..\n",
       "71           Nebraska  71\n",
       "72               Utah  72\n",
       "73             Kansas  73\n",
       "74        Wake Forest  74\n",
       "75      Florida State  75\n",
       "\n",
       "[76 rows x 2 columns]"
      ]
     },
     "execution_count": 149,
     "metadata": {},
     "output_type": "execute_result"
    }
   ],
   "source": [
    "tt"
   ]
  },
  {
   "cell_type": "code",
   "execution_count": 95,
   "metadata": {
    "collapsed": false
   },
   "outputs": [
    {
     "data": {
      "text/plain": [
       "count    560.000000\n",
       "mean      70.792857\n",
       "std       10.745051\n",
       "min       45.000000\n",
       "25%       64.000000\n",
       "50%       70.000000\n",
       "75%       78.000000\n",
       "max      110.000000\n",
       "Name: score1, dtype: float64"
      ]
     },
     "execution_count": 95,
     "metadata": {},
     "output_type": "execute_result"
    }
   ],
   "source": [
    "dd.score1.describe()"
   ]
  },
  {
   "cell_type": "code",
   "execution_count": 96,
   "metadata": {
    "collapsed": false
   },
   "outputs": [
    {
     "data": {
      "text/plain": [
       "[14, 560, 560, 14, 14]"
      ]
     },
     "execution_count": 96,
     "metadata": {},
     "output_type": "execute_result"
    }
   ],
   "source": [
    "h_id = torch.tensor(dd[\"Home_id\"])\n",
    "a_id = torch.tensor(dd[\"Away_id\"])\n",
    "\n",
    "\n",
    "[len(list(set(h_id.unique().tolist()).union(set(a_id.unique().tolist())))),len(h_id),len(a_id)\n",
    ",len(h_id.unique()),len(a_id.unique()) ]"
   ]
  },
  {
   "cell_type": "code",
   "execution_count": 97,
   "metadata": {
    "collapsed": true
   },
   "outputs": [],
   "source": [
    "class FoldedTransform(dist.transforms.AbsTransform):\n",
    "    def log_abs_det_jacobian(self, x, y):\n",
    "        return torch.zeros_like(x)\n",
    "\n",
    "def model(home_id, away_id, score1_obs=None, score2_obs=None):\n",
    "    # hyperpriors\n",
    "    alpha = pyro.sample(\"alpha\", dist.Normal(0.0, 1.0))\n",
    "    sd_att = pyro.sample(\"sd_att\", dist.TransformedDistribution(dist.StudentT(3.0, 0.0, 4), FoldedTransform()))\n",
    "    sd_def = pyro.sample(\"sd_def\", dist.TransformedDistribution(dist.StudentT(3.0, 0.0, 4), FoldedTransform()))\n",
    "    #student t: degrees of freedom, mean, width\n",
    "    #started with width = 2.5\n",
    "    home = pyro.sample(\"home\", dist.Normal(0.0, 2.0))  # home advantage\n",
    "    #started with 1.0 for std\n",
    "\n",
    "    #this has to be the number of teams!!! \n",
    "    #nt = len(np.unique(home_id))\n",
    "    nt = len(list(set(np.unique(home_id).tolist()).union(set(np.unique(away_id).tolist()))))\n",
    "\n",
    "\n",
    "    # team-specific model parameters\n",
    "    with pyro.plate(\"plate_teams\", nt):\n",
    "        attack = pyro.sample(\"attack\", dist.Normal(0, sd_att))\n",
    "        defend = pyro.sample(\"defend\", dist.Normal(0, sd_def))\n",
    "\n",
    "    # likelihood\n",
    "    theta1 = torch.exp(alpha + home + attack[home_id] - defend[away_id])\n",
    "    theta2 = torch.exp(alpha + attack[away_id] - defend[home_id])\n",
    "\n",
    "    with pyro.plate(\"data\", len(home_id)):\n",
    "        pyro.sample(\"s1\", dist.Poisson(theta1), obs=score1_obs)\n",
    "        pyro.sample(\"s2\", dist.Poisson(theta2), obs=score2_obs)\n",
    "\n",
    "def guide(home_id, away_id, score1_obs=None, score2_obs=None):\n",
    "    mu_locs = pyro.param(\"mu_loc\", torch.tensor(0.0).expand(4))\n",
    "    mu_scales = pyro.param(\"mu_scale\", torch.tensor(0.1).expand(4), constraint=constraints.positive)\n",
    "\n",
    "    pyro.sample(\"alpha\", dist.Normal(mu_locs[0], mu_scales[0]))\n",
    "    pyro.sample(\"sd_att\", dist.LogNormal(mu_locs[1], mu_scales[1]))\n",
    "    pyro.sample(\"sd_def\", dist.LogNormal(mu_locs[2], mu_scales[2]))\n",
    "    pyro.sample(\"home\", dist.Normal(mu_locs[3], mu_scales[3]))  # home advantage\n",
    "\n",
    "    nt = len(list(set(np.unique(home_id).tolist()).union(set(np.unique(away_id).tolist()))))\n",
    "    #nt = len(np.unique(home_id))\n",
    "    #print(\"number of teams: \", nt)\n",
    "\n",
    "    mu_team_locs = pyro.param(\"mu_team_loc\", torch.tensor(0.0).expand(2, nt))\n",
    "    mu_team_scales = pyro.param(\"mu_team_scale\", torch.tensor(0.1).expand(2, nt), constraint=constraints.positive)\n",
    "\n",
    "    with pyro.plate(\"plate_teams\", nt):\n",
    "        pyro.sample(\"attack\", dist.Normal(mu_team_locs[0], mu_team_scales[0]))\n",
    "        pyro.sample(\"defend\", dist.Normal(mu_team_locs[1], mu_team_scales[1]))\n",
    "\n",
    "def run_inference(model, guide, home_id, away_id, score1, score2, args):\n",
    "    gamma = 0.01  # final learning rate will be gamma * initial_lr\n",
    "    lrd = gamma ** (1 / args.num_iterations)\n",
    "\n",
    "    svi = SVI(\n",
    "        model=model,\n",
    "        guide=guide,\n",
    "        optim=ClippedAdam({\"lr\": args.learning_rate, \"lrd\": lrd}),\n",
    "        loss=Trace_ELBO(num_particles=args.num_particles),\n",
    "    )\n",
    "\n",
    "    pyro.clear_param_store()  # clear global parameter cache\n",
    "    pyro.set_rng_seed(args.rng_seed)\n",
    "\n",
    "    advi_loss = []\n",
    "    for j in range(args.num_iterations):\n",
    "        # calculate the loss and take a gradient step\n",
    "        loss = svi.step(\n",
    "            home_id=home_id,\n",
    "            away_id=away_id,\n",
    "            score1_obs=score1.float(),\n",
    "            score2_obs=score2.float(),\n",
    "        )\n",
    "        advi_loss.append(loss)\n",
    "        if j % 100 == 0:\n",
    "            print(\"[iteration %4d] loss: %.4f\" % (j + 1, loss))\n",
    "\n",
    "    print(\"Posterior: \")\n",
    "    for i in pyro.get_param_store().items():\n",
    "        print(i)\n",
    "\n",
    "    fit = Predictive(model=model, guide=guide, num_samples=2000)(\n",
    "        home_id=home_id, away_id=away_id\n",
    "    )\n",
    "\n",
    "    return fit\n",
    "\n",
    "def runThePyroFit(data,args):\n",
    "    print(\"transforming data...\")\n",
    "    teams, df =  transformData(data)\n",
    "    #train = df[df[\"split\"] == \"train\"]\n",
    "    train = df\n",
    "\n",
    "    print(\"Starting inference...\")\n",
    "    fit = run_inference(\n",
    "        model,\n",
    "        guide,\n",
    "        torch.tensor(train[\"Home_id\"]),\n",
    "        torch.tensor(train[\"Away_id\"]),\n",
    "        torch.tensor(train[\"score1\"]),\n",
    "        torch.tensor(train[\"score2\"]),\n",
    "        args,\n",
    "    )\n",
    "    return fit,teams,df,train\n",
    "\n",
    "#def runThePyroCodeRest(data,args,fit):\n",
    "def runThePyroCodeRest(fit,teams,df,train):\n",
    "#    print(\"transforming data...\")\n",
    "#    teams, df =  transformData(data)\n",
    "#    train = df[df[\"split\"] == \"train\"]\n",
    "\n",
    "#    print(\"Starting inference...\")\n",
    "#    fit = run_inference(\n",
    "#        model,\n",
    "#        guide,\n",
    "#        torch.tensor(train[\"Home_id\"]),\n",
    "#        torch.tensor(train[\"Away_id\"]),\n",
    "#        torch.tensor(train[\"score1\"]),\n",
    "#        torch.tensor(train[\"score2\"]),\n",
    "#        args,\n",
    "#    )\n",
    "\n",
    "    print(\"Analyse posterior...\")\n",
    "\n",
    "\n",
    "    # Predicted goals and table\n",
    "    #predict = df[df[\"split\"] == \"predict\"]\n",
    "    predict = predictDF\n",
    "    #print(\"this many home_ids: \" , predict.Home_id.unique())\n",
    "\n",
    "    predictive = Predictive(\n",
    "        model=model, guide=guide, num_samples=2000, return_sites=[\"s1\", \"s2\"]\n",
    "    )\n",
    " \n",
    "    predicted_score = predictive(\n",
    "        home_id=predict[\"Home_id\"].values,\n",
    "        away_id=predict[\"Away_id\"].values,\n",
    "    )\n",
    "\n",
    "    predicted_full = predict.copy()\n",
    "    predicted_full = predicted_full.assign(\n",
    "        score1=predicted_score[\"s1\"].mean(axis=0).round(),\n",
    "        score1error=predicted_score[\"s1\"].std(axis=0),\n",
    "        score2=predicted_score[\"s2\"].mean(axis=0).round(),\n",
    "        score2error=predicted_score[\"s2\"].std(axis=0),\n",
    "    )\n",
    "\n",
    "    predicted_full = train.append(\n",
    "        predicted_full.drop(columns=[\"score1error\", \"score2error\"])\n",
    "    )\n",
    "\n",
    "    print(score_table(df))\n",
    "    print(score_table(predicted_full))\n",
    "\n",
    "def qualityCalc(fit,teams,df,train):\n",
    "    # Attack and defence\n",
    "    quality = teams.copy()\n",
    "\n",
    "    quality = quality.assign(\n",
    "        attack=fit[\"attack\"].mean(axis=0),\n",
    "        attacksd=fit[\"attack\"].std(axis=0),\n",
    "        defend=fit[\"defend\"].mean(axis=0),\n",
    "        defendsd=fit[\"defend\"].std(axis=0),\n",
    "    )\n",
    "    quality = quality.assign(\n",
    "        attack_low=quality[\"attack\"] - quality[\"attacksd\"],\n",
    "        attack_high=quality[\"attack\"] + quality[\"attacksd\"],\n",
    "        defend_low=quality[\"defend\"] - quality[\"defendsd\"],\n",
    "        defend_high=quality[\"defend\"] + quality[\"defendsd\"],\n",
    "    )\n",
    "    #gotta debug this\n",
    "    return quality\n",
    "\n",
    "\n"
   ]
  },
  {
   "cell_type": "code",
   "execution_count": 203,
   "metadata": {
    "collapsed": false,
    "scrolled": true
   },
   "outputs": [
    {
     "name": "stdout",
     "output_type": "stream",
     "text": [
      "transforming data...\n",
      "                Date               Home       Away  score1  score2  Home_id  \\\n",
      "0  Wed, Dec 29, 2021            Alabama  Tennessee    73.0    68.0       41   \n",
      "1   Wed, Jan 5, 2022            Florida    Alabama    70.0    83.0       43   \n",
      "2   Sat, Jan 8, 2022           Missouri    Alabama    92.0    86.0       35   \n",
      "3  Tue, Jan 11, 2022            Alabama     Auburn    77.0    81.0       41   \n",
      "4  Sat, Jan 15, 2022  Mississippi State    Alabama    78.0    76.0        0   \n",
      "\n",
      "   Away_id  \n",
      "0       18  \n",
      "1       41  \n",
      "2       41  \n",
      "3        2  \n",
      "4       41  \n",
      "Starting inference...\n"
     ]
    },
    {
     "ename": "ValueError",
     "evalue": "Error while computing log_prob at site 's1':\nExpected value argument (Tensor of shape (1278,)) to be within the support (IntegerGreaterThan(lower_bound=0)) of the distribution Poisson(rate: torch.Size([1278])), but found invalid values:\ntensor([73., 70., 92.,  ..., 69., 82., 89.])\nTrace Shapes:       \n Param Sites:       \nSample Sites:       \n   alpha dist      |\n        value      |\n     log_prob      |\n  sd_att dist      |\n        value      |\n     log_prob      |\n  sd_def dist      |\n        value      |\n     log_prob      |\n    home dist      |\n        value      |\n     log_prob      |\n  attack dist   49 |\n        value   49 |\n     log_prob   49 |\n  defend dist   49 |\n        value   49 |\n     log_prob   49 |\n      s1 dist 1278 |\n        value 1278 |",
     "output_type": "error",
     "traceback": [
      "\u001b[0;31m---------------------------------------------------------------------------\u001b[0m",
      "\u001b[0;31mValueError\u001b[0m                                Traceback (most recent call last)",
      "\u001b[0;32m~/.local/lib/python3.9/site-packages/pyro/poutine/trace_struct.py\u001b[0m in \u001b[0;36mcompute_log_prob\u001b[0;34m(self, site_filter)\u001b[0m\n\u001b[1;32m    229\u001b[0m                     \u001b[0;32mtry\u001b[0m\u001b[0;34m:\u001b[0m\u001b[0;34m\u001b[0m\u001b[0;34m\u001b[0m\u001b[0m\n\u001b[0;32m--> 230\u001b[0;31m                         log_p = site[\"fn\"].log_prob(\n\u001b[0m\u001b[1;32m    231\u001b[0m                             \u001b[0msite\u001b[0m\u001b[0;34m[\u001b[0m\u001b[0;34m\"value\"\u001b[0m\u001b[0;34m]\u001b[0m\u001b[0;34m,\u001b[0m \u001b[0;34m*\u001b[0m\u001b[0msite\u001b[0m\u001b[0;34m[\u001b[0m\u001b[0;34m\"args\"\u001b[0m\u001b[0;34m]\u001b[0m\u001b[0;34m,\u001b[0m \u001b[0;34m**\u001b[0m\u001b[0msite\u001b[0m\u001b[0;34m[\u001b[0m\u001b[0;34m\"kwargs\"\u001b[0m\u001b[0;34m]\u001b[0m\u001b[0;34m\u001b[0m\u001b[0;34m\u001b[0m\u001b[0m\n",
      "\u001b[0;32m~/.local/lib/python3.9/site-packages/pyro/distributions/torch.py\u001b[0m in \u001b[0;36mlog_prob\u001b[0;34m(self, value)\u001b[0m\n\u001b[1;32m    262\u001b[0m         \u001b[0;32mif\u001b[0m \u001b[0;32mnot\u001b[0m \u001b[0mself\u001b[0m\u001b[0;34m.\u001b[0m\u001b[0mis_sparse\u001b[0m\u001b[0;34m:\u001b[0m\u001b[0;34m\u001b[0m\u001b[0;34m\u001b[0m\u001b[0m\n\u001b[0;32m--> 263\u001b[0;31m             \u001b[0;32mreturn\u001b[0m \u001b[0msuper\u001b[0m\u001b[0;34m(\u001b[0m\u001b[0;34m)\u001b[0m\u001b[0;34m.\u001b[0m\u001b[0mlog_prob\u001b[0m\u001b[0;34m(\u001b[0m\u001b[0mvalue\u001b[0m\u001b[0;34m)\u001b[0m\u001b[0;34m\u001b[0m\u001b[0;34m\u001b[0m\u001b[0m\n\u001b[0m\u001b[1;32m    264\u001b[0m         \u001b[0;32mif\u001b[0m \u001b[0mself\u001b[0m\u001b[0;34m.\u001b[0m\u001b[0m_validate_args\u001b[0m\u001b[0;34m:\u001b[0m\u001b[0;34m\u001b[0m\u001b[0;34m\u001b[0m\u001b[0m\n",
      "\u001b[0;32m~/.local/lib/python3.9/site-packages/torch/distributions/poisson.py\u001b[0m in \u001b[0;36mlog_prob\u001b[0;34m(self, value)\u001b[0m\n\u001b[1;32m     60\u001b[0m         \u001b[0;32mif\u001b[0m \u001b[0mself\u001b[0m\u001b[0;34m.\u001b[0m\u001b[0m_validate_args\u001b[0m\u001b[0;34m:\u001b[0m\u001b[0;34m\u001b[0m\u001b[0;34m\u001b[0m\u001b[0m\n\u001b[0;32m---> 61\u001b[0;31m             \u001b[0mself\u001b[0m\u001b[0;34m.\u001b[0m\u001b[0m_validate_sample\u001b[0m\u001b[0;34m(\u001b[0m\u001b[0mvalue\u001b[0m\u001b[0;34m)\u001b[0m\u001b[0;34m\u001b[0m\u001b[0;34m\u001b[0m\u001b[0m\n\u001b[0m\u001b[1;32m     62\u001b[0m         \u001b[0mrate\u001b[0m\u001b[0;34m,\u001b[0m \u001b[0mvalue\u001b[0m \u001b[0;34m=\u001b[0m \u001b[0mbroadcast_all\u001b[0m\u001b[0;34m(\u001b[0m\u001b[0mself\u001b[0m\u001b[0;34m.\u001b[0m\u001b[0mrate\u001b[0m\u001b[0;34m,\u001b[0m \u001b[0mvalue\u001b[0m\u001b[0;34m)\u001b[0m\u001b[0;34m\u001b[0m\u001b[0;34m\u001b[0m\u001b[0m\n",
      "\u001b[0;32m~/.local/lib/python3.9/site-packages/torch/distributions/distribution.py\u001b[0m in \u001b[0;36m_validate_sample\u001b[0;34m(self, value)\u001b[0m\n\u001b[1;32m    287\u001b[0m         \u001b[0;32mif\u001b[0m \u001b[0;32mnot\u001b[0m \u001b[0mvalid\u001b[0m\u001b[0;34m.\u001b[0m\u001b[0mall\u001b[0m\u001b[0;34m(\u001b[0m\u001b[0;34m)\u001b[0m\u001b[0;34m:\u001b[0m\u001b[0;34m\u001b[0m\u001b[0;34m\u001b[0m\u001b[0m\n\u001b[0;32m--> 288\u001b[0;31m             raise ValueError(\n\u001b[0m\u001b[1;32m    289\u001b[0m                 \u001b[0;34m\"Expected value argument \"\u001b[0m\u001b[0;34m\u001b[0m\u001b[0;34m\u001b[0m\u001b[0m\n",
      "\u001b[0;31mValueError\u001b[0m: Expected value argument (Tensor of shape (1278,)) to be within the support (IntegerGreaterThan(lower_bound=0)) of the distribution Poisson(rate: torch.Size([1278])), but found invalid values:\ntensor([73., 70., 92.,  ..., 69., 82., 89.])",
      "\nThe above exception was the direct cause of the following exception:\n",
      "\u001b[0;31mValueError\u001b[0m                                Traceback (most recent call last)",
      "\u001b[0;32m<ipython-input-203-1e3bd5c5a4f2>\u001b[0m in \u001b[0;36m<module>\u001b[0;34m\u001b[0m\n\u001b[1;32m      6\u001b[0m \u001b[0;34m\u001b[0m\u001b[0m\n\u001b[1;32m      7\u001b[0m \u001b[0margs\u001b[0m\u001b[0;34m=\u001b[0m\u001b[0mArgs\u001b[0m\u001b[0;34m(\u001b[0m\u001b[0;34m)\u001b[0m\u001b[0;34m\u001b[0m\u001b[0;34m\u001b[0m\u001b[0m\n\u001b[0;32m----> 8\u001b[0;31m \u001b[0mfit\u001b[0m\u001b[0;34m,\u001b[0m\u001b[0mteams\u001b[0m\u001b[0;34m,\u001b[0m\u001b[0mdf\u001b[0m\u001b[0;34m,\u001b[0m\u001b[0mtrain\u001b[0m \u001b[0;34m=\u001b[0m \u001b[0mrunThePyroFit\u001b[0m\u001b[0;34m(\u001b[0m\u001b[0mbdfplusN\u001b[0m\u001b[0;34m,\u001b[0m\u001b[0margs\u001b[0m\u001b[0;34m)\u001b[0m\u001b[0;34m\u001b[0m\u001b[0;34m\u001b[0m\u001b[0m\n\u001b[0m",
      "\u001b[0;32m<ipython-input-97-bc4cbf7d4d94>\u001b[0m in \u001b[0;36mrunThePyroFit\u001b[0;34m(data, args)\u001b[0m\n\u001b[1;32m     95\u001b[0m \u001b[0;34m\u001b[0m\u001b[0m\n\u001b[1;32m     96\u001b[0m     \u001b[0mprint\u001b[0m\u001b[0;34m(\u001b[0m\u001b[0;34m\"Starting inference...\"\u001b[0m\u001b[0;34m)\u001b[0m\u001b[0;34m\u001b[0m\u001b[0;34m\u001b[0m\u001b[0m\n\u001b[0;32m---> 97\u001b[0;31m     fit = run_inference(\n\u001b[0m\u001b[1;32m     98\u001b[0m         \u001b[0mmodel\u001b[0m\u001b[0;34m,\u001b[0m\u001b[0;34m\u001b[0m\u001b[0;34m\u001b[0m\u001b[0m\n\u001b[1;32m     99\u001b[0m         \u001b[0mguide\u001b[0m\u001b[0;34m,\u001b[0m\u001b[0;34m\u001b[0m\u001b[0;34m\u001b[0m\u001b[0m\n",
      "\u001b[0;32m<ipython-input-97-bc4cbf7d4d94>\u001b[0m in \u001b[0;36mrun_inference\u001b[0;34m(model, guide, home_id, away_id, score1, score2, args)\u001b[0m\n\u001b[1;32m     68\u001b[0m     \u001b[0;32mfor\u001b[0m \u001b[0mj\u001b[0m \u001b[0;32min\u001b[0m \u001b[0mrange\u001b[0m\u001b[0;34m(\u001b[0m\u001b[0margs\u001b[0m\u001b[0;34m.\u001b[0m\u001b[0mnum_iterations\u001b[0m\u001b[0;34m)\u001b[0m\u001b[0;34m:\u001b[0m\u001b[0;34m\u001b[0m\u001b[0;34m\u001b[0m\u001b[0m\n\u001b[1;32m     69\u001b[0m         \u001b[0;31m# calculate the loss and take a gradient step\u001b[0m\u001b[0;34m\u001b[0m\u001b[0;34m\u001b[0m\u001b[0;34m\u001b[0m\u001b[0m\n\u001b[0;32m---> 70\u001b[0;31m         loss = svi.step(\n\u001b[0m\u001b[1;32m     71\u001b[0m             \u001b[0mhome_id\u001b[0m\u001b[0;34m=\u001b[0m\u001b[0mhome_id\u001b[0m\u001b[0;34m,\u001b[0m\u001b[0;34m\u001b[0m\u001b[0;34m\u001b[0m\u001b[0m\n\u001b[1;32m     72\u001b[0m             \u001b[0maway_id\u001b[0m\u001b[0;34m=\u001b[0m\u001b[0maway_id\u001b[0m\u001b[0;34m,\u001b[0m\u001b[0;34m\u001b[0m\u001b[0;34m\u001b[0m\u001b[0m\n",
      "\u001b[0;32m~/.local/lib/python3.9/site-packages/pyro/infer/svi.py\u001b[0m in \u001b[0;36mstep\u001b[0;34m(self, *args, **kwargs)\u001b[0m\n\u001b[1;32m    143\u001b[0m         \u001b[0;31m# get loss and compute gradients\u001b[0m\u001b[0;34m\u001b[0m\u001b[0;34m\u001b[0m\u001b[0;34m\u001b[0m\u001b[0m\n\u001b[1;32m    144\u001b[0m         \u001b[0;32mwith\u001b[0m \u001b[0mpoutine\u001b[0m\u001b[0;34m.\u001b[0m\u001b[0mtrace\u001b[0m\u001b[0;34m(\u001b[0m\u001b[0mparam_only\u001b[0m\u001b[0;34m=\u001b[0m\u001b[0;32mTrue\u001b[0m\u001b[0;34m)\u001b[0m \u001b[0;32mas\u001b[0m \u001b[0mparam_capture\u001b[0m\u001b[0;34m:\u001b[0m\u001b[0;34m\u001b[0m\u001b[0;34m\u001b[0m\u001b[0m\n\u001b[0;32m--> 145\u001b[0;31m             \u001b[0mloss\u001b[0m \u001b[0;34m=\u001b[0m \u001b[0mself\u001b[0m\u001b[0;34m.\u001b[0m\u001b[0mloss_and_grads\u001b[0m\u001b[0;34m(\u001b[0m\u001b[0mself\u001b[0m\u001b[0;34m.\u001b[0m\u001b[0mmodel\u001b[0m\u001b[0;34m,\u001b[0m \u001b[0mself\u001b[0m\u001b[0;34m.\u001b[0m\u001b[0mguide\u001b[0m\u001b[0;34m,\u001b[0m \u001b[0;34m*\u001b[0m\u001b[0margs\u001b[0m\u001b[0;34m,\u001b[0m \u001b[0;34m**\u001b[0m\u001b[0mkwargs\u001b[0m\u001b[0;34m)\u001b[0m\u001b[0;34m\u001b[0m\u001b[0;34m\u001b[0m\u001b[0m\n\u001b[0m\u001b[1;32m    146\u001b[0m \u001b[0;34m\u001b[0m\u001b[0m\n\u001b[1;32m    147\u001b[0m         params = set(\n",
      "\u001b[0;32m~/.local/lib/python3.9/site-packages/pyro/infer/trace_elbo.py\u001b[0m in \u001b[0;36mloss_and_grads\u001b[0;34m(self, model, guide, *args, **kwargs)\u001b[0m\n\u001b[1;32m    138\u001b[0m         \u001b[0mloss\u001b[0m \u001b[0;34m=\u001b[0m \u001b[0;36m0.0\u001b[0m\u001b[0;34m\u001b[0m\u001b[0;34m\u001b[0m\u001b[0m\n\u001b[1;32m    139\u001b[0m         \u001b[0;31m# grab a trace from the generator\u001b[0m\u001b[0;34m\u001b[0m\u001b[0;34m\u001b[0m\u001b[0;34m\u001b[0m\u001b[0m\n\u001b[0;32m--> 140\u001b[0;31m         \u001b[0;32mfor\u001b[0m \u001b[0mmodel_trace\u001b[0m\u001b[0;34m,\u001b[0m \u001b[0mguide_trace\u001b[0m \u001b[0;32min\u001b[0m \u001b[0mself\u001b[0m\u001b[0;34m.\u001b[0m\u001b[0m_get_traces\u001b[0m\u001b[0;34m(\u001b[0m\u001b[0mmodel\u001b[0m\u001b[0;34m,\u001b[0m \u001b[0mguide\u001b[0m\u001b[0;34m,\u001b[0m \u001b[0margs\u001b[0m\u001b[0;34m,\u001b[0m \u001b[0mkwargs\u001b[0m\u001b[0;34m)\u001b[0m\u001b[0;34m:\u001b[0m\u001b[0;34m\u001b[0m\u001b[0;34m\u001b[0m\u001b[0m\n\u001b[0m\u001b[1;32m    141\u001b[0m             loss_particle, surrogate_loss_particle = self._differentiable_loss_particle(\n\u001b[1;32m    142\u001b[0m                 \u001b[0mmodel_trace\u001b[0m\u001b[0;34m,\u001b[0m \u001b[0mguide_trace\u001b[0m\u001b[0;34m\u001b[0m\u001b[0;34m\u001b[0m\u001b[0m\n",
      "\u001b[0;32m~/.local/lib/python3.9/site-packages/pyro/infer/elbo.py\u001b[0m in \u001b[0;36m_get_traces\u001b[0;34m(self, model, guide, args, kwargs)\u001b[0m\n\u001b[1;32m    180\u001b[0m         \u001b[0;32melse\u001b[0m\u001b[0;34m:\u001b[0m\u001b[0;34m\u001b[0m\u001b[0;34m\u001b[0m\u001b[0m\n\u001b[1;32m    181\u001b[0m             \u001b[0;32mfor\u001b[0m \u001b[0mi\u001b[0m \u001b[0;32min\u001b[0m \u001b[0mrange\u001b[0m\u001b[0;34m(\u001b[0m\u001b[0mself\u001b[0m\u001b[0;34m.\u001b[0m\u001b[0mnum_particles\u001b[0m\u001b[0;34m)\u001b[0m\u001b[0;34m:\u001b[0m\u001b[0;34m\u001b[0m\u001b[0;34m\u001b[0m\u001b[0m\n\u001b[0;32m--> 182\u001b[0;31m                 \u001b[0;32myield\u001b[0m \u001b[0mself\u001b[0m\u001b[0;34m.\u001b[0m\u001b[0m_get_trace\u001b[0m\u001b[0;34m(\u001b[0m\u001b[0mmodel\u001b[0m\u001b[0;34m,\u001b[0m \u001b[0mguide\u001b[0m\u001b[0;34m,\u001b[0m \u001b[0margs\u001b[0m\u001b[0;34m,\u001b[0m \u001b[0mkwargs\u001b[0m\u001b[0;34m)\u001b[0m\u001b[0;34m\u001b[0m\u001b[0;34m\u001b[0m\u001b[0m\n\u001b[0m",
      "\u001b[0;32m~/.local/lib/python3.9/site-packages/pyro/infer/trace_elbo.py\u001b[0m in \u001b[0;36m_get_trace\u001b[0;34m(self, model, guide, args, kwargs)\u001b[0m\n\u001b[1;32m     55\u001b[0m         \u001b[0magainst\u001b[0m \u001b[0mit\u001b[0m\u001b[0;34m.\u001b[0m\u001b[0;34m\u001b[0m\u001b[0;34m\u001b[0m\u001b[0m\n\u001b[1;32m     56\u001b[0m         \"\"\"\n\u001b[0;32m---> 57\u001b[0;31m         model_trace, guide_trace = get_importance_trace(\n\u001b[0m\u001b[1;32m     58\u001b[0m             \u001b[0;34m\"flat\"\u001b[0m\u001b[0;34m,\u001b[0m \u001b[0mself\u001b[0m\u001b[0;34m.\u001b[0m\u001b[0mmax_plate_nesting\u001b[0m\u001b[0;34m,\u001b[0m \u001b[0mmodel\u001b[0m\u001b[0;34m,\u001b[0m \u001b[0mguide\u001b[0m\u001b[0;34m,\u001b[0m \u001b[0margs\u001b[0m\u001b[0;34m,\u001b[0m \u001b[0mkwargs\u001b[0m\u001b[0;34m\u001b[0m\u001b[0;34m\u001b[0m\u001b[0m\n\u001b[1;32m     59\u001b[0m         )\n",
      "\u001b[0;32m~/.local/lib/python3.9/site-packages/pyro/infer/enum.py\u001b[0m in \u001b[0;36mget_importance_trace\u001b[0;34m(graph_type, max_plate_nesting, model, guide, args, kwargs, detach)\u001b[0m\n\u001b[1;32m     73\u001b[0m     \u001b[0mmodel_trace\u001b[0m \u001b[0;34m=\u001b[0m \u001b[0mprune_subsample_sites\u001b[0m\u001b[0;34m(\u001b[0m\u001b[0mmodel_trace\u001b[0m\u001b[0;34m)\u001b[0m\u001b[0;34m\u001b[0m\u001b[0;34m\u001b[0m\u001b[0m\n\u001b[1;32m     74\u001b[0m \u001b[0;34m\u001b[0m\u001b[0m\n\u001b[0;32m---> 75\u001b[0;31m     \u001b[0mmodel_trace\u001b[0m\u001b[0;34m.\u001b[0m\u001b[0mcompute_log_prob\u001b[0m\u001b[0;34m(\u001b[0m\u001b[0;34m)\u001b[0m\u001b[0;34m\u001b[0m\u001b[0;34m\u001b[0m\u001b[0m\n\u001b[0m\u001b[1;32m     76\u001b[0m     \u001b[0mguide_trace\u001b[0m\u001b[0;34m.\u001b[0m\u001b[0mcompute_score_parts\u001b[0m\u001b[0;34m(\u001b[0m\u001b[0;34m)\u001b[0m\u001b[0;34m\u001b[0m\u001b[0;34m\u001b[0m\u001b[0m\n\u001b[1;32m     77\u001b[0m     \u001b[0;32mif\u001b[0m \u001b[0mis_validation_enabled\u001b[0m\u001b[0;34m(\u001b[0m\u001b[0;34m)\u001b[0m\u001b[0;34m:\u001b[0m\u001b[0;34m\u001b[0m\u001b[0;34m\u001b[0m\u001b[0m\n",
      "\u001b[0;32m~/.local/lib/python3.9/site-packages/pyro/poutine/trace_struct.py\u001b[0m in \u001b[0;36mcompute_log_prob\u001b[0;34m(self, site_filter)\u001b[0m\n\u001b[1;32m    234\u001b[0m                         \u001b[0m_\u001b[0m\u001b[0;34m,\u001b[0m \u001b[0mexc_value\u001b[0m\u001b[0;34m,\u001b[0m \u001b[0mtraceback\u001b[0m \u001b[0;34m=\u001b[0m \u001b[0msys\u001b[0m\u001b[0;34m.\u001b[0m\u001b[0mexc_info\u001b[0m\u001b[0;34m(\u001b[0m\u001b[0;34m)\u001b[0m\u001b[0;34m\u001b[0m\u001b[0;34m\u001b[0m\u001b[0m\n\u001b[1;32m    235\u001b[0m                         \u001b[0mshapes\u001b[0m \u001b[0;34m=\u001b[0m \u001b[0mself\u001b[0m\u001b[0;34m.\u001b[0m\u001b[0mformat_shapes\u001b[0m\u001b[0;34m(\u001b[0m\u001b[0mlast_site\u001b[0m\u001b[0;34m=\u001b[0m\u001b[0msite\u001b[0m\u001b[0;34m[\u001b[0m\u001b[0;34m\"name\"\u001b[0m\u001b[0;34m]\u001b[0m\u001b[0;34m)\u001b[0m\u001b[0;34m\u001b[0m\u001b[0;34m\u001b[0m\u001b[0m\n\u001b[0;32m--> 236\u001b[0;31m                         raise ValueError(\n\u001b[0m\u001b[1;32m    237\u001b[0m                             \"Error while computing log_prob at site '{}':\\n{}\\n{}\".format(\n\u001b[1;32m    238\u001b[0m                                 \u001b[0mname\u001b[0m\u001b[0;34m,\u001b[0m \u001b[0mexc_value\u001b[0m\u001b[0;34m,\u001b[0m \u001b[0mshapes\u001b[0m\u001b[0;34m\u001b[0m\u001b[0;34m\u001b[0m\u001b[0m\n",
      "\u001b[0;32m~/.local/lib/python3.9/site-packages/pyro/poutine/trace_struct.py\u001b[0m in \u001b[0;36mcompute_log_prob\u001b[0;34m(self, site_filter)\u001b[0m\n\u001b[1;32m    228\u001b[0m                 \u001b[0;32mif\u001b[0m \u001b[0;34m\"log_prob\"\u001b[0m \u001b[0;32mnot\u001b[0m \u001b[0;32min\u001b[0m \u001b[0msite\u001b[0m\u001b[0;34m:\u001b[0m\u001b[0;34m\u001b[0m\u001b[0;34m\u001b[0m\u001b[0m\n\u001b[1;32m    229\u001b[0m                     \u001b[0;32mtry\u001b[0m\u001b[0;34m:\u001b[0m\u001b[0;34m\u001b[0m\u001b[0;34m\u001b[0m\u001b[0m\n\u001b[0;32m--> 230\u001b[0;31m                         log_p = site[\"fn\"].log_prob(\n\u001b[0m\u001b[1;32m    231\u001b[0m                             \u001b[0msite\u001b[0m\u001b[0;34m[\u001b[0m\u001b[0;34m\"value\"\u001b[0m\u001b[0;34m]\u001b[0m\u001b[0;34m,\u001b[0m \u001b[0;34m*\u001b[0m\u001b[0msite\u001b[0m\u001b[0;34m[\u001b[0m\u001b[0;34m\"args\"\u001b[0m\u001b[0;34m]\u001b[0m\u001b[0;34m,\u001b[0m \u001b[0;34m**\u001b[0m\u001b[0msite\u001b[0m\u001b[0;34m[\u001b[0m\u001b[0;34m\"kwargs\"\u001b[0m\u001b[0;34m]\u001b[0m\u001b[0;34m\u001b[0m\u001b[0;34m\u001b[0m\u001b[0m\n\u001b[1;32m    232\u001b[0m                         )\n",
      "\u001b[0;32m~/.local/lib/python3.9/site-packages/pyro/distributions/torch.py\u001b[0m in \u001b[0;36mlog_prob\u001b[0;34m(self, value)\u001b[0m\n\u001b[1;32m    261\u001b[0m     \u001b[0;32mdef\u001b[0m \u001b[0mlog_prob\u001b[0m\u001b[0;34m(\u001b[0m\u001b[0mself\u001b[0m\u001b[0;34m,\u001b[0m \u001b[0mvalue\u001b[0m\u001b[0;34m)\u001b[0m\u001b[0;34m:\u001b[0m\u001b[0;34m\u001b[0m\u001b[0;34m\u001b[0m\u001b[0m\n\u001b[1;32m    262\u001b[0m         \u001b[0;32mif\u001b[0m \u001b[0;32mnot\u001b[0m \u001b[0mself\u001b[0m\u001b[0;34m.\u001b[0m\u001b[0mis_sparse\u001b[0m\u001b[0;34m:\u001b[0m\u001b[0;34m\u001b[0m\u001b[0;34m\u001b[0m\u001b[0m\n\u001b[0;32m--> 263\u001b[0;31m             \u001b[0;32mreturn\u001b[0m \u001b[0msuper\u001b[0m\u001b[0;34m(\u001b[0m\u001b[0;34m)\u001b[0m\u001b[0;34m.\u001b[0m\u001b[0mlog_prob\u001b[0m\u001b[0;34m(\u001b[0m\u001b[0mvalue\u001b[0m\u001b[0;34m)\u001b[0m\u001b[0;34m\u001b[0m\u001b[0;34m\u001b[0m\u001b[0m\n\u001b[0m\u001b[1;32m    264\u001b[0m         \u001b[0;32mif\u001b[0m \u001b[0mself\u001b[0m\u001b[0;34m.\u001b[0m\u001b[0m_validate_args\u001b[0m\u001b[0;34m:\u001b[0m\u001b[0;34m\u001b[0m\u001b[0;34m\u001b[0m\u001b[0m\n\u001b[1;32m    265\u001b[0m             \u001b[0mself\u001b[0m\u001b[0;34m.\u001b[0m\u001b[0m_validate_sample\u001b[0m\u001b[0;34m(\u001b[0m\u001b[0mvalue\u001b[0m\u001b[0;34m)\u001b[0m\u001b[0;34m\u001b[0m\u001b[0;34m\u001b[0m\u001b[0m\n",
      "\u001b[0;32m~/.local/lib/python3.9/site-packages/torch/distributions/poisson.py\u001b[0m in \u001b[0;36mlog_prob\u001b[0;34m(self, value)\u001b[0m\n\u001b[1;32m     59\u001b[0m     \u001b[0;32mdef\u001b[0m \u001b[0mlog_prob\u001b[0m\u001b[0;34m(\u001b[0m\u001b[0mself\u001b[0m\u001b[0;34m,\u001b[0m \u001b[0mvalue\u001b[0m\u001b[0;34m)\u001b[0m\u001b[0;34m:\u001b[0m\u001b[0;34m\u001b[0m\u001b[0;34m\u001b[0m\u001b[0m\n\u001b[1;32m     60\u001b[0m         \u001b[0;32mif\u001b[0m \u001b[0mself\u001b[0m\u001b[0;34m.\u001b[0m\u001b[0m_validate_args\u001b[0m\u001b[0;34m:\u001b[0m\u001b[0;34m\u001b[0m\u001b[0;34m\u001b[0m\u001b[0m\n\u001b[0;32m---> 61\u001b[0;31m             \u001b[0mself\u001b[0m\u001b[0;34m.\u001b[0m\u001b[0m_validate_sample\u001b[0m\u001b[0;34m(\u001b[0m\u001b[0mvalue\u001b[0m\u001b[0;34m)\u001b[0m\u001b[0;34m\u001b[0m\u001b[0;34m\u001b[0m\u001b[0m\n\u001b[0m\u001b[1;32m     62\u001b[0m         \u001b[0mrate\u001b[0m\u001b[0;34m,\u001b[0m \u001b[0mvalue\u001b[0m \u001b[0;34m=\u001b[0m \u001b[0mbroadcast_all\u001b[0m\u001b[0;34m(\u001b[0m\u001b[0mself\u001b[0m\u001b[0;34m.\u001b[0m\u001b[0mrate\u001b[0m\u001b[0;34m,\u001b[0m \u001b[0mvalue\u001b[0m\u001b[0;34m)\u001b[0m\u001b[0;34m\u001b[0m\u001b[0;34m\u001b[0m\u001b[0m\n\u001b[1;32m     63\u001b[0m         \u001b[0;32mreturn\u001b[0m \u001b[0mvalue\u001b[0m\u001b[0;34m.\u001b[0m\u001b[0mxlogy\u001b[0m\u001b[0;34m(\u001b[0m\u001b[0mrate\u001b[0m\u001b[0;34m)\u001b[0m \u001b[0;34m-\u001b[0m \u001b[0mrate\u001b[0m \u001b[0;34m-\u001b[0m \u001b[0;34m(\u001b[0m\u001b[0mvalue\u001b[0m \u001b[0;34m+\u001b[0m \u001b[0;36m1\u001b[0m\u001b[0;34m)\u001b[0m\u001b[0;34m.\u001b[0m\u001b[0mlgamma\u001b[0m\u001b[0;34m(\u001b[0m\u001b[0;34m)\u001b[0m\u001b[0;34m\u001b[0m\u001b[0;34m\u001b[0m\u001b[0m\n",
      "\u001b[0;32m~/.local/lib/python3.9/site-packages/torch/distributions/distribution.py\u001b[0m in \u001b[0;36m_validate_sample\u001b[0;34m(self, value)\u001b[0m\n\u001b[1;32m    286\u001b[0m         \u001b[0mvalid\u001b[0m \u001b[0;34m=\u001b[0m \u001b[0msupport\u001b[0m\u001b[0;34m.\u001b[0m\u001b[0mcheck\u001b[0m\u001b[0;34m(\u001b[0m\u001b[0mvalue\u001b[0m\u001b[0;34m)\u001b[0m\u001b[0;34m\u001b[0m\u001b[0;34m\u001b[0m\u001b[0m\n\u001b[1;32m    287\u001b[0m         \u001b[0;32mif\u001b[0m \u001b[0;32mnot\u001b[0m \u001b[0mvalid\u001b[0m\u001b[0;34m.\u001b[0m\u001b[0mall\u001b[0m\u001b[0;34m(\u001b[0m\u001b[0;34m)\u001b[0m\u001b[0;34m:\u001b[0m\u001b[0;34m\u001b[0m\u001b[0;34m\u001b[0m\u001b[0m\n\u001b[0;32m--> 288\u001b[0;31m             raise ValueError(\n\u001b[0m\u001b[1;32m    289\u001b[0m                 \u001b[0;34m\"Expected value argument \"\u001b[0m\u001b[0;34m\u001b[0m\u001b[0;34m\u001b[0m\u001b[0m\n\u001b[1;32m    290\u001b[0m                 \u001b[0;34mf\"({type(value).__name__} of shape {tuple(value.shape)}) \"\u001b[0m\u001b[0;34m\u001b[0m\u001b[0;34m\u001b[0m\u001b[0m\n",
      "\u001b[0;31mValueError\u001b[0m: Error while computing log_prob at site 's1':\nExpected value argument (Tensor of shape (1278,)) to be within the support (IntegerGreaterThan(lower_bound=0)) of the distribution Poisson(rate: torch.Size([1278])), but found invalid values:\ntensor([73., 70., 92.,  ..., 69., 82., 89.])\nTrace Shapes:       \n Param Sites:       \nSample Sites:       \n   alpha dist      |\n        value      |\n     log_prob      |\n  sd_att dist      |\n        value      |\n     log_prob      |\n  sd_def dist      |\n        value      |\n     log_prob      |\n    home dist      |\n        value      |\n     log_prob      |\n  attack dist   49 |\n        value   49 |\n     log_prob   49 |\n  defend dist   49 |\n        value   49 |\n     log_prob   49 |\n      s1 dist 1278 |\n        value 1278 |"
     ]
    }
   ],
   "source": [
    "class Args():\n",
    "    learning_rate = 0.1\n",
    "    num_particles = 1\n",
    "    rng_seed = 1\n",
    "    num_iterations = 2000\n",
    "\n",
    "args=Args()\n",
    "fit,teams,df,train = runThePyroFit(bdfplusN,args)"
   ]
  },
  {
   "cell_type": "code",
   "execution_count": 99,
   "metadata": {
    "collapsed": false
   },
   "outputs": [
    {
     "data": {
      "text/html": [
       "<div>\n",
       "<style scoped>\n",
       "    .dataframe tbody tr th:only-of-type {\n",
       "        vertical-align: middle;\n",
       "    }\n",
       "\n",
       "    .dataframe tbody tr th {\n",
       "        vertical-align: top;\n",
       "    }\n",
       "\n",
       "    .dataframe thead th {\n",
       "        text-align: right;\n",
       "    }\n",
       "</style>\n",
       "<table border=\"1\" class=\"dataframe\">\n",
       "  <thead>\n",
       "    <tr style=\"text-align: right;\">\n",
       "      <th></th>\n",
       "      <th>Team</th>\n",
       "      <th>i</th>\n",
       "      <th>attack</th>\n",
       "      <th>attacksd</th>\n",
       "      <th>defend</th>\n",
       "      <th>defendsd</th>\n",
       "      <th>attack_low</th>\n",
       "      <th>attack_high</th>\n",
       "      <th>defend_low</th>\n",
       "      <th>defend_high</th>\n",
       "    </tr>\n",
       "  </thead>\n",
       "  <tbody>\n",
       "    <tr>\n",
       "      <th>0</th>\n",
       "      <td>Ohio State</td>\n",
       "      <td>0</td>\n",
       "      <td>1.540278</td>\n",
       "      <td>0.013819</td>\n",
       "      <td>-1.319189</td>\n",
       "      <td>0.013162</td>\n",
       "      <td>1.526459</td>\n",
       "      <td>1.554097</td>\n",
       "      <td>-1.332351</td>\n",
       "      <td>-1.306027</td>\n",
       "    </tr>\n",
       "    <tr>\n",
       "      <th>1</th>\n",
       "      <td>Illinois</td>\n",
       "      <td>1</td>\n",
       "      <td>1.559368</td>\n",
       "      <td>0.013247</td>\n",
       "      <td>-1.294258</td>\n",
       "      <td>0.013751</td>\n",
       "      <td>1.546121</td>\n",
       "      <td>1.572615</td>\n",
       "      <td>-1.308009</td>\n",
       "      <td>-1.280507</td>\n",
       "    </tr>\n",
       "    <tr>\n",
       "      <th>2</th>\n",
       "      <td>Maryland</td>\n",
       "      <td>2</td>\n",
       "      <td>1.521657</td>\n",
       "      <td>0.014336</td>\n",
       "      <td>-1.359774</td>\n",
       "      <td>0.012906</td>\n",
       "      <td>1.507322</td>\n",
       "      <td>1.535993</td>\n",
       "      <td>-1.372679</td>\n",
       "      <td>-1.346868</td>\n",
       "    </tr>\n",
       "    <tr>\n",
       "      <th>3</th>\n",
       "      <td>Penn State</td>\n",
       "      <td>3</td>\n",
       "      <td>1.401512</td>\n",
       "      <td>0.014046</td>\n",
       "      <td>-1.257693</td>\n",
       "      <td>0.013322</td>\n",
       "      <td>1.387465</td>\n",
       "      <td>1.415558</td>\n",
       "      <td>-1.271015</td>\n",
       "      <td>-1.244370</td>\n",
       "    </tr>\n",
       "    <tr>\n",
       "      <th>4</th>\n",
       "      <td>Minnesota</td>\n",
       "      <td>4</td>\n",
       "      <td>1.447099</td>\n",
       "      <td>0.012827</td>\n",
       "      <td>-1.358489</td>\n",
       "      <td>0.012881</td>\n",
       "      <td>1.434271</td>\n",
       "      <td>1.459926</td>\n",
       "      <td>-1.371369</td>\n",
       "      <td>-1.345608</td>\n",
       "    </tr>\n",
       "  </tbody>\n",
       "</table>\n",
       "</div>"
      ],
      "text/plain": [
       "         Team  i    attack  attacksd    defend  defendsd  attack_low  \\\n",
       "0  Ohio State  0  1.540278  0.013819 -1.319189  0.013162    1.526459   \n",
       "1    Illinois  1  1.559368  0.013247 -1.294258  0.013751    1.546121   \n",
       "2    Maryland  2  1.521657  0.014336 -1.359774  0.012906    1.507322   \n",
       "3  Penn State  3  1.401512  0.014046 -1.257693  0.013322    1.387465   \n",
       "4   Minnesota  4  1.447099  0.012827 -1.358489  0.012881    1.434271   \n",
       "\n",
       "   attack_high  defend_low  defend_high  \n",
       "0     1.554097   -1.332351    -1.306027  \n",
       "1     1.572615   -1.308009    -1.280507  \n",
       "2     1.535993   -1.372679    -1.346868  \n",
       "3     1.415558   -1.271015    -1.244370  \n",
       "4     1.459926   -1.371369    -1.345608  "
      ]
     },
     "execution_count": 99,
     "metadata": {},
     "output_type": "execute_result"
    }
   ],
   "source": [
    "qDF = qualityCalc(fit,teams,df,train)\n",
    "qDF.head()"
   ]
  },
  {
   "cell_type": "code",
   "execution_count": 100,
   "metadata": {
    "collapsed": false
   },
   "outputs": [
    {
     "name": "stderr",
     "output_type": "stream",
     "text": [
      "/usr/local/lib/python3.9/site-packages/seaborn/_decorators.py:36: FutureWarning: Pass the following variables as keyword args: x, y. From version 0.12, the only valid positional argument will be `data`, and passing other arguments without an explicit keyword will result in an error or misinterpretation.\n",
      "  warnings.warn(\n"
     ]
    },
    {
     "data": {
      "text/plain": [
       "Text(0, 0.5, 'defend strength')"
      ]
     },
     "execution_count": 100,
     "metadata": {},
     "output_type": "execute_result"
    },
    {
     "data": {
      "image/png": "[encoded data removed]",
      "text/plain": [
       "<Figure size 1440x720 with 1 Axes>"
      ]
     },
     "metadata": {
      "needs_background": "light"
     },
     "output_type": "display_data"
    }
   ],
   "source": [
    "\n",
    "plt.figure(figsize=(20,10))\n",
    "p1 = sns.scatterplot('attack', # Horizontal axis\n",
    "       'defend', # Vertical axis\n",
    "       data=qDF, # Data source\n",
    "       size = 8,\n",
    "       legend=False)  \n",
    "\n",
    "for line in range(0,qDF.shape[0]):\n",
    "     p1.text(qDF.attack[line]+0.001, qDF.defend[line], \n",
    "     qDF.Team[line], horizontalalignment='left', \n",
    "     size='large', color='black', weight='semibold')\n",
    "\n",
    "plt.title('Quality')\n",
    "# Set x-axis label\n",
    "plt.xlabel('attack strength')\n",
    "# Set y-axis label\n",
    "plt.ylabel('defend strength')"
   ]
  },
  {
   "cell_type": "code",
   "execution_count": 101,
   "metadata": {
    "collapsed": false
   },
   "outputs": [
    {
     "data": {
      "text/html": [
       "<div>\n",
       "<style scoped>\n",
       "    .dataframe tbody tr th:only-of-type {\n",
       "        vertical-align: middle;\n",
       "    }\n",
       "\n",
       "    .dataframe tbody tr th {\n",
       "        vertical-align: top;\n",
       "    }\n",
       "\n",
       "    .dataframe thead th {\n",
       "        text-align: right;\n",
       "    }\n",
       "</style>\n",
       "<table border=\"1\" class=\"dataframe\">\n",
       "  <thead>\n",
       "    <tr style=\"text-align: right;\">\n",
       "      <th></th>\n",
       "      <th>Team</th>\n",
       "      <th>i</th>\n",
       "    </tr>\n",
       "  </thead>\n",
       "  <tbody>\n",
       "    <tr>\n",
       "      <th>0</th>\n",
       "      <td>Ohio State</td>\n",
       "      <td>0</td>\n",
       "    </tr>\n",
       "    <tr>\n",
       "      <th>1</th>\n",
       "      <td>Illinois</td>\n",
       "      <td>1</td>\n",
       "    </tr>\n",
       "    <tr>\n",
       "      <th>2</th>\n",
       "      <td>Maryland</td>\n",
       "      <td>2</td>\n",
       "    </tr>\n",
       "    <tr>\n",
       "      <th>3</th>\n",
       "      <td>Penn State</td>\n",
       "      <td>3</td>\n",
       "    </tr>\n",
       "    <tr>\n",
       "      <th>4</th>\n",
       "      <td>Minnesota</td>\n",
       "      <td>4</td>\n",
       "    </tr>\n",
       "    <tr>\n",
       "      <th>5</th>\n",
       "      <td>Indiana</td>\n",
       "      <td>5</td>\n",
       "    </tr>\n",
       "    <tr>\n",
       "      <th>6</th>\n",
       "      <td>Wisconsin</td>\n",
       "      <td>6</td>\n",
       "    </tr>\n",
       "    <tr>\n",
       "      <th>7</th>\n",
       "      <td>Northwestern</td>\n",
       "      <td>7</td>\n",
       "    </tr>\n",
       "    <tr>\n",
       "      <th>8</th>\n",
       "      <td>Nebraska</td>\n",
       "      <td>8</td>\n",
       "    </tr>\n",
       "    <tr>\n",
       "      <th>9</th>\n",
       "      <td>Purdue</td>\n",
       "      <td>9</td>\n",
       "    </tr>\n",
       "    <tr>\n",
       "      <th>10</th>\n",
       "      <td>Rutgers</td>\n",
       "      <td>10</td>\n",
       "    </tr>\n",
       "    <tr>\n",
       "      <th>11</th>\n",
       "      <td>Michigan State</td>\n",
       "      <td>11</td>\n",
       "    </tr>\n",
       "    <tr>\n",
       "      <th>12</th>\n",
       "      <td>Iowa</td>\n",
       "      <td>12</td>\n",
       "    </tr>\n",
       "    <tr>\n",
       "      <th>13</th>\n",
       "      <td>Michigan</td>\n",
       "      <td>13</td>\n",
       "    </tr>\n",
       "  </tbody>\n",
       "</table>\n",
       "</div>"
      ],
      "text/plain": [
       "              Team   i\n",
       "0       Ohio State   0\n",
       "1         Illinois   1\n",
       "2         Maryland   2\n",
       "3       Penn State   3\n",
       "4        Minnesota   4\n",
       "5          Indiana   5\n",
       "6        Wisconsin   6\n",
       "7     Northwestern   7\n",
       "8         Nebraska   8\n",
       "9           Purdue   9\n",
       "10         Rutgers  10\n",
       "11  Michigan State  11\n",
       "12            Iowa  12\n",
       "13        Michigan  13"
      ]
     },
     "execution_count": 101,
     "metadata": {},
     "output_type": "execute_result"
    }
   ],
   "source": [
    "teams"
   ]
  },
  {
   "cell_type": "code",
   "execution_count": 102,
   "metadata": {
    "collapsed": false
   },
   "outputs": [],
   "source": [
    "#now get the probability of Michigan State winning vs. Michigan\n",
    "#it looks like I have to do a full set of teams\n",
    "#just put in a full set of combinations\n",
    "#generate an array with just each team once\n",
    "predictive = Predictive(\n",
    "    model=model, guide=guide, num_samples=30000, return_sites=[\"s1\", \"s2\"]\n",
    ")\n",
    "msuMich = pd.DataFrame({'Home_id':[9,0,1,2,3,4,5,6,7,8,9,10,11,12,13],\n",
    "        'Away_id':[7,0,1,2,3,4,5,6,7,8,9,10,11,12,13]})\n",
    "predicted_score = predictive(\n",
    "    home_id=msuMich[\"Home_id\"].values,\n",
    "    away_id=msuMich[\"Away_id\"].values,\n",
    ")\n"
   ]
  },
  {
   "cell_type": "code",
   "execution_count": 103,
   "metadata": {
    "collapsed": false
   },
   "outputs": [
    {
     "data": {
      "text/plain": [
       "<matplotlib.lines.Line2D at 0x7fa617a0fd60>"
      ]
     },
     "execution_count": 103,
     "metadata": {},
     "output_type": "execute_result"
    },
    {
     "data": {
      "image/png": "[encoded data removed]",
      "text/plain": [
       "<Figure size 432x288 with 1 Axes>"
      ]
     },
     "metadata": {
      "needs_background": "light"
     },
     "output_type": "display_data"
    }
   ],
   "source": [
    "um = predicted_score[\"s1\"][0].tolist()\n",
    "msu = predicted_score[\"s2\"][0].tolist()\n",
    "\n",
    "def meanl(lst):\n",
    "    return sum(lst) / len(lst)\n",
    "plt.hist([um, msu], color=['b','g'], alpha=0.5)\n",
    "plt.axvline(meanl(um), color='b', linestyle='dashed', linewidth=2)\n",
    "plt.axvline(meanl(msu), color='g', linestyle='dashed', linewidth=2)\n"
   ]
  },
  {
   "cell_type": "code",
   "execution_count": 104,
   "metadata": {
    "collapsed": true
   },
   "outputs": [],
   "source": [
    "#work on the over under distribution\n",
    "s1=um\n",
    "s2=msu\n",
    "n=100\n",
    "sams1=rnd.choices(s1, k=n)\n",
    "sams2=rnd.choices(s2, k=n)\n",
    "overunder = [p1+p2 for p1 in sams1 for p2 in sams2]\n",
    "spread    = [p1-p2 for p1 in sams1 for p2 in sams2]\n",
    "samsDF = pd.DataFrame({'overunder':overunder,'spread':spread})\n"
   ]
  },
  {
   "cell_type": "code",
   "execution_count": 105,
   "metadata": {
    "collapsed": false
   },
   "outputs": [
    {
     "data": {
      "text/plain": [
       "<matplotlib.lines.Line2D at 0x7fa607f2f970>"
      ]
     },
     "execution_count": 105,
     "metadata": {},
     "output_type": "execute_result"
    },
    {
     "data": {
      "image/png": "[encoded data removed]",
      "text/plain": [
       "<Figure size 432x288 with 1 Axes>"
      ]
     },
     "metadata": {
      "needs_background": "light"
     },
     "output_type": "display_data"
    }
   ],
   "source": [
    "sns.ecdfplot(overunder)\n",
    "plt.grid()\n",
    "plt.axhline(y=0.5, color='r', linestyle='-')"
   ]
  },
  {
   "cell_type": "code",
   "execution_count": 106,
   "metadata": {
    "collapsed": false
   },
   "outputs": [
    {
     "data": {
      "text/plain": [
       "<matplotlib.lines.Line2D at 0x7fa60768b7c0>"
      ]
     },
     "execution_count": 106,
     "metadata": {},
     "output_type": "execute_result"
    },
    {
     "data": {
      "image/png": "[encoded data removed]",
      "text/plain": [
       "<Figure size 432x288 with 1 Axes>"
      ]
     },
     "metadata": {
      "needs_background": "light"
     },
     "output_type": "display_data"
    }
   ],
   "source": [
    "#probability of team1 wining by at least x points\n",
    "sns.ecdfplot(spread,complementary=True)\n",
    "plt.grid()\n",
    "plt.axhline(y=0.5, color='r', linestyle='-')"
   ]
  },
  {
   "cell_type": "code",
   "execution_count": null,
   "metadata": {
    "collapsed": true
   },
   "outputs": [],
   "source": []
  }
 ],
 "metadata": {
  "kernelspec": {
   "display_name": "Python 3.9",
   "language": "python",
   "name": "python3.9"
  },
  "language_info": {
   "codemirror_mode": {
    "name": "ipython",
    "version": 3
   },
   "file_extension": ".py",
   "mimetype": "text/x-python",
   "name": "python",
   "nbconvert_exporter": "python",
   "pygments_lexer": "ipython3",
   "version": "3.9.5"
  }
 },
 "nbformat": 4,
 "nbformat_minor": 0
}
