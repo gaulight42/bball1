{
 "cells": [
  {
   "cell_type": "code",
   "execution_count": 1,
   "metadata": {
    "collapsed": true
   },
   "outputs": [],
   "source": [
    "import pandas as pd\n",
    "import pickle\n",
    "from sportsreference.ncaab.teams import Teams\n",
    "from sportsreference.ncaab.conferences import Conferences\n",
    "import matplotlib.pyplot as plt\n",
    "import seaborn as sns\n",
    "import numpy as np\n",
    "import random as rnd\n",
    "from utils import  score_table\n",
    "import importlib\n",
    "\n",
    "#import argparse\n",
    "\n",
    "import torch\n",
    "import pyro\n",
    "import pyro.distributions as dist\n",
    "from pyro.infer import SVI, Predictive, Trace_ELBO\n",
    "from pyro.optim import ClippedAdam\n",
    "from torch.distributions import constraints"
   ]
  },
  {
   "cell_type": "code",
   "execution_count": 23,
   "metadata": {
    "collapsed": false
   },
   "outputs": [],
   "source": [
    "majorConfs = [\"big-12\",\"Big 12\",\n",
    "              \"big-10\",\"Big Ten\",\"big-ten\",\n",
    "              \"sec\",\"SEC\",\n",
    "              \"big-east\",\"Big East\",\n",
    "              \"pac-12\",\"Pac-12\",\n",
    "              \"acc\",\"ACC\",\n",
    "              \"wcc\", \"WCC\"]\n",
    "confNameNorm = {\"Big 12\":\"big-12\",\n",
    "              \"Big Ten\":\"big-ten\",\n",
    "              \"big-ten\":\"big-ten\",\n",
    "              \"SEC\":\"sec\",\n",
    "              \"Big East\":\"big-east\",\n",
    "              \"Pac-12\":\"pac-12\",\n",
    "              \"ACC\":\"acc\",\n",
    "              \"WCC\":\"wcc\"}\n",
    "def getDataForTeams(teams) :\n",
    "    dataset = pd.DataFrame()\n",
    "    for team in teams:\n",
    "        if team.conference in majorConfs:\n",
    "            tgDF = team.schedule.dataframe\n",
    "            tgDF['team_name'] = team.name\n",
    "            tgDF['team_conference'] = team.conference\n",
    "            dataset = pd.concat([dataset,tgDF])     \n",
    "    return dataset\n"
   ]
  },
  {
   "cell_type": "code",
   "execution_count": 31,
   "metadata": {
    "collapsed": true
   },
   "outputs": [],
   "source": [
    "#execute this cell to grab the data from the site\n",
    "season_team_list = Teams(\"2022\")\n",
    "df = getDataForTeams(season_team_list)\n",
    "compression_opts = dict(method='zip',\n",
    "                        archive_name='outv3.csv')  \n",
    "df.to_csv('data/bigconfs2022Season.zip', compression=compression_opts) \n",
    "pickle.dump( season_team_list, open( \"data/teams2022.p\", \"wb\" ) )"
   ]
  },
  {
   "cell_type": "code",
   "execution_count": 32,
   "metadata": {
    "collapsed": true
   },
   "outputs": [],
   "source": [
    "#execute this cell to just load the local files\n",
    "season_team_list = pickle.load( open( \"data/teams2022.p\", \"rb\" ) )\n",
    "c_opts = dict(method='zip')\n",
    "df = pd.read_csv('data/bigconfs2022Season.zip',compression='zip')"
   ]
  },
  {
   "cell_type": "code",
   "execution_count": 33,
   "metadata": {
    "collapsed": false
   },
   "outputs": [
    {
     "data": {
      "text/html": [
       "<div>\n",
       "<style scoped>\n",
       "    .dataframe tbody tr th:only-of-type {\n",
       "        vertical-align: middle;\n",
       "    }\n",
       "\n",
       "    .dataframe tbody tr th {\n",
       "        vertical-align: top;\n",
       "    }\n",
       "\n",
       "    .dataframe thead th {\n",
       "        text-align: right;\n",
       "    }\n",
       "</style>\n",
       "<table border=\"1\" class=\"dataframe\">\n",
       "  <thead>\n",
       "    <tr style=\"text-align: right;\">\n",
       "      <th></th>\n",
       "      <th>Date</th>\n",
       "      <th>HomeTeam</th>\n",
       "      <th>AwayTeam</th>\n",
       "      <th>FTHG</th>\n",
       "      <th>FTAG</th>\n",
       "      <th>HomeConf</th>\n",
       "      <th>AwayConf</th>\n",
       "    </tr>\n",
       "  </thead>\n",
       "  <tbody>\n",
       "    <tr>\n",
       "      <th>0</th>\n",
       "      <td>Wed, Dec 29, 2021</td>\n",
       "      <td>Alabama</td>\n",
       "      <td>Tennessee</td>\n",
       "      <td>73.0</td>\n",
       "      <td>68.0</td>\n",
       "      <td>sec</td>\n",
       "      <td>sec</td>\n",
       "    </tr>\n",
       "    <tr>\n",
       "      <th>1</th>\n",
       "      <td>Wed, Jan 5, 2022</td>\n",
       "      <td>Florida</td>\n",
       "      <td>Alabama</td>\n",
       "      <td>70.0</td>\n",
       "      <td>83.0</td>\n",
       "      <td>sec</td>\n",
       "      <td>sec</td>\n",
       "    </tr>\n",
       "    <tr>\n",
       "      <th>2</th>\n",
       "      <td>Sat, Jan 8, 2022</td>\n",
       "      <td>Missouri</td>\n",
       "      <td>Alabama</td>\n",
       "      <td>92.0</td>\n",
       "      <td>86.0</td>\n",
       "      <td>sec</td>\n",
       "      <td>sec</td>\n",
       "    </tr>\n",
       "    <tr>\n",
       "      <th>3</th>\n",
       "      <td>Tue, Jan 11, 2022</td>\n",
       "      <td>Alabama</td>\n",
       "      <td>Auburn</td>\n",
       "      <td>77.0</td>\n",
       "      <td>81.0</td>\n",
       "      <td>sec</td>\n",
       "      <td>sec</td>\n",
       "    </tr>\n",
       "    <tr>\n",
       "      <th>4</th>\n",
       "      <td>Sat, Jan 15, 2022</td>\n",
       "      <td>Mississippi State</td>\n",
       "      <td>Alabama</td>\n",
       "      <td>78.0</td>\n",
       "      <td>76.0</td>\n",
       "      <td>sec</td>\n",
       "      <td>sec</td>\n",
       "    </tr>\n",
       "  </tbody>\n",
       "</table>\n",
       "</div>"
      ],
      "text/plain": [
       "                Date           HomeTeam   AwayTeam  FTHG  FTAG HomeConf  \\\n",
       "0  Wed, Dec 29, 2021            Alabama  Tennessee  73.0  68.0      sec   \n",
       "1   Wed, Jan 5, 2022            Florida    Alabama  70.0  83.0      sec   \n",
       "2   Sat, Jan 8, 2022           Missouri    Alabama  92.0  86.0      sec   \n",
       "3  Tue, Jan 11, 2022            Alabama     Auburn  77.0  81.0      sec   \n",
       "4  Sat, Jan 15, 2022  Mississippi State    Alabama  78.0  76.0      sec   \n",
       "\n",
       "  AwayConf  \n",
       "0      sec  \n",
       "1      sec  \n",
       "2      sec  \n",
       "3      sec  \n",
       "4      sec  "
      ]
     },
     "execution_count": 33,
     "metadata": {},
     "output_type": "execute_result"
    }
   ],
   "source": [
    "bdf = df\n",
    "#only have games between big conferences\n",
    "bdf = bdf[bdf[\"opponent_conference\"].isin(majorConfs)]\n",
    "#get rid of duplicates\n",
    "bdf.drop_duplicates(subset='boxscore_index', keep=\"first\")\n",
    "#drop Neutral games for now\n",
    "bdf = bdf[bdf[\"location\"].isin([\"Home\",\"Away\"])]\n",
    "#create Home, Away, neutral indicator columns\n",
    "bdf = pd.get_dummies(bdf,prefix=['location'], columns = ['location'])\n",
    "#create homeTeam, awayTeam columns\n",
    "def addHomeTeamColumn(row):\n",
    "    if(row['location_Home'] == 1):\n",
    "        return row['team_name']\n",
    "    else:\n",
    "        return row['opponent_name']\n",
    "bdf['HomeTeam'] = bdf.apply(addHomeTeamColumn, axis=1)\n",
    "def addAwayTeamColumn(row):\n",
    "    if(row['location_Away'] == 1):\n",
    "        return row['team_name']\n",
    "    else:\n",
    "        return row['opponent_name']\n",
    "bdf['AwayTeam'] = bdf.apply(addAwayTeamColumn, axis=1)\n",
    "#add in \"HomePoints\" , AwayPoints\n",
    "def addHomePointsColumn(row):\n",
    "    if(row['location_Home'] == 1):\n",
    "        return row['points_for']\n",
    "    else:\n",
    "        return row['points_against']\n",
    "bdf['HomePoints'] = bdf.apply(addHomePointsColumn, axis=1)\n",
    "def addAwayPointsColumn(row):\n",
    "    if(row['location_Away'] == 1):\n",
    "        return row['points_for']\n",
    "    else:\n",
    "        return row['points_against']\n",
    "bdf['AwayPoints'] = bdf.apply(addAwayPointsColumn, axis=1)\n",
    "\n",
    "bdf[\"opponent_conference\"].replace(confNameNorm, inplace=True)\n",
    "\n",
    "#just big ten conference games\n",
    "big10df = bdf.loc[(bdf[\"team_conference\"]=='big-ten')&\n",
    "                  (bdf['opponent_conference']=='big-ten')]\n",
    "\n",
    "#rename columns\n",
    "selector_d = {'date':'Date', 'HomeTeam':'HomeTeam', 'AwayTeam':'AwayTeam',\n",
    "              'HomePoints':'FTHG', 'AwayPoints':'FTAG',\n",
    "              'team_conference':'HomeConf','opponent_conference':'AwayConf'}\n",
    "bdf = bdf.rename(columns=selector_d)[selector_d.values()]\n",
    "bdf.reset_index(inplace=True, drop=True)\n",
    "big10df = big10df.rename(columns=selector_d)[selector_d.values()]\n",
    "big10df.reset_index(inplace=True, drop=True)\n",
    "bdf.head()"
   ]
  },
  {
   "cell_type": "code",
   "execution_count": 34,
   "metadata": {
    "collapsed": false
   },
   "outputs": [
    {
     "data": {
      "text/plain": [
       "array(['sec', 'pac-12', 'big-12', 'acc', 'wcc', 'big-east', 'big-ten'],\n",
       "      dtype=object)"
      ]
     },
     "execution_count": 34,
     "metadata": {},
     "output_type": "execute_result"
    }
   ],
   "source": [
    "bdf['HomeConf'].unique()"
   ]
  },
  {
   "cell_type": "code",
   "execution_count": 35,
   "metadata": {
    "collapsed": false
   },
   "outputs": [
    {
     "data": {
      "text/plain": [
       "array(['sec', 'big-12', 'wcc', 'pac-12', 'big-east', 'big-ten', 'acc'],\n",
       "      dtype=object)"
      ]
     },
     "execution_count": 35,
     "metadata": {},
     "output_type": "execute_result"
    }
   ],
   "source": [
    "bdf['AwayConf'].unique()"
   ]
  },
  {
   "cell_type": "code",
   "execution_count": 36,
   "metadata": {
    "collapsed": false
   },
   "outputs": [
    {
     "data": {
      "text/html": [
       "<div>\n",
       "<style scoped>\n",
       "    .dataframe tbody tr th:only-of-type {\n",
       "        vertical-align: middle;\n",
       "    }\n",
       "\n",
       "    .dataframe tbody tr th {\n",
       "        vertical-align: top;\n",
       "    }\n",
       "\n",
       "    .dataframe thead th {\n",
       "        text-align: right;\n",
       "    }\n",
       "</style>\n",
       "<table border=\"1\" class=\"dataframe\">\n",
       "  <thead>\n",
       "    <tr style=\"text-align: right;\">\n",
       "      <th></th>\n",
       "      <th>Date</th>\n",
       "      <th>HomeTeam</th>\n",
       "      <th>AwayTeam</th>\n",
       "      <th>FTHG</th>\n",
       "      <th>FTAG</th>\n",
       "      <th>HomeConf</th>\n",
       "      <th>AwayConf</th>\n",
       "    </tr>\n",
       "  </thead>\n",
       "  <tbody>\n",
       "    <tr>\n",
       "      <th>0</th>\n",
       "      <td>Fri, Dec 3, 2021</td>\n",
       "      <td>Illinois</td>\n",
       "      <td>Rutgers</td>\n",
       "      <td>86.0</td>\n",
       "      <td>51.0</td>\n",
       "      <td>big-ten</td>\n",
       "      <td>big-ten</td>\n",
       "    </tr>\n",
       "    <tr>\n",
       "      <th>1</th>\n",
       "      <td>Mon, Dec 6, 2021</td>\n",
       "      <td>Iowa</td>\n",
       "      <td>Illinois</td>\n",
       "      <td>83.0</td>\n",
       "      <td>87.0</td>\n",
       "      <td>big-ten</td>\n",
       "      <td>big-ten</td>\n",
       "    </tr>\n",
       "    <tr>\n",
       "      <th>2</th>\n",
       "      <td>Tue, Jan 4, 2022</td>\n",
       "      <td>Minnesota</td>\n",
       "      <td>Illinois</td>\n",
       "      <td>53.0</td>\n",
       "      <td>76.0</td>\n",
       "      <td>big-ten</td>\n",
       "      <td>big-ten</td>\n",
       "    </tr>\n",
       "    <tr>\n",
       "      <th>3</th>\n",
       "      <td>Thu, Jan 6, 2022</td>\n",
       "      <td>Illinois</td>\n",
       "      <td>Maryland</td>\n",
       "      <td>76.0</td>\n",
       "      <td>64.0</td>\n",
       "      <td>big-ten</td>\n",
       "      <td>big-ten</td>\n",
       "    </tr>\n",
       "    <tr>\n",
       "      <th>4</th>\n",
       "      <td>Tue, Jan 11, 2022</td>\n",
       "      <td>Nebraska</td>\n",
       "      <td>Illinois</td>\n",
       "      <td>71.0</td>\n",
       "      <td>81.0</td>\n",
       "      <td>big-ten</td>\n",
       "      <td>big-ten</td>\n",
       "    </tr>\n",
       "  </tbody>\n",
       "</table>\n",
       "</div>"
      ],
      "text/plain": [
       "                Date   HomeTeam  AwayTeam  FTHG  FTAG HomeConf AwayConf\n",
       "0   Fri, Dec 3, 2021   Illinois   Rutgers  86.0  51.0  big-ten  big-ten\n",
       "1   Mon, Dec 6, 2021       Iowa  Illinois  83.0  87.0  big-ten  big-ten\n",
       "2   Tue, Jan 4, 2022  Minnesota  Illinois  53.0  76.0  big-ten  big-ten\n",
       "3   Thu, Jan 6, 2022   Illinois  Maryland  76.0  64.0  big-ten  big-ten\n",
       "4  Tue, Jan 11, 2022   Nebraska  Illinois  71.0  81.0  big-ten  big-ten"
      ]
     },
     "execution_count": 36,
     "metadata": {},
     "output_type": "execute_result"
    }
   ],
   "source": [
    "big10df.head()"
   ]
  },
  {
   "cell_type": "code",
   "execution_count": 37,
   "metadata": {
    "collapsed": false
   },
   "outputs": [
    {
     "data": {
      "text/plain": [
       "'Wed, Mar 2, 2022'"
      ]
     },
     "execution_count": 37,
     "metadata": {},
     "output_type": "execute_result"
    }
   ],
   "source": [
    "big10df['Date'].max()"
   ]
  },
  {
   "cell_type": "code",
   "execution_count": 39,
   "metadata": {
    "collapsed": false
   },
   "outputs": [
    {
     "data": {
      "text/plain": [
       "[74.80267794221282, 68.79452054794521]"
      ]
     },
     "execution_count": 39,
     "metadata": {},
     "output_type": "execute_result"
    }
   ],
   "source": [
    "homeMean = df[df.location=='Home']['points_for'].mean()\n",
    "awayMean = df[df.location=='Away']['points_for'].mean()\n",
    "[homeMean,awayMean]"
   ]
  },
  {
   "cell_type": "code",
   "execution_count": 46,
   "metadata": {
    "collapsed": true
   },
   "outputs": [],
   "source": [
    "def transformData(data):\n",
    "    pl_data = data\n",
    "\n",
    "    ng = len(pl_data)  # number of games\n",
    "    npr = 65  # predict the last 5 rounds of games\n",
    "    ngob = ng - npr  # number of games to train\n",
    "\n",
    "    pl_data = pl_data.rename(columns={\"FTHG\": \"score1\",\"FTAG\":\"score2\",\n",
    "                            \"HomeTeam\":\"Home\",\"AwayTeam\":\"Away\"})\n",
    "\n",
    "    teams = pl_data[\"Home\"].unique()\n",
    "    teams = pd.DataFrame(teams, columns=[\"Team\"])\n",
    "    teams[\"i\"] = teams.index\n",
    "\n",
    "    df = pd.merge(pl_data, teams, left_on=\"Home\", right_on=\"Team\", how=\"left\")\n",
    "    df = df.rename(columns={\"i\": \"Home_id\"}).drop(\"Team\", axis=1)\n",
    "    df = pd.merge(df, teams, left_on=\"Away\", right_on=\"Team\", how=\"left\")\n",
    "    df = df.rename(columns={\"i\": \"Away_id\"}).drop(\"Team\", axis=1)\n",
    "\n",
    " \n",
    "    df[\"split\"] = np.where(df.index + 1 <= ngob, \"train\", \"predict\")\n",
    "\n",
    "    print(df.head())\n",
    "\n",
    "    return teams, df\n"
   ]
  },
  {
   "cell_type": "code",
   "execution_count": 66,
   "metadata": {
    "collapsed": false
   },
   "outputs": [
    {
     "name": "stdout",
     "output_type": "stream",
     "text": [
      "                Date               Home       Away  score1  score2 HomeConf  \\\n",
      "0  Wed, Dec 29, 2021            Alabama  Tennessee    73.0    68.0      sec   \n",
      "1   Wed, Jan 5, 2022            Florida    Alabama    70.0    83.0      sec   \n",
      "2   Sat, Jan 8, 2022           Missouri    Alabama    92.0    86.0      sec   \n",
      "3  Tue, Jan 11, 2022            Alabama     Auburn    77.0    81.0      sec   \n",
      "4  Sat, Jan 15, 2022  Mississippi State    Alabama    78.0    76.0      sec   \n",
      "\n",
      "  AwayConf  Home_id  Away_id  split  \n",
      "0      sec        0       24  train  \n",
      "1      sec        1        0  train  \n",
      "2      sec        2        0  train  \n",
      "3      sec        0        5  train  \n",
      "4      sec        3        0  train  \n"
     ]
    }
   ],
   "source": [
    "#tt,dd = transformData(big10df)\n",
    "tt,dd = transformData(bdf)"
   ]
  },
  {
   "cell_type": "code",
   "execution_count": 67,
   "metadata": {
    "collapsed": false
   },
   "outputs": [
    {
     "data": {
      "text/html": [
       "<div>\n",
       "<style scoped>\n",
       "    .dataframe tbody tr th:only-of-type {\n",
       "        vertical-align: middle;\n",
       "    }\n",
       "\n",
       "    .dataframe tbody tr th {\n",
       "        vertical-align: top;\n",
       "    }\n",
       "\n",
       "    .dataframe thead th {\n",
       "        text-align: right;\n",
       "    }\n",
       "</style>\n",
       "<table border=\"1\" class=\"dataframe\">\n",
       "  <thead>\n",
       "    <tr style=\"text-align: right;\">\n",
       "      <th></th>\n",
       "      <th>Team</th>\n",
       "      <th>i</th>\n",
       "    </tr>\n",
       "  </thead>\n",
       "  <tbody>\n",
       "    <tr>\n",
       "      <th>0</th>\n",
       "      <td>Alabama</td>\n",
       "      <td>0</td>\n",
       "    </tr>\n",
       "    <tr>\n",
       "      <th>1</th>\n",
       "      <td>Florida</td>\n",
       "      <td>1</td>\n",
       "    </tr>\n",
       "    <tr>\n",
       "      <th>2</th>\n",
       "      <td>Missouri</td>\n",
       "      <td>2</td>\n",
       "    </tr>\n",
       "    <tr>\n",
       "      <th>3</th>\n",
       "      <td>Mississippi State</td>\n",
       "      <td>3</td>\n",
       "    </tr>\n",
       "    <tr>\n",
       "      <th>4</th>\n",
       "      <td>Georgia</td>\n",
       "      <td>4</td>\n",
       "    </tr>\n",
       "    <tr>\n",
       "      <th>...</th>\n",
       "      <td>...</td>\n",
       "      <td>...</td>\n",
       "    </tr>\n",
       "    <tr>\n",
       "      <th>81</th>\n",
       "      <td>Michigan State</td>\n",
       "      <td>81</td>\n",
       "    </tr>\n",
       "    <tr>\n",
       "      <th>82</th>\n",
       "      <td>Michigan</td>\n",
       "      <td>82</td>\n",
       "    </tr>\n",
       "    <tr>\n",
       "      <th>83</th>\n",
       "      <td>Wisconsin</td>\n",
       "      <td>83</td>\n",
       "    </tr>\n",
       "    <tr>\n",
       "      <th>84</th>\n",
       "      <td>Penn State</td>\n",
       "      <td>84</td>\n",
       "    </tr>\n",
       "    <tr>\n",
       "      <th>85</th>\n",
       "      <td>Portland</td>\n",
       "      <td>85</td>\n",
       "    </tr>\n",
       "  </tbody>\n",
       "</table>\n",
       "<p>86 rows × 2 columns</p>\n",
       "</div>"
      ],
      "text/plain": [
       "                 Team   i\n",
       "0             Alabama   0\n",
       "1             Florida   1\n",
       "2            Missouri   2\n",
       "3   Mississippi State   3\n",
       "4             Georgia   4\n",
       "..                ...  ..\n",
       "81     Michigan State  81\n",
       "82           Michigan  82\n",
       "83          Wisconsin  83\n",
       "84         Penn State  84\n",
       "85           Portland  85\n",
       "\n",
       "[86 rows x 2 columns]"
      ]
     },
     "execution_count": 67,
     "metadata": {},
     "output_type": "execute_result"
    }
   ],
   "source": [
    "tt"
   ]
  },
  {
   "cell_type": "code",
   "execution_count": 49,
   "metadata": {
    "collapsed": true
   },
   "outputs": [],
   "source": [
    "\n",
    "class FoldedTransform(dist.transforms.AbsTransform):\n",
    "    def log_abs_det_jacobian(self, x, y):\n",
    "        return torch.zeros_like(x)\n",
    "\n",
    "def model(home_id, away_id, score1_obs=None, score2_obs=None):\n",
    "    # hyperpriors\n",
    "    alpha = pyro.sample(\"alpha\", dist.Normal(0.0, 1.0))\n",
    "    sd_att = pyro.sample(\"sd_att\", dist.TransformedDistribution(dist.StudentT(3.0, 0.0, 4), FoldedTransform()))\n",
    "    sd_def = pyro.sample(\"sd_def\", dist.TransformedDistribution(dist.StudentT(3.0, 0.0, 4), FoldedTransform()))\n",
    "    #student t: degrees of freedom, mean, width\n",
    "    #started with width = 2.5\n",
    "    home = pyro.sample(\"home\", dist.Normal(0.0, 2.0))  # home advantage\n",
    "    #started with 1.0 for std\n",
    "    nt = len(np.unique(home_id))\n",
    "\n",
    "    # team-specific model parameters\n",
    "    with pyro.plate(\"plate_teams\", nt):\n",
    "        attack = pyro.sample(\"attack\", dist.Normal(0, sd_att))\n",
    "        defend = pyro.sample(\"defend\", dist.Normal(0, sd_def))\n",
    "\n",
    "    # likelihood\n",
    "    theta1 = torch.exp(alpha + home + attack[home_id] - defend[away_id])\n",
    "    theta2 = torch.exp(alpha + attack[away_id] - defend[home_id])\n",
    "\n",
    "    with pyro.plate(\"data\", len(home_id)):\n",
    "        pyro.sample(\"s1\", dist.Poisson(theta1), obs=score1_obs)\n",
    "        pyro.sample(\"s2\", dist.Poisson(theta2), obs=score2_obs)\n",
    "\n",
    "def guide(home_id, away_id, score1_obs=None, score2_obs=None):\n",
    "    mu_locs = pyro.param(\"mu_loc\", torch.tensor(0.0).expand(4))\n",
    "    mu_scales = pyro.param(\"mu_scale\", torch.tensor(0.1).expand(4), constraint=constraints.positive)\n",
    "\n",
    "    pyro.sample(\"alpha\", dist.Normal(mu_locs[0], mu_scales[0]))\n",
    "    pyro.sample(\"sd_att\", dist.LogNormal(mu_locs[1], mu_scales[1]))\n",
    "    pyro.sample(\"sd_def\", dist.LogNormal(mu_locs[2], mu_scales[2]))\n",
    "    pyro.sample(\"home\", dist.Normal(mu_locs[3], mu_scales[3]))  # home advantage\n",
    "\n",
    "    nt = len(np.unique(home_id))\n",
    "    #print(\"number of teams: \", nt)\n",
    "\n",
    "    mu_team_locs = pyro.param(\"mu_team_loc\", torch.tensor(0.0).expand(2, nt))\n",
    "    mu_team_scales = pyro.param(\"mu_team_scale\", torch.tensor(0.1).expand(2, nt), constraint=constraints.positive)\n",
    "\n",
    "    with pyro.plate(\"plate_teams\", nt):\n",
    "        pyro.sample(\"attack\", dist.Normal(mu_team_locs[0], mu_team_scales[0]))\n",
    "        pyro.sample(\"defend\", dist.Normal(mu_team_locs[1], mu_team_scales[1]))\n",
    "\n",
    "def run_inference(model, guide, home_id, away_id, score1, score2, args):\n",
    "    gamma = 0.01  # final learning rate will be gamma * initial_lr\n",
    "    lrd = gamma ** (1 / args.num_iterations)\n",
    "\n",
    "    svi = SVI(\n",
    "        model=model,\n",
    "        guide=guide,\n",
    "        optim=ClippedAdam({\"lr\": args.learning_rate, \"lrd\": lrd}),\n",
    "        loss=Trace_ELBO(num_particles=args.num_particles),\n",
    "    )\n",
    "\n",
    "    pyro.clear_param_store()  # clear global parameter cache\n",
    "    pyro.set_rng_seed(args.rng_seed)\n",
    "\n",
    "    advi_loss = []\n",
    "    for j in range(args.num_iterations):\n",
    "        # calculate the loss and take a gradient step\n",
    "        loss = svi.step(\n",
    "            home_id=home_id,\n",
    "            away_id=away_id,\n",
    "            score1_obs=score1.float(),\n",
    "            score2_obs=score2.float(),\n",
    "        )\n",
    "        advi_loss.append(loss)\n",
    "        if j % 100 == 0:\n",
    "            print(\"[iteration %4d] loss: %.4f\" % (j + 1, loss))\n",
    "\n",
    "    print(\"Posterior: \")\n",
    "    for i in pyro.get_param_store().items():\n",
    "        print(i)\n",
    "\n",
    "    fit = Predictive(model=model, guide=guide, num_samples=2000)(\n",
    "        home_id=home_id, away_id=away_id\n",
    "    )\n",
    "\n",
    "    return fit\n",
    "\n",
    "def runThePyroFit(data,args):\n",
    "    print(\"transforming data...\")\n",
    "    teams, df =  transformData(data)\n",
    "    train = df[df[\"split\"] == \"train\"]\n",
    "\n",
    "    print(\"Starting inference...\")\n",
    "    fit = run_inference(\n",
    "        model,\n",
    "        guide,\n",
    "        torch.tensor(train[\"Home_id\"]),\n",
    "        torch.tensor(train[\"Away_id\"]),\n",
    "        torch.tensor(train[\"score1\"]),\n",
    "        torch.tensor(train[\"score2\"]),\n",
    "        args,\n",
    "    )\n",
    "    return fit,teams,df,train\n",
    "\n",
    "#def runThePyroCodeRest(data,args,fit):\n",
    "def runThePyroCodeRest(fit,teams,df,train):\n",
    "#    print(\"transforming data...\")\n",
    "#    teams, df =  transformData(data)\n",
    "#    train = df[df[\"split\"] == \"train\"]\n",
    "\n",
    "#    print(\"Starting inference...\")\n",
    "#    fit = run_inference(\n",
    "#        model,\n",
    "#        guide,\n",
    "#        torch.tensor(train[\"Home_id\"]),\n",
    "#        torch.tensor(train[\"Away_id\"]),\n",
    "#        torch.tensor(train[\"score1\"]),\n",
    "#        torch.tensor(train[\"score2\"]),\n",
    "#        args,\n",
    "#    )\n",
    "\n",
    "    print(\"Analyse posterior...\")\n",
    "\n",
    "\n",
    "    # Predicted goals and table\n",
    "    predict = df[df[\"split\"] == \"predict\"]\n",
    "    #print(\"this many home_ids: \" , predict.Home_id.unique())\n",
    "\n",
    "    predictive = Predictive(\n",
    "        model=model, guide=guide, num_samples=2000, return_sites=[\"s1\", \"s2\"]\n",
    "    )\n",
    " \n",
    "    predicted_score = predictive(\n",
    "        home_id=predict[\"Home_id\"].values,\n",
    "        away_id=predict[\"Away_id\"].values,\n",
    "    )\n",
    "\n",
    "    predicted_full = predict.copy()\n",
    "    predicted_full = predicted_full.assign(\n",
    "        score1=predicted_score[\"s1\"].mean(axis=0).round(),\n",
    "        score1error=predicted_score[\"s1\"].std(axis=0),\n",
    "        score2=predicted_score[\"s2\"].mean(axis=0).round(),\n",
    "        score2error=predicted_score[\"s2\"].std(axis=0),\n",
    "    )\n",
    "\n",
    "    predicted_full = train.append(\n",
    "        predicted_full.drop(columns=[\"score1error\", \"score2error\"])\n",
    "    )\n",
    "\n",
    "    print(score_table(df))\n",
    "    print(score_table(predicted_full))\n",
    "\n",
    "def qualityCalc(fit,teams,df,train):\n",
    "    # Attack and defence\n",
    "    quality = teams.copy()\n",
    "\n",
    "    quality = quality.assign(\n",
    "        attack=fit[\"attack\"].mean(axis=0),\n",
    "        attacksd=fit[\"attack\"].std(axis=0),\n",
    "        defend=fit[\"defend\"].mean(axis=0),\n",
    "        defendsd=fit[\"defend\"].std(axis=0),\n",
    "    )\n",
    "    quality = quality.assign(\n",
    "        attack_low=quality[\"attack\"] - quality[\"attacksd\"],\n",
    "        attack_high=quality[\"attack\"] + quality[\"attacksd\"],\n",
    "        defend_low=quality[\"defend\"] - quality[\"defendsd\"],\n",
    "        defend_high=quality[\"defend\"] + quality[\"defendsd\"],\n",
    "    )\n",
    "    #gotta debug this\n",
    "    return quality\n"
   ]
  },
  {
   "cell_type": "code",
   "execution_count": 68,
   "metadata": {
    "collapsed": false
   },
   "outputs": [
    {
     "name": "stdout",
     "output_type": "stream",
     "text": [
      "transforming data...\n",
      "                Date               Home       Away  score1  score2 HomeConf  \\\n",
      "0  Wed, Dec 29, 2021            Alabama  Tennessee    73.0    68.0      sec   \n",
      "1   Wed, Jan 5, 2022            Florida    Alabama    70.0    83.0      sec   \n",
      "2   Sat, Jan 8, 2022           Missouri    Alabama    92.0    86.0      sec   \n",
      "3  Tue, Jan 11, 2022            Alabama     Auburn    77.0    81.0      sec   \n",
      "4  Sat, Jan 15, 2022  Mississippi State    Alabama    78.0    76.0      sec   \n",
      "\n",
      "  AwayConf  Home_id  Away_id  split  \n",
      "0      sec        0       24  train  \n",
      "1      sec        1        0  train  \n",
      "2      sec        2        0  train  \n",
      "3      sec        0        5  train  \n",
      "4      sec        3        0  train  \n",
      "Starting inference...\n",
      "[iteration    1] loss: 779752.4965\n",
      "[iteration  101] loss: 15183.6685\n",
      "[iteration  201] loss: 13530.3574\n",
      "[iteration  301] loss: 13462.3190\n",
      "[iteration  401] loss: 13491.7193\n",
      "[iteration  501] loss: 13437.1158\n",
      "[iteration  601] loss: 13427.9613\n",
      "[iteration  701] loss: 13429.2430\n",
      "[iteration  801] loss: 13409.7521\n",
      "[iteration  901] loss: 13374.1196\n",
      "[iteration 1001] loss: 13383.4786\n",
      "[iteration 1101] loss: 13378.2988\n",
      "[iteration 1201] loss: 13356.9731\n",
      "[iteration 1301] loss: 13347.5821\n",
      "[iteration 1401] loss: 13351.1170\n",
      "[iteration 1501] loss: 13351.1809\n",
      "[iteration 1601] loss: 13346.1303\n",
      "[iteration 1701] loss: 13347.4148\n",
      "[iteration 1801] loss: 13345.7357\n",
      "[iteration 1901] loss: 13358.7211\n",
      "Posterior: \n",
      "('mu_loc', tensor([1.1212, 0.5532, 0.3341, 0.0435], requires_grad=True))\n",
      "('mu_scale', tensor([0.0022, 0.0770, 0.0787, 0.0028], grad_fn=<AddBackward0>))\n",
      "('mu_team_loc', tensor([[ 1.8681,  1.7042,  1.6555,  1.7357,  1.7608,  1.8363,  1.6998,  1.8379,\n",
      "          1.7260,  1.7367,  1.6410,  1.7592,  1.6702,  1.6010,  1.6285,  1.7471,\n",
      "          1.8815,  1.7444,  1.6948,  1.7682,  1.7135,  1.6858,  1.7045,  1.7766,\n",
      "          1.7561,  1.8089,  1.7417,  1.7132,  1.8096,  1.6691,  1.7141,  1.7488,\n",
      "          1.7170,  1.8759,  1.7431,  1.7642,  1.7022,  1.7230,  1.6505,  1.5788,\n",
      "          1.7019,  1.6344,  1.8112,  1.8161,  1.6186,  1.7374,  1.8002,  1.7396,\n",
      "          1.6563,  1.7179,  1.9385,  1.7851,  1.8065,  1.5817,  1.6707,  1.6368,\n",
      "          1.6616,  1.6022,  1.7046,  1.7589,  1.7508,  1.7539,  1.7568,  1.7098,\n",
      "          1.8138,  1.7236,  1.7860,  1.6734,  1.7842,  1.7943,  1.6767,  1.7474,\n",
      "          1.7478,  1.8159,  1.6697,  1.6056,  1.8360,  1.6614,  1.7264,  1.7106,\n",
      "          1.7042,  1.7276,  1.7513,  1.7219,  1.6187,  1.7024],\n",
      "        [-1.4618, -1.3333, -1.3821, -1.3603, -1.5284, -1.3299, -1.3787, -1.3262,\n",
      "         -1.3612, -1.3045, -1.3242, -1.4119, -1.3277, -1.3591, -1.3675, -1.3935,\n",
      "         -1.3965, -1.4398, -1.3228, -1.2885, -1.3558, -1.4531, -1.5299, -1.3553,\n",
      "         -1.2806, -1.3198, -1.3785, -1.3799, -1.2841, -1.2745, -1.3122, -1.3860,\n",
      "         -1.3370, -1.3690, -1.3617, -1.2562, -1.2843, -1.2756, -1.4128, -1.3745,\n",
      "         -1.3981, -1.4239, -1.4102, -1.4320, -1.2983, -1.3607, -1.4757, -1.4986,\n",
      "         -1.4346, -1.4114, -1.3719, -1.3706, -1.4920, -1.4799, -1.5063, -1.5325,\n",
      "         -1.2155, -1.3571, -1.5023, -1.3049, -1.3389, -1.3539, -1.4157, -1.4142,\n",
      "         -1.4790, -1.3659, -1.4022, -1.3302, -1.4077, -1.3391, -1.4197, -1.5387,\n",
      "         -1.3751, -1.3880, -1.3176, -1.4375, -1.4229, -1.4136, -1.4127, -1.4007,\n",
      "         -1.3685, -1.3757, -1.3854, -1.3564, -1.3236, -1.4789]],\n",
      "       requires_grad=True))\n",
      "('mu_team_scale', tensor([[0.0185, 0.0184, 0.0192, 0.0194, 0.0185, 0.0186, 0.0202, 0.0187, 0.0195,\n",
      "         0.0188, 0.0184, 0.0173, 0.0189, 0.0184, 0.0191, 0.0186, 0.0168, 0.0191,\n",
      "         0.0190, 0.0174, 0.0185, 0.0186, 0.0190, 0.0171, 0.0180, 0.0190, 0.0195,\n",
      "         0.0197, 0.0182, 0.0195, 0.0200, 0.0268, 0.0199, 0.0177, 0.0194, 0.0199,\n",
      "         0.0208, 0.0189, 0.0199, 0.0191, 0.0180, 0.0185, 0.0176, 0.0172, 0.0190,\n",
      "         0.0183, 0.0168, 0.0179, 0.0177, 0.0204, 0.0199, 0.0198, 0.0199, 0.0222,\n",
      "         0.0223, 0.0209, 0.0218, 0.0203, 0.0179, 0.0182, 0.0188, 0.0194, 0.0250,\n",
      "         0.0191, 0.0188, 0.0187, 0.0177, 0.0193, 0.0180, 0.0178, 0.0188, 0.0173,\n",
      "         0.0186, 0.0179, 0.0187, 0.0211, 0.0182, 0.0194, 0.0191, 0.0191, 0.0193,\n",
      "         0.0179, 0.0187, 0.0250, 0.0194, 0.0210],\n",
      "        [0.0184, 0.0184, 0.0178, 0.0186, 0.0172, 0.0193, 0.0200, 0.0191, 0.0192,\n",
      "         0.0187, 0.0179, 0.0179, 0.0191, 0.0182, 0.0179, 0.0191, 0.0179, 0.0179,\n",
      "         0.0192, 0.0195, 0.0184, 0.0179, 0.0164, 0.0177, 0.0187, 0.0208, 0.0193,\n",
      "         0.0191, 0.0186, 0.0194, 0.0196, 0.0252, 0.0199, 0.0186, 0.0184, 0.0211,\n",
      "         0.0197, 0.0187, 0.0191, 0.0174, 0.0180, 0.0180, 0.0189, 0.0181, 0.0196,\n",
      "         0.0184, 0.0171, 0.0176, 0.0179, 0.0208, 0.0219, 0.0207, 0.0193, 0.0200,\n",
      "         0.0205, 0.0189, 0.0226, 0.0184, 0.0170, 0.0188, 0.0198, 0.0211, 0.0254,\n",
      "         0.0182, 0.0174, 0.0183, 0.0182, 0.0182, 0.0178, 0.0198, 0.0173, 0.0166,\n",
      "         0.0186, 0.0185, 0.0193, 0.0207, 0.0181, 0.0182, 0.0180, 0.0177, 0.0191,\n",
      "         0.0184, 0.0188, 0.0266, 0.0196, 0.0204]], grad_fn=<AddBackward0>))\n"
     ]
    }
   ],
   "source": [
    "class Args():\n",
    "    learning_rate = 0.1\n",
    "    num_particles = 1\n",
    "    rng_seed = 1\n",
    "    num_iterations = 2000\n",
    "\n",
    "args=Args()\n",
    "#runThePyroCode(big10df,args)\n",
    "#fit,teams,df,train = runThePyroFit(big10df,args)\n",
    "fit,teams,df,train = runThePyroFit(bdf,args)"
   ]
  },
  {
   "cell_type": "code",
   "execution_count": 72,
   "metadata": {
    "collapsed": false
   },
   "outputs": [
    {
     "name": "stdout",
     "output_type": "stream",
     "text": [
      "Analyse posterior...\n"
     ]
    },
    {
     "ename": "ValueError",
     "evalue": "Shape mismatch inside plate('plate_teams') at site attack dim -1, 33 vs 86\n   Trace Shapes:      \n    Param Sites:      \n          mu_loc     4\n        mu_scale     4\n     mu_team_loc  2 86\n   mu_team_scale  2 86\n   Sample Sites:      \n      alpha dist     |\n           value     |\n     sd_att dist     |\n           value     |\n     sd_def dist     |\n           value     |\n       home dist     |\n           value     |\nplate_teams dist     |\n           value 33  |",
     "output_type": "error",
     "traceback": [
      "\u001b[0;31m---------------------------------------------------------------------------\u001b[0m",
      "\u001b[0;31mValueError\u001b[0m                                Traceback (most recent call last)",
      "\u001b[0;32m~/.local/lib/python3.9/site-packages/pyro/poutine/trace_messenger.py\u001b[0m in \u001b[0;36m__call__\u001b[0;34m(self, *args, **kwargs)\u001b[0m\n\u001b[1;32m    173\u001b[0m             \u001b[0;32mtry\u001b[0m\u001b[0;34m:\u001b[0m\u001b[0;34m\u001b[0m\u001b[0;34m\u001b[0m\u001b[0m\n\u001b[0;32m--> 174\u001b[0;31m                 \u001b[0mret\u001b[0m \u001b[0;34m=\u001b[0m \u001b[0mself\u001b[0m\u001b[0;34m.\u001b[0m\u001b[0mfn\u001b[0m\u001b[0;34m(\u001b[0m\u001b[0;34m*\u001b[0m\u001b[0margs\u001b[0m\u001b[0;34m,\u001b[0m \u001b[0;34m**\u001b[0m\u001b[0mkwargs\u001b[0m\u001b[0;34m)\u001b[0m\u001b[0;34m\u001b[0m\u001b[0;34m\u001b[0m\u001b[0m\n\u001b[0m\u001b[1;32m    175\u001b[0m             \u001b[0;32mexcept\u001b[0m \u001b[0;34m(\u001b[0m\u001b[0mValueError\u001b[0m\u001b[0;34m,\u001b[0m \u001b[0mRuntimeError\u001b[0m\u001b[0;34m)\u001b[0m \u001b[0;32mas\u001b[0m \u001b[0me\u001b[0m\u001b[0;34m:\u001b[0m\u001b[0;34m\u001b[0m\u001b[0;34m\u001b[0m\u001b[0m\n",
      "\u001b[0;32m~/.local/lib/python3.9/site-packages/torch/autograd/grad_mode.py\u001b[0m in \u001b[0;36mdecorate_context\u001b[0;34m(*args, **kwargs)\u001b[0m\n\u001b[1;32m     27\u001b[0m             \u001b[0;32mwith\u001b[0m \u001b[0mself\u001b[0m\u001b[0;34m.\u001b[0m\u001b[0m__class__\u001b[0m\u001b[0;34m(\u001b[0m\u001b[0;34m)\u001b[0m\u001b[0;34m:\u001b[0m\u001b[0;34m\u001b[0m\u001b[0;34m\u001b[0m\u001b[0m\n\u001b[0;32m---> 28\u001b[0;31m                 \u001b[0;32mreturn\u001b[0m \u001b[0mfunc\u001b[0m\u001b[0;34m(\u001b[0m\u001b[0;34m*\u001b[0m\u001b[0margs\u001b[0m\u001b[0;34m,\u001b[0m \u001b[0;34m**\u001b[0m\u001b[0mkwargs\u001b[0m\u001b[0;34m)\u001b[0m\u001b[0;34m\u001b[0m\u001b[0;34m\u001b[0m\u001b[0m\n\u001b[0m\u001b[1;32m     29\u001b[0m         \u001b[0;32mreturn\u001b[0m \u001b[0mcast\u001b[0m\u001b[0;34m(\u001b[0m\u001b[0mF\u001b[0m\u001b[0;34m,\u001b[0m \u001b[0mdecorate_context\u001b[0m\u001b[0;34m)\u001b[0m\u001b[0;34m\u001b[0m\u001b[0;34m\u001b[0m\u001b[0m\n",
      "\u001b[0;32m~/.local/lib/python3.9/site-packages/pyro/poutine/messenger.py\u001b[0m in \u001b[0;36m_context_wrap\u001b[0;34m(context, fn, *args, **kwargs)\u001b[0m\n\u001b[1;32m     11\u001b[0m     \u001b[0;32mwith\u001b[0m \u001b[0mcontext\u001b[0m\u001b[0;34m:\u001b[0m\u001b[0;34m\u001b[0m\u001b[0;34m\u001b[0m\u001b[0m\n\u001b[0;32m---> 12\u001b[0;31m         \u001b[0;32mreturn\u001b[0m \u001b[0mfn\u001b[0m\u001b[0;34m(\u001b[0m\u001b[0;34m*\u001b[0m\u001b[0margs\u001b[0m\u001b[0;34m,\u001b[0m \u001b[0;34m**\u001b[0m\u001b[0mkwargs\u001b[0m\u001b[0;34m)\u001b[0m\u001b[0;34m\u001b[0m\u001b[0;34m\u001b[0m\u001b[0m\n\u001b[0m\u001b[1;32m     13\u001b[0m \u001b[0;34m\u001b[0m\u001b[0m\n",
      "\u001b[0;32m<ipython-input-49-a52f788775f7>\u001b[0m in \u001b[0;36mguide\u001b[0;34m(home_id, away_id, score1_obs, score2_obs)\u001b[0m\n\u001b[1;32m     44\u001b[0m     \u001b[0;32mwith\u001b[0m \u001b[0mpyro\u001b[0m\u001b[0;34m.\u001b[0m\u001b[0mplate\u001b[0m\u001b[0;34m(\u001b[0m\u001b[0;34m\"plate_teams\"\u001b[0m\u001b[0;34m,\u001b[0m \u001b[0mnt\u001b[0m\u001b[0;34m)\u001b[0m\u001b[0;34m:\u001b[0m\u001b[0;34m\u001b[0m\u001b[0;34m\u001b[0m\u001b[0m\n\u001b[0;32m---> 45\u001b[0;31m         \u001b[0mpyro\u001b[0m\u001b[0;34m.\u001b[0m\u001b[0msample\u001b[0m\u001b[0;34m(\u001b[0m\u001b[0;34m\"attack\"\u001b[0m\u001b[0;34m,\u001b[0m \u001b[0mdist\u001b[0m\u001b[0;34m.\u001b[0m\u001b[0mNormal\u001b[0m\u001b[0;34m(\u001b[0m\u001b[0mmu_team_locs\u001b[0m\u001b[0;34m[\u001b[0m\u001b[0;36m0\u001b[0m\u001b[0;34m]\u001b[0m\u001b[0;34m,\u001b[0m \u001b[0mmu_team_scales\u001b[0m\u001b[0;34m[\u001b[0m\u001b[0;36m0\u001b[0m\u001b[0;34m]\u001b[0m\u001b[0;34m)\u001b[0m\u001b[0;34m)\u001b[0m\u001b[0;34m\u001b[0m\u001b[0;34m\u001b[0m\u001b[0m\n\u001b[0m\u001b[1;32m     46\u001b[0m         \u001b[0mpyro\u001b[0m\u001b[0;34m.\u001b[0m\u001b[0msample\u001b[0m\u001b[0;34m(\u001b[0m\u001b[0;34m\"defend\"\u001b[0m\u001b[0;34m,\u001b[0m \u001b[0mdist\u001b[0m\u001b[0;34m.\u001b[0m\u001b[0mNormal\u001b[0m\u001b[0;34m(\u001b[0m\u001b[0mmu_team_locs\u001b[0m\u001b[0;34m[\u001b[0m\u001b[0;36m1\u001b[0m\u001b[0;34m]\u001b[0m\u001b[0;34m,\u001b[0m \u001b[0mmu_team_scales\u001b[0m\u001b[0;34m[\u001b[0m\u001b[0;36m1\u001b[0m\u001b[0;34m]\u001b[0m\u001b[0;34m)\u001b[0m\u001b[0;34m)\u001b[0m\u001b[0;34m\u001b[0m\u001b[0;34m\u001b[0m\u001b[0m\n",
      "\u001b[0;32m~/.local/lib/python3.9/site-packages/pyro/primitives.py\u001b[0m in \u001b[0;36msample\u001b[0;34m(name, fn, *args, **kwargs)\u001b[0m\n\u001b[1;32m    162\u001b[0m         \u001b[0;31m# apply the stack and return its return value\u001b[0m\u001b[0;34m\u001b[0m\u001b[0;34m\u001b[0m\u001b[0;34m\u001b[0m\u001b[0m\n\u001b[0;32m--> 163\u001b[0;31m         \u001b[0mapply_stack\u001b[0m\u001b[0;34m(\u001b[0m\u001b[0mmsg\u001b[0m\u001b[0;34m)\u001b[0m\u001b[0;34m\u001b[0m\u001b[0;34m\u001b[0m\u001b[0m\n\u001b[0m\u001b[1;32m    164\u001b[0m         \u001b[0;32mreturn\u001b[0m \u001b[0mmsg\u001b[0m\u001b[0;34m[\u001b[0m\u001b[0;34m\"value\"\u001b[0m\u001b[0;34m]\u001b[0m\u001b[0;34m\u001b[0m\u001b[0;34m\u001b[0m\u001b[0m\n",
      "\u001b[0;32m~/.local/lib/python3.9/site-packages/pyro/poutine/runtime.py\u001b[0m in \u001b[0;36mapply_stack\u001b[0;34m(initial_msg)\u001b[0m\n\u001b[1;32m    212\u001b[0m \u001b[0;34m\u001b[0m\u001b[0m\n\u001b[0;32m--> 213\u001b[0;31m         \u001b[0mframe\u001b[0m\u001b[0;34m.\u001b[0m\u001b[0m_process_message\u001b[0m\u001b[0;34m(\u001b[0m\u001b[0mmsg\u001b[0m\u001b[0;34m)\u001b[0m\u001b[0;34m\u001b[0m\u001b[0;34m\u001b[0m\u001b[0m\n\u001b[0m\u001b[1;32m    214\u001b[0m \u001b[0;34m\u001b[0m\u001b[0m\n",
      "\u001b[0;32m~/.local/lib/python3.9/site-packages/pyro/poutine/plate_messenger.py\u001b[0m in \u001b[0;36m_process_message\u001b[0;34m(self, msg)\u001b[0m\n\u001b[1;32m     18\u001b[0m         \u001b[0msuper\u001b[0m\u001b[0;34m(\u001b[0m\u001b[0;34m)\u001b[0m\u001b[0;34m.\u001b[0m\u001b[0m_process_message\u001b[0m\u001b[0;34m(\u001b[0m\u001b[0mmsg\u001b[0m\u001b[0;34m)\u001b[0m\u001b[0;34m\u001b[0m\u001b[0;34m\u001b[0m\u001b[0m\n\u001b[0;32m---> 19\u001b[0;31m         \u001b[0;32mreturn\u001b[0m \u001b[0mBroadcastMessenger\u001b[0m\u001b[0;34m.\u001b[0m\u001b[0m_pyro_sample\u001b[0m\u001b[0;34m(\u001b[0m\u001b[0mmsg\u001b[0m\u001b[0;34m)\u001b[0m\u001b[0;34m\u001b[0m\u001b[0;34m\u001b[0m\u001b[0m\n\u001b[0m\u001b[1;32m     20\u001b[0m \u001b[0;34m\u001b[0m\u001b[0m\n",
      "\u001b[0;32m/usr/local/lib/python3.9/contextlib.py\u001b[0m in \u001b[0;36minner\u001b[0;34m(*args, **kwds)\u001b[0m\n\u001b[1;32m     78\u001b[0m             \u001b[0;32mwith\u001b[0m \u001b[0mself\u001b[0m\u001b[0;34m.\u001b[0m\u001b[0m_recreate_cm\u001b[0m\u001b[0;34m(\u001b[0m\u001b[0;34m)\u001b[0m\u001b[0;34m:\u001b[0m\u001b[0;34m\u001b[0m\u001b[0;34m\u001b[0m\u001b[0m\n\u001b[0;32m---> 79\u001b[0;31m                 \u001b[0;32mreturn\u001b[0m \u001b[0mfunc\u001b[0m\u001b[0;34m(\u001b[0m\u001b[0;34m*\u001b[0m\u001b[0margs\u001b[0m\u001b[0;34m,\u001b[0m \u001b[0;34m**\u001b[0m\u001b[0mkwds\u001b[0m\u001b[0;34m)\u001b[0m\u001b[0;34m\u001b[0m\u001b[0;34m\u001b[0m\u001b[0m\n\u001b[0m\u001b[1;32m     80\u001b[0m         \u001b[0;32mreturn\u001b[0m \u001b[0minner\u001b[0m\u001b[0;34m\u001b[0m\u001b[0;34m\u001b[0m\u001b[0m\n",
      "\u001b[0;32m~/.local/lib/python3.9/site-packages/pyro/poutine/broadcast_messenger.py\u001b[0m in \u001b[0;36m_pyro_sample\u001b[0;34m(msg)\u001b[0m\n\u001b[1;32m     64\u001b[0m                 ):\n\u001b[0;32m---> 65\u001b[0;31m                     raise ValueError(\n\u001b[0m\u001b[1;32m     66\u001b[0m                         \"Shape mismatch inside plate('{}') at site {} dim {}, {} vs {}\".format(\n",
      "\u001b[0;31mValueError\u001b[0m: Shape mismatch inside plate('plate_teams') at site attack dim -1, 33 vs 86",
      "\nThe above exception was the direct cause of the following exception:\n",
      "\u001b[0;31mValueError\u001b[0m                                Traceback (most recent call last)",
      "\u001b[0;32m<ipython-input-72-f16c7066c167>\u001b[0m in \u001b[0;36m<module>\u001b[0;34m\u001b[0m\n\u001b[0;32m----> 1\u001b[0;31m \u001b[0mrunThePyroCodeRest\u001b[0m\u001b[0;34m(\u001b[0m\u001b[0mfit\u001b[0m\u001b[0;34m,\u001b[0m\u001b[0mteams\u001b[0m\u001b[0;34m,\u001b[0m\u001b[0mdf\u001b[0m\u001b[0;34m,\u001b[0m\u001b[0mtrain\u001b[0m\u001b[0;34m)\u001b[0m\u001b[0;34m\u001b[0m\u001b[0;34m\u001b[0m\u001b[0m\n\u001b[0m",
      "\u001b[0;32m<ipython-input-49-a52f788775f7>\u001b[0m in \u001b[0;36mrunThePyroCodeRest\u001b[0;34m(fit, teams, df, train)\u001b[0m\n\u001b[1;32m    128\u001b[0m     )\n\u001b[1;32m    129\u001b[0m \u001b[0;34m\u001b[0m\u001b[0m\n\u001b[0;32m--> 130\u001b[0;31m     predicted_score = predictive(\n\u001b[0m\u001b[1;32m    131\u001b[0m         \u001b[0mhome_id\u001b[0m\u001b[0;34m=\u001b[0m\u001b[0mpredict\u001b[0m\u001b[0;34m[\u001b[0m\u001b[0;34m\"Home_id\"\u001b[0m\u001b[0;34m]\u001b[0m\u001b[0;34m.\u001b[0m\u001b[0mvalues\u001b[0m\u001b[0;34m,\u001b[0m\u001b[0;34m\u001b[0m\u001b[0;34m\u001b[0m\u001b[0m\n\u001b[1;32m    132\u001b[0m         \u001b[0maway_id\u001b[0m\u001b[0;34m=\u001b[0m\u001b[0mpredict\u001b[0m\u001b[0;34m[\u001b[0m\u001b[0;34m\"Away_id\"\u001b[0m\u001b[0;34m]\u001b[0m\u001b[0;34m.\u001b[0m\u001b[0mvalues\u001b[0m\u001b[0;34m,\u001b[0m\u001b[0;34m\u001b[0m\u001b[0;34m\u001b[0m\u001b[0m\n",
      "\u001b[0;32m~/.local/lib/python3.9/site-packages/torch/nn/modules/module.py\u001b[0m in \u001b[0;36m_call_impl\u001b[0;34m(self, *input, **kwargs)\u001b[0m\n\u001b[1;32m   1100\u001b[0m         if not (self._backward_hooks or self._forward_hooks or self._forward_pre_hooks or _global_backward_hooks\n\u001b[1;32m   1101\u001b[0m                 or _global_forward_hooks or _global_forward_pre_hooks):\n\u001b[0;32m-> 1102\u001b[0;31m             \u001b[0;32mreturn\u001b[0m \u001b[0mforward_call\u001b[0m\u001b[0;34m(\u001b[0m\u001b[0;34m*\u001b[0m\u001b[0minput\u001b[0m\u001b[0;34m,\u001b[0m \u001b[0;34m**\u001b[0m\u001b[0mkwargs\u001b[0m\u001b[0;34m)\u001b[0m\u001b[0;34m\u001b[0m\u001b[0;34m\u001b[0m\u001b[0m\n\u001b[0m\u001b[1;32m   1103\u001b[0m         \u001b[0;31m# Do not call functions when jit is used\u001b[0m\u001b[0;34m\u001b[0m\u001b[0;34m\u001b[0m\u001b[0;34m\u001b[0m\u001b[0m\n\u001b[1;32m   1104\u001b[0m         \u001b[0mfull_backward_hooks\u001b[0m\u001b[0;34m,\u001b[0m \u001b[0mnon_full_backward_hooks\u001b[0m \u001b[0;34m=\u001b[0m \u001b[0;34m[\u001b[0m\u001b[0;34m]\u001b[0m\u001b[0;34m,\u001b[0m \u001b[0;34m[\u001b[0m\u001b[0;34m]\u001b[0m\u001b[0;34m\u001b[0m\u001b[0;34m\u001b[0m\u001b[0m\n",
      "\u001b[0;32m~/.local/lib/python3.9/site-packages/pyro/infer/predictive.py\u001b[0m in \u001b[0;36mforward\u001b[0;34m(self, *args, **kwargs)\u001b[0m\n\u001b[1;32m    262\u001b[0m             \u001b[0;31m# return all sites by default if a guide is provided.\u001b[0m\u001b[0;34m\u001b[0m\u001b[0;34m\u001b[0m\u001b[0;34m\u001b[0m\u001b[0m\n\u001b[1;32m    263\u001b[0m             \u001b[0mreturn_sites\u001b[0m \u001b[0;34m=\u001b[0m \u001b[0;32mNone\u001b[0m \u001b[0;32mif\u001b[0m \u001b[0;32mnot\u001b[0m \u001b[0mreturn_sites\u001b[0m \u001b[0;32melse\u001b[0m \u001b[0mreturn_sites\u001b[0m\u001b[0;34m\u001b[0m\u001b[0;34m\u001b[0m\u001b[0m\n\u001b[0;32m--> 264\u001b[0;31m             posterior_samples = _predictive(\n\u001b[0m\u001b[1;32m    265\u001b[0m                 \u001b[0mself\u001b[0m\u001b[0;34m.\u001b[0m\u001b[0mguide\u001b[0m\u001b[0;34m,\u001b[0m\u001b[0;34m\u001b[0m\u001b[0;34m\u001b[0m\u001b[0m\n\u001b[1;32m    266\u001b[0m                 \u001b[0mposterior_samples\u001b[0m\u001b[0;34m,\u001b[0m\u001b[0;34m\u001b[0m\u001b[0;34m\u001b[0m\u001b[0m\n",
      "\u001b[0;32m~/.local/lib/python3.9/site-packages/pyro/infer/predictive.py\u001b[0m in \u001b[0;36m_predictive\u001b[0;34m(model, posterior_samples, num_samples, return_sites, return_trace, parallel, model_args, model_kwargs)\u001b[0m\n\u001b[1;32m     76\u001b[0m ):\n\u001b[1;32m     77\u001b[0m     \u001b[0mmodel\u001b[0m \u001b[0;34m=\u001b[0m \u001b[0mtorch\u001b[0m\u001b[0;34m.\u001b[0m\u001b[0mno_grad\u001b[0m\u001b[0;34m(\u001b[0m\u001b[0;34m)\u001b[0m\u001b[0;34m(\u001b[0m\u001b[0mpoutine\u001b[0m\u001b[0;34m.\u001b[0m\u001b[0mmask\u001b[0m\u001b[0;34m(\u001b[0m\u001b[0mmodel\u001b[0m\u001b[0;34m,\u001b[0m \u001b[0mmask\u001b[0m\u001b[0;34m=\u001b[0m\u001b[0;32mFalse\u001b[0m\u001b[0;34m)\u001b[0m\u001b[0;34m)\u001b[0m\u001b[0;34m\u001b[0m\u001b[0;34m\u001b[0m\u001b[0m\n\u001b[0;32m---> 78\u001b[0;31m     \u001b[0mmax_plate_nesting\u001b[0m \u001b[0;34m=\u001b[0m \u001b[0m_guess_max_plate_nesting\u001b[0m\u001b[0;34m(\u001b[0m\u001b[0mmodel\u001b[0m\u001b[0;34m,\u001b[0m \u001b[0mmodel_args\u001b[0m\u001b[0;34m,\u001b[0m \u001b[0mmodel_kwargs\u001b[0m\u001b[0;34m)\u001b[0m\u001b[0;34m\u001b[0m\u001b[0;34m\u001b[0m\u001b[0m\n\u001b[0m\u001b[1;32m     79\u001b[0m     vectorize = pyro.plate(\n\u001b[1;32m     80\u001b[0m         \u001b[0;34m\"_num_predictive_samples\"\u001b[0m\u001b[0;34m,\u001b[0m \u001b[0mnum_samples\u001b[0m\u001b[0;34m,\u001b[0m \u001b[0mdim\u001b[0m\u001b[0;34m=\u001b[0m\u001b[0;34m-\u001b[0m\u001b[0mmax_plate_nesting\u001b[0m \u001b[0;34m-\u001b[0m \u001b[0;36m1\u001b[0m\u001b[0;34m\u001b[0m\u001b[0;34m\u001b[0m\u001b[0m\n",
      "\u001b[0;32m~/.local/lib/python3.9/site-packages/pyro/infer/predictive.py\u001b[0m in \u001b[0;36m_guess_max_plate_nesting\u001b[0;34m(model, args, kwargs)\u001b[0m\n\u001b[1;32m     19\u001b[0m     \"\"\"\n\u001b[1;32m     20\u001b[0m     \u001b[0;32mwith\u001b[0m \u001b[0mpoutine\u001b[0m\u001b[0;34m.\u001b[0m\u001b[0mblock\u001b[0m\u001b[0;34m(\u001b[0m\u001b[0;34m)\u001b[0m\u001b[0;34m:\u001b[0m\u001b[0;34m\u001b[0m\u001b[0;34m\u001b[0m\u001b[0m\n\u001b[0;32m---> 21\u001b[0;31m         \u001b[0mmodel_trace\u001b[0m \u001b[0;34m=\u001b[0m \u001b[0mpoutine\u001b[0m\u001b[0;34m.\u001b[0m\u001b[0mtrace\u001b[0m\u001b[0;34m(\u001b[0m\u001b[0mmodel\u001b[0m\u001b[0;34m)\u001b[0m\u001b[0;34m.\u001b[0m\u001b[0mget_trace\u001b[0m\u001b[0;34m(\u001b[0m\u001b[0;34m*\u001b[0m\u001b[0margs\u001b[0m\u001b[0;34m,\u001b[0m \u001b[0;34m**\u001b[0m\u001b[0mkwargs\u001b[0m\u001b[0;34m)\u001b[0m\u001b[0;34m\u001b[0m\u001b[0;34m\u001b[0m\u001b[0m\n\u001b[0m\u001b[1;32m     22\u001b[0m     \u001b[0msites\u001b[0m \u001b[0;34m=\u001b[0m \u001b[0;34m[\u001b[0m\u001b[0msite\u001b[0m \u001b[0;32mfor\u001b[0m \u001b[0msite\u001b[0m \u001b[0;32min\u001b[0m \u001b[0mmodel_trace\u001b[0m\u001b[0;34m.\u001b[0m\u001b[0mnodes\u001b[0m\u001b[0;34m.\u001b[0m\u001b[0mvalues\u001b[0m\u001b[0;34m(\u001b[0m\u001b[0;34m)\u001b[0m \u001b[0;32mif\u001b[0m \u001b[0msite\u001b[0m\u001b[0;34m[\u001b[0m\u001b[0;34m\"type\"\u001b[0m\u001b[0;34m]\u001b[0m \u001b[0;34m==\u001b[0m \u001b[0;34m\"sample\"\u001b[0m\u001b[0;34m]\u001b[0m\u001b[0;34m\u001b[0m\u001b[0;34m\u001b[0m\u001b[0m\n\u001b[1;32m     23\u001b[0m \u001b[0;34m\u001b[0m\u001b[0m\n",
      "\u001b[0;32m~/.local/lib/python3.9/site-packages/pyro/poutine/trace_messenger.py\u001b[0m in \u001b[0;36mget_trace\u001b[0;34m(self, *args, **kwargs)\u001b[0m\n\u001b[1;32m    196\u001b[0m         \u001b[0mCalls\u001b[0m \u001b[0mthis\u001b[0m \u001b[0mpoutine\u001b[0m \u001b[0;32mand\u001b[0m \u001b[0mreturns\u001b[0m \u001b[0mits\u001b[0m \u001b[0mtrace\u001b[0m \u001b[0minstead\u001b[0m \u001b[0mof\u001b[0m \u001b[0mthe\u001b[0m \u001b[0mfunction\u001b[0m\u001b[0;31m'\u001b[0m\u001b[0ms\u001b[0m \u001b[0;32mreturn\u001b[0m \u001b[0mvalue\u001b[0m\u001b[0;34m.\u001b[0m\u001b[0;34m\u001b[0m\u001b[0;34m\u001b[0m\u001b[0m\n\u001b[1;32m    197\u001b[0m         \"\"\"\n\u001b[0;32m--> 198\u001b[0;31m         \u001b[0mself\u001b[0m\u001b[0;34m(\u001b[0m\u001b[0;34m*\u001b[0m\u001b[0margs\u001b[0m\u001b[0;34m,\u001b[0m \u001b[0;34m**\u001b[0m\u001b[0mkwargs\u001b[0m\u001b[0;34m)\u001b[0m\u001b[0;34m\u001b[0m\u001b[0;34m\u001b[0m\u001b[0m\n\u001b[0m\u001b[1;32m    199\u001b[0m         \u001b[0;32mreturn\u001b[0m \u001b[0mself\u001b[0m\u001b[0;34m.\u001b[0m\u001b[0mmsngr\u001b[0m\u001b[0;34m.\u001b[0m\u001b[0mget_trace\u001b[0m\u001b[0;34m(\u001b[0m\u001b[0;34m)\u001b[0m\u001b[0;34m\u001b[0m\u001b[0;34m\u001b[0m\u001b[0m\n",
      "\u001b[0;32m~/.local/lib/python3.9/site-packages/pyro/poutine/trace_messenger.py\u001b[0m in \u001b[0;36m__call__\u001b[0;34m(self, *args, **kwargs)\u001b[0m\n\u001b[1;32m    178\u001b[0m                 \u001b[0mexc\u001b[0m \u001b[0;34m=\u001b[0m \u001b[0mexc_type\u001b[0m\u001b[0;34m(\u001b[0m\u001b[0;34mu\"{}\\n{}\"\u001b[0m\u001b[0;34m.\u001b[0m\u001b[0mformat\u001b[0m\u001b[0;34m(\u001b[0m\u001b[0mexc_value\u001b[0m\u001b[0;34m,\u001b[0m \u001b[0mshapes\u001b[0m\u001b[0;34m)\u001b[0m\u001b[0;34m)\u001b[0m\u001b[0;34m\u001b[0m\u001b[0;34m\u001b[0m\u001b[0m\n\u001b[1;32m    179\u001b[0m                 \u001b[0mexc\u001b[0m \u001b[0;34m=\u001b[0m \u001b[0mexc\u001b[0m\u001b[0;34m.\u001b[0m\u001b[0mwith_traceback\u001b[0m\u001b[0;34m(\u001b[0m\u001b[0mtraceback\u001b[0m\u001b[0;34m)\u001b[0m\u001b[0;34m\u001b[0m\u001b[0;34m\u001b[0m\u001b[0m\n\u001b[0;32m--> 180\u001b[0;31m                 \u001b[0;32mraise\u001b[0m \u001b[0mexc\u001b[0m \u001b[0;32mfrom\u001b[0m \u001b[0me\u001b[0m\u001b[0;34m\u001b[0m\u001b[0;34m\u001b[0m\u001b[0m\n\u001b[0m\u001b[1;32m    181\u001b[0m             self.msngr.trace.add_node(\n\u001b[1;32m    182\u001b[0m                 \u001b[0;34m\"_RETURN\"\u001b[0m\u001b[0;34m,\u001b[0m \u001b[0mname\u001b[0m\u001b[0;34m=\u001b[0m\u001b[0;34m\"_RETURN\"\u001b[0m\u001b[0;34m,\u001b[0m \u001b[0mtype\u001b[0m\u001b[0;34m=\u001b[0m\u001b[0;34m\"return\"\u001b[0m\u001b[0;34m,\u001b[0m \u001b[0mvalue\u001b[0m\u001b[0;34m=\u001b[0m\u001b[0mret\u001b[0m\u001b[0;34m\u001b[0m\u001b[0;34m\u001b[0m\u001b[0m\n",
      "\u001b[0;32m~/.local/lib/python3.9/site-packages/pyro/poutine/trace_messenger.py\u001b[0m in \u001b[0;36m__call__\u001b[0;34m(self, *args, **kwargs)\u001b[0m\n\u001b[1;32m    172\u001b[0m             )\n\u001b[1;32m    173\u001b[0m             \u001b[0;32mtry\u001b[0m\u001b[0;34m:\u001b[0m\u001b[0;34m\u001b[0m\u001b[0;34m\u001b[0m\u001b[0m\n\u001b[0;32m--> 174\u001b[0;31m                 \u001b[0mret\u001b[0m \u001b[0;34m=\u001b[0m \u001b[0mself\u001b[0m\u001b[0;34m.\u001b[0m\u001b[0mfn\u001b[0m\u001b[0;34m(\u001b[0m\u001b[0;34m*\u001b[0m\u001b[0margs\u001b[0m\u001b[0;34m,\u001b[0m \u001b[0;34m**\u001b[0m\u001b[0mkwargs\u001b[0m\u001b[0;34m)\u001b[0m\u001b[0;34m\u001b[0m\u001b[0;34m\u001b[0m\u001b[0m\n\u001b[0m\u001b[1;32m    175\u001b[0m             \u001b[0;32mexcept\u001b[0m \u001b[0;34m(\u001b[0m\u001b[0mValueError\u001b[0m\u001b[0;34m,\u001b[0m \u001b[0mRuntimeError\u001b[0m\u001b[0;34m)\u001b[0m \u001b[0;32mas\u001b[0m \u001b[0me\u001b[0m\u001b[0;34m:\u001b[0m\u001b[0;34m\u001b[0m\u001b[0;34m\u001b[0m\u001b[0m\n\u001b[1;32m    176\u001b[0m                 \u001b[0mexc_type\u001b[0m\u001b[0;34m,\u001b[0m \u001b[0mexc_value\u001b[0m\u001b[0;34m,\u001b[0m \u001b[0mtraceback\u001b[0m \u001b[0;34m=\u001b[0m \u001b[0msys\u001b[0m\u001b[0;34m.\u001b[0m\u001b[0mexc_info\u001b[0m\u001b[0;34m(\u001b[0m\u001b[0;34m)\u001b[0m\u001b[0;34m\u001b[0m\u001b[0;34m\u001b[0m\u001b[0m\n",
      "\u001b[0;32m~/.local/lib/python3.9/site-packages/torch/autograd/grad_mode.py\u001b[0m in \u001b[0;36mdecorate_context\u001b[0;34m(*args, **kwargs)\u001b[0m\n\u001b[1;32m     26\u001b[0m         \u001b[0;32mdef\u001b[0m \u001b[0mdecorate_context\u001b[0m\u001b[0;34m(\u001b[0m\u001b[0;34m*\u001b[0m\u001b[0margs\u001b[0m\u001b[0;34m,\u001b[0m \u001b[0;34m**\u001b[0m\u001b[0mkwargs\u001b[0m\u001b[0;34m)\u001b[0m\u001b[0;34m:\u001b[0m\u001b[0;34m\u001b[0m\u001b[0;34m\u001b[0m\u001b[0m\n\u001b[1;32m     27\u001b[0m             \u001b[0;32mwith\u001b[0m \u001b[0mself\u001b[0m\u001b[0;34m.\u001b[0m\u001b[0m__class__\u001b[0m\u001b[0;34m(\u001b[0m\u001b[0;34m)\u001b[0m\u001b[0;34m:\u001b[0m\u001b[0;34m\u001b[0m\u001b[0;34m\u001b[0m\u001b[0m\n\u001b[0;32m---> 28\u001b[0;31m                 \u001b[0;32mreturn\u001b[0m \u001b[0mfunc\u001b[0m\u001b[0;34m(\u001b[0m\u001b[0;34m*\u001b[0m\u001b[0margs\u001b[0m\u001b[0;34m,\u001b[0m \u001b[0;34m**\u001b[0m\u001b[0mkwargs\u001b[0m\u001b[0;34m)\u001b[0m\u001b[0;34m\u001b[0m\u001b[0;34m\u001b[0m\u001b[0m\n\u001b[0m\u001b[1;32m     29\u001b[0m         \u001b[0;32mreturn\u001b[0m \u001b[0mcast\u001b[0m\u001b[0;34m(\u001b[0m\u001b[0mF\u001b[0m\u001b[0;34m,\u001b[0m \u001b[0mdecorate_context\u001b[0m\u001b[0;34m)\u001b[0m\u001b[0;34m\u001b[0m\u001b[0;34m\u001b[0m\u001b[0m\n\u001b[1;32m     30\u001b[0m \u001b[0;34m\u001b[0m\u001b[0m\n",
      "\u001b[0;32m~/.local/lib/python3.9/site-packages/pyro/poutine/messenger.py\u001b[0m in \u001b[0;36m_context_wrap\u001b[0;34m(context, fn, *args, **kwargs)\u001b[0m\n\u001b[1;32m     10\u001b[0m \u001b[0;32mdef\u001b[0m \u001b[0m_context_wrap\u001b[0m\u001b[0;34m(\u001b[0m\u001b[0mcontext\u001b[0m\u001b[0;34m,\u001b[0m \u001b[0mfn\u001b[0m\u001b[0;34m,\u001b[0m \u001b[0;34m*\u001b[0m\u001b[0margs\u001b[0m\u001b[0;34m,\u001b[0m \u001b[0;34m**\u001b[0m\u001b[0mkwargs\u001b[0m\u001b[0;34m)\u001b[0m\u001b[0;34m:\u001b[0m\u001b[0;34m\u001b[0m\u001b[0;34m\u001b[0m\u001b[0m\n\u001b[1;32m     11\u001b[0m     \u001b[0;32mwith\u001b[0m \u001b[0mcontext\u001b[0m\u001b[0;34m:\u001b[0m\u001b[0;34m\u001b[0m\u001b[0;34m\u001b[0m\u001b[0m\n\u001b[0;32m---> 12\u001b[0;31m         \u001b[0;32mreturn\u001b[0m \u001b[0mfn\u001b[0m\u001b[0;34m(\u001b[0m\u001b[0;34m*\u001b[0m\u001b[0margs\u001b[0m\u001b[0;34m,\u001b[0m \u001b[0;34m**\u001b[0m\u001b[0mkwargs\u001b[0m\u001b[0;34m)\u001b[0m\u001b[0;34m\u001b[0m\u001b[0;34m\u001b[0m\u001b[0m\n\u001b[0m\u001b[1;32m     13\u001b[0m \u001b[0;34m\u001b[0m\u001b[0m\n\u001b[1;32m     14\u001b[0m \u001b[0;34m\u001b[0m\u001b[0m\n",
      "\u001b[0;32m<ipython-input-49-a52f788775f7>\u001b[0m in \u001b[0;36mguide\u001b[0;34m(home_id, away_id, score1_obs, score2_obs)\u001b[0m\n\u001b[1;32m     43\u001b[0m \u001b[0;34m\u001b[0m\u001b[0m\n\u001b[1;32m     44\u001b[0m     \u001b[0;32mwith\u001b[0m \u001b[0mpyro\u001b[0m\u001b[0;34m.\u001b[0m\u001b[0mplate\u001b[0m\u001b[0;34m(\u001b[0m\u001b[0;34m\"plate_teams\"\u001b[0m\u001b[0;34m,\u001b[0m \u001b[0mnt\u001b[0m\u001b[0;34m)\u001b[0m\u001b[0;34m:\u001b[0m\u001b[0;34m\u001b[0m\u001b[0;34m\u001b[0m\u001b[0m\n\u001b[0;32m---> 45\u001b[0;31m         \u001b[0mpyro\u001b[0m\u001b[0;34m.\u001b[0m\u001b[0msample\u001b[0m\u001b[0;34m(\u001b[0m\u001b[0;34m\"attack\"\u001b[0m\u001b[0;34m,\u001b[0m \u001b[0mdist\u001b[0m\u001b[0;34m.\u001b[0m\u001b[0mNormal\u001b[0m\u001b[0;34m(\u001b[0m\u001b[0mmu_team_locs\u001b[0m\u001b[0;34m[\u001b[0m\u001b[0;36m0\u001b[0m\u001b[0;34m]\u001b[0m\u001b[0;34m,\u001b[0m \u001b[0mmu_team_scales\u001b[0m\u001b[0;34m[\u001b[0m\u001b[0;36m0\u001b[0m\u001b[0;34m]\u001b[0m\u001b[0;34m)\u001b[0m\u001b[0;34m)\u001b[0m\u001b[0;34m\u001b[0m\u001b[0;34m\u001b[0m\u001b[0m\n\u001b[0m\u001b[1;32m     46\u001b[0m         \u001b[0mpyro\u001b[0m\u001b[0;34m.\u001b[0m\u001b[0msample\u001b[0m\u001b[0;34m(\u001b[0m\u001b[0;34m\"defend\"\u001b[0m\u001b[0;34m,\u001b[0m \u001b[0mdist\u001b[0m\u001b[0;34m.\u001b[0m\u001b[0mNormal\u001b[0m\u001b[0;34m(\u001b[0m\u001b[0mmu_team_locs\u001b[0m\u001b[0;34m[\u001b[0m\u001b[0;36m1\u001b[0m\u001b[0;34m]\u001b[0m\u001b[0;34m,\u001b[0m \u001b[0mmu_team_scales\u001b[0m\u001b[0;34m[\u001b[0m\u001b[0;36m1\u001b[0m\u001b[0;34m]\u001b[0m\u001b[0;34m)\u001b[0m\u001b[0;34m)\u001b[0m\u001b[0;34m\u001b[0m\u001b[0;34m\u001b[0m\u001b[0m\n\u001b[1;32m     47\u001b[0m \u001b[0;34m\u001b[0m\u001b[0m\n",
      "\u001b[0;32m~/.local/lib/python3.9/site-packages/pyro/primitives.py\u001b[0m in \u001b[0;36msample\u001b[0;34m(name, fn, *args, **kwargs)\u001b[0m\n\u001b[1;32m    161\u001b[0m         }\n\u001b[1;32m    162\u001b[0m         \u001b[0;31m# apply the stack and return its return value\u001b[0m\u001b[0;34m\u001b[0m\u001b[0;34m\u001b[0m\u001b[0;34m\u001b[0m\u001b[0m\n\u001b[0;32m--> 163\u001b[0;31m         \u001b[0mapply_stack\u001b[0m\u001b[0;34m(\u001b[0m\u001b[0mmsg\u001b[0m\u001b[0;34m)\u001b[0m\u001b[0;34m\u001b[0m\u001b[0;34m\u001b[0m\u001b[0m\n\u001b[0m\u001b[1;32m    164\u001b[0m         \u001b[0;32mreturn\u001b[0m \u001b[0mmsg\u001b[0m\u001b[0;34m[\u001b[0m\u001b[0;34m\"value\"\u001b[0m\u001b[0;34m]\u001b[0m\u001b[0;34m\u001b[0m\u001b[0;34m\u001b[0m\u001b[0m\n\u001b[1;32m    165\u001b[0m \u001b[0;34m\u001b[0m\u001b[0m\n",
      "\u001b[0;32m~/.local/lib/python3.9/site-packages/pyro/poutine/runtime.py\u001b[0m in \u001b[0;36mapply_stack\u001b[0;34m(initial_msg)\u001b[0m\n\u001b[1;32m    211\u001b[0m         \u001b[0mpointer\u001b[0m \u001b[0;34m=\u001b[0m \u001b[0mpointer\u001b[0m \u001b[0;34m+\u001b[0m \u001b[0;36m1\u001b[0m\u001b[0;34m\u001b[0m\u001b[0;34m\u001b[0m\u001b[0m\n\u001b[1;32m    212\u001b[0m \u001b[0;34m\u001b[0m\u001b[0m\n\u001b[0;32m--> 213\u001b[0;31m         \u001b[0mframe\u001b[0m\u001b[0;34m.\u001b[0m\u001b[0m_process_message\u001b[0m\u001b[0;34m(\u001b[0m\u001b[0mmsg\u001b[0m\u001b[0;34m)\u001b[0m\u001b[0;34m\u001b[0m\u001b[0;34m\u001b[0m\u001b[0m\n\u001b[0m\u001b[1;32m    214\u001b[0m \u001b[0;34m\u001b[0m\u001b[0m\n\u001b[1;32m    215\u001b[0m         \u001b[0;32mif\u001b[0m \u001b[0mmsg\u001b[0m\u001b[0;34m[\u001b[0m\u001b[0;34m\"stop\"\u001b[0m\u001b[0;34m]\u001b[0m\u001b[0;34m:\u001b[0m\u001b[0;34m\u001b[0m\u001b[0;34m\u001b[0m\u001b[0m\n",
      "\u001b[0;32m~/.local/lib/python3.9/site-packages/pyro/poutine/plate_messenger.py\u001b[0m in \u001b[0;36m_process_message\u001b[0;34m(self, msg)\u001b[0m\n\u001b[1;32m     17\u001b[0m     \u001b[0;32mdef\u001b[0m \u001b[0m_process_message\u001b[0m\u001b[0;34m(\u001b[0m\u001b[0mself\u001b[0m\u001b[0;34m,\u001b[0m \u001b[0mmsg\u001b[0m\u001b[0;34m)\u001b[0m\u001b[0;34m:\u001b[0m\u001b[0;34m\u001b[0m\u001b[0;34m\u001b[0m\u001b[0m\n\u001b[1;32m     18\u001b[0m         \u001b[0msuper\u001b[0m\u001b[0;34m(\u001b[0m\u001b[0;34m)\u001b[0m\u001b[0;34m.\u001b[0m\u001b[0m_process_message\u001b[0m\u001b[0;34m(\u001b[0m\u001b[0mmsg\u001b[0m\u001b[0;34m)\u001b[0m\u001b[0;34m\u001b[0m\u001b[0;34m\u001b[0m\u001b[0m\n\u001b[0;32m---> 19\u001b[0;31m         \u001b[0;32mreturn\u001b[0m \u001b[0mBroadcastMessenger\u001b[0m\u001b[0;34m.\u001b[0m\u001b[0m_pyro_sample\u001b[0m\u001b[0;34m(\u001b[0m\u001b[0mmsg\u001b[0m\u001b[0;34m)\u001b[0m\u001b[0;34m\u001b[0m\u001b[0;34m\u001b[0m\u001b[0m\n\u001b[0m\u001b[1;32m     20\u001b[0m \u001b[0;34m\u001b[0m\u001b[0m\n\u001b[1;32m     21\u001b[0m     \u001b[0;32mdef\u001b[0m \u001b[0m__enter__\u001b[0m\u001b[0;34m(\u001b[0m\u001b[0mself\u001b[0m\u001b[0;34m)\u001b[0m\u001b[0;34m:\u001b[0m\u001b[0;34m\u001b[0m\u001b[0;34m\u001b[0m\u001b[0m\n",
      "\u001b[0;32m/usr/local/lib/python3.9/contextlib.py\u001b[0m in \u001b[0;36minner\u001b[0;34m(*args, **kwds)\u001b[0m\n\u001b[1;32m     77\u001b[0m         \u001b[0;32mdef\u001b[0m \u001b[0minner\u001b[0m\u001b[0;34m(\u001b[0m\u001b[0;34m*\u001b[0m\u001b[0margs\u001b[0m\u001b[0;34m,\u001b[0m \u001b[0;34m**\u001b[0m\u001b[0mkwds\u001b[0m\u001b[0;34m)\u001b[0m\u001b[0;34m:\u001b[0m\u001b[0;34m\u001b[0m\u001b[0;34m\u001b[0m\u001b[0m\n\u001b[1;32m     78\u001b[0m             \u001b[0;32mwith\u001b[0m \u001b[0mself\u001b[0m\u001b[0;34m.\u001b[0m\u001b[0m_recreate_cm\u001b[0m\u001b[0;34m(\u001b[0m\u001b[0;34m)\u001b[0m\u001b[0;34m:\u001b[0m\u001b[0;34m\u001b[0m\u001b[0;34m\u001b[0m\u001b[0m\n\u001b[0;32m---> 79\u001b[0;31m                 \u001b[0;32mreturn\u001b[0m \u001b[0mfunc\u001b[0m\u001b[0;34m(\u001b[0m\u001b[0;34m*\u001b[0m\u001b[0margs\u001b[0m\u001b[0;34m,\u001b[0m \u001b[0;34m**\u001b[0m\u001b[0mkwds\u001b[0m\u001b[0;34m)\u001b[0m\u001b[0;34m\u001b[0m\u001b[0;34m\u001b[0m\u001b[0m\n\u001b[0m\u001b[1;32m     80\u001b[0m         \u001b[0;32mreturn\u001b[0m \u001b[0minner\u001b[0m\u001b[0;34m\u001b[0m\u001b[0;34m\u001b[0m\u001b[0m\n\u001b[1;32m     81\u001b[0m \u001b[0;34m\u001b[0m\u001b[0m\n",
      "\u001b[0;32m~/.local/lib/python3.9/site-packages/pyro/poutine/broadcast_messenger.py\u001b[0m in \u001b[0;36m_pyro_sample\u001b[0;34m(msg)\u001b[0m\n\u001b[1;32m     63\u001b[0m                     \u001b[0;32mand\u001b[0m \u001b[0mtarget_batch_shape\u001b[0m\u001b[0;34m[\u001b[0m\u001b[0mf\u001b[0m\u001b[0;34m.\u001b[0m\u001b[0mdim\u001b[0m\u001b[0;34m]\u001b[0m \u001b[0;34m!=\u001b[0m \u001b[0mf\u001b[0m\u001b[0;34m.\u001b[0m\u001b[0msize\u001b[0m\u001b[0;34m\u001b[0m\u001b[0;34m\u001b[0m\u001b[0m\n\u001b[1;32m     64\u001b[0m                 ):\n\u001b[0;32m---> 65\u001b[0;31m                     raise ValueError(\n\u001b[0m\u001b[1;32m     66\u001b[0m                         \"Shape mismatch inside plate('{}') at site {} dim {}, {} vs {}\".format(\n\u001b[1;32m     67\u001b[0m                             \u001b[0mf\u001b[0m\u001b[0;34m.\u001b[0m\u001b[0mname\u001b[0m\u001b[0;34m,\u001b[0m\u001b[0;34m\u001b[0m\u001b[0;34m\u001b[0m\u001b[0m\n",
      "\u001b[0;31mValueError\u001b[0m: Shape mismatch inside plate('plate_teams') at site attack dim -1, 33 vs 86\n   Trace Shapes:      \n    Param Sites:      \n          mu_loc     4\n        mu_scale     4\n     mu_team_loc  2 86\n   mu_team_scale  2 86\n   Sample Sites:      \n      alpha dist     |\n           value     |\n     sd_att dist     |\n           value     |\n     sd_def dist     |\n           value     |\n       home dist     |\n           value     |\nplate_teams dist     |\n           value 33  |"
     ]
    }
   ],
   "source": [
    "runThePyroCodeRest(fit,teams,df,train)"
   ]
  },
  {
   "cell_type": "code",
   "execution_count": 70,
   "metadata": {
    "collapsed": false
   },
   "outputs": [
    {
     "data": {
      "text/html": [
       "<div>\n",
       "<style scoped>\n",
       "    .dataframe tbody tr th:only-of-type {\n",
       "        vertical-align: middle;\n",
       "    }\n",
       "\n",
       "    .dataframe tbody tr th {\n",
       "        vertical-align: top;\n",
       "    }\n",
       "\n",
       "    .dataframe thead th {\n",
       "        text-align: right;\n",
       "    }\n",
       "</style>\n",
       "<table border=\"1\" class=\"dataframe\">\n",
       "  <thead>\n",
       "    <tr style=\"text-align: right;\">\n",
       "      <th></th>\n",
       "      <th>Team</th>\n",
       "      <th>i</th>\n",
       "      <th>attack</th>\n",
       "      <th>attacksd</th>\n",
       "      <th>defend</th>\n",
       "      <th>defendsd</th>\n",
       "      <th>attack_low</th>\n",
       "      <th>attack_high</th>\n",
       "      <th>defend_low</th>\n",
       "      <th>defend_high</th>\n",
       "    </tr>\n",
       "  </thead>\n",
       "  <tbody>\n",
       "    <tr>\n",
       "      <th>0</th>\n",
       "      <td>Alabama</td>\n",
       "      <td>0</td>\n",
       "      <td>1.868289</td>\n",
       "      <td>0.018643</td>\n",
       "      <td>-1.461936</td>\n",
       "      <td>0.018205</td>\n",
       "      <td>1.849646</td>\n",
       "      <td>1.886932</td>\n",
       "      <td>-1.480141</td>\n",
       "      <td>-1.443732</td>\n",
       "    </tr>\n",
       "    <tr>\n",
       "      <th>1</th>\n",
       "      <td>Florida</td>\n",
       "      <td>1</td>\n",
       "      <td>1.704543</td>\n",
       "      <td>0.018573</td>\n",
       "      <td>-1.332813</td>\n",
       "      <td>0.018597</td>\n",
       "      <td>1.685970</td>\n",
       "      <td>1.723116</td>\n",
       "      <td>-1.351410</td>\n",
       "      <td>-1.314215</td>\n",
       "    </tr>\n",
       "    <tr>\n",
       "      <th>2</th>\n",
       "      <td>Missouri</td>\n",
       "      <td>2</td>\n",
       "      <td>1.655821</td>\n",
       "      <td>0.019125</td>\n",
       "      <td>-1.382547</td>\n",
       "      <td>0.017625</td>\n",
       "      <td>1.636696</td>\n",
       "      <td>1.674946</td>\n",
       "      <td>-1.400172</td>\n",
       "      <td>-1.364921</td>\n",
       "    </tr>\n",
       "    <tr>\n",
       "      <th>3</th>\n",
       "      <td>Mississippi State</td>\n",
       "      <td>3</td>\n",
       "      <td>1.735175</td>\n",
       "      <td>0.019148</td>\n",
       "      <td>-1.360072</td>\n",
       "      <td>0.018557</td>\n",
       "      <td>1.716027</td>\n",
       "      <td>1.754323</td>\n",
       "      <td>-1.378629</td>\n",
       "      <td>-1.341514</td>\n",
       "    </tr>\n",
       "    <tr>\n",
       "      <th>4</th>\n",
       "      <td>Georgia</td>\n",
       "      <td>4</td>\n",
       "      <td>1.760530</td>\n",
       "      <td>0.018679</td>\n",
       "      <td>-1.529071</td>\n",
       "      <td>0.017267</td>\n",
       "      <td>1.741851</td>\n",
       "      <td>1.779208</td>\n",
       "      <td>-1.546338</td>\n",
       "      <td>-1.511804</td>\n",
       "    </tr>\n",
       "  </tbody>\n",
       "</table>\n",
       "</div>"
      ],
      "text/plain": [
       "                Team  i    attack  attacksd    defend  defendsd  attack_low  \\\n",
       "0            Alabama  0  1.868289  0.018643 -1.461936  0.018205    1.849646   \n",
       "1            Florida  1  1.704543  0.018573 -1.332813  0.018597    1.685970   \n",
       "2           Missouri  2  1.655821  0.019125 -1.382547  0.017625    1.636696   \n",
       "3  Mississippi State  3  1.735175  0.019148 -1.360072  0.018557    1.716027   \n",
       "4            Georgia  4  1.760530  0.018679 -1.529071  0.017267    1.741851   \n",
       "\n",
       "   attack_high  defend_low  defend_high  \n",
       "0     1.886932   -1.480141    -1.443732  \n",
       "1     1.723116   -1.351410    -1.314215  \n",
       "2     1.674946   -1.400172    -1.364921  \n",
       "3     1.754323   -1.378629    -1.341514  \n",
       "4     1.779208   -1.546338    -1.511804  "
      ]
     },
     "execution_count": 70,
     "metadata": {},
     "output_type": "execute_result"
    }
   ],
   "source": [
    "qDF = qualityCalc(fit,teams,df,train)\n",
    "qDF.head()"
   ]
  },
  {
   "cell_type": "code",
   "execution_count": 71,
   "metadata": {
    "collapsed": false
   },
   "outputs": [
    {
     "name": "stderr",
     "output_type": "stream",
     "text": [
      "/usr/local/lib/python3.9/site-packages/seaborn/_decorators.py:36: FutureWarning: Pass the following variables as keyword args: x, y. From version 0.12, the only valid positional argument will be `data`, and passing other arguments without an explicit keyword will result in an error or misinterpretation.\n",
      "  warnings.warn(\n"
     ]
    },
    {
     "data": {
      "text/plain": [
       "Text(0, 0.5, 'defend strength')"
      ]
     },
     "execution_count": 71,
     "metadata": {},
     "output_type": "execute_result"
    },
    {
     "data": {
      "image/png": "[encoded data removed]",
      "text/plain": [
       "<Figure size 1440x720 with 1 Axes>"
      ]
     },
     "metadata": {
      "needs_background": "light"
     },
     "output_type": "display_data"
    }
   ],
   "source": [
    "\n",
    "plt.figure(figsize=(20,10))\n",
    "p1 = sns.scatterplot('attack', # Horizontal axis\n",
    "       'defend', # Vertical axis\n",
    "       data=qDF, # Data source\n",
    "       size = 8,\n",
    "       legend=False)  \n",
    "\n",
    "for line in range(0,qDF.shape[0]):\n",
    "     p1.text(qDF.attack[line]+0.001, qDF.defend[line], \n",
    "     qDF.Team[line], horizontalalignment='left', \n",
    "     size='large', color='black', weight='semibold')\n",
    "\n",
    "plt.title('Quality')\n",
    "# Set x-axis label\n",
    "plt.xlabel('attack strength')\n",
    "# Set y-axis label\n",
    "plt.ylabel('defend strength')"
   ]
  },
  {
   "cell_type": "code",
   "execution_count": 54,
   "metadata": {
    "collapsed": true
   },
   "outputs": [],
   "source": [
    "#now get the probability of Michigan State winning vs. Michigan\n",
    "#it looks like I have to do a full set of teams\n",
    "#just put in a full set of combinations\n",
    "#generate an array with just each team once\n",
    "predictAll = df[df[\"split\"] == \"predict\"]\n",
    "predict = predictAll.drop(predictAll.tail(7).index,inplace=False)\n",
    "predictive = Predictive(\n",
    "    model=model, guide=guide, num_samples=30000, return_sites=[\"s1\", \"s2\"]\n",
    ")\n",
    "msuMich = pd.DataFrame({'Home_id':[9,0,1,2,3,4,5,6,7,8,9,10,11,12,13],\n",
    "        'Away_id':[7,0,1,2,3,4,5,6,7,8,9,10,11,12,13]})\n",
    "predicted_score = predictive(\n",
    "    home_id=msuMich[\"Home_id\"].values,\n",
    "    away_id=msuMich[\"Away_id\"].values,\n",
    ")\n"
   ]
  },
  {
   "cell_type": "code",
   "execution_count": 56,
   "metadata": {
    "collapsed": false
   },
   "outputs": [],
   "source": [
    "um = predicted_score[\"s1\"][0].tolist()\n",
    "msu = predicted_score[\"s2\"][0].tolist()\n"
   ]
  },
  {
   "cell_type": "code",
   "execution_count": 57,
   "metadata": {
    "collapsed": false
   },
   "outputs": [
    {
     "data": {
      "text/plain": [
       "<matplotlib.lines.Line2D at 0x7f0c4bb5f640>"
      ]
     },
     "execution_count": 57,
     "metadata": {},
     "output_type": "execute_result"
    },
    {
     "data": {
      "image/png": "[encoded data removed]",
      "text/plain": [
       "<Figure size 432x288 with 1 Axes>"
      ]
     },
     "metadata": {
      "needs_background": "light"
     },
     "output_type": "display_data"
    }
   ],
   "source": [
    "def meanl(lst):\n",
    "    return sum(lst) / len(lst)\n",
    "plt.hist([um, msu], color=['b','g'], alpha=0.5)\n",
    "plt.axvline(meanl(um), color='b', linestyle='dashed', linewidth=2)\n",
    "plt.axvline(meanl(msu), color='g', linestyle='dashed', linewidth=2)\n"
   ]
  },
  {
   "cell_type": "code",
   "execution_count": 58,
   "metadata": {
    "collapsed": false
   },
   "outputs": [
    {
     "data": {
      "text/plain": [
       "<matplotlib.legend.Legend at 0x7f0c4c0d9250>"
      ]
     },
     "execution_count": 58,
     "metadata": {},
     "output_type": "execute_result"
    },
    {
     "data": {
      "image/png": "[encoded data removed]",
      "text/plain": [
       "<Figure size 432x288 with 1 Axes>"
      ]
     },
     "metadata": {
      "needs_background": "light"
     },
     "output_type": "display_data"
    }
   ],
   "source": [
    "#CDF\n",
    "plt.hist([um, msu],label=['um','msu'] ,color=['b','g'], alpha=0.5,density=True, cumulative=True)\n",
    "plt.grid()\n",
    "plt.legend(loc='best')"
   ]
  },
  {
   "cell_type": "code",
   "execution_count": 60,
   "metadata": {
    "collapsed": false
   },
   "outputs": [
    {
     "data": {
      "image/png": "[encoded data removed]",
      "text/plain": [
       "<Figure size 432x288 with 1 Axes>"
      ]
     },
     "metadata": {
      "needs_background": "light"
     },
     "output_type": "display_data"
    }
   ],
   "source": [
    "s1=um\n",
    "s2=msu\n",
    "sDF = pd.DataFrame({'um':s1,'msu':s2})\n",
    "sns.ecdfplot(sDF)\n",
    "plt.grid()"
   ]
  },
  {
   "cell_type": "code",
   "execution_count": 61,
   "metadata": {
    "collapsed": true
   },
   "outputs": [],
   "source": [
    "n=100\n",
    "sams1=rnd.choices(s1, k=n)\n",
    "sams2=rnd.choices(s2, k=n)\n",
    "overunder = [p1+p2 for p1 in sams1 for p2 in sams2]\n",
    "spread    = [p1-p2 for p1 in sams1 for p2 in sams2]\n",
    "samsDF = pd.DataFrame({'overunder':overunder,'spread':spread})"
   ]
  },
  {
   "cell_type": "code",
   "execution_count": 62,
   "metadata": {
    "collapsed": false
   },
   "outputs": [
    {
     "data": {
      "text/plain": [
       "<AxesSubplot:ylabel='Count'>"
      ]
     },
     "execution_count": 62,
     "metadata": {},
     "output_type": "execute_result"
    },
    {
     "data": {
      "image/png": "[encoded data removed]",
      "text/plain": [
       "<Figure size 432x288 with 1 Axes>"
      ]
     },
     "metadata": {
      "needs_background": "light"
     },
     "output_type": "display_data"
    }
   ],
   "source": [
    "sns.histplot(spread)"
   ]
  },
  {
   "cell_type": "code",
   "execution_count": 63,
   "metadata": {
    "collapsed": false
   },
   "outputs": [
    {
     "data": {
      "text/plain": [
       "<AxesSubplot:ylabel='Count'>"
      ]
     },
     "execution_count": 63,
     "metadata": {},
     "output_type": "execute_result"
    },
    {
     "data": {
      "image/png": "[encoded data removed]",
      "text/plain": [
       "<Figure size 432x288 with 1 Axes>"
      ]
     },
     "metadata": {
      "needs_background": "light"
     },
     "output_type": "display_data"
    }
   ],
   "source": [
    "sns.histplot(overunder)"
   ]
  },
  {
   "cell_type": "code",
   "execution_count": 64,
   "metadata": {
    "collapsed": false
   },
   "outputs": [
    {
     "data": {
      "image/png": "[encoded data removed]",
      "text/plain": [
       "<Figure size 432x288 with 1 Axes>"
      ]
     },
     "metadata": {
      "needs_background": "light"
     },
     "output_type": "display_data"
    }
   ],
   "source": [
    "sns.ecdfplot(overunder)\n",
    "plt.grid()"
   ]
  },
  {
   "cell_type": "code",
   "execution_count": 65,
   "metadata": {
    "collapsed": false
   },
   "outputs": [
    {
     "data": {
      "image/png": "[encoded data removed]",
      "text/plain": [
       "<Figure size 432x288 with 1 Axes>"
      ]
     },
     "metadata": {
      "needs_background": "light"
     },
     "output_type": "display_data"
    }
   ],
   "source": [
    "#probability of team1 wining by at least x points\n",
    "sns.ecdfplot(spread,complementary=True)\n",
    "plt.grid()"
   ]
  },
  {
   "cell_type": "code",
   "execution_count": null,
   "metadata": {
    "collapsed": true
   },
   "outputs": [],
   "source": [
    "#how to double the last 10 games"
   ]
  }
 ],
 "metadata": {
  "kernelspec": {
   "display_name": "Python 3.9",
   "language": "python",
   "name": "python3.9"
  },
  "language_info": {
   "codemirror_mode": {
    "name": "ipython",
    "version": 3
   },
   "file_extension": ".py",
   "mimetype": "text/x-python",
   "name": "python",
   "nbconvert_exporter": "python",
   "pygments_lexer": "ipython3",
   "version": "3.9.5"
  }
 },
 "nbformat": 4,
 "nbformat_minor": 0
}
