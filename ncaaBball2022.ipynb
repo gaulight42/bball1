{
 "cells": [
  {
   "cell_type": "code",
   "execution_count": 1,
   "metadata": {
    "collapsed": false
   },
   "outputs": [],
   "source": [
    "import pandas as pd\n",
    "import pickle\n",
    "from sportsreference.ncaab.teams import Teams\n",
    "from sportsreference.ncaab.conferences import Conferences\n",
    "import matplotlib.pyplot as plt\n",
    "import seaborn as sns\n",
    "import numpy as np\n",
    "from scipy.stats import poisson\n",
    "from scipy.optimize import minimize\n"
   ]
  },
  {
   "cell_type": "code",
   "execution_count": 2,
   "metadata": {
    "collapsed": false,
    "scrolled": true
   },
   "outputs": [],
   "source": [
    "import logging\n",
    "import os\n",
    "import torch\n",
    "from matplotlib import rc\n",
    "\n",
    "import pyro\n",
    "\n",
    "import argparse\n",
    "\n",
    "import pyro.distributions as dist\n",
    "\n",
    "from pyro.infer import SVI, Predictive, Trace_ELBO\n",
    "from pyro.optim import ClippedAdam\n",
    "from torch.distributions import constraints\n",
    "from utils import plot_quality, score_table"
   ]
  },
  {
   "cell_type": "markdown",
   "metadata": {},
   "source": [
    "I am gonna just try to get the following data for 2020-2021 season for NCAA basketball:\n",
    "```\n",
    "Date, HomeTeam, AwayTeam, HP, AP\n",
    "```\n",
    "Then I am gonna try to reproduce [this analysis](http://www.pena.lt/y/2021/06/18/predicting-football-results-using-the-poisson-distribution/).\n",
    "\n",
    "Then I will try to recode the analysis in Pyro.\n",
    "\n",
    "Then I will try to modify it.\n",
    "\n",
    "Perhaps focus on the second half over under. So I will need the first half and second half totals. \n",
    "\n",
    "Some notes on modeling:\n",
    "- I could just focus on the point spead and use a linear model. \n",
    "- I could use a binomial regression; no stick with poisson\n",
    "- I think I need to try a bunch of simple models and show how easy it is to do in Pyro\n",
    "- I think I should start with just fitting a poisson to each team\n",
    "- the good thing about a generative model is that you can calculate outcomes of prop bets such as the outcome of the first half\n",
    "- I think adding in defense and offense factors into the poisson regression makes sense\n",
    "- I think training on only away games could also make sense; or including the factor for home or away but then setting it to \"away\" for the tournament games. The latter makes more sense. I will need a feature for home, one for away, and if they are both off that is a neutral site\n",
    "- I could move to a hierarchical model with the intercept decided by the conference. So I have a linear relation between the conference\n",
    "- The model from Pena.lt/y uses a linear combination of offense, defense, and home advantage but exponentiates it and this gives different probabilities. Not sure why they do this.\n",
    "\n",
    "Some notes on data munging:\n",
    "- I might want to drop all games where the opponent is not in one of the big conferences (opponent_conference in ...)\n",
    "- Most games will be listed twice: once for the home team, once for the away team. Thus, I will need to drop one of them for some modeling setups (ie., the boxscore_index needs to be unique).\n",
    "\n",
    "\n"
   ]
  },
  {
   "cell_type": "code",
   "execution_count": 3,
   "metadata": {
    "collapsed": false
   },
   "outputs": [],
   "source": [
    "majorConfs = [\"big-12\",\"Big 12\",\n",
    "              \"big-10\",\"Big Ten\",\"big-ten\",\n",
    "              \"sec\",\"SEC\",\n",
    "              \"big-east\",\"Big East\",\n",
    "              \"pac-12\",\"PAC-12\",\n",
    "              \"acc\",\"ACC\",\n",
    "              \"wcc\", \"WCC\"]\n",
    "def getDataForTeams(teams) :\n",
    "    dataset = pd.DataFrame()\n",
    "    for team in teams:\n",
    "        if team.conference in majorConfs:\n",
    "            tgDF = team.schedule.dataframe\n",
    "            tgDF['team_name'] = team.name\n",
    "            tgDF['team_conference'] = team.conference\n",
    "            dataset = pd.concat([dataset,tgDF])     \n",
    "    return dataset\n",
    "\n"
   ]
  },
  {
   "cell_type": "code",
   "execution_count": 41,
   "metadata": {
    "collapsed": true
   },
   "outputs": [],
   "source": [
    "#execute this cell to grab the data from the site\n",
    "season_team_list = Teams(\"2021\")\n",
    "df = getDataForTeams(season_team_list)\n",
    "compression_opts = dict(method='zip',\n",
    "                        archive_name='out.csv')  \n",
    "df.to_csv('data/bigconfs2021Season.zip', compression=compression_opts) \n",
    "pickle.dump( season_team_list, open( \"data/teams2021.p\", \"wb\" ) )"
   ]
  },
  {
   "cell_type": "code",
   "execution_count": 4,
   "metadata": {
    "collapsed": false
   },
   "outputs": [],
   "source": [
    "#execute this cell to just load the local files\n",
    "season_team_list = pickle.load( open( \"data/teams2021.p\", \"rb\" ) )\n",
    "c_opts = dict(method='zip')\n",
    "df = pd.read_csv('data/bigconfs2021Season.zip',compression='zip')"
   ]
  },
  {
   "cell_type": "code",
   "execution_count": 5,
   "metadata": {
    "collapsed": false
   },
   "outputs": [
    {
     "data": {
      "text/plain": [
       "sportsreference.ncaab.schedule.Game"
      ]
     },
     "execution_count": 5,
     "metadata": {},
     "output_type": "execute_result"
    }
   ],
   "source": [
    "#some access functions practice\n",
    "type(season_team_list)\n",
    "t = next(iter(season_team_list))\n",
    "[t.name, t.conference]\n",
    "game = next(iter(t.schedule))\n",
    "type(game)"
   ]
  },
  {
   "cell_type": "code",
   "execution_count": 6,
   "metadata": {
    "collapsed": false
   },
   "outputs": [
    {
     "data": {
      "text/html": [
       "<div>\n",
       "<style scoped>\n",
       "    .dataframe tbody tr th:only-of-type {\n",
       "        vertical-align: middle;\n",
       "    }\n",
       "\n",
       "    .dataframe tbody tr th {\n",
       "        vertical-align: top;\n",
       "    }\n",
       "\n",
       "    .dataframe thead th {\n",
       "        text-align: right;\n",
       "    }\n",
       "</style>\n",
       "<table border=\"1\" class=\"dataframe\">\n",
       "  <thead>\n",
       "    <tr style=\"text-align: right;\">\n",
       "      <th></th>\n",
       "      <th>Date</th>\n",
       "      <th>HomeTeam</th>\n",
       "      <th>AwayTeam</th>\n",
       "      <th>FTHG</th>\n",
       "      <th>FTAG</th>\n",
       "    </tr>\n",
       "  </thead>\n",
       "  <tbody>\n",
       "    <tr>\n",
       "      <th>0</th>\n",
       "      <td>Tue, Dec 29, 2020</td>\n",
       "      <td>Alabama</td>\n",
       "      <td>Mississippi</td>\n",
       "      <td>82.0</td>\n",
       "      <td>64.0</td>\n",
       "    </tr>\n",
       "    <tr>\n",
       "      <th>1</th>\n",
       "      <td>Sat, Jan 2, 2021</td>\n",
       "      <td>Tennessee</td>\n",
       "      <td>Alabama</td>\n",
       "      <td>63.0</td>\n",
       "      <td>71.0</td>\n",
       "    </tr>\n",
       "    <tr>\n",
       "      <th>2</th>\n",
       "      <td>Tue, Jan 5, 2021</td>\n",
       "      <td>Alabama</td>\n",
       "      <td>Florida</td>\n",
       "      <td>86.0</td>\n",
       "      <td>71.0</td>\n",
       "    </tr>\n",
       "    <tr>\n",
       "      <th>3</th>\n",
       "      <td>Sat, Jan 9, 2021</td>\n",
       "      <td>Auburn</td>\n",
       "      <td>Alabama</td>\n",
       "      <td>90.0</td>\n",
       "      <td>94.0</td>\n",
       "    </tr>\n",
       "    <tr>\n",
       "      <th>4</th>\n",
       "      <td>Tue, Jan 12, 2021</td>\n",
       "      <td>Kentucky</td>\n",
       "      <td>Alabama</td>\n",
       "      <td>65.0</td>\n",
       "      <td>85.0</td>\n",
       "    </tr>\n",
       "  </tbody>\n",
       "</table>\n",
       "</div>"
      ],
      "text/plain": [
       "                Date   HomeTeam     AwayTeam  FTHG  FTAG\n",
       "0  Tue, Dec 29, 2020    Alabama  Mississippi  82.0  64.0\n",
       "1   Sat, Jan 2, 2021  Tennessee      Alabama  63.0  71.0\n",
       "2   Tue, Jan 5, 2021    Alabama      Florida  86.0  71.0\n",
       "3   Sat, Jan 9, 2021     Auburn      Alabama  90.0  94.0\n",
       "4  Tue, Jan 12, 2021   Kentucky      Alabama  65.0  85.0"
      ]
     },
     "execution_count": 6,
     "metadata": {},
     "output_type": "execute_result"
    }
   ],
   "source": [
    "bdf = df\n",
    "#only have games between big conferences\n",
    "bdf = bdf[bdf[\"opponent_conference\"].isin(majorConfs)]\n",
    "#get rid of duplicates\n",
    "bdf.drop_duplicates(subset='boxscore_index', keep=\"first\")\n",
    "#drop Neutral games for now\n",
    "bdf = bdf[bdf[\"location\"].isin([\"Home\",\"Away\"])]\n",
    "#create Home, Away, neutral indicator columns\n",
    "bdf = pd.get_dummies(bdf,prefix=['location'], columns = ['location'])\n",
    "#create homeTeam, awayTeam columns\n",
    "def addHomeTeamColumn(row):\n",
    "    if(row['location_Home'] == 1):\n",
    "        return row['team_name']\n",
    "    else:\n",
    "        return row['opponent_name']\n",
    "bdf['HomeTeam'] = bdf.apply(addHomeTeamColumn, axis=1)\n",
    "def addAwayTeamColumn(row):\n",
    "    if(row['location_Away'] == 1):\n",
    "        return row['team_name']\n",
    "    else:\n",
    "        return row['opponent_name']\n",
    "bdf['AwayTeam'] = bdf.apply(addAwayTeamColumn, axis=1)\n",
    "#add in \"HomePoints\" , AwayPoints\n",
    "def addHomePointsColumn(row):\n",
    "    if(row['location_Home'] == 1):\n",
    "        return row['points_for']\n",
    "    else:\n",
    "        return row['points_against']\n",
    "bdf['HomePoints'] = bdf.apply(addHomePointsColumn, axis=1)\n",
    "def addAwayPointsColumn(row):\n",
    "    if(row['location_Away'] == 1):\n",
    "        return row['points_for']\n",
    "    else:\n",
    "        return row['points_against']\n",
    "bdf['AwayPoints'] = bdf.apply(addAwayPointsColumn, axis=1)\n",
    "#just big ten conference games\n",
    "big10df = bdf.loc[(bdf[\"team_conference\"]=='big-ten')&\n",
    "                  (bdf['opponent_conference']=='Big Ten')]\n",
    "\n",
    "#rename columns\n",
    "selector_d = {'date':'Date', 'HomeTeam':'HomeTeam', 'AwayTeam':'AwayTeam',\n",
    "              'HomePoints':'FTHG', 'AwayPoints':'FTAG'}\n",
    "bdf = bdf.rename(columns=selector_d)[selector_d.values()]\n",
    "bdf.reset_index(inplace=True, drop=True)\n",
    "big10df = big10df.rename(columns=selector_d)[selector_d.values()]\n",
    "big10df.reset_index(inplace=True, drop=True)\n",
    "bdf.head()"
   ]
  },
  {
   "cell_type": "code",
   "execution_count": 7,
   "metadata": {
    "collapsed": false
   },
   "outputs": [
    {
     "data": {
      "text/html": [
       "<div>\n",
       "<style scoped>\n",
       "    .dataframe tbody tr th:only-of-type {\n",
       "        vertical-align: middle;\n",
       "    }\n",
       "\n",
       "    .dataframe tbody tr th {\n",
       "        vertical-align: top;\n",
       "    }\n",
       "\n",
       "    .dataframe thead th {\n",
       "        text-align: right;\n",
       "    }\n",
       "</style>\n",
       "<table border=\"1\" class=\"dataframe\">\n",
       "  <thead>\n",
       "    <tr style=\"text-align: right;\">\n",
       "      <th></th>\n",
       "      <th>Date</th>\n",
       "      <th>HomeTeam</th>\n",
       "      <th>AwayTeam</th>\n",
       "      <th>FTHG</th>\n",
       "      <th>FTAG</th>\n",
       "    </tr>\n",
       "  </thead>\n",
       "  <tbody>\n",
       "    <tr>\n",
       "      <th>0</th>\n",
       "      <td>Tue, Dec 15, 2020</td>\n",
       "      <td>Illinois</td>\n",
       "      <td>Minnesota</td>\n",
       "      <td>92.0</td>\n",
       "      <td>65.0</td>\n",
       "    </tr>\n",
       "    <tr>\n",
       "      <th>1</th>\n",
       "      <td>Sun, Dec 20, 2020</td>\n",
       "      <td>Rutgers</td>\n",
       "      <td>Illinois</td>\n",
       "      <td>91.0</td>\n",
       "      <td>88.0</td>\n",
       "    </tr>\n",
       "    <tr>\n",
       "      <th>2</th>\n",
       "      <td>Wed, Dec 23, 2020</td>\n",
       "      <td>Penn State</td>\n",
       "      <td>Illinois</td>\n",
       "      <td>81.0</td>\n",
       "      <td>98.0</td>\n",
       "    </tr>\n",
       "    <tr>\n",
       "      <th>3</th>\n",
       "      <td>Sat, Dec 26, 2020</td>\n",
       "      <td>Illinois</td>\n",
       "      <td>Indiana</td>\n",
       "      <td>69.0</td>\n",
       "      <td>60.0</td>\n",
       "    </tr>\n",
       "    <tr>\n",
       "      <th>4</th>\n",
       "      <td>Sat, Jan 2, 2021</td>\n",
       "      <td>Illinois</td>\n",
       "      <td>Purdue</td>\n",
       "      <td>66.0</td>\n",
       "      <td>58.0</td>\n",
       "    </tr>\n",
       "  </tbody>\n",
       "</table>\n",
       "</div>"
      ],
      "text/plain": [
       "                Date    HomeTeam   AwayTeam  FTHG  FTAG\n",
       "0  Tue, Dec 15, 2020    Illinois  Minnesota  92.0  65.0\n",
       "1  Sun, Dec 20, 2020     Rutgers   Illinois  91.0  88.0\n",
       "2  Wed, Dec 23, 2020  Penn State   Illinois  81.0  98.0\n",
       "3  Sat, Dec 26, 2020    Illinois    Indiana  69.0  60.0\n",
       "4   Sat, Jan 2, 2021    Illinois     Purdue  66.0  58.0"
      ]
     },
     "execution_count": 7,
     "metadata": {},
     "output_type": "execute_result"
    }
   ],
   "source": [
    "big10df.head()"
   ]
  },
  {
   "cell_type": "code",
   "execution_count": 8,
   "metadata": {
    "collapsed": false
   },
   "outputs": [
    {
     "data": {
      "text/plain": [
       "272"
      ]
     },
     "execution_count": 8,
     "metadata": {},
     "output_type": "execute_result"
    }
   ],
   "source": [
    "len(big10df.index)"
   ]
  },
  {
   "cell_type": "code",
   "execution_count": 9,
   "metadata": {
    "collapsed": false
   },
   "outputs": [
    {
     "data": {
      "text/plain": [
       "14"
      ]
     },
     "execution_count": 9,
     "metadata": {},
     "output_type": "execute_result"
    }
   ],
   "source": [
    "#figure out how many teams there are and half them, could do it by conference\n",
    "  #each team is playing around 40 games \n",
    "#try the other penalty code\n",
    "len(df.loc[df['opponent_conference']=='Big Ten'].opponent_name.unique())"
   ]
  },
  {
   "cell_type": "code",
   "execution_count": 10,
   "metadata": {
    "collapsed": false
   },
   "outputs": [
    {
     "data": {
      "text/html": [
       "<div>\n",
       "<style scoped>\n",
       "    .dataframe tbody tr th:only-of-type {\n",
       "        vertical-align: middle;\n",
       "    }\n",
       "\n",
       "    .dataframe tbody tr th {\n",
       "        vertical-align: top;\n",
       "    }\n",
       "\n",
       "    .dataframe thead th {\n",
       "        text-align: right;\n",
       "    }\n",
       "</style>\n",
       "<table border=\"1\" class=\"dataframe\">\n",
       "  <thead>\n",
       "    <tr style=\"text-align: right;\">\n",
       "      <th></th>\n",
       "      <th>Unnamed: 0</th>\n",
       "      <th>arena</th>\n",
       "      <th>boxscore_index</th>\n",
       "      <th>date</th>\n",
       "      <th>datetime</th>\n",
       "      <th>game</th>\n",
       "      <th>location</th>\n",
       "      <th>opponent_abbr</th>\n",
       "      <th>opponent_conference</th>\n",
       "      <th>opponent_name</th>\n",
       "      <th>...</th>\n",
       "      <th>points_against</th>\n",
       "      <th>points_for</th>\n",
       "      <th>result</th>\n",
       "      <th>season_losses</th>\n",
       "      <th>season_wins</th>\n",
       "      <th>streak</th>\n",
       "      <th>time</th>\n",
       "      <th>type</th>\n",
       "      <th>team_name</th>\n",
       "      <th>team_conference</th>\n",
       "    </tr>\n",
       "  </thead>\n",
       "  <tbody>\n",
       "    <tr>\n",
       "      <th>8</th>\n",
       "      <td>2020-12-29-21-alabama</td>\n",
       "      <td>Coleman Coliseum</td>\n",
       "      <td>2020-12-29-21-alabama</td>\n",
       "      <td>Tue, Dec 29, 2020</td>\n",
       "      <td>2020-12-29 21:00:00</td>\n",
       "      <td>9</td>\n",
       "      <td>Home</td>\n",
       "      <td>mississippi</td>\n",
       "      <td>SEC</td>\n",
       "      <td>Mississippi</td>\n",
       "      <td>...</td>\n",
       "      <td>64.0</td>\n",
       "      <td>82.0</td>\n",
       "      <td>Win</td>\n",
       "      <td>3.0</td>\n",
       "      <td>6.0</td>\n",
       "      <td>W 2</td>\n",
       "      <td>9:00p</td>\n",
       "      <td>Reg</td>\n",
       "      <td>Alabama</td>\n",
       "      <td>sec</td>\n",
       "    </tr>\n",
       "  </tbody>\n",
       "</table>\n",
       "<p>1 rows × 22 columns</p>\n",
       "</div>"
      ],
      "text/plain": [
       "              Unnamed: 0             arena         boxscore_index  \\\n",
       "8  2020-12-29-21-alabama  Coleman Coliseum  2020-12-29-21-alabama   \n",
       "\n",
       "                date             datetime  game location opponent_abbr  \\\n",
       "8  Tue, Dec 29, 2020  2020-12-29 21:00:00     9     Home   mississippi   \n",
       "\n",
       "  opponent_conference opponent_name  ...  points_against  points_for  result  \\\n",
       "8                 SEC   Mississippi  ...            64.0        82.0     Win   \n",
       "\n",
       "   season_losses season_wins  streak   time type team_name team_conference  \n",
       "8            3.0         6.0     W 2  9:00p  Reg   Alabama             sec  \n",
       "\n",
       "[1 rows x 22 columns]"
      ]
     },
     "execution_count": 10,
     "metadata": {},
     "output_type": "execute_result"
    }
   ],
   "source": [
    "df.iloc[[8]]"
   ]
  },
  {
   "cell_type": "code",
   "execution_count": 11,
   "metadata": {
    "collapsed": false
   },
   "outputs": [
    {
     "data": {
      "text/plain": [
       "[74.85714285714286, 69.88300492610837]"
      ]
     },
     "execution_count": 11,
     "metadata": {},
     "output_type": "execute_result"
    }
   ],
   "source": [
    "homeMean = df[df.location=='Home']['points_for'].mean()\n",
    "awayMean = df[df.location=='Away']['points_for'].mean()\n",
    "[homeMean,awayMean]"
   ]
  },
  {
   "cell_type": "code",
   "execution_count": 12,
   "metadata": {
    "collapsed": false
   },
   "outputs": [
    {
     "data": {
      "text/plain": [
       "142.0"
      ]
     },
     "execution_count": 12,
     "metadata": {},
     "output_type": "execute_result"
    }
   ],
   "source": [
    "df[df.location=='Home']['points_for'].max()"
   ]
  },
  {
   "cell_type": "code",
   "execution_count": 13,
   "metadata": {
    "collapsed": false
   },
   "outputs": [
    {
     "data": {
      "text/plain": [
       "Text(0.5, 1.0, 'Number of Points Scored Per Game')"
      ]
     },
     "execution_count": 13,
     "metadata": {},
     "output_type": "execute_result"
    },
    {
     "data": {
      "image/png": "[encoded data removed]",
      "text/plain": [
       "<Figure size 432x288 with 1 Axes>"
      ]
     },
     "metadata": {},
     "output_type": "display_data"
    }
   ],
   "source": [
    "\n",
    "sns.set()\n",
    "\n",
    "max_goals = 150\n",
    "homeAwayPtsArray = df[df.location=='Home'][['points_for','points_against']].values\n",
    "plt.hist(homeAwayPtsArray, range(max_goals), label=[\"Home\", \"Away\"], density=True\n",
    ")\n",
    "#plt.xticks([i - 0.5 for i in range(max_goals)], [i for i in range(max_goals)])\n",
    "plt.xlabel(\"Points\")\n",
    "plt.ylabel(\"Proportion of matches\")\n",
    "plt.legend(loc=\"upper right\", fontsize=13)\n",
    "plt.title(\"Number of Points Scored Per Game\", size=14, fontweight=\"bold\")"
   ]
  },
  {
   "cell_type": "code",
   "execution_count": 14,
   "metadata": {
    "collapsed": false
   },
   "outputs": [
    {
     "data": {
      "image/png": "[encoded data removed]",
      "text/plain": [
       "<Figure size 432x288 with 1 Axes>"
      ]
     },
     "metadata": {},
     "output_type": "display_data"
    }
   ],
   "source": [
    "# importing poisson from scipy\n",
    "from scipy.stats import poisson\n",
    " \n",
    "# importing numpy as np\n",
    "import numpy as np\n",
    " \n",
    "# importing matplotlib as plt\n",
    "import matplotlib.pyplot as plt\n",
    " \n",
    " \n",
    "# creating a numpy array for x-axis\n",
    "# using step size as 1\n",
    "x = np.arange(0, 140, 1)\n",
    " \n",
    "# poisson distribution data for y-axis\n",
    "y = poisson.pmf(x, mu=72, loc=0)\n",
    " \n",
    " \n",
    "# plotting the graph\n",
    "plt.plot(x, y)\n",
    " \n",
    "# showing the graph\n",
    "plt.show()"
   ]
  },
  {
   "cell_type": "code",
   "execution_count": 23,
   "metadata": {
    "collapsed": false
   },
   "outputs": [
    {
     "data": {
      "text/plain": [
       "Text(0.5, 1.0, 'Number of Points Scored Per Game')"
      ]
     },
     "execution_count": 23,
     "metadata": {},
     "output_type": "execute_result"
    },
    {
     "data": {
      "image/png": "[encoded data removed]",
      "text/plain": [
       "<Figure size 640x480 with 1 Axes>"
      ]
     },
     "metadata": {},
     "output_type": "display_data"
    }
   ],
   "source": [
    "\n",
    "home_poisson = poisson.pmf(range(0,max_goals,5), homeMean)\n",
    "away_poisson = poisson.pmf(range(0,max_goals,5), awayMean)\n",
    "\n",
    "plt.hist(\n",
    "    homeAwayPtsArray, range(max_goals), label=[\"Home\", \"Away\"], density=True\n",
    ")\n",
    "\n",
    "pts = [i - 5 for i in range(1, max_goals + 1,5)]\n",
    "plt.plot(\n",
    "    pts,\n",
    "    home_poisson,\n",
    "    linestyle=\"-\",\n",
    "    marker=\"o\",\n",
    "    label=\"Home Poisson\",\n",
    ")\n",
    "\n",
    "plt.plot(\n",
    "    pts,\n",
    "    away_poisson,\n",
    "    linestyle=\"-\",\n",
    "    marker=\"o\",\n",
    "    label=\"Away Poisson\",\n",
    ")\n",
    "\n",
    "\n",
    "#plt.xticks([i - 0.5 for i in range(1, max_goals + 1)], [i for i in range(max_goals)])\n",
    "plt.xlabel(\"Points\")\n",
    "plt.ylabel(\"Proportion of games\")\n",
    "plt.legend(loc=\"upper right\", fontsize=13)\n",
    "plt.title(\"Number of Points Scored Per Game\", size=14, fontweight=\"bold\")\n"
   ]
  },
  {
   "cell_type": "code",
   "execution_count": 15,
   "metadata": {
    "collapsed": false
   },
   "outputs": [],
   "source": [
    "#this is data for soccer (20 teams with 38 games per team)\n",
    "#df = pd.read_csv(\"https://www.football-data.co.uk/mmz4281/1718/E0.csv\")\n",
    "#df[[\"Date\", \"HomeTeam\", \"AwayTeam\", \"FTHG\", \"FTAG\"]].head()"
   ]
  },
  {
   "cell_type": "code",
   "execution_count": 16,
   "metadata": {
    "collapsed": false
   },
   "outputs": [],
   "source": [
    "#dff = pd.read_csv(\"https://www.football-data.co.uk/mmz4281/1718/E0.csv\")\n",
    "#dff[[\"Date\", \"HomeTeam\", \"AwayTeam\", \"FTHG\", \"FTAG\"]].head()\n",
    "#dff.loc[dff[\"AwayTeam\"]==\"Arsenal\"]"
   ]
  },
  {
   "cell_type": "code",
   "execution_count": 52,
   "metadata": {
    "collapsed": true
   },
   "outputs": [],
   "source": [
    "#this is the log likelihood of the first two things happening\n",
    "def log_likelihood(\n",
    "    goals_home_observed, #will serve as k\n",
    "    goals_away_observed, #will serve as k\n",
    "    home_attack,\n",
    "    home_defence,\n",
    "    away_attack,\n",
    "    away_defence,\n",
    "    home_advantage,\n",
    "):\n",
    "    #these will serve as mu\n",
    "    goal_expectation_home = np.exp(home_attack + away_defence + home_advantage)\n",
    "    goal_expectation_away = np.exp(away_attack + home_defence)\n",
    "    #goal_expectation_home = home_attack + away_defence + home_advantage\n",
    "    #goal_expectation_away = away_attack + home_defence\n",
    "\n",
    "    if goal_expectation_home < 0 or goal_expectation_away < 0:\n",
    "        return 10000    \n",
    "    #(k,mu)\n",
    "    home_llk = poisson.pmf(goals_home_observed, goal_expectation_home)\n",
    "    away_llk = poisson.pmf(goals_away_observed, goal_expectation_away)\n",
    "\n",
    "    #probability of both teams' scores\n",
    "    log_llk = np.log(home_llk) + np.log(away_llk)\n",
    "\n",
    "    return -log_llk\n",
    "\n",
    "def predict(home_team, away_team, params, max_goals=10):\n",
    "    home_attack = params[\"attack_\" + home_team]\n",
    "    home_defence = params[\"defence_\" + home_team]\n",
    "    away_attack = params[\"attack_\" + away_team]\n",
    "    away_defence = params[\"defence_\" + away_team]\n",
    "    home_advantage = params[\"home_adv\"]\n",
    "\n",
    "    home_goal_expectation = np.exp(home_attack + away_defence + home_advantage)\n",
    "    away_goal_expectation = np.exp(away_attack + home_defence)\n",
    "    #home_goal_expectation = home_attack + away_defence + home_advantage\n",
    "    #away_goal_expectation = away_attack + home_defence\n",
    "\n",
    "    home_probs = poisson.pmf(list(range(max_goals + 1)), home_goal_expectation)\n",
    "    away_probs = poisson.pmf(range(max_goals + 1), away_goal_expectation)\n",
    "\n",
    "    probability_matrix = np.outer(home_probs, away_probs)\n",
    "\n",
    "    return probability_matrix"
   ]
  },
  {
   "cell_type": "code",
   "execution_count": 54,
   "metadata": {
    "collapsed": false
   },
   "outputs": [
    {
     "data": {
      "text/plain": [
       "14"
      ]
     },
     "execution_count": 54,
     "metadata": {},
     "output_type": "execute_result"
    }
   ],
   "source": [
    "    teams = np.sort(np.unique(np.concatenate([big10df[\"HomeTeam\"], big10df[\"AwayTeam\"]])))\n",
    "    n_teams = len(teams)\n",
    "    n_teams"
   ]
  },
  {
   "cell_type": "code",
   "execution_count": 58,
   "metadata": {
    "collapsed": true
   },
   "outputs": [],
   "source": [
    "\n",
    "\n",
    "def fit_poisson_model():\n",
    "    teams = np.sort(np.unique(np.concatenate([big10df[\"HomeTeam\"], big10df[\"AwayTeam\"]])))\n",
    "    n_teams = len(teams)\n",
    "\n",
    "    params = np.concatenate(\n",
    "        (\n",
    "            np.random.uniform(0.5, 1.5, (n_teams)),  # attack strength\n",
    "            np.random.uniform(0, -1, (n_teams)),  # defence strength\n",
    "            [0.25],  # home advantage\n",
    "        )\n",
    "    )\n",
    "\n",
    "    def _fit(params, big10df, teams):\n",
    "        attack_params = dict(zip(teams, params[:n_teams]))\n",
    "        defence_params = dict(zip(teams, params[n_teams : (2 * n_teams)]))\n",
    "        home_advantage = params[-1]\n",
    "\n",
    "        llk = list()\n",
    "        for idx, row in big10df.iterrows():\n",
    "            tmp = log_likelihood(\n",
    "                row[\"FTHG\"],\n",
    "                row[\"FTAG\"],\n",
    "                attack_params[row[\"HomeTeam\"]],\n",
    "                defence_params[row[\"HomeTeam\"]],\n",
    "                attack_params[row[\"AwayTeam\"]],\n",
    "                defence_params[row[\"AwayTeam\"]],\n",
    "                home_advantage,\n",
    "            )\n",
    "            llk.append(tmp)\n",
    "\n",
    "        return np.sum(llk)\n",
    "\n",
    "    options = {\n",
    "        \"maxiter\": 100,\n",
    "        \"disp\": False,\n",
    "    }\n",
    "\n",
    "    constraints = [{\"type\": \"eq\", \"fun\": lambda x: sum(x[:n_teams]) - n_teams}]\n",
    "\n",
    "    res = minimize(\n",
    "        _fit,\n",
    "        params,\n",
    "        args=(big10df, teams),\n",
    "        constraints=constraints,\n",
    "        options=options,\n",
    "    )\n",
    "\n",
    "    model_params = dict(\n",
    "        zip(\n",
    "            [\"attack_\" + team for team in teams]\n",
    "            + [\"defence_\" + team for team in teams]\n",
    "            + [\"home_adv\"],\n",
    "            res[\"x\"],\n",
    "        )\n",
    "    )\n",
    "\n",
    "    return model_params\n"
   ]
  },
  {
   "cell_type": "code",
   "execution_count": 59,
   "metadata": {
    "collapsed": false,
    "scrolled": true
   },
   "outputs": [
    {
     "name": "stderr",
     "output_type": "stream",
     "text": [
      "<ipython-input-52-5cbeff422d04>:12: RuntimeWarning: overflow encountered in exp\n",
      "  goal_expectation_home = np.exp(home_attack + away_defence + home_advantage)\n",
      "<ipython-input-52-5cbeff422d04>:13: RuntimeWarning: overflow encountered in exp\n",
      "  goal_expectation_away = np.exp(away_attack + home_defence)\n",
      "/usr/local/lib/python3.9/site-packages/scipy/stats/_discrete_distns.py:602: RuntimeWarning: invalid value encountered in subtract\n",
      "  Pk = special.xlogy(k, mu) - gamln(k + 1) - mu\n",
      "<ipython-input-52-5cbeff422d04>:24: RuntimeWarning: divide by zero encountered in log\n",
      "  log_llk = np.log(home_llk) + np.log(away_llk)\n"
     ]
    }
   ],
   "source": [
    "model_params = fit_poisson_model()"
   ]
  },
  {
   "cell_type": "code",
   "execution_count": 60,
   "metadata": {
    "collapsed": false
   },
   "outputs": [
    {
     "data": {
      "text/plain": [
       "{'attack_Illinois': 1.1038160799888805,\n",
       " 'attack_Indiana': 0.9940284375105868,\n",
       " 'attack_Iowa': 1.1353081431615044,\n",
       " 'attack_Maryland': 0.9137974778511287,\n",
       " 'attack_Michigan': 1.048765029718904,\n",
       " 'attack_Michigan State': 0.9223533554069858,\n",
       " 'attack_Minnesota': 0.9949441937275093,\n",
       " 'attack_Nebraska': 0.9461303406330838,\n",
       " 'attack_Northwestern': 0.9537464656807302,\n",
       " 'attack_Ohio State': 1.0812017732871446,\n",
       " 'attack_Penn State': 1.0192138902008179,\n",
       " 'attack_Purdue': 0.978285219156053,\n",
       " 'attack_Rutgers': 0.9626293046816512,\n",
       " 'attack_Wisconsin': 0.9457802889950179,\n",
       " 'defence_Illinois': 3.219011748328226,\n",
       " 'defence_Indiana': 3.264272079488492,\n",
       " 'defence_Iowa': 3.267172820459021,\n",
       " 'defence_Maryland': 3.1672538493484494,\n",
       " 'defence_Michigan': 3.1542972195516543,\n",
       " 'defence_Michigan State': 3.217662608940059,\n",
       " 'defence_Minnesota': 3.2916600934619646,\n",
       " 'defence_Nebraska': 3.310672134944848,\n",
       " 'defence_Northwestern': 3.2591292922406163,\n",
       " 'defence_Ohio State': 3.2457931094829853,\n",
       " 'defence_Penn State': 3.2767547836822564,\n",
       " 'defence_Purdue': 3.1603718287456166,\n",
       " 'defence_Rutgers': 3.2035740561677843,\n",
       " 'defence_Wisconsin': 3.160237448352707,\n",
       " 'home_adv': 0.03925109392733265}"
      ]
     },
     "execution_count": 60,
     "metadata": {},
     "output_type": "execute_result"
    }
   ],
   "source": [
    "model_params"
   ]
  },
  {
   "cell_type": "code",
   "execution_count": 65,
   "metadata": {
    "collapsed": false
   },
   "outputs": [
    {
     "name": "stdout",
     "output_type": "stream",
     "text": [
      "[[1.62049516e-58 9.55244593e-57 2.81547348e-55 ... 5.50846399e-39\n",
      "  3.27991183e-39 1.93343252e-39]\n",
      " [1.20110300e-56 7.08022570e-55 2.08681503e-53 ... 4.08284628e-37\n",
      "  2.43105444e-37 1.43305063e-37]\n",
      " [4.45125805e-55 2.62391415e-53 7.73368493e-52 ... 1.51309274e-35\n",
      "  9.00942767e-36 5.31085021e-36]\n",
      " ...\n",
      " [3.08081550e-29 1.81606981e-27 5.35265674e-26 ... 1.04724541e-09\n",
      "  6.23562690e-10 3.67575851e-10]\n",
      " [2.30655073e-29 1.35965856e-27 4.00743709e-26 ... 7.84053661e-10\n",
      "  4.66850084e-10 2.75197378e-10]\n",
      " [1.70960400e-29 1.00777220e-27 2.97029256e-26 ... 5.81136698e-10\n",
      "  3.46026975e-10 2.03974936e-10]]\n"
     ]
    }
   ],
   "source": [
    "probs = predict(\"Michigan\", \"Michigan State\", model_params, 100)\n",
    "print(probs)"
   ]
  },
  {
   "cell_type": "code",
   "execution_count": 66,
   "metadata": {
    "collapsed": false
   },
   "outputs": [
    {
     "data": {
      "text/plain": [
       "0.014583127697213837"
      ]
     },
     "execution_count": 66,
     "metadata": {},
     "output_type": "execute_result"
    }
   ],
   "source": [
    "#draw\n",
    "np.sum(np.diag(probs))"
   ]
  },
  {
   "cell_type": "code",
   "execution_count": 67,
   "metadata": {
    "collapsed": false
   },
   "outputs": [
    {
     "data": {
      "text/plain": [
       "0.8969129597190542"
      ]
     },
     "execution_count": 67,
     "metadata": {},
     "output_type": "execute_result"
    }
   ],
   "source": [
    "#home win\n",
    "np.sum(np.tril(probs, -1))"
   ]
  },
  {
   "cell_type": "code",
   "execution_count": 68,
   "metadata": {
    "collapsed": false
   },
   "outputs": [
    {
     "data": {
      "text/plain": [
       "0.08677249615287969"
      ]
     },
     "execution_count": 68,
     "metadata": {},
     "output_type": "execute_result"
    }
   ],
   "source": [
    "# away win\n",
    "np.sum(np.triu(probs, 1))"
   ]
  },
  {
   "cell_type": "code",
   "execution_count": 71,
   "metadata": {
    "collapsed": false
   },
   "outputs": [],
   "source": [
    "import penaltyblog as pb"
   ]
  },
  {
   "cell_type": "code",
   "execution_count": 74,
   "metadata": {
    "collapsed": false
   },
   "outputs": [
    {
     "data": {
      "text/plain": [
       "Module: Penaltyblog\n",
       "\n",
       "Model: Poisson\n",
       "\n",
       "Number of parameters: 29\n",
       "Log Likelihood: -2480.425\n",
       "AIC: 5018.849\n",
       "\n",
       "Team                 Attack               Defence             \n",
       "------------------------------------------------------------\n",
       "Illinois             1.13                 3.0                 \n",
       "Indiana              0.98                 3.0                 \n",
       "Iowa                 1.153                3.0                 \n",
       "Maryland             0.898                3.0                 \n",
       "Michigan             1.032                3.0                 \n",
       "Michigan State       0.918                3.0                 \n",
       "Minnesota            0.988                3.0                 \n",
       "Nebraska             0.936                3.0                 \n",
       "Northwestern         0.949                3.0                 \n",
       "Ohio State           1.092                3.0                 \n",
       "Penn State           1.016                3.0                 \n",
       "Purdue               0.988                3.0                 \n",
       "Rutgers              0.969                3.0                 \n",
       "Wisconsin            0.95                 3.0                 \n",
       "------------------------------------------------------------\n",
       "Home Advantage: 0.27"
      ]
     },
     "execution_count": 74,
     "metadata": {},
     "output_type": "execute_result"
    }
   ],
   "source": [
    "pois = pb.poisson.PoissonGoalsModel(\n",
    "    big10df[\"FTHG\"], big10df[\"FTAG\"], big10df[\"HomeTeam\"], big10df[\"AwayTeam\"])\n",
    "pois.fit()\n",
    "pois"
   ]
  },
  {
   "cell_type": "code",
   "execution_count": 76,
   "metadata": {
    "collapsed": false
   },
   "outputs": [
    {
     "data": {
      "text/plain": [
       "Module: Penaltyblog\n",
       "\n",
       "Class: FootballProbabilityGrid\n",
       "\n",
       "Home Goal Expectation: 73.84954803312031\n",
       "Away Goal Expectation: 50.301602574423256\n",
       "\n",
       "Home Win: 5.912390535010854e-27\n",
       "Draw: 1.597342675596718e-26\n",
       "Away Win: 3.645450321926655e-27"
      ]
     },
     "execution_count": 76,
     "metadata": {},
     "output_type": "execute_result"
    }
   ],
   "source": [
    "probs = pois.predict(\"Michigan\", \"Michigan State\")\n",
    "probs"
   ]
  },
  {
   "cell_type": "code",
   "execution_count": 83,
   "metadata": {
    "collapsed": false
   },
   "outputs": [
    {
     "data": {
      "text/plain": [
       "Module: Penaltyblog\n",
       "\n",
       "Class: FootballProbabilityGrid\n",
       "\n",
       "Home Goal Expectation: 73.84954803312031\n",
       "Away Goal Expectation: 50.301602574423256\n",
       "\n",
       "Home Win: 0.9436566054505039\n",
       "Draw: 0.0037985258241342267\n",
       "Away Win: 0.015066976198701391"
      ]
     },
     "execution_count": 83,
     "metadata": {},
     "output_type": "execute_result"
    }
   ],
   "source": [
    "probs = pois.predict(\"Michigan\", \"Michigan State\", max_goals=90)\n",
    "probs"
   ]
  },
  {
   "cell_type": "code",
   "execution_count": 82,
   "metadata": {
    "collapsed": false
   },
   "outputs": [
    {
     "data": {
      "text/plain": [
       "[73.84734078489791, 50.29974462223191]"
      ]
     },
     "execution_count": 82,
     "metadata": {},
     "output_type": "execute_result"
    }
   ],
   "source": [
    "#figure out how they get the Home Goal Expectation \n",
    "#by taking the parameters and trying to push it into the formula for mu \n",
    "# since the mean, the variance, and the expected value are all equal\n",
    "home_goal_exp = np.exp(1.032 + 3 + 0.27)\n",
    "away_goal_exp = np.exp(0.918 + 3)\n",
    "[home_goal_exp,away_goal_exp]"
   ]
  },
  {
   "cell_type": "code",
   "execution_count": 84,
   "metadata": {
    "collapsed": false
   },
   "outputs": [
    {
     "data": {
      "text/plain": [
       "0.5858817725318181"
      ]
     },
     "execution_count": 84,
     "metadata": {},
     "output_type": "execute_result"
    }
   ],
   "source": [
    "probs.total_goals(\"over\", 120)"
   ]
  },
  {
   "cell_type": "code",
   "execution_count": 85,
   "metadata": {
    "collapsed": false
   },
   "outputs": [
    {
     "data": {
      "text/plain": [
       "0.34272312421499823"
      ]
     },
     "execution_count": 85,
     "metadata": {},
     "output_type": "execute_result"
    }
   ],
   "source": [
    "probs.total_goals(\"under\", 120)"
   ]
  },
  {
   "cell_type": "code",
   "execution_count": 81,
   "metadata": {
    "collapsed": false
   },
   "outputs": [
    {
     "data": {
      "text/html": [
       "<div>\n",
       "<style scoped>\n",
       "    .dataframe tbody tr th:only-of-type {\n",
       "        vertical-align: middle;\n",
       "    }\n",
       "\n",
       "    .dataframe tbody tr th {\n",
       "        vertical-align: top;\n",
       "    }\n",
       "\n",
       "    .dataframe thead th {\n",
       "        text-align: right;\n",
       "    }\n",
       "</style>\n",
       "<table border=\"1\" class=\"dataframe\">\n",
       "  <thead>\n",
       "    <tr style=\"text-align: right;\">\n",
       "      <th></th>\n",
       "      <th>team</th>\n",
       "      <th>rating</th>\n",
       "      <th>offence</th>\n",
       "      <th>defence</th>\n",
       "    </tr>\n",
       "  </thead>\n",
       "  <tbody>\n",
       "    <tr>\n",
       "      <th>0</th>\n",
       "      <td>Michigan</td>\n",
       "      <td>8.54959</td>\n",
       "      <td>38.5533</td>\n",
       "      <td>-30.0037</td>\n",
       "    </tr>\n",
       "    <tr>\n",
       "      <th>1</th>\n",
       "      <td>Illinois</td>\n",
       "      <td>8.32537</td>\n",
       "      <td>42.7004</td>\n",
       "      <td>-34.3751</td>\n",
       "    </tr>\n",
       "    <tr>\n",
       "      <th>2</th>\n",
       "      <td>Iowa</td>\n",
       "      <td>7.35951</td>\n",
       "      <td>45.1267</td>\n",
       "      <td>-37.7672</td>\n",
       "    </tr>\n",
       "    <tr>\n",
       "      <th>3</th>\n",
       "      <td>Ohio State</td>\n",
       "      <td>4.62727</td>\n",
       "      <td>40.8765</td>\n",
       "      <td>-36.2493</td>\n",
       "    </tr>\n",
       "    <tr>\n",
       "      <th>4</th>\n",
       "      <td>Purdue</td>\n",
       "      <td>2.86802</td>\n",
       "      <td>33.3624</td>\n",
       "      <td>-30.4944</td>\n",
       "    </tr>\n",
       "    <tr>\n",
       "      <th>5</th>\n",
       "      <td>Wisconsin</td>\n",
       "      <td>0.904783</td>\n",
       "      <td>31.2398</td>\n",
       "      <td>-30.335</td>\n",
       "    </tr>\n",
       "    <tr>\n",
       "      <th>6</th>\n",
       "      <td>Rutgers</td>\n",
       "      <td>-0.930105</td>\n",
       "      <td>32.358</td>\n",
       "      <td>-33.2881</td>\n",
       "    </tr>\n",
       "    <tr>\n",
       "      <th>7</th>\n",
       "      <td>Maryland</td>\n",
       "      <td>-1.46668</td>\n",
       "      <td>29.2849</td>\n",
       "      <td>-30.7516</td>\n",
       "    </tr>\n",
       "    <tr>\n",
       "      <th>8</th>\n",
       "      <td>Penn State</td>\n",
       "      <td>-2.32984</td>\n",
       "      <td>36.2435</td>\n",
       "      <td>-38.5733</td>\n",
       "    </tr>\n",
       "    <tr>\n",
       "      <th>9</th>\n",
       "      <td>Indiana</td>\n",
       "      <td>-2.92488</td>\n",
       "      <td>34.5989</td>\n",
       "      <td>-37.5238</td>\n",
       "    </tr>\n",
       "    <tr>\n",
       "      <th>10</th>\n",
       "      <td>Michigan State</td>\n",
       "      <td>-4.53839</td>\n",
       "      <td>29.709</td>\n",
       "      <td>-34.2473</td>\n",
       "    </tr>\n",
       "    <tr>\n",
       "      <th>11</th>\n",
       "      <td>Minnesota</td>\n",
       "      <td>-5.00714</td>\n",
       "      <td>34.6098</td>\n",
       "      <td>-39.6169</td>\n",
       "    </tr>\n",
       "    <tr>\n",
       "      <th>12</th>\n",
       "      <td>Northwestern</td>\n",
       "      <td>-5.5819</td>\n",
       "      <td>31.7443</td>\n",
       "      <td>-37.3262</td>\n",
       "    </tr>\n",
       "    <tr>\n",
       "      <th>13</th>\n",
       "      <td>Nebraska</td>\n",
       "      <td>-9.8556</td>\n",
       "      <td>31.2394</td>\n",
       "      <td>-41.095</td>\n",
       "    </tr>\n",
       "  </tbody>\n",
       "</table>\n",
       "</div>"
      ],
      "text/plain": [
       "              team    rating  offence  defence\n",
       "0         Michigan   8.54959  38.5533 -30.0037\n",
       "1         Illinois   8.32537  42.7004 -34.3751\n",
       "2             Iowa   7.35951  45.1267 -37.7672\n",
       "3       Ohio State   4.62727  40.8765 -36.2493\n",
       "4           Purdue   2.86802  33.3624 -30.4944\n",
       "5        Wisconsin  0.904783  31.2398  -30.335\n",
       "6          Rutgers -0.930105   32.358 -33.2881\n",
       "7         Maryland  -1.46668  29.2849 -30.7516\n",
       "8       Penn State  -2.32984  36.2435 -38.5733\n",
       "9          Indiana  -2.92488  34.5989 -37.5238\n",
       "10  Michigan State  -4.53839   29.709 -34.2473\n",
       "11       Minnesota  -5.00714  34.6098 -39.6169\n",
       "12    Northwestern   -5.5819  31.7443 -37.3262\n",
       "13        Nebraska   -9.8556  31.2394  -41.095"
      ]
     },
     "execution_count": 81,
     "metadata": {},
     "output_type": "execute_result"
    }
   ],
   "source": [
    "pb.ratings.massey(big10df[\"FTHG\"], big10df[\"FTAG\"], big10df[\"HomeTeam\"], big10df[\"AwayTeam\"])"
   ]
  },
  {
   "cell_type": "code",
   "execution_count": 86,
   "metadata": {
    "collapsed": false
   },
   "outputs": [
    {
     "data": {
      "text/plain": [
       "Index(['Date', 'HomeTeam', 'AwayTeam', 'FTHG', 'FTAG'], dtype='object')"
      ]
     },
     "execution_count": 86,
     "metadata": {},
     "output_type": "execute_result"
    }
   ],
   "source": [
    "#what if I just scaled the goals somehow? \n",
    "# subtracted min-2 (37-2)\n",
    "#df['new'] = df['hb'] - 5\n",
    "# divided by 25 ; I won't get an integer count\n",
    "big10df.columns"
   ]
  },
  {
   "cell_type": "code",
   "execution_count": 87,
   "metadata": {
    "collapsed": false
   },
   "outputs": [
    {
     "data": {
      "text/plain": [
       "count    272.000000\n",
       "mean      71.698529\n",
       "std       10.468240\n",
       "min       48.000000\n",
       "25%       64.000000\n",
       "50%       72.000000\n",
       "75%       79.000000\n",
       "max      102.000000\n",
       "Name: FTHG, dtype: float64"
      ]
     },
     "execution_count": 87,
     "metadata": {},
     "output_type": "execute_result"
    }
   ],
   "source": [
    "big10df.FTHG.describe()"
   ]
  },
  {
   "cell_type": "code",
   "execution_count": 88,
   "metadata": {
    "collapsed": false
   },
   "outputs": [
    {
     "data": {
      "text/plain": [
       "count    272.000000\n",
       "mean      68.801471\n",
       "std       11.396782\n",
       "min       37.000000\n",
       "25%       60.000000\n",
       "50%       68.000000\n",
       "75%       75.250000\n",
       "max       98.000000\n",
       "Name: FTAG, dtype: float64"
      ]
     },
     "execution_count": 88,
     "metadata": {},
     "output_type": "execute_result"
    }
   ],
   "source": [
    "big10df.FTAG.describe()"
   ]
  },
  {
   "cell_type": "code",
   "execution_count": 90,
   "metadata": {
    "collapsed": true
   },
   "outputs": [],
   "source": [
    "big10df['newFTAG'] = big10df['FTAG'] - 35\n",
    "\n",
    "big10df['newFTHG'] = big10df['FTHG'] - 35"
   ]
  },
  {
   "cell_type": "code",
   "execution_count": 107,
   "metadata": {
    "collapsed": true
   },
   "outputs": [],
   "source": [
    "big10df['newFTAG'] = big10df['FTAG'] / 35.0\n",
    "\n",
    "big10df['newFTHG'] = big10df['FTHG'] / 35.0"
   ]
  },
  {
   "cell_type": "code",
   "execution_count": 108,
   "metadata": {
    "collapsed": false
   },
   "outputs": [
    {
     "data": {
      "text/plain": [
       "Index(['Date', 'HomeTeam', 'AwayTeam', 'FTHG', 'FTAG', 'newFTAG', 'newFTHG'], dtype='object')"
      ]
     },
     "execution_count": 108,
     "metadata": {},
     "output_type": "execute_result"
    }
   ],
   "source": [
    "big10df.columns"
   ]
  },
  {
   "cell_type": "code",
   "execution_count": 109,
   "metadata": {
    "collapsed": true
   },
   "outputs": [],
   "source": [
    "big10minus35df = big10df[['Date', 'HomeTeam', 'AwayTeam', 'newFTAG', 'newFTHG']]\n",
    "selector_d = {'Date':'Date', 'HomeTeam':'HomeTeam', 'AwayTeam':'AwayTeam',\n",
    "              'newFTHG':'FTHG', 'newFTAG':'FTAG'}\n",
    "big10minus35df = big10minus35df.rename(columns=selector_d)[selector_d.values()]\n",
    "big10minus35df.reset_index(inplace=True, drop=True)"
   ]
  },
  {
   "cell_type": "code",
   "execution_count": 110,
   "metadata": {
    "collapsed": false
   },
   "outputs": [
    {
     "data": {
      "text/plain": [
       "count    272.000000\n",
       "mean       1.965756\n",
       "std        0.325622\n",
       "min        1.057143\n",
       "25%        1.714286\n",
       "50%        1.942857\n",
       "75%        2.150000\n",
       "max        2.800000\n",
       "Name: FTAG, dtype: float64"
      ]
     },
     "execution_count": 110,
     "metadata": {},
     "output_type": "execute_result"
    }
   ],
   "source": [
    "big10minus35df.FTAG.describe()"
   ]
  },
  {
   "cell_type": "code",
   "execution_count": 111,
   "metadata": {
    "collapsed": false,
    "scrolled": true
   },
   "outputs": [
    {
     "data": {
      "text/plain": [
       "Module: Penaltyblog\n",
       "\n",
       "Model: Poisson\n",
       "\n",
       "Number of parameters: 29\n",
       "Log Likelihood: -670.631\n",
       "AIC: 1399.262\n",
       "\n",
       "Team                 Attack               Defence             \n",
       "------------------------------------------------------------\n",
       "Illinois             1.173                -0.693              \n",
       "Indiana              0.975                -0.528              \n",
       "Iowa                 1.185                -0.581              \n",
       "Maryland             0.83                 -0.738              \n",
       "Michigan             1.072                -0.753              \n",
       "Michigan State       0.876                -0.62               \n",
       "Minnesota            1.033                -0.547              \n",
       "Nebraska             0.978                -0.513              \n",
       "Northwestern         1.0                  -0.6                \n",
       "Ohio State           1.111                -0.606              \n",
       "Penn State           1.017                -0.551              \n",
       "Purdue               0.993                -0.723              \n",
       "Rutgers              0.913                -0.577              \n",
       "Wisconsin            0.845                -0.623              \n",
       "------------------------------------------------------------\n",
       "Home Advantage: 0.071"
      ]
     },
     "execution_count": 111,
     "metadata": {},
     "output_type": "execute_result"
    }
   ],
   "source": [
    "poisMinus35 = pb.poisson.PoissonGoalsModel(\n",
    "    big10minus35df[\"FTHG\"], big10minus35df[\"FTAG\"], big10minus35df[\"HomeTeam\"], big10minus35df[\"AwayTeam\"])\n",
    "poisMinus35.fit()\n",
    "poisMinus35"
   ]
  },
  {
   "cell_type": "code",
   "execution_count": 112,
   "metadata": {
    "collapsed": false
   },
   "outputs": [
    {
     "data": {
      "text/plain": [
       "Module: Penaltyblog\n",
       "\n",
       "Class: FootballProbabilityGrid\n",
       "\n",
       "Home Goal Expectation: 1.6868021621172717\n",
       "Away Goal Expectation: 1.1310448438226437\n",
       "\n",
       "Home Win: 0.5035834355383367\n",
       "Draw: 0.24106257634236378\n",
       "Away Win: 0.2553539881192995"
      ]
     },
     "execution_count": 112,
     "metadata": {},
     "output_type": "execute_result"
    }
   ],
   "source": [
    "probs = poisMinus35.predict(\"Michigan\", \"Michigan State\", max_goals=70)\n",
    "probs"
   ]
  },
  {
   "cell_type": "code",
   "execution_count": 113,
   "metadata": {
    "collapsed": false
   },
   "outputs": [
    {
     "data": {
      "text/plain": [
       "0.22805684675764631"
      ]
     },
     "execution_count": 113,
     "metadata": {},
     "output_type": "execute_result"
    }
   ],
   "source": [
    "probs.total_goals(\"under\", 2)"
   ]
  },
  {
   "cell_type": "code",
   "execution_count": 114,
   "metadata": {
    "collapsed": false
   },
   "outputs": [
    {
     "data": {
      "text/plain": [
       "[59.03807567410451, 39.58656953379253]"
      ]
     },
     "execution_count": 114,
     "metadata": {},
     "output_type": "execute_result"
    }
   ],
   "source": [
    "[1.6868021621172717*35,1.1310448438226437*35]"
   ]
  },
  {
   "cell_type": "markdown",
   "metadata": {},
   "source": [
    "# This is the Pyro code!!!\n",
    "copied from Theo Rashid (Pyro:a guide to winning the Premier League)\n"
   ]
  },
  {
   "cell_type": "code",
   "execution_count": 26,
   "metadata": {
    "collapsed": true
   },
   "outputs": [],
   "source": [
    "def transformData(data):\n",
    "    pl_data = data\n",
    "\n",
    "    ng = len(pl_data)  # number of games\n",
    "    npr = 35  # predict the last 5 rounds of games\n",
    "    ngob = ng - npr  # number of games to train\n",
    "\n",
    "    pl_data = pl_data.rename(columns={\"FTHG\": \"score1\",\"FTAG\":\"score2\",\n",
    "                            \"HomeTeam\":\"Home\",\"AwayTeam\":\"Away\"})\n",
    "\n",
    "    teams = pl_data[\"Home\"].unique()\n",
    "    teams = pd.DataFrame(teams, columns=[\"Team\"])\n",
    "    teams[\"i\"] = teams.index\n",
    "\n",
    "    df = pd.merge(pl_data, teams, left_on=\"Home\", right_on=\"Team\", how=\"left\")\n",
    "    df = df.rename(columns={\"i\": \"Home_id\"}).drop(\"Team\", axis=1)\n",
    "    df = pd.merge(df, teams, left_on=\"Away\", right_on=\"Team\", how=\"left\")\n",
    "    df = df.rename(columns={\"i\": \"Away_id\"}).drop(\"Team\", axis=1)\n",
    "\n",
    " \n",
    "    df[\"split\"] = np.where(df.index + 1 <= ngob, \"train\", \"predict\")\n",
    "\n",
    "    print(df.head())\n",
    "\n",
    "    return teams, df\n"
   ]
  },
  {
   "cell_type": "code",
   "execution_count": 27,
   "metadata": {
    "collapsed": false
   },
   "outputs": [
    {
     "name": "stdout",
     "output_type": "stream",
     "text": [
      "                Date        Home       Away  score1  score2  Home_id  Away_id  \\\n",
      "0  Tue, Dec 15, 2020    Illinois  Minnesota    92.0    65.0        0        6   \n",
      "1  Sun, Dec 20, 2020     Rutgers   Illinois    91.0    88.0        1        0   \n",
      "2  Wed, Dec 23, 2020  Penn State   Illinois    81.0    98.0        2        0   \n",
      "3  Sat, Dec 26, 2020    Illinois    Indiana    69.0    60.0        0        4   \n",
      "4   Sat, Jan 2, 2021    Illinois     Purdue    66.0    58.0        0       12   \n",
      "\n",
      "   split  \n",
      "0  train  \n",
      "1  train  \n",
      "2  train  \n",
      "3  train  \n",
      "4  train  \n"
     ]
    }
   ],
   "source": [
    "tt,dd = transformData(big10df)"
   ]
  },
  {
   "cell_type": "code",
   "execution_count": 21,
   "metadata": {
    "collapsed": false
   },
   "outputs": [
    {
     "data": {
      "text/html": [
       "<div>\n",
       "<style scoped>\n",
       "    .dataframe tbody tr th:only-of-type {\n",
       "        vertical-align: middle;\n",
       "    }\n",
       "\n",
       "    .dataframe tbody tr th {\n",
       "        vertical-align: top;\n",
       "    }\n",
       "\n",
       "    .dataframe thead th {\n",
       "        text-align: right;\n",
       "    }\n",
       "</style>\n",
       "<table border=\"1\" class=\"dataframe\">\n",
       "  <thead>\n",
       "    <tr style=\"text-align: right;\">\n",
       "      <th></th>\n",
       "      <th>Team</th>\n",
       "      <th>i</th>\n",
       "    </tr>\n",
       "  </thead>\n",
       "  <tbody>\n",
       "    <tr>\n",
       "      <th>0</th>\n",
       "      <td>Illinois</td>\n",
       "      <td>0</td>\n",
       "    </tr>\n",
       "    <tr>\n",
       "      <th>1</th>\n",
       "      <td>Rutgers</td>\n",
       "      <td>1</td>\n",
       "    </tr>\n",
       "    <tr>\n",
       "      <th>2</th>\n",
       "      <td>Penn State</td>\n",
       "      <td>2</td>\n",
       "    </tr>\n",
       "    <tr>\n",
       "      <th>3</th>\n",
       "      <td>Northwestern</td>\n",
       "      <td>3</td>\n",
       "    </tr>\n",
       "    <tr>\n",
       "      <th>4</th>\n",
       "      <td>Indiana</td>\n",
       "      <td>4</td>\n",
       "    </tr>\n",
       "    <tr>\n",
       "      <th>5</th>\n",
       "      <td>Nebraska</td>\n",
       "      <td>5</td>\n",
       "    </tr>\n",
       "    <tr>\n",
       "      <th>6</th>\n",
       "      <td>Minnesota</td>\n",
       "      <td>6</td>\n",
       "    </tr>\n",
       "    <tr>\n",
       "      <th>7</th>\n",
       "      <td>Michigan State</td>\n",
       "      <td>7</td>\n",
       "    </tr>\n",
       "    <tr>\n",
       "      <th>8</th>\n",
       "      <td>Wisconsin</td>\n",
       "      <td>8</td>\n",
       "    </tr>\n",
       "    <tr>\n",
       "      <th>9</th>\n",
       "      <td>Michigan</td>\n",
       "      <td>9</td>\n",
       "    </tr>\n",
       "    <tr>\n",
       "      <th>10</th>\n",
       "      <td>Ohio State</td>\n",
       "      <td>10</td>\n",
       "    </tr>\n",
       "    <tr>\n",
       "      <th>11</th>\n",
       "      <td>Iowa</td>\n",
       "      <td>11</td>\n",
       "    </tr>\n",
       "    <tr>\n",
       "      <th>12</th>\n",
       "      <td>Purdue</td>\n",
       "      <td>12</td>\n",
       "    </tr>\n",
       "    <tr>\n",
       "      <th>13</th>\n",
       "      <td>Maryland</td>\n",
       "      <td>13</td>\n",
       "    </tr>\n",
       "  </tbody>\n",
       "</table>\n",
       "</div>"
      ],
      "text/plain": [
       "              Team   i\n",
       "0         Illinois   0\n",
       "1          Rutgers   1\n",
       "2       Penn State   2\n",
       "3     Northwestern   3\n",
       "4          Indiana   4\n",
       "5         Nebraska   5\n",
       "6        Minnesota   6\n",
       "7   Michigan State   7\n",
       "8        Wisconsin   8\n",
       "9         Michigan   9\n",
       "10      Ohio State  10\n",
       "11            Iowa  11\n",
       "12          Purdue  12\n",
       "13        Maryland  13"
      ]
     },
     "execution_count": 21,
     "metadata": {},
     "output_type": "execute_result"
    }
   ],
   "source": [
    "tt"
   ]
  },
  {
   "cell_type": "code",
   "execution_count": 79,
   "metadata": {
    "collapsed": false
   },
   "outputs": [],
   "source": [
    "\n",
    "class FoldedTransform(dist.transforms.AbsTransform):\n",
    "    def log_abs_det_jacobian(self, x, y):\n",
    "        return torch.zeros_like(x)\n",
    "\n",
    "def model(home_id, away_id, score1_obs=None, score2_obs=None):\n",
    "    # hyperpriors\n",
    "    alpha = pyro.sample(\"alpha\", dist.Normal(0.0, 1.0))\n",
    "    sd_att = pyro.sample(\"sd_att\", dist.TransformedDistribution(dist.StudentT(3.0, 0.0, 2.5), FoldedTransform()))\n",
    "    sd_def = pyro.sample(\"sd_def\", dist.TransformedDistribution(dist.StudentT(3.0, 0.0, 2.5), FoldedTransform()))\n",
    "\n",
    "    home = pyro.sample(\"home\", dist.Normal(0.0, 1.0))  # home advantage\n",
    "\n",
    "    nt = len(np.unique(home_id))\n",
    "\n",
    "    # team-specific model parameters\n",
    "    with pyro.plate(\"plate_teams\", nt):\n",
    "        attack = pyro.sample(\"attack\", dist.Normal(0, sd_att))\n",
    "        defend = pyro.sample(\"defend\", dist.Normal(0, sd_def))\n",
    "\n",
    "    # likelihood\n",
    "    theta1 = torch.exp(alpha + home + attack[home_id] - defend[away_id])\n",
    "    theta2 = torch.exp(alpha + attack[away_id] - defend[home_id])\n",
    "\n",
    "    with pyro.plate(\"data\", len(home_id)):\n",
    "        pyro.sample(\"s1\", dist.Poisson(theta1), obs=score1_obs)\n",
    "        pyro.sample(\"s2\", dist.Poisson(theta2), obs=score2_obs)\n",
    "\n",
    "def guide(home_id, away_id, score1_obs=None, score2_obs=None):\n",
    "    mu_locs = pyro.param(\"mu_loc\", torch.tensor(0.0).expand(4))\n",
    "    mu_scales = pyro.param(\"mu_scale\", torch.tensor(0.1).expand(4), constraint=constraints.positive)\n",
    "\n",
    "    pyro.sample(\"alpha\", dist.Normal(mu_locs[0], mu_scales[0]))\n",
    "    pyro.sample(\"sd_att\", dist.LogNormal(mu_locs[1], mu_scales[1]))\n",
    "    pyro.sample(\"sd_def\", dist.LogNormal(mu_locs[2], mu_scales[2]))\n",
    "    pyro.sample(\"home\", dist.Normal(mu_locs[3], mu_scales[3]))  # home advantage\n",
    "\n",
    "    nt = len(np.unique(home_id))\n",
    "    #print(\"number of teams: \", nt)\n",
    "\n",
    "    mu_team_locs = pyro.param(\"mu_team_loc\", torch.tensor(0.0).expand(2, nt))\n",
    "    mu_team_scales = pyro.param(\"mu_team_scale\", torch.tensor(0.1).expand(2, nt), constraint=constraints.positive)\n",
    "\n",
    "    with pyro.plate(\"plate_teams\", nt):\n",
    "        pyro.sample(\"attack\", dist.Normal(mu_team_locs[0], mu_team_scales[0]))\n",
    "        pyro.sample(\"defend\", dist.Normal(mu_team_locs[1], mu_team_scales[1]))\n",
    "\n",
    "def run_inference(model, guide, home_id, away_id, score1, score2, args):\n",
    "    gamma = 0.01  # final learning rate will be gamma * initial_lr\n",
    "    lrd = gamma ** (1 / args.num_iterations)\n",
    "\n",
    "    svi = SVI(\n",
    "        model=model,\n",
    "        guide=guide,\n",
    "        optim=ClippedAdam({\"lr\": args.learning_rate, \"lrd\": lrd}),\n",
    "        loss=Trace_ELBO(num_particles=args.num_particles),\n",
    "    )\n",
    "\n",
    "    pyro.clear_param_store()  # clear global parameter cache\n",
    "    pyro.set_rng_seed(args.rng_seed)\n",
    "\n",
    "    advi_loss = []\n",
    "    for j in range(args.num_iterations):\n",
    "        # calculate the loss and take a gradient step\n",
    "        loss = svi.step(\n",
    "            home_id=home_id,\n",
    "            away_id=away_id,\n",
    "            score1_obs=score1.float(),\n",
    "            score2_obs=score2.float(),\n",
    "        )\n",
    "        advi_loss.append(loss)\n",
    "        if j % 100 == 0:\n",
    "            print(\"[iteration %4d] loss: %.4f\" % (j + 1, loss))\n",
    "\n",
    "    print(\"Posterior: \")\n",
    "    for i in pyro.get_param_store().items():\n",
    "        print(i)\n",
    "\n",
    "    fit = Predictive(model=model, guide=guide, num_samples=2000)(\n",
    "        home_id=home_id, away_id=away_id\n",
    "    )\n",
    "\n",
    "    return fit\n",
    "\n",
    "def runThePyroFit(data,args):\n",
    "    print(\"transforming data...\")\n",
    "    teams, df =  transformData(data)\n",
    "    train = df[df[\"split\"] == \"train\"]\n",
    "\n",
    "    print(\"Starting inference...\")\n",
    "    fit = run_inference(\n",
    "        model,\n",
    "        guide,\n",
    "        torch.tensor(train[\"Home_id\"]),\n",
    "        torch.tensor(train[\"Away_id\"]),\n",
    "        torch.tensor(train[\"score1\"]),\n",
    "        torch.tensor(train[\"score2\"]),\n",
    "        args,\n",
    "    )\n",
    "    return fit,teams,df,train\n",
    "\n",
    "#def runThePyroCodeRest(data,args,fit):\n",
    "def runThePyroCodeRest(fit,teams,df,train):\n",
    "#    print(\"transforming data...\")\n",
    "#    teams, df =  transformData(data)\n",
    "#    train = df[df[\"split\"] == \"train\"]\n",
    "\n",
    "#    print(\"Starting inference...\")\n",
    "#    fit = run_inference(\n",
    "#        model,\n",
    "#        guide,\n",
    "#        torch.tensor(train[\"Home_id\"]),\n",
    "#        torch.tensor(train[\"Away_id\"]),\n",
    "#        torch.tensor(train[\"score1\"]),\n",
    "#        torch.tensor(train[\"score2\"]),\n",
    "#        args,\n",
    "#    )\n",
    "\n",
    "    print(\"Analyse posterior...\")\n",
    "\n",
    "    # Attack and defence\n",
    "    quality = teams.copy()\n",
    "\n",
    "    quality = quality.assign(\n",
    "        attack=fit[\"attack\"].mean(axis=0),\n",
    "        attacksd=fit[\"attack\"].std(axis=0),\n",
    "        defend=fit[\"defend\"].mean(axis=0),\n",
    "        defendsd=fit[\"defend\"].std(axis=0),\n",
    "    )\n",
    "    quality = quality.assign(\n",
    "        attack_low=quality[\"attack\"] - quality[\"attacksd\"],\n",
    "        attack_high=quality[\"attack\"] + quality[\"attacksd\"],\n",
    "        defend_low=quality[\"defend\"] - quality[\"defendsd\"],\n",
    "        defend_high=quality[\"defend\"] + quality[\"defendsd\"],\n",
    "    )\n",
    "\n",
    "    plot_quality(quality)\n",
    "\n",
    "    # Predicted goals and table\n",
    "    predict = df[df[\"split\"] == \"predict\"]\n",
    "    print(\"this many home_ids: \" , predict.Home_id.unique())\n",
    "\n",
    "    predictive = Predictive(\n",
    "        model=model, guide=guide, num_samples=2000, return_sites=[\"s1\", \"s2\"]\n",
    "    )\n",
    "\n",
    "    #it dies on this line ; look at \n",
    "    predicted_score = predictive(\n",
    "        home_id=predict[\"Home_id\"].values,\n",
    "        away_id=predict[\"Away_id\"].values,\n",
    "    )\n",
    "    print(\"got this far\")\n",
    "\n",
    "    predicted_full = predict.copy()\n",
    "    predicted_full = predicted_full.assign(\n",
    "        score1=predicted_score[\"s1\"].mean(axis=0).round(),\n",
    "        score1error=predicted_score[\"s1\"].std(axis=0),\n",
    "        score2=predicted_score[\"s2\"].mean(axis=0).round(),\n",
    "        score2error=predicted_score[\"s2\"].std(axis=0),\n",
    "    )\n",
    "\n",
    "    predicted_full = train.append(\n",
    "        predicted_full.drop(columns=[\"score1error\", \"score2error\"])\n",
    "    )\n",
    "\n",
    "    print(score_table(df))\n",
    "    print(score_table(predicted_full))\n",
    "\n",
    "def doQualityPlot(fit,teams,df,train):\n",
    "    # Attack and defence\n",
    "    quality = teams.copy()\n",
    "\n",
    "    quality = quality.assign(\n",
    "        attack=fit[\"attack\"].mean(axis=0),\n",
    "        attacksd=fit[\"attack\"].std(axis=0),\n",
    "        defend=fit[\"defend\"].mean(axis=0),\n",
    "        defendsd=fit[\"defend\"].std(axis=0),\n",
    "    )\n",
    "    quality = quality.assign(\n",
    "        attack_low=quality[\"attack\"] - quality[\"attacksd\"],\n",
    "        attack_high=quality[\"attack\"] + quality[\"attacksd\"],\n",
    "        defend_low=quality[\"defend\"] - quality[\"defendsd\"],\n",
    "        defend_high=quality[\"defend\"] + quality[\"defendsd\"],\n",
    "    )\n",
    "    #gotta debug this\n",
    "    plot_quality(quality)\n"
   ]
  },
  {
   "cell_type": "code",
   "execution_count": 60,
   "metadata": {
    "collapsed": false
   },
   "outputs": [
    {
     "name": "stdout",
     "output_type": "stream",
     "text": [
      "transforming data...\n",
      "                Date        Home       Away  score1  score2  Home_id  Away_id  \\\n",
      "0  Tue, Dec 15, 2020    Illinois  Minnesota    92.0    65.0        0        6   \n",
      "1  Sun, Dec 20, 2020     Rutgers   Illinois    91.0    88.0        1        0   \n",
      "2  Wed, Dec 23, 2020  Penn State   Illinois    81.0    98.0        2        0   \n",
      "3  Sat, Dec 26, 2020    Illinois    Indiana    69.0    60.0        0        4   \n",
      "4   Sat, Jan 2, 2021    Illinois     Purdue    66.0    58.0        0       12   \n",
      "\n",
      "   split  \n",
      "0  train  \n",
      "1  train  \n",
      "2  train  \n",
      "3  train  \n",
      "4  train  \n",
      "Starting inference...\n",
      "[iteration    1] loss: 110533.9190\n",
      "[iteration  101] loss: 1949.2001\n",
      "[iteration  201] loss: 1986.1177\n",
      "[iteration  301] loss: 1899.9706\n",
      "[iteration  401] loss: 1890.2208\n",
      "[iteration  501] loss: 1910.1109\n",
      "[iteration  601] loss: 1887.0888\n",
      "[iteration  701] loss: 1884.8731\n",
      "[iteration  801] loss: 1889.3267\n",
      "[iteration  901] loss: 1887.0755\n",
      "[iteration 1001] loss: 1878.0743\n",
      "[iteration 1101] loss: 1894.8287\n",
      "[iteration 1201] loss: 1886.5840\n",
      "[iteration 1301] loss: 1876.6663\n",
      "[iteration 1401] loss: 1875.0825\n",
      "[iteration 1501] loss: 1878.9081\n",
      "[iteration 1601] loss: 1877.6544\n",
      "[iteration 1701] loss: 1877.0436\n",
      "[iteration 1801] loss: 1880.5816\n",
      "[iteration 1901] loss: 1877.8189\n",
      "Posterior: \n",
      "('mu_loc', tensor([1.2141, 0.3866, 0.5084, 0.0376], requires_grad=True))\n",
      "('mu_scale', tensor([0.0061, 0.1853, 0.1857, 0.0076], grad_fn=<AddBackward0>))\n",
      "('mu_team_loc', tensor([[ 1.5288,  1.4273,  1.4411,  1.3994,  1.4204,  1.3803,  1.4216,  1.3465,\n",
      "          1.3758,  1.4764,  1.5060,  1.5601,  1.4022,  1.3327],\n",
      "        [-1.5785, -1.5808, -1.6381, -1.6258, -1.6134, -1.6852, -1.6458, -1.5779,\n",
      "         -1.5250, -1.5095, -1.6072, -1.6232, -1.5112, -1.5194]],\n",
      "       requires_grad=True))\n",
      "('mu_team_scale', tensor([[0.0189, 0.0247, 0.0216, 0.0202, 0.0188, 0.0200, 0.0200, 0.0202, 0.0275,\n",
      "         0.0208, 0.0187, 0.0179, 0.0198, 0.0205],\n",
      "        [0.0191, 0.0247, 0.0196, 0.0195, 0.0196, 0.0195, 0.0191, 0.0195, 0.0273,\n",
      "         0.0235, 0.0196, 0.0190, 0.0204, 0.0210]], grad_fn=<AddBackward0>))\n",
      "transforming data...\n"
     ]
    },
    {
     "ename": "NameError",
     "evalue": "name 'data' is not defined",
     "output_type": "error",
     "traceback": [
      "\u001b[0;31m---------------------------------------------------------------------------\u001b[0m",
      "\u001b[0;31mNameError\u001b[0m                                 Traceback (most recent call last)",
      "\u001b[0;32m<ipython-input-60-a3b81da40842>\u001b[0m in \u001b[0;36m<module>\u001b[0;34m\u001b[0m\n\u001b[1;32m      8\u001b[0m \u001b[0;31m#runThePyroCode(big10df,args)\u001b[0m\u001b[0;34m\u001b[0m\u001b[0;34m\u001b[0m\u001b[0;34m\u001b[0m\u001b[0m\n\u001b[1;32m      9\u001b[0m \u001b[0mfit\u001b[0m\u001b[0;34m,\u001b[0m\u001b[0mteams\u001b[0m\u001b[0;34m,\u001b[0m\u001b[0mdf\u001b[0m\u001b[0;34m,\u001b[0m\u001b[0mtrain\u001b[0m \u001b[0;34m=\u001b[0m \u001b[0mrunThePyroFit\u001b[0m\u001b[0;34m(\u001b[0m\u001b[0mbig10df\u001b[0m\u001b[0;34m,\u001b[0m\u001b[0margs\u001b[0m\u001b[0;34m)\u001b[0m\u001b[0;34m\u001b[0m\u001b[0;34m\u001b[0m\u001b[0m\n\u001b[0;32m---> 10\u001b[0;31m \u001b[0mrunThePyroCodeRest\u001b[0m\u001b[0;34m(\u001b[0m\u001b[0mfit\u001b[0m\u001b[0;34m,\u001b[0m\u001b[0mteams\u001b[0m\u001b[0;34m,\u001b[0m\u001b[0mdf\u001b[0m\u001b[0;34m,\u001b[0m\u001b[0mtrain\u001b[0m\u001b[0;34m)\u001b[0m\u001b[0;34m\u001b[0m\u001b[0;34m\u001b[0m\u001b[0m\n\u001b[0m",
      "\u001b[0;32m<ipython-input-59-d37ee90dab38>\u001b[0m in \u001b[0;36mrunThePyroCodeRest\u001b[0;34m(fit, teams, df, train)\u001b[0m\n\u001b[1;32m    102\u001b[0m \u001b[0;32mdef\u001b[0m \u001b[0mrunThePyroCodeRest\u001b[0m\u001b[0;34m(\u001b[0m\u001b[0mfit\u001b[0m\u001b[0;34m,\u001b[0m\u001b[0mteams\u001b[0m\u001b[0;34m,\u001b[0m\u001b[0mdf\u001b[0m\u001b[0;34m,\u001b[0m\u001b[0mtrain\u001b[0m\u001b[0;34m)\u001b[0m\u001b[0;34m:\u001b[0m\u001b[0;34m\u001b[0m\u001b[0;34m\u001b[0m\u001b[0m\n\u001b[1;32m    103\u001b[0m     \u001b[0mprint\u001b[0m\u001b[0;34m(\u001b[0m\u001b[0;34m\"transforming data...\"\u001b[0m\u001b[0;34m)\u001b[0m\u001b[0;34m\u001b[0m\u001b[0;34m\u001b[0m\u001b[0m\n\u001b[0;32m--> 104\u001b[0;31m     \u001b[0mteams\u001b[0m\u001b[0;34m,\u001b[0m \u001b[0mdf\u001b[0m \u001b[0;34m=\u001b[0m  \u001b[0mtransformData\u001b[0m\u001b[0;34m(\u001b[0m\u001b[0mdata\u001b[0m\u001b[0;34m)\u001b[0m\u001b[0;34m\u001b[0m\u001b[0;34m\u001b[0m\u001b[0m\n\u001b[0m\u001b[1;32m    105\u001b[0m     \u001b[0mtrain\u001b[0m \u001b[0;34m=\u001b[0m \u001b[0mdf\u001b[0m\u001b[0;34m[\u001b[0m\u001b[0mdf\u001b[0m\u001b[0;34m[\u001b[0m\u001b[0;34m\"split\"\u001b[0m\u001b[0;34m]\u001b[0m \u001b[0;34m==\u001b[0m \u001b[0;34m\"train\"\u001b[0m\u001b[0;34m]\u001b[0m\u001b[0;34m\u001b[0m\u001b[0;34m\u001b[0m\u001b[0m\n\u001b[1;32m    106\u001b[0m \u001b[0;34m\u001b[0m\u001b[0m\n",
      "\u001b[0;31mNameError\u001b[0m: name 'data' is not defined"
     ]
    }
   ],
   "source": [
    "class Args():\n",
    "    learning_rate = 0.1\n",
    "    num_particles = 1\n",
    "    rng_seed = 1\n",
    "    num_iterations = 2000\n",
    "\n",
    "args=Args()\n",
    "#runThePyroCode(big10df,args)\n",
    "fit,teams,df,train = runThePyroFit(big10df,args)\n"
   ]
  },
  {
   "cell_type": "code",
   "execution_count": 62,
   "metadata": {
    "collapsed": false
   },
   "outputs": [],
   "source": [
    "#Shape mismatch inside plate('plate_teams') at site attack dim -1, 13 vs 14\n",
    "#13 vs 14 ; could be that the test part only hs 13 teams or something\n",
    "# !!! team 10 did not play in the Predict set"
   ]
  },
  {
   "cell_type": "code",
   "execution_count": 80,
   "metadata": {
    "collapsed": false
   },
   "outputs": [
    {
     "name": "stdout",
     "output_type": "stream",
     "text": [
      "Analyse posterior...\n",
      "this many home_ids:  [ 7  1  2  4  3 11  9  5  6  8 13  0 12]\n"
     ]
    },
    {
     "ename": "ValueError",
     "evalue": "Shape mismatch inside plate('plate_teams') at site attack dim -1, 13 vs 14\n   Trace Shapes:      \n    Param Sites:      \n          mu_loc     4\n        mu_scale     4\n     mu_team_loc  2 14\n   mu_team_scale  2 14\n   Sample Sites:      \n      alpha dist     |\n           value     |\n     sd_att dist     |\n           value     |\n     sd_def dist     |\n           value     |\n       home dist     |\n           value     |\nplate_teams dist     |\n           value 13  |",
     "output_type": "error",
     "traceback": [
      "\u001b[0;31m---------------------------------------------------------------------------\u001b[0m",
      "\u001b[0;31mValueError\u001b[0m                                Traceback (most recent call last)",
      "\u001b[0;32m~/.local/lib/python3.9/site-packages/pyro/poutine/trace_messenger.py\u001b[0m in \u001b[0;36m__call__\u001b[0;34m(self, *args, **kwargs)\u001b[0m\n\u001b[1;32m    173\u001b[0m             \u001b[0;32mtry\u001b[0m\u001b[0;34m:\u001b[0m\u001b[0;34m\u001b[0m\u001b[0;34m\u001b[0m\u001b[0m\n\u001b[0;32m--> 174\u001b[0;31m                 \u001b[0mret\u001b[0m \u001b[0;34m=\u001b[0m \u001b[0mself\u001b[0m\u001b[0;34m.\u001b[0m\u001b[0mfn\u001b[0m\u001b[0;34m(\u001b[0m\u001b[0;34m*\u001b[0m\u001b[0margs\u001b[0m\u001b[0;34m,\u001b[0m \u001b[0;34m**\u001b[0m\u001b[0mkwargs\u001b[0m\u001b[0;34m)\u001b[0m\u001b[0;34m\u001b[0m\u001b[0;34m\u001b[0m\u001b[0m\n\u001b[0m\u001b[1;32m    175\u001b[0m             \u001b[0;32mexcept\u001b[0m \u001b[0;34m(\u001b[0m\u001b[0mValueError\u001b[0m\u001b[0;34m,\u001b[0m \u001b[0mRuntimeError\u001b[0m\u001b[0;34m)\u001b[0m \u001b[0;32mas\u001b[0m \u001b[0me\u001b[0m\u001b[0;34m:\u001b[0m\u001b[0;34m\u001b[0m\u001b[0;34m\u001b[0m\u001b[0m\n",
      "\u001b[0;32m~/.local/lib/python3.9/site-packages/torch/autograd/grad_mode.py\u001b[0m in \u001b[0;36mdecorate_context\u001b[0;34m(*args, **kwargs)\u001b[0m\n\u001b[1;32m     27\u001b[0m             \u001b[0;32mwith\u001b[0m \u001b[0mself\u001b[0m\u001b[0;34m.\u001b[0m\u001b[0m__class__\u001b[0m\u001b[0;34m(\u001b[0m\u001b[0;34m)\u001b[0m\u001b[0;34m:\u001b[0m\u001b[0;34m\u001b[0m\u001b[0;34m\u001b[0m\u001b[0m\n\u001b[0;32m---> 28\u001b[0;31m                 \u001b[0;32mreturn\u001b[0m \u001b[0mfunc\u001b[0m\u001b[0;34m(\u001b[0m\u001b[0;34m*\u001b[0m\u001b[0margs\u001b[0m\u001b[0;34m,\u001b[0m \u001b[0;34m**\u001b[0m\u001b[0mkwargs\u001b[0m\u001b[0;34m)\u001b[0m\u001b[0;34m\u001b[0m\u001b[0;34m\u001b[0m\u001b[0m\n\u001b[0m\u001b[1;32m     29\u001b[0m         \u001b[0;32mreturn\u001b[0m \u001b[0mcast\u001b[0m\u001b[0;34m(\u001b[0m\u001b[0mF\u001b[0m\u001b[0;34m,\u001b[0m \u001b[0mdecorate_context\u001b[0m\u001b[0;34m)\u001b[0m\u001b[0;34m\u001b[0m\u001b[0;34m\u001b[0m\u001b[0m\n",
      "\u001b[0;32m~/.local/lib/python3.9/site-packages/pyro/poutine/messenger.py\u001b[0m in \u001b[0;36m_context_wrap\u001b[0;34m(context, fn, *args, **kwargs)\u001b[0m\n\u001b[1;32m     11\u001b[0m     \u001b[0;32mwith\u001b[0m \u001b[0mcontext\u001b[0m\u001b[0;34m:\u001b[0m\u001b[0;34m\u001b[0m\u001b[0;34m\u001b[0m\u001b[0m\n\u001b[0;32m---> 12\u001b[0;31m         \u001b[0;32mreturn\u001b[0m \u001b[0mfn\u001b[0m\u001b[0;34m(\u001b[0m\u001b[0;34m*\u001b[0m\u001b[0margs\u001b[0m\u001b[0;34m,\u001b[0m \u001b[0;34m**\u001b[0m\u001b[0mkwargs\u001b[0m\u001b[0;34m)\u001b[0m\u001b[0;34m\u001b[0m\u001b[0;34m\u001b[0m\u001b[0m\n\u001b[0m\u001b[1;32m     13\u001b[0m \u001b[0;34m\u001b[0m\u001b[0m\n",
      "\u001b[0;32m<ipython-input-79-e7f5378f1487>\u001b[0m in \u001b[0;36mguide\u001b[0;34m(home_id, away_id, score1_obs, score2_obs)\u001b[0m\n\u001b[1;32m     43\u001b[0m     \u001b[0;32mwith\u001b[0m \u001b[0mpyro\u001b[0m\u001b[0;34m.\u001b[0m\u001b[0mplate\u001b[0m\u001b[0;34m(\u001b[0m\u001b[0;34m\"plate_teams\"\u001b[0m\u001b[0;34m,\u001b[0m \u001b[0mnt\u001b[0m\u001b[0;34m)\u001b[0m\u001b[0;34m:\u001b[0m\u001b[0;34m\u001b[0m\u001b[0;34m\u001b[0m\u001b[0m\n\u001b[0;32m---> 44\u001b[0;31m         \u001b[0mpyro\u001b[0m\u001b[0;34m.\u001b[0m\u001b[0msample\u001b[0m\u001b[0;34m(\u001b[0m\u001b[0;34m\"attack\"\u001b[0m\u001b[0;34m,\u001b[0m \u001b[0mdist\u001b[0m\u001b[0;34m.\u001b[0m\u001b[0mNormal\u001b[0m\u001b[0;34m(\u001b[0m\u001b[0mmu_team_locs\u001b[0m\u001b[0;34m[\u001b[0m\u001b[0;36m0\u001b[0m\u001b[0;34m]\u001b[0m\u001b[0;34m,\u001b[0m \u001b[0mmu_team_scales\u001b[0m\u001b[0;34m[\u001b[0m\u001b[0;36m0\u001b[0m\u001b[0;34m]\u001b[0m\u001b[0;34m)\u001b[0m\u001b[0;34m)\u001b[0m\u001b[0;34m\u001b[0m\u001b[0;34m\u001b[0m\u001b[0m\n\u001b[0m\u001b[1;32m     45\u001b[0m         \u001b[0mpyro\u001b[0m\u001b[0;34m.\u001b[0m\u001b[0msample\u001b[0m\u001b[0;34m(\u001b[0m\u001b[0;34m\"defend\"\u001b[0m\u001b[0;34m,\u001b[0m \u001b[0mdist\u001b[0m\u001b[0;34m.\u001b[0m\u001b[0mNormal\u001b[0m\u001b[0;34m(\u001b[0m\u001b[0mmu_team_locs\u001b[0m\u001b[0;34m[\u001b[0m\u001b[0;36m1\u001b[0m\u001b[0;34m]\u001b[0m\u001b[0;34m,\u001b[0m \u001b[0mmu_team_scales\u001b[0m\u001b[0;34m[\u001b[0m\u001b[0;36m1\u001b[0m\u001b[0;34m]\u001b[0m\u001b[0;34m)\u001b[0m\u001b[0;34m)\u001b[0m\u001b[0;34m\u001b[0m\u001b[0;34m\u001b[0m\u001b[0m\n",
      "\u001b[0;32m~/.local/lib/python3.9/site-packages/pyro/primitives.py\u001b[0m in \u001b[0;36msample\u001b[0;34m(name, fn, *args, **kwargs)\u001b[0m\n\u001b[1;32m    162\u001b[0m         \u001b[0;31m# apply the stack and return its return value\u001b[0m\u001b[0;34m\u001b[0m\u001b[0;34m\u001b[0m\u001b[0;34m\u001b[0m\u001b[0m\n\u001b[0;32m--> 163\u001b[0;31m         \u001b[0mapply_stack\u001b[0m\u001b[0;34m(\u001b[0m\u001b[0mmsg\u001b[0m\u001b[0;34m)\u001b[0m\u001b[0;34m\u001b[0m\u001b[0;34m\u001b[0m\u001b[0m\n\u001b[0m\u001b[1;32m    164\u001b[0m         \u001b[0;32mreturn\u001b[0m \u001b[0mmsg\u001b[0m\u001b[0;34m[\u001b[0m\u001b[0;34m\"value\"\u001b[0m\u001b[0;34m]\u001b[0m\u001b[0;34m\u001b[0m\u001b[0;34m\u001b[0m\u001b[0m\n",
      "\u001b[0;32m~/.local/lib/python3.9/site-packages/pyro/poutine/runtime.py\u001b[0m in \u001b[0;36mapply_stack\u001b[0;34m(initial_msg)\u001b[0m\n\u001b[1;32m    212\u001b[0m \u001b[0;34m\u001b[0m\u001b[0m\n\u001b[0;32m--> 213\u001b[0;31m         \u001b[0mframe\u001b[0m\u001b[0;34m.\u001b[0m\u001b[0m_process_message\u001b[0m\u001b[0;34m(\u001b[0m\u001b[0mmsg\u001b[0m\u001b[0;34m)\u001b[0m\u001b[0;34m\u001b[0m\u001b[0;34m\u001b[0m\u001b[0m\n\u001b[0m\u001b[1;32m    214\u001b[0m \u001b[0;34m\u001b[0m\u001b[0m\n",
      "\u001b[0;32m~/.local/lib/python3.9/site-packages/pyro/poutine/plate_messenger.py\u001b[0m in \u001b[0;36m_process_message\u001b[0;34m(self, msg)\u001b[0m\n\u001b[1;32m     18\u001b[0m         \u001b[0msuper\u001b[0m\u001b[0;34m(\u001b[0m\u001b[0;34m)\u001b[0m\u001b[0;34m.\u001b[0m\u001b[0m_process_message\u001b[0m\u001b[0;34m(\u001b[0m\u001b[0mmsg\u001b[0m\u001b[0;34m)\u001b[0m\u001b[0;34m\u001b[0m\u001b[0;34m\u001b[0m\u001b[0m\n\u001b[0;32m---> 19\u001b[0;31m         \u001b[0;32mreturn\u001b[0m \u001b[0mBroadcastMessenger\u001b[0m\u001b[0;34m.\u001b[0m\u001b[0m_pyro_sample\u001b[0m\u001b[0;34m(\u001b[0m\u001b[0mmsg\u001b[0m\u001b[0;34m)\u001b[0m\u001b[0;34m\u001b[0m\u001b[0;34m\u001b[0m\u001b[0m\n\u001b[0m\u001b[1;32m     20\u001b[0m \u001b[0;34m\u001b[0m\u001b[0m\n",
      "\u001b[0;32m/usr/local/lib/python3.9/contextlib.py\u001b[0m in \u001b[0;36minner\u001b[0;34m(*args, **kwds)\u001b[0m\n\u001b[1;32m     78\u001b[0m             \u001b[0;32mwith\u001b[0m \u001b[0mself\u001b[0m\u001b[0;34m.\u001b[0m\u001b[0m_recreate_cm\u001b[0m\u001b[0;34m(\u001b[0m\u001b[0;34m)\u001b[0m\u001b[0;34m:\u001b[0m\u001b[0;34m\u001b[0m\u001b[0;34m\u001b[0m\u001b[0m\n\u001b[0;32m---> 79\u001b[0;31m                 \u001b[0;32mreturn\u001b[0m \u001b[0mfunc\u001b[0m\u001b[0;34m(\u001b[0m\u001b[0;34m*\u001b[0m\u001b[0margs\u001b[0m\u001b[0;34m,\u001b[0m \u001b[0;34m**\u001b[0m\u001b[0mkwds\u001b[0m\u001b[0;34m)\u001b[0m\u001b[0;34m\u001b[0m\u001b[0;34m\u001b[0m\u001b[0m\n\u001b[0m\u001b[1;32m     80\u001b[0m         \u001b[0;32mreturn\u001b[0m \u001b[0minner\u001b[0m\u001b[0;34m\u001b[0m\u001b[0;34m\u001b[0m\u001b[0m\n",
      "\u001b[0;32m~/.local/lib/python3.9/site-packages/pyro/poutine/broadcast_messenger.py\u001b[0m in \u001b[0;36m_pyro_sample\u001b[0;34m(msg)\u001b[0m\n\u001b[1;32m     64\u001b[0m                 ):\n\u001b[0;32m---> 65\u001b[0;31m                     raise ValueError(\n\u001b[0m\u001b[1;32m     66\u001b[0m                         \"Shape mismatch inside plate('{}') at site {} dim {}, {} vs {}\".format(\n",
      "\u001b[0;31mValueError\u001b[0m: Shape mismatch inside plate('plate_teams') at site attack dim -1, 13 vs 14",
      "\nThe above exception was the direct cause of the following exception:\n",
      "\u001b[0;31mValueError\u001b[0m                                Traceback (most recent call last)",
      "\u001b[0;32m<ipython-input-80-f16c7066c167>\u001b[0m in \u001b[0;36m<module>\u001b[0;34m\u001b[0m\n\u001b[0;32m----> 1\u001b[0;31m \u001b[0mrunThePyroCodeRest\u001b[0m\u001b[0;34m(\u001b[0m\u001b[0mfit\u001b[0m\u001b[0;34m,\u001b[0m\u001b[0mteams\u001b[0m\u001b[0;34m,\u001b[0m\u001b[0mdf\u001b[0m\u001b[0;34m,\u001b[0m\u001b[0mtrain\u001b[0m\u001b[0;34m)\u001b[0m\u001b[0;34m\u001b[0m\u001b[0;34m\u001b[0m\u001b[0m\n\u001b[0m",
      "\u001b[0;32m<ipython-input-79-e7f5378f1487>\u001b[0m in \u001b[0;36mrunThePyroCodeRest\u001b[0;34m(fit, teams, df, train)\u001b[0m\n\u001b[1;32m    145\u001b[0m \u001b[0;34m\u001b[0m\u001b[0m\n\u001b[1;32m    146\u001b[0m     \u001b[0;31m#it dies on this line ; look at\u001b[0m\u001b[0;34m\u001b[0m\u001b[0;34m\u001b[0m\u001b[0;34m\u001b[0m\u001b[0m\n\u001b[0;32m--> 147\u001b[0;31m     predicted_score = predictive(\n\u001b[0m\u001b[1;32m    148\u001b[0m         \u001b[0mhome_id\u001b[0m\u001b[0;34m=\u001b[0m\u001b[0mpredict\u001b[0m\u001b[0;34m[\u001b[0m\u001b[0;34m\"Home_id\"\u001b[0m\u001b[0;34m]\u001b[0m\u001b[0;34m.\u001b[0m\u001b[0mvalues\u001b[0m\u001b[0;34m,\u001b[0m\u001b[0;34m\u001b[0m\u001b[0;34m\u001b[0m\u001b[0m\n\u001b[1;32m    149\u001b[0m         \u001b[0maway_id\u001b[0m\u001b[0;34m=\u001b[0m\u001b[0mpredict\u001b[0m\u001b[0;34m[\u001b[0m\u001b[0;34m\"Away_id\"\u001b[0m\u001b[0;34m]\u001b[0m\u001b[0;34m.\u001b[0m\u001b[0mvalues\u001b[0m\u001b[0;34m,\u001b[0m\u001b[0;34m\u001b[0m\u001b[0;34m\u001b[0m\u001b[0m\n",
      "\u001b[0;32m~/.local/lib/python3.9/site-packages/torch/nn/modules/module.py\u001b[0m in \u001b[0;36m_call_impl\u001b[0;34m(self, *input, **kwargs)\u001b[0m\n\u001b[1;32m   1100\u001b[0m         if not (self._backward_hooks or self._forward_hooks or self._forward_pre_hooks or _global_backward_hooks\n\u001b[1;32m   1101\u001b[0m                 or _global_forward_hooks or _global_forward_pre_hooks):\n\u001b[0;32m-> 1102\u001b[0;31m             \u001b[0;32mreturn\u001b[0m \u001b[0mforward_call\u001b[0m\u001b[0;34m(\u001b[0m\u001b[0;34m*\u001b[0m\u001b[0minput\u001b[0m\u001b[0;34m,\u001b[0m \u001b[0;34m**\u001b[0m\u001b[0mkwargs\u001b[0m\u001b[0;34m)\u001b[0m\u001b[0;34m\u001b[0m\u001b[0;34m\u001b[0m\u001b[0m\n\u001b[0m\u001b[1;32m   1103\u001b[0m         \u001b[0;31m# Do not call functions when jit is used\u001b[0m\u001b[0;34m\u001b[0m\u001b[0;34m\u001b[0m\u001b[0;34m\u001b[0m\u001b[0m\n\u001b[1;32m   1104\u001b[0m         \u001b[0mfull_backward_hooks\u001b[0m\u001b[0;34m,\u001b[0m \u001b[0mnon_full_backward_hooks\u001b[0m \u001b[0;34m=\u001b[0m \u001b[0;34m[\u001b[0m\u001b[0;34m]\u001b[0m\u001b[0;34m,\u001b[0m \u001b[0;34m[\u001b[0m\u001b[0;34m]\u001b[0m\u001b[0;34m\u001b[0m\u001b[0;34m\u001b[0m\u001b[0m\n",
      "\u001b[0;32m~/.local/lib/python3.9/site-packages/pyro/infer/predictive.py\u001b[0m in \u001b[0;36mforward\u001b[0;34m(self, *args, **kwargs)\u001b[0m\n\u001b[1;32m    262\u001b[0m             \u001b[0;31m# return all sites by default if a guide is provided.\u001b[0m\u001b[0;34m\u001b[0m\u001b[0;34m\u001b[0m\u001b[0;34m\u001b[0m\u001b[0m\n\u001b[1;32m    263\u001b[0m             \u001b[0mreturn_sites\u001b[0m \u001b[0;34m=\u001b[0m \u001b[0;32mNone\u001b[0m \u001b[0;32mif\u001b[0m \u001b[0;32mnot\u001b[0m \u001b[0mreturn_sites\u001b[0m \u001b[0;32melse\u001b[0m \u001b[0mreturn_sites\u001b[0m\u001b[0;34m\u001b[0m\u001b[0;34m\u001b[0m\u001b[0m\n\u001b[0;32m--> 264\u001b[0;31m             posterior_samples = _predictive(\n\u001b[0m\u001b[1;32m    265\u001b[0m                 \u001b[0mself\u001b[0m\u001b[0;34m.\u001b[0m\u001b[0mguide\u001b[0m\u001b[0;34m,\u001b[0m\u001b[0;34m\u001b[0m\u001b[0;34m\u001b[0m\u001b[0m\n\u001b[1;32m    266\u001b[0m                 \u001b[0mposterior_samples\u001b[0m\u001b[0;34m,\u001b[0m\u001b[0;34m\u001b[0m\u001b[0;34m\u001b[0m\u001b[0m\n",
      "\u001b[0;32m~/.local/lib/python3.9/site-packages/pyro/infer/predictive.py\u001b[0m in \u001b[0;36m_predictive\u001b[0;34m(model, posterior_samples, num_samples, return_sites, return_trace, parallel, model_args, model_kwargs)\u001b[0m\n\u001b[1;32m     76\u001b[0m ):\n\u001b[1;32m     77\u001b[0m     \u001b[0mmodel\u001b[0m \u001b[0;34m=\u001b[0m \u001b[0mtorch\u001b[0m\u001b[0;34m.\u001b[0m\u001b[0mno_grad\u001b[0m\u001b[0;34m(\u001b[0m\u001b[0;34m)\u001b[0m\u001b[0;34m(\u001b[0m\u001b[0mpoutine\u001b[0m\u001b[0;34m.\u001b[0m\u001b[0mmask\u001b[0m\u001b[0;34m(\u001b[0m\u001b[0mmodel\u001b[0m\u001b[0;34m,\u001b[0m \u001b[0mmask\u001b[0m\u001b[0;34m=\u001b[0m\u001b[0;32mFalse\u001b[0m\u001b[0;34m)\u001b[0m\u001b[0;34m)\u001b[0m\u001b[0;34m\u001b[0m\u001b[0;34m\u001b[0m\u001b[0m\n\u001b[0;32m---> 78\u001b[0;31m     \u001b[0mmax_plate_nesting\u001b[0m \u001b[0;34m=\u001b[0m \u001b[0m_guess_max_plate_nesting\u001b[0m\u001b[0;34m(\u001b[0m\u001b[0mmodel\u001b[0m\u001b[0;34m,\u001b[0m \u001b[0mmodel_args\u001b[0m\u001b[0;34m,\u001b[0m \u001b[0mmodel_kwargs\u001b[0m\u001b[0;34m)\u001b[0m\u001b[0;34m\u001b[0m\u001b[0;34m\u001b[0m\u001b[0m\n\u001b[0m\u001b[1;32m     79\u001b[0m     vectorize = pyro.plate(\n\u001b[1;32m     80\u001b[0m         \u001b[0;34m\"_num_predictive_samples\"\u001b[0m\u001b[0;34m,\u001b[0m \u001b[0mnum_samples\u001b[0m\u001b[0;34m,\u001b[0m \u001b[0mdim\u001b[0m\u001b[0;34m=\u001b[0m\u001b[0;34m-\u001b[0m\u001b[0mmax_plate_nesting\u001b[0m \u001b[0;34m-\u001b[0m \u001b[0;36m1\u001b[0m\u001b[0;34m\u001b[0m\u001b[0;34m\u001b[0m\u001b[0m\n",
      "\u001b[0;32m~/.local/lib/python3.9/site-packages/pyro/infer/predictive.py\u001b[0m in \u001b[0;36m_guess_max_plate_nesting\u001b[0;34m(model, args, kwargs)\u001b[0m\n\u001b[1;32m     19\u001b[0m     \"\"\"\n\u001b[1;32m     20\u001b[0m     \u001b[0;32mwith\u001b[0m \u001b[0mpoutine\u001b[0m\u001b[0;34m.\u001b[0m\u001b[0mblock\u001b[0m\u001b[0;34m(\u001b[0m\u001b[0;34m)\u001b[0m\u001b[0;34m:\u001b[0m\u001b[0;34m\u001b[0m\u001b[0;34m\u001b[0m\u001b[0m\n\u001b[0;32m---> 21\u001b[0;31m         \u001b[0mmodel_trace\u001b[0m \u001b[0;34m=\u001b[0m \u001b[0mpoutine\u001b[0m\u001b[0;34m.\u001b[0m\u001b[0mtrace\u001b[0m\u001b[0;34m(\u001b[0m\u001b[0mmodel\u001b[0m\u001b[0;34m)\u001b[0m\u001b[0;34m.\u001b[0m\u001b[0mget_trace\u001b[0m\u001b[0;34m(\u001b[0m\u001b[0;34m*\u001b[0m\u001b[0margs\u001b[0m\u001b[0;34m,\u001b[0m \u001b[0;34m**\u001b[0m\u001b[0mkwargs\u001b[0m\u001b[0;34m)\u001b[0m\u001b[0;34m\u001b[0m\u001b[0;34m\u001b[0m\u001b[0m\n\u001b[0m\u001b[1;32m     22\u001b[0m     \u001b[0msites\u001b[0m \u001b[0;34m=\u001b[0m \u001b[0;34m[\u001b[0m\u001b[0msite\u001b[0m \u001b[0;32mfor\u001b[0m \u001b[0msite\u001b[0m \u001b[0;32min\u001b[0m \u001b[0mmodel_trace\u001b[0m\u001b[0;34m.\u001b[0m\u001b[0mnodes\u001b[0m\u001b[0;34m.\u001b[0m\u001b[0mvalues\u001b[0m\u001b[0;34m(\u001b[0m\u001b[0;34m)\u001b[0m \u001b[0;32mif\u001b[0m \u001b[0msite\u001b[0m\u001b[0;34m[\u001b[0m\u001b[0;34m\"type\"\u001b[0m\u001b[0;34m]\u001b[0m \u001b[0;34m==\u001b[0m \u001b[0;34m\"sample\"\u001b[0m\u001b[0;34m]\u001b[0m\u001b[0;34m\u001b[0m\u001b[0;34m\u001b[0m\u001b[0m\n\u001b[1;32m     23\u001b[0m \u001b[0;34m\u001b[0m\u001b[0m\n",
      "\u001b[0;32m~/.local/lib/python3.9/site-packages/pyro/poutine/trace_messenger.py\u001b[0m in \u001b[0;36mget_trace\u001b[0;34m(self, *args, **kwargs)\u001b[0m\n\u001b[1;32m    196\u001b[0m         \u001b[0mCalls\u001b[0m \u001b[0mthis\u001b[0m \u001b[0mpoutine\u001b[0m \u001b[0;32mand\u001b[0m \u001b[0mreturns\u001b[0m \u001b[0mits\u001b[0m \u001b[0mtrace\u001b[0m \u001b[0minstead\u001b[0m \u001b[0mof\u001b[0m \u001b[0mthe\u001b[0m \u001b[0mfunction\u001b[0m\u001b[0;31m'\u001b[0m\u001b[0ms\u001b[0m \u001b[0;32mreturn\u001b[0m \u001b[0mvalue\u001b[0m\u001b[0;34m.\u001b[0m\u001b[0;34m\u001b[0m\u001b[0;34m\u001b[0m\u001b[0m\n\u001b[1;32m    197\u001b[0m         \"\"\"\n\u001b[0;32m--> 198\u001b[0;31m         \u001b[0mself\u001b[0m\u001b[0;34m(\u001b[0m\u001b[0;34m*\u001b[0m\u001b[0margs\u001b[0m\u001b[0;34m,\u001b[0m \u001b[0;34m**\u001b[0m\u001b[0mkwargs\u001b[0m\u001b[0;34m)\u001b[0m\u001b[0;34m\u001b[0m\u001b[0;34m\u001b[0m\u001b[0m\n\u001b[0m\u001b[1;32m    199\u001b[0m         \u001b[0;32mreturn\u001b[0m \u001b[0mself\u001b[0m\u001b[0;34m.\u001b[0m\u001b[0mmsngr\u001b[0m\u001b[0;34m.\u001b[0m\u001b[0mget_trace\u001b[0m\u001b[0;34m(\u001b[0m\u001b[0;34m)\u001b[0m\u001b[0;34m\u001b[0m\u001b[0;34m\u001b[0m\u001b[0m\n",
      "\u001b[0;32m~/.local/lib/python3.9/site-packages/pyro/poutine/trace_messenger.py\u001b[0m in \u001b[0;36m__call__\u001b[0;34m(self, *args, **kwargs)\u001b[0m\n\u001b[1;32m    178\u001b[0m                 \u001b[0mexc\u001b[0m \u001b[0;34m=\u001b[0m \u001b[0mexc_type\u001b[0m\u001b[0;34m(\u001b[0m\u001b[0;34mu\"{}\\n{}\"\u001b[0m\u001b[0;34m.\u001b[0m\u001b[0mformat\u001b[0m\u001b[0;34m(\u001b[0m\u001b[0mexc_value\u001b[0m\u001b[0;34m,\u001b[0m \u001b[0mshapes\u001b[0m\u001b[0;34m)\u001b[0m\u001b[0;34m)\u001b[0m\u001b[0;34m\u001b[0m\u001b[0;34m\u001b[0m\u001b[0m\n\u001b[1;32m    179\u001b[0m                 \u001b[0mexc\u001b[0m \u001b[0;34m=\u001b[0m \u001b[0mexc\u001b[0m\u001b[0;34m.\u001b[0m\u001b[0mwith_traceback\u001b[0m\u001b[0;34m(\u001b[0m\u001b[0mtraceback\u001b[0m\u001b[0;34m)\u001b[0m\u001b[0;34m\u001b[0m\u001b[0;34m\u001b[0m\u001b[0m\n\u001b[0;32m--> 180\u001b[0;31m                 \u001b[0;32mraise\u001b[0m \u001b[0mexc\u001b[0m \u001b[0;32mfrom\u001b[0m \u001b[0me\u001b[0m\u001b[0;34m\u001b[0m\u001b[0;34m\u001b[0m\u001b[0m\n\u001b[0m\u001b[1;32m    181\u001b[0m             self.msngr.trace.add_node(\n\u001b[1;32m    182\u001b[0m                 \u001b[0;34m\"_RETURN\"\u001b[0m\u001b[0;34m,\u001b[0m \u001b[0mname\u001b[0m\u001b[0;34m=\u001b[0m\u001b[0;34m\"_RETURN\"\u001b[0m\u001b[0;34m,\u001b[0m \u001b[0mtype\u001b[0m\u001b[0;34m=\u001b[0m\u001b[0;34m\"return\"\u001b[0m\u001b[0;34m,\u001b[0m \u001b[0mvalue\u001b[0m\u001b[0;34m=\u001b[0m\u001b[0mret\u001b[0m\u001b[0;34m\u001b[0m\u001b[0;34m\u001b[0m\u001b[0m\n",
      "\u001b[0;32m~/.local/lib/python3.9/site-packages/pyro/poutine/trace_messenger.py\u001b[0m in \u001b[0;36m__call__\u001b[0;34m(self, *args, **kwargs)\u001b[0m\n\u001b[1;32m    172\u001b[0m             )\n\u001b[1;32m    173\u001b[0m             \u001b[0;32mtry\u001b[0m\u001b[0;34m:\u001b[0m\u001b[0;34m\u001b[0m\u001b[0;34m\u001b[0m\u001b[0m\n\u001b[0;32m--> 174\u001b[0;31m                 \u001b[0mret\u001b[0m \u001b[0;34m=\u001b[0m \u001b[0mself\u001b[0m\u001b[0;34m.\u001b[0m\u001b[0mfn\u001b[0m\u001b[0;34m(\u001b[0m\u001b[0;34m*\u001b[0m\u001b[0margs\u001b[0m\u001b[0;34m,\u001b[0m \u001b[0;34m**\u001b[0m\u001b[0mkwargs\u001b[0m\u001b[0;34m)\u001b[0m\u001b[0;34m\u001b[0m\u001b[0;34m\u001b[0m\u001b[0m\n\u001b[0m\u001b[1;32m    175\u001b[0m             \u001b[0;32mexcept\u001b[0m \u001b[0;34m(\u001b[0m\u001b[0mValueError\u001b[0m\u001b[0;34m,\u001b[0m \u001b[0mRuntimeError\u001b[0m\u001b[0;34m)\u001b[0m \u001b[0;32mas\u001b[0m \u001b[0me\u001b[0m\u001b[0;34m:\u001b[0m\u001b[0;34m\u001b[0m\u001b[0;34m\u001b[0m\u001b[0m\n\u001b[1;32m    176\u001b[0m                 \u001b[0mexc_type\u001b[0m\u001b[0;34m,\u001b[0m \u001b[0mexc_value\u001b[0m\u001b[0;34m,\u001b[0m \u001b[0mtraceback\u001b[0m \u001b[0;34m=\u001b[0m \u001b[0msys\u001b[0m\u001b[0;34m.\u001b[0m\u001b[0mexc_info\u001b[0m\u001b[0;34m(\u001b[0m\u001b[0;34m)\u001b[0m\u001b[0;34m\u001b[0m\u001b[0;34m\u001b[0m\u001b[0m\n",
      "\u001b[0;32m~/.local/lib/python3.9/site-packages/torch/autograd/grad_mode.py\u001b[0m in \u001b[0;36mdecorate_context\u001b[0;34m(*args, **kwargs)\u001b[0m\n\u001b[1;32m     26\u001b[0m         \u001b[0;32mdef\u001b[0m \u001b[0mdecorate_context\u001b[0m\u001b[0;34m(\u001b[0m\u001b[0;34m*\u001b[0m\u001b[0margs\u001b[0m\u001b[0;34m,\u001b[0m \u001b[0;34m**\u001b[0m\u001b[0mkwargs\u001b[0m\u001b[0;34m)\u001b[0m\u001b[0;34m:\u001b[0m\u001b[0;34m\u001b[0m\u001b[0;34m\u001b[0m\u001b[0m\n\u001b[1;32m     27\u001b[0m             \u001b[0;32mwith\u001b[0m \u001b[0mself\u001b[0m\u001b[0;34m.\u001b[0m\u001b[0m__class__\u001b[0m\u001b[0;34m(\u001b[0m\u001b[0;34m)\u001b[0m\u001b[0;34m:\u001b[0m\u001b[0;34m\u001b[0m\u001b[0;34m\u001b[0m\u001b[0m\n\u001b[0;32m---> 28\u001b[0;31m                 \u001b[0;32mreturn\u001b[0m \u001b[0mfunc\u001b[0m\u001b[0;34m(\u001b[0m\u001b[0;34m*\u001b[0m\u001b[0margs\u001b[0m\u001b[0;34m,\u001b[0m \u001b[0;34m**\u001b[0m\u001b[0mkwargs\u001b[0m\u001b[0;34m)\u001b[0m\u001b[0;34m\u001b[0m\u001b[0;34m\u001b[0m\u001b[0m\n\u001b[0m\u001b[1;32m     29\u001b[0m         \u001b[0;32mreturn\u001b[0m \u001b[0mcast\u001b[0m\u001b[0;34m(\u001b[0m\u001b[0mF\u001b[0m\u001b[0;34m,\u001b[0m \u001b[0mdecorate_context\u001b[0m\u001b[0;34m)\u001b[0m\u001b[0;34m\u001b[0m\u001b[0;34m\u001b[0m\u001b[0m\n\u001b[1;32m     30\u001b[0m \u001b[0;34m\u001b[0m\u001b[0m\n",
      "\u001b[0;32m~/.local/lib/python3.9/site-packages/pyro/poutine/messenger.py\u001b[0m in \u001b[0;36m_context_wrap\u001b[0;34m(context, fn, *args, **kwargs)\u001b[0m\n\u001b[1;32m     10\u001b[0m \u001b[0;32mdef\u001b[0m \u001b[0m_context_wrap\u001b[0m\u001b[0;34m(\u001b[0m\u001b[0mcontext\u001b[0m\u001b[0;34m,\u001b[0m \u001b[0mfn\u001b[0m\u001b[0;34m,\u001b[0m \u001b[0;34m*\u001b[0m\u001b[0margs\u001b[0m\u001b[0;34m,\u001b[0m \u001b[0;34m**\u001b[0m\u001b[0mkwargs\u001b[0m\u001b[0;34m)\u001b[0m\u001b[0;34m:\u001b[0m\u001b[0;34m\u001b[0m\u001b[0;34m\u001b[0m\u001b[0m\n\u001b[1;32m     11\u001b[0m     \u001b[0;32mwith\u001b[0m \u001b[0mcontext\u001b[0m\u001b[0;34m:\u001b[0m\u001b[0;34m\u001b[0m\u001b[0;34m\u001b[0m\u001b[0m\n\u001b[0;32m---> 12\u001b[0;31m         \u001b[0;32mreturn\u001b[0m \u001b[0mfn\u001b[0m\u001b[0;34m(\u001b[0m\u001b[0;34m*\u001b[0m\u001b[0margs\u001b[0m\u001b[0;34m,\u001b[0m \u001b[0;34m**\u001b[0m\u001b[0mkwargs\u001b[0m\u001b[0;34m)\u001b[0m\u001b[0;34m\u001b[0m\u001b[0;34m\u001b[0m\u001b[0m\n\u001b[0m\u001b[1;32m     13\u001b[0m \u001b[0;34m\u001b[0m\u001b[0m\n\u001b[1;32m     14\u001b[0m \u001b[0;34m\u001b[0m\u001b[0m\n",
      "\u001b[0;32m<ipython-input-79-e7f5378f1487>\u001b[0m in \u001b[0;36mguide\u001b[0;34m(home_id, away_id, score1_obs, score2_obs)\u001b[0m\n\u001b[1;32m     42\u001b[0m \u001b[0;34m\u001b[0m\u001b[0m\n\u001b[1;32m     43\u001b[0m     \u001b[0;32mwith\u001b[0m \u001b[0mpyro\u001b[0m\u001b[0;34m.\u001b[0m\u001b[0mplate\u001b[0m\u001b[0;34m(\u001b[0m\u001b[0;34m\"plate_teams\"\u001b[0m\u001b[0;34m,\u001b[0m \u001b[0mnt\u001b[0m\u001b[0;34m)\u001b[0m\u001b[0;34m:\u001b[0m\u001b[0;34m\u001b[0m\u001b[0;34m\u001b[0m\u001b[0m\n\u001b[0;32m---> 44\u001b[0;31m         \u001b[0mpyro\u001b[0m\u001b[0;34m.\u001b[0m\u001b[0msample\u001b[0m\u001b[0;34m(\u001b[0m\u001b[0;34m\"attack\"\u001b[0m\u001b[0;34m,\u001b[0m \u001b[0mdist\u001b[0m\u001b[0;34m.\u001b[0m\u001b[0mNormal\u001b[0m\u001b[0;34m(\u001b[0m\u001b[0mmu_team_locs\u001b[0m\u001b[0;34m[\u001b[0m\u001b[0;36m0\u001b[0m\u001b[0;34m]\u001b[0m\u001b[0;34m,\u001b[0m \u001b[0mmu_team_scales\u001b[0m\u001b[0;34m[\u001b[0m\u001b[0;36m0\u001b[0m\u001b[0;34m]\u001b[0m\u001b[0;34m)\u001b[0m\u001b[0;34m)\u001b[0m\u001b[0;34m\u001b[0m\u001b[0;34m\u001b[0m\u001b[0m\n\u001b[0m\u001b[1;32m     45\u001b[0m         \u001b[0mpyro\u001b[0m\u001b[0;34m.\u001b[0m\u001b[0msample\u001b[0m\u001b[0;34m(\u001b[0m\u001b[0;34m\"defend\"\u001b[0m\u001b[0;34m,\u001b[0m \u001b[0mdist\u001b[0m\u001b[0;34m.\u001b[0m\u001b[0mNormal\u001b[0m\u001b[0;34m(\u001b[0m\u001b[0mmu_team_locs\u001b[0m\u001b[0;34m[\u001b[0m\u001b[0;36m1\u001b[0m\u001b[0;34m]\u001b[0m\u001b[0;34m,\u001b[0m \u001b[0mmu_team_scales\u001b[0m\u001b[0;34m[\u001b[0m\u001b[0;36m1\u001b[0m\u001b[0;34m]\u001b[0m\u001b[0;34m)\u001b[0m\u001b[0;34m)\u001b[0m\u001b[0;34m\u001b[0m\u001b[0;34m\u001b[0m\u001b[0m\n\u001b[1;32m     46\u001b[0m \u001b[0;34m\u001b[0m\u001b[0m\n",
      "\u001b[0;32m~/.local/lib/python3.9/site-packages/pyro/primitives.py\u001b[0m in \u001b[0;36msample\u001b[0;34m(name, fn, *args, **kwargs)\u001b[0m\n\u001b[1;32m    161\u001b[0m         }\n\u001b[1;32m    162\u001b[0m         \u001b[0;31m# apply the stack and return its return value\u001b[0m\u001b[0;34m\u001b[0m\u001b[0;34m\u001b[0m\u001b[0;34m\u001b[0m\u001b[0m\n\u001b[0;32m--> 163\u001b[0;31m         \u001b[0mapply_stack\u001b[0m\u001b[0;34m(\u001b[0m\u001b[0mmsg\u001b[0m\u001b[0;34m)\u001b[0m\u001b[0;34m\u001b[0m\u001b[0;34m\u001b[0m\u001b[0m\n\u001b[0m\u001b[1;32m    164\u001b[0m         \u001b[0;32mreturn\u001b[0m \u001b[0mmsg\u001b[0m\u001b[0;34m[\u001b[0m\u001b[0;34m\"value\"\u001b[0m\u001b[0;34m]\u001b[0m\u001b[0;34m\u001b[0m\u001b[0;34m\u001b[0m\u001b[0m\n\u001b[1;32m    165\u001b[0m \u001b[0;34m\u001b[0m\u001b[0m\n",
      "\u001b[0;32m~/.local/lib/python3.9/site-packages/pyro/poutine/runtime.py\u001b[0m in \u001b[0;36mapply_stack\u001b[0;34m(initial_msg)\u001b[0m\n\u001b[1;32m    211\u001b[0m         \u001b[0mpointer\u001b[0m \u001b[0;34m=\u001b[0m \u001b[0mpointer\u001b[0m \u001b[0;34m+\u001b[0m \u001b[0;36m1\u001b[0m\u001b[0;34m\u001b[0m\u001b[0;34m\u001b[0m\u001b[0m\n\u001b[1;32m    212\u001b[0m \u001b[0;34m\u001b[0m\u001b[0m\n\u001b[0;32m--> 213\u001b[0;31m         \u001b[0mframe\u001b[0m\u001b[0;34m.\u001b[0m\u001b[0m_process_message\u001b[0m\u001b[0;34m(\u001b[0m\u001b[0mmsg\u001b[0m\u001b[0;34m)\u001b[0m\u001b[0;34m\u001b[0m\u001b[0;34m\u001b[0m\u001b[0m\n\u001b[0m\u001b[1;32m    214\u001b[0m \u001b[0;34m\u001b[0m\u001b[0m\n\u001b[1;32m    215\u001b[0m         \u001b[0;32mif\u001b[0m \u001b[0mmsg\u001b[0m\u001b[0;34m[\u001b[0m\u001b[0;34m\"stop\"\u001b[0m\u001b[0;34m]\u001b[0m\u001b[0;34m:\u001b[0m\u001b[0;34m\u001b[0m\u001b[0;34m\u001b[0m\u001b[0m\n",
      "\u001b[0;32m~/.local/lib/python3.9/site-packages/pyro/poutine/plate_messenger.py\u001b[0m in \u001b[0;36m_process_message\u001b[0;34m(self, msg)\u001b[0m\n\u001b[1;32m     17\u001b[0m     \u001b[0;32mdef\u001b[0m \u001b[0m_process_message\u001b[0m\u001b[0;34m(\u001b[0m\u001b[0mself\u001b[0m\u001b[0;34m,\u001b[0m \u001b[0mmsg\u001b[0m\u001b[0;34m)\u001b[0m\u001b[0;34m:\u001b[0m\u001b[0;34m\u001b[0m\u001b[0;34m\u001b[0m\u001b[0m\n\u001b[1;32m     18\u001b[0m         \u001b[0msuper\u001b[0m\u001b[0;34m(\u001b[0m\u001b[0;34m)\u001b[0m\u001b[0;34m.\u001b[0m\u001b[0m_process_message\u001b[0m\u001b[0;34m(\u001b[0m\u001b[0mmsg\u001b[0m\u001b[0;34m)\u001b[0m\u001b[0;34m\u001b[0m\u001b[0;34m\u001b[0m\u001b[0m\n\u001b[0;32m---> 19\u001b[0;31m         \u001b[0;32mreturn\u001b[0m \u001b[0mBroadcastMessenger\u001b[0m\u001b[0;34m.\u001b[0m\u001b[0m_pyro_sample\u001b[0m\u001b[0;34m(\u001b[0m\u001b[0mmsg\u001b[0m\u001b[0;34m)\u001b[0m\u001b[0;34m\u001b[0m\u001b[0;34m\u001b[0m\u001b[0m\n\u001b[0m\u001b[1;32m     20\u001b[0m \u001b[0;34m\u001b[0m\u001b[0m\n\u001b[1;32m     21\u001b[0m     \u001b[0;32mdef\u001b[0m \u001b[0m__enter__\u001b[0m\u001b[0;34m(\u001b[0m\u001b[0mself\u001b[0m\u001b[0;34m)\u001b[0m\u001b[0;34m:\u001b[0m\u001b[0;34m\u001b[0m\u001b[0;34m\u001b[0m\u001b[0m\n",
      "\u001b[0;32m/usr/local/lib/python3.9/contextlib.py\u001b[0m in \u001b[0;36minner\u001b[0;34m(*args, **kwds)\u001b[0m\n\u001b[1;32m     77\u001b[0m         \u001b[0;32mdef\u001b[0m \u001b[0minner\u001b[0m\u001b[0;34m(\u001b[0m\u001b[0;34m*\u001b[0m\u001b[0margs\u001b[0m\u001b[0;34m,\u001b[0m \u001b[0;34m**\u001b[0m\u001b[0mkwds\u001b[0m\u001b[0;34m)\u001b[0m\u001b[0;34m:\u001b[0m\u001b[0;34m\u001b[0m\u001b[0;34m\u001b[0m\u001b[0m\n\u001b[1;32m     78\u001b[0m             \u001b[0;32mwith\u001b[0m \u001b[0mself\u001b[0m\u001b[0;34m.\u001b[0m\u001b[0m_recreate_cm\u001b[0m\u001b[0;34m(\u001b[0m\u001b[0;34m)\u001b[0m\u001b[0;34m:\u001b[0m\u001b[0;34m\u001b[0m\u001b[0;34m\u001b[0m\u001b[0m\n\u001b[0;32m---> 79\u001b[0;31m                 \u001b[0;32mreturn\u001b[0m \u001b[0mfunc\u001b[0m\u001b[0;34m(\u001b[0m\u001b[0;34m*\u001b[0m\u001b[0margs\u001b[0m\u001b[0;34m,\u001b[0m \u001b[0;34m**\u001b[0m\u001b[0mkwds\u001b[0m\u001b[0;34m)\u001b[0m\u001b[0;34m\u001b[0m\u001b[0;34m\u001b[0m\u001b[0m\n\u001b[0m\u001b[1;32m     80\u001b[0m         \u001b[0;32mreturn\u001b[0m \u001b[0minner\u001b[0m\u001b[0;34m\u001b[0m\u001b[0;34m\u001b[0m\u001b[0m\n\u001b[1;32m     81\u001b[0m \u001b[0;34m\u001b[0m\u001b[0m\n",
      "\u001b[0;32m~/.local/lib/python3.9/site-packages/pyro/poutine/broadcast_messenger.py\u001b[0m in \u001b[0;36m_pyro_sample\u001b[0;34m(msg)\u001b[0m\n\u001b[1;32m     63\u001b[0m                     \u001b[0;32mand\u001b[0m \u001b[0mtarget_batch_shape\u001b[0m\u001b[0;34m[\u001b[0m\u001b[0mf\u001b[0m\u001b[0;34m.\u001b[0m\u001b[0mdim\u001b[0m\u001b[0;34m]\u001b[0m \u001b[0;34m!=\u001b[0m \u001b[0mf\u001b[0m\u001b[0;34m.\u001b[0m\u001b[0msize\u001b[0m\u001b[0;34m\u001b[0m\u001b[0;34m\u001b[0m\u001b[0m\n\u001b[1;32m     64\u001b[0m                 ):\n\u001b[0;32m---> 65\u001b[0;31m                     raise ValueError(\n\u001b[0m\u001b[1;32m     66\u001b[0m                         \"Shape mismatch inside plate('{}') at site {} dim {}, {} vs {}\".format(\n\u001b[1;32m     67\u001b[0m                             \u001b[0mf\u001b[0m\u001b[0;34m.\u001b[0m\u001b[0mname\u001b[0m\u001b[0;34m,\u001b[0m\u001b[0;34m\u001b[0m\u001b[0;34m\u001b[0m\u001b[0m\n",
      "\u001b[0;31mValueError\u001b[0m: Shape mismatch inside plate('plate_teams') at site attack dim -1, 13 vs 14\n   Trace Shapes:      \n    Param Sites:      \n          mu_loc     4\n        mu_scale     4\n     mu_team_loc  2 14\n   mu_team_scale  2 14\n   Sample Sites:      \n      alpha dist     |\n           value     |\n     sd_att dist     |\n           value     |\n     sd_def dist     |\n           value     |\n       home dist     |\n           value     |\nplate_teams dist     |\n           value 13  |"
     ]
    }
   ],
   "source": [
    "runThePyroCodeRest(fit,teams,df,train)"
   ]
  },
  {
   "cell_type": "code",
   "execution_count": 78,
   "metadata": {
    "collapsed": true
   },
   "outputs": [],
   "source": [
    "doQualityPlot(fit,teams,df,train)"
   ]
  },
  {
   "cell_type": "code",
   "execution_count": null,
   "metadata": {
    "collapsed": true
   },
   "outputs": [],
   "source": []
  }
 ],
 "metadata": {
  "kernelspec": {
   "display_name": "Python 3.9",
   "language": "python",
   "name": "python3.9"
  },
  "language_info": {
   "codemirror_mode": {
    "name": "ipython",
    "version": 3
   },
   "file_extension": ".py",
   "mimetype": "text/x-python",
   "name": "python",
   "nbconvert_exporter": "python",
   "pygments_lexer": "ipython3",
   "version": "3.9.5"
  }
 },
 "nbformat": 4,
 "nbformat_minor": 0
}
